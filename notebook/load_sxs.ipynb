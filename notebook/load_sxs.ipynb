{
 "cells": [
  {
   "cell_type": "markdown",
   "id": "8bb94643-3206-4a25-aaed-a5b60158075d",
   "metadata": {},
   "source": [
    "# Example notebook to show how to work with sxs waveforms"
   ]
  },
  {
   "cell_type": "code",
   "execution_count": 1,
   "id": "3857547b-6640-4774-87f6-54977c1e623c",
   "metadata": {},
   "outputs": [],
   "source": [
    "import sys\n",
    "sys.path.append(\"../\")\n",
    "%load_ext autoreload\n",
    "%autoreload 2"
   ]
  },
  {
   "cell_type": "code",
   "execution_count": 2,
   "id": "d5cec24f-b717-47c0-b901-e92508a33615",
   "metadata": {},
   "outputs": [],
   "source": [
    "from gw_eccentricity.load_data import load_sxs_waveform\n",
    "import matplotlib.pyplot as plt\n",
    "import numpy as np"
   ]
  },
  {
   "cell_type": "code",
   "execution_count": 3,
   "id": "2c7cf051-f96f-4321-aebd-26bc02ce2546",
   "metadata": {},
   "outputs": [
    {
     "data": {
      "text/plain": [
       "\u001b[0;31mSignature:\u001b[0m \u001b[0mload_sxs_waveform\u001b[0m\u001b[0;34m(\u001b[0m\u001b[0;34m**\u001b[0m\u001b[0mkwargs\u001b[0m\u001b[0;34m)\u001b[0m\u001b[0;34m\u001b[0m\u001b[0;34m\u001b[0m\u001b[0m\n",
       "\u001b[0;31mDocstring:\u001b[0m\n",
       "Load modes from sxs waveform files.\n",
       "\n",
       "parameters:\n",
       "----------\n",
       "kwargs: Could be the followings\n",
       "filepath: str\n",
       "    Path to lvcnr file.\n",
       "\n",
       "dt: float\n",
       "    Time step to use for interpolating the waveform modes. Default is 0.1\n",
       "\n",
       "include_zero_ecc: bool\n",
       "    If True returns IMRPhenomT waveform mode for same set of parameters\n",
       "    except eccentricity set to zero. Requires metadata file to get the\n",
       "    binary parameters.\n",
       "    Default is False.\n",
       "\n",
       "metadata_path: str\n",
       "    path to the metadata file. Required when include_zero_ecc is True.\n",
       "    If provided, a dictionary containing binary mass ratio and spins are returned.\n",
       "\n",
       "num_orbits_to_remove_as_junk: float\n",
       "    Number of orbits to throw away as junk from the begining of the NR\n",
       "    data. Default is 2.\n",
       "\n",
       "mode_array: 1d array\n",
       "    1d array containing list of modes to load.\n",
       "    Default is [(2, 2)] which loads only the (2, 2) mode.\n",
       "\n",
       "extrap_order: int\n",
       "    Extrapolation order to use for loading the waveform data.\n",
       "    Default is 2.\n",
       "\n",
       "returns:\n",
       "-------\n",
       "    Dictionary of modes dict. Also includes\n",
       "    - parameter dict if metadata_path is not None.\n",
       "    - zero ecc mode dict if include_zero_ecc is True.\n",
       "\n",
       "t:\n",
       "    Time array.\n",
       "hlm:\n",
       "    Dictionary of modes.\n",
       "Optionally,\n",
       "params_dict:\n",
       "    Dictionary of parameters.\n",
       "t_zeroecc:\n",
       "    Time array for zero ecc modes\n",
       "hlm_zeroecc:\n",
       "    Mode dictionary for zero eccentricity\n",
       "\u001b[0;31mFile:\u001b[0m      ~/Eccentricity/gw_eccentricity/load_data.py\n",
       "\u001b[0;31mType:\u001b[0m      function\n"
      ]
     },
     "metadata": {},
     "output_type": "display_data"
    }
   ],
   "source": [
    "load_sxs_waveform?"
   ]
  },
  {
   "cell_type": "code",
   "execution_count": 8,
   "id": "380dd81c-3993-41d6-89c3-e7c3a3c787ba",
   "metadata": {},
   "outputs": [],
   "source": [
    "kwargs = {\"filepath\": \"/home1/md.shaikh/SXS/Private/Ecc1dSur_rerun/040/Lev3/rhOverM_Asymptotic_GeometricUnits_CoM.h5\",\n",
    "         \"mode_array\": [(2, 2)],\n",
    "         \"include_zero_ecc\": True,\n",
    "         \"metadata_path\": \"/home1/md.shaikh/SXS/Private/Ecc1dSur_rerun/040/Lev3/metadata.txt\"}\n",
    "dataDict = load_sxs_waveform(**kwargs)"
   ]
  },
  {
   "cell_type": "code",
   "execution_count": 9,
   "id": "f0a43bfa-3dc0-49f2-876f-d8fbc7164dc0",
   "metadata": {},
   "outputs": [
    {
     "data": {
      "text/plain": [
       "{'t': array([-7966.31291599, -7966.21291599, -7966.11291599, ...,\n",
       "          200.98708401,   201.08708401,   201.18708401]),\n",
       " 'hlm': {(2,\n",
       "   2): array([-3.36508375e-03-6.24732732e-02j, -3.48313645e-03-6.24820818e-02j,\n",
       "         -3.60125918e-03-6.24906704e-02j, ...,\n",
       "          5.97726258e-07-3.93951015e-06j,  5.95753058e-07-3.94035592e-06j,\n",
       "          5.93752437e-07-3.94110001e-06j])},\n",
       " 'params_dict': {'q': 1.000000012827989,\n",
       "  'chi1': [-2.10130294623e-10, -2.31039177846e-10, -7.76335163061e-07],\n",
       "  'chi2': [2.27711409718e-10, 2.00823151741e-10, -7.62496744538e-07]},\n",
       " 't_zeroecc': array([-7967.32745039, -7967.22745039, -7967.12745039, ...,\n",
       "          499.67254961,   499.77254961,   499.87254961]),\n",
       " 'hlm_zeroecc': {(2,\n",
       "   2): array([-7.46907622e-02+3.55858773e-02j, -7.45985073e-02+3.57794245e-02j,\n",
       "         -7.45057504e-02+3.59727333e-02j, ...,\n",
       "         -4.85532685e-20+2.72372810e-19j, -3.31271121e-20+2.72305434e-19j,\n",
       "         -1.78592952e-20+2.71392622e-19j])}}"
      ]
     },
     "execution_count": 9,
     "metadata": {},
     "output_type": "execute_result"
    }
   ],
   "source": [
    "dataDict"
   ]
  },
  {
   "cell_type": "code",
   "execution_count": 14,
   "id": "7f2d04e2-eace-4a0f-87bf-9c20cb12045d",
   "metadata": {},
   "outputs": [
    {
     "data": {
      "text/plain": [
       "<matplotlib.legend.Legend at 0x7f96a7c0dd90>"
      ]
     },
     "execution_count": 14,
     "metadata": {},
     "output_type": "execute_result"
    },
    {
     "data": {
      "image/png": "[encoded data removed]",
      "text/plain": [
       "<Figure size 432x288 with 1 Axes>"
      ]
     },
     "metadata": {
      "needs_background": "light"
     },
     "output_type": "display_data"
    }
   ],
   "source": [
    "plt.plot(dataDict[\"t\"], np.abs(dataDict[\"hlm\"][(2, 2)]), label=\"sxs\")\n",
    "plt.plot(dataDict[\"t_zeroecc\"], np.abs(dataDict[\"hlm_zeroecc\"][(2, 2)]), label=\"IMRPhenomT\", ls=\"--\")\n",
    "plt.xlim(dataDict[\"t\"][0], 200)\n",
    "plt.legend(loc=\"upper left\")"
   ]
  },
  {
   "cell_type": "code",
   "execution_count": null,
   "id": "a5041a2a-7212-4e61-9d07-5098aaa82d32",
   "metadata": {},
   "outputs": [],
   "source": []
  }
 ],
 "metadata": {
  "kernelspec": {
   "display_name": "Python 3 (ipykernel)",
   "language": "python",
   "name": "python3"
  },
  "language_info": {
   "codemirror_mode": {
    "name": "ipython",
    "version": 3
   },
   "file_extension": ".py",
   "mimetype": "text/x-python",
   "name": "python",
   "nbconvert_exporter": "python",
   "pygments_lexer": "ipython3",
   "version": "3.8.12"
  }
 },
 "nbformat": 4,
 "nbformat_minor": 5
}
