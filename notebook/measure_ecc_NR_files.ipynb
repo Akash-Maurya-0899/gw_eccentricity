{
 "cells": [
  {
   "cell_type": "code",
   "execution_count": 37,
   "id": "8af51ce8-9b68-4157-93ea-e5abe8b113fd",
   "metadata": {},
   "outputs": [],
   "source": [
    "import numpy as np\n",
    "import matplotlib\n",
    "import matplotlib.pyplot as plt\n",
    "import glob\n",
    "%matplotlib inline \n",
    "\n",
    "import sys\n",
    "sys.path.append(\"../\")\n",
    "\n",
    "from measureEccentricity.measureEccentricity import get_available_methods\n",
    "from measureEccentricity import measure_eccentricity\n",
    "from measureEccentricity.load_data import load_waveform"
   ]
  },
  {
   "cell_type": "code",
   "execution_count": 25,
   "id": "d66e396f-6a03-461d-859b-f2d37a9b2c57",
   "metadata": {},
   "outputs": [],
   "source": [
    "%load_ext autoreload\n",
    "%autoreload 2"
   ]
  },
  {
   "cell_type": "code",
   "execution_count": 6,
   "id": "681301f6-00d4-4a33-b9d4-601908f4134f",
   "metadata": {},
   "outputs": [
    {
     "name": "stdout",
     "output_type": "stream",
     "text": [
      "Eccq1.__-0.25__-0.25__et0.1_D14_G80L_LFr_LB_NRPsi4_Strain_60modes.h5\n",
      "Eccq1.__0.25__0.25__et0.2_D16_G80L_LFr_LB_NRPsi4_Strain_60modes.h5\n",
      "Eccq1.__-0.5_-0.5__et0.1_D13_G80L_LFr_LB_NRPsi4_Strain_60modes.h5\n",
      "Eccq1.__-0.75_-0.75__et0.1_D13_G80L_LFr_LB_NRPsi4_Strain_60modes.h5\n",
      "Ecc_q2._0_0_0_0_0_0_et0.2_D16_G80L_LFr_LB_NRPsi4_Strain_60modes.h5\n",
      "Eccq2.__0._0.__et0.5_D26_G80L_LFr_LB_NRPsi4_Strain_60modes.h5\n",
      "Ecc_q4._0_0_0_0_0_0_et0.1_D12_G80L_LFr_LB_NRPsi4_Strain_60modes.h5\n"
     ]
    }
   ],
   "source": [
    "!ls /home1/md.shaikh/etask_force/ET_sims/"
   ]
  },
  {
   "cell_type": "code",
   "execution_count": 7,
   "id": "3664a5fb-624d-4c70-ad08-fb60c9ed3322",
   "metadata": {},
   "outputs": [
    {
     "data": {
      "text/plain": [
       "\u001b[0;31mSignature:\u001b[0m \u001b[0mload_waveform\u001b[0m\u001b[0;34m(\u001b[0m\u001b[0mcatalog\u001b[0m\u001b[0;34m=\u001b[0m\u001b[0;34m'LAL'\u001b[0m\u001b[0;34m,\u001b[0m \u001b[0mfile\u001b[0m\u001b[0;34m=\u001b[0m\u001b[0;32mNone\u001b[0m\u001b[0;34m,\u001b[0m \u001b[0mnr_modelist\u001b[0m\u001b[0;34m=\u001b[0m\u001b[0;34m[\u001b[0m\u001b[0;34m[\u001b[0m\u001b[0;36m2\u001b[0m\u001b[0;34m,\u001b[0m \u001b[0;36m2\u001b[0m\u001b[0;34m]\u001b[0m\u001b[0;34m]\u001b[0m\u001b[0;34m,\u001b[0m \u001b[0;34m**\u001b[0m\u001b[0mkwargs\u001b[0m\u001b[0;34m)\u001b[0m\u001b[0;34m\u001b[0m\u001b[0;34m\u001b[0m\u001b[0m\n",
       "\u001b[0;31mDocstring:\u001b[0m\n",
       "Load waveform from file or LAL\n",
       "\n",
       "parameters:\n",
       "----------\n",
       "catalog:\n",
       "      Waveform type. could be one of 'LAL', 'EOB', 'SXS', 'ET'\n",
       "\n",
       "file:\n",
       "     Path to file for waveform to be read from a file. This is required for\n",
       "     catalog other than 'LAL'\n",
       "\n",
       "nr_modelist:\n",
       "    List of modes to include when loading NR data from 'SXS' or 'ET'\n",
       "\n",
       "**kwargs:\n",
       "    Keywords to generate LAL waveform.\n",
       "\u001b[0;31mFile:\u001b[0m      ~/Eccentricity/measureEccentricity/load_data.py\n",
       "\u001b[0;31mType:\u001b[0m      function\n"
      ]
     },
     "metadata": {},
     "output_type": "display_data"
    }
   ],
   "source": [
    "?load_waveform"
   ]
  },
  {
   "cell_type": "code",
   "execution_count": 10,
   "id": "f4857801-c5ac-4ef6-b11f-f4ba949928e8",
   "metadata": {},
   "outputs": [],
   "source": [
    "ETFiles = glob.glob(\"/home1/md.shaikh/etask_force/ET_sims/*.h5\")"
   ]
  },
  {
   "cell_type": "code",
   "execution_count": 11,
   "id": "91099531-6598-41dc-bfa1-b6ab6bc0a6c2",
   "metadata": {},
   "outputs": [
    {
     "data": {
      "text/plain": [
       "['/home1/md.shaikh/etask_force/ET_sims/Eccq1.__0.25__0.25__et0.2_D16_G80L_LFr_LB_NRPsi4_Strain_60modes.h5',\n",
       " '/home1/md.shaikh/etask_force/ET_sims/Eccq1.__0._0.__et0.5_D27_G80L_LFr_LB_NRPsi4_Strain_60modes.h5',\n",
       " '/home1/md.shaikh/etask_force/ET_sims/Ecc_q4._0_0_0_0_0_0_et0.1_D12_G80L_LFr_LB_NRPsi4_Strain_60modes.h5',\n",
       " '/home1/md.shaikh/etask_force/ET_sims/Ecc_q4_0_0_0_0_0_0_et0.5_D27.5_G80L_LFr_LB_NRPsi4_Strain_60modes.h5',\n",
       " '/home1/md.shaikh/etask_force/ET_sims/Eccq1.__-0.75_-0.75__et0.1_D13_G80L_LFr_LB_NRPsi4_Strain_60modes.h5',\n",
       " '/home1/md.shaikh/etask_force/ET_sims/Eccq1.__-0.25__-0.25__et0.1_D14_G80L_LFr_LB_NRPsi4_Strain_60modes.h5',\n",
       " '/home1/md.shaikh/etask_force/ET_sims/Ecc_q2._0_0_0_0_0_0_et0.2_D16_G80L_LFr_LB_NRPsi4_Strain_60modes.h5',\n",
       " '/home1/md.shaikh/etask_force/ET_sims/Eccq1.__-0.5_-0.5__et0.1_D13_G80L_LFr_LB_NRPsi4_Strain_60modes.h5',\n",
       " '/home1/md.shaikh/etask_force/ET_sims/Eccq2.__0._0.__et0.5_D26_G80L_LFr_LB_NRPsi4_Strain_60modes.h5']"
      ]
     },
     "execution_count": 11,
     "metadata": {},
     "output_type": "execute_result"
    }
   ],
   "source": [
    "ETFiles"
   ]
  },
  {
   "cell_type": "code",
   "execution_count": 12,
   "id": "d694b113-2cfe-4422-81f0-8ad60676b483",
   "metadata": {},
   "outputs": [],
   "source": [
    "dataDict = load_waveform(\"ET\", ETFiles[0])"
   ]
  },
  {
   "cell_type": "code",
   "execution_count": 13,
   "id": "f3f3b2fb-642a-4c06-80a4-3fdd4797f230",
   "metadata": {},
   "outputs": [
    {
     "data": {
      "text/plain": [
       "{'t': array([-2454.054912, -2453.892864, -2453.730816, ...,   247.609344,\n",
       "          247.771392,   247.93344 ]),\n",
       " 'hlm': {(2,\n",
       "   2): array([ 0.13190837-0.02163632j,  0.13217572-0.02061446j,\n",
       "          0.13243512-0.0195892j , ..., -0.00059329-0.00061691j,\n",
       "         -0.00059242-0.00061871j, -0.00059154-0.00062047j])},\n",
       " 'tHorizon': None,\n",
       " 'amplm': {(2,\n",
       "   2): array([0.13367105, 0.1337736 , 0.13387605, ..., 0.0008559 , 0.00085659,\n",
       "         0.00085727])},\n",
       " 'phaselm': {(2,\n",
       "   2): array([-1.62577648e-01, -1.54716107e-01, -1.46850619e-01, ...,\n",
       "          2.11291622e+02,  2.11293811e+02,  2.11295975e+02])},\n",
       " 'omegalm': {(2,\n",
       "   2): array([0.04850142, 0.04852586, 0.04855013, ..., 0.01357137, 0.013433  ,\n",
       "         0.01326621])},\n",
       " 'om_orb': None,\n",
       " 'phase_orb': None}"
      ]
     },
     "execution_count": 13,
     "metadata": {},
     "output_type": "execute_result"
    }
   ],
   "source": [
    "dataDict"
   ]
  },
  {
   "cell_type": "code",
   "execution_count": 15,
   "id": "ad78d909-755e-446b-a821-44a45c2d9d46",
   "metadata": {},
   "outputs": [
    {
     "data": {
      "text/plain": [
       "[<matplotlib.lines.Line2D at 0x7f055d2f3d90>]"
      ]
     },
     "execution_count": 15,
     "metadata": {},
     "output_type": "execute_result"
    },
    {
     "data": {
      "image/png": "[encoded data removed]",
      "text/plain": [
       "<Figure size 432x288 with 1 Axes>"
      ]
     },
     "metadata": {
      "needs_background": "light"
     },
     "output_type": "display_data"
    }
   ],
   "source": [
    "plt.plot(dataDict[\"t\"], np.abs(dataDict[\"hlm\"][(2, 2)]))"
   ]
  },
  {
   "cell_type": "code",
   "execution_count": 20,
   "id": "01c0ea1e-5b03-46fa-96c6-f3980561f00d",
   "metadata": {},
   "outputs": [],
   "source": [
    "tref_vec = np.arange(-2000, -500)"
   ]
  },
  {
   "cell_type": "code",
   "execution_count": 21,
   "id": "c3df0664-00df-4cec-9fe3-2af02a4353dc",
   "metadata": {},
   "outputs": [
    {
     "data": {
      "text/plain": [
       "\u001b[0;31mSignature:\u001b[0m\n",
       "\u001b[0mmeasure_eccentricity\u001b[0m\u001b[0;34m(\u001b[0m\u001b[0;34m\u001b[0m\n",
       "\u001b[0;34m\u001b[0m    \u001b[0mt_ref\u001b[0m\u001b[0;34m,\u001b[0m\u001b[0;34m\u001b[0m\n",
       "\u001b[0;34m\u001b[0m    \u001b[0mdataDict\u001b[0m\u001b[0;34m,\u001b[0m\u001b[0;34m\u001b[0m\n",
       "\u001b[0;34m\u001b[0m    \u001b[0mmethod\u001b[0m\u001b[0;34m=\u001b[0m\u001b[0;34m'Amplitude'\u001b[0m\u001b[0;34m,\u001b[0m\u001b[0;34m\u001b[0m\n",
       "\u001b[0;34m\u001b[0m    \u001b[0mreturn_ecc_method\u001b[0m\u001b[0;34m=\u001b[0m\u001b[0;32mFalse\u001b[0m\u001b[0;34m,\u001b[0m\u001b[0;34m\u001b[0m\n",
       "\u001b[0;34m\u001b[0m    \u001b[0mextrema_finding_keywords\u001b[0m\u001b[0;34m=\u001b[0m\u001b[0;32mNone\u001b[0m\u001b[0;34m,\u001b[0m\u001b[0;34m\u001b[0m\n",
       "\u001b[0;34m\u001b[0m    \u001b[0mspline_keywords\u001b[0m\u001b[0;34m=\u001b[0m\u001b[0;32mNone\u001b[0m\u001b[0;34m,\u001b[0m\u001b[0;34m\u001b[0m\n",
       "\u001b[0;34m\u001b[0m\u001b[0;34m)\u001b[0m\u001b[0;34m\u001b[0m\u001b[0;34m\u001b[0m\u001b[0m\n",
       "\u001b[0;31mDocstring:\u001b[0m\n",
       "Measure eccentricity and mean anomaly at reference time.\n",
       "\n",
       "parameters:\n",
       "----------\n",
       "t_ref:\n",
       "    Reference time at which to measure eccentricity and mean anomaly.\n",
       "    Can be a single float or an array.\n",
       "\n",
       "dataDict:\n",
       "    Dictionary containing waveform modes dict, time etc.\n",
       "    Should follow the format:\n",
       "        {\"t\": time, \"hlm\": modeDict, ...}\n",
       "        with modeDict = {(l1, m1): h_{l1, m1},\n",
       "                         (l2, m2): h_{l2, m2}, ...\n",
       "                        }.\n",
       "    Some methods may need extra data. For example, the ResidualAmplitude\n",
       "    method, requires \"t_zeroecc\" and \"hlm_zeroecc\" as well in dataDict.\n",
       "\n",
       "method:\n",
       "    method to define eccentricity. See get_available_methods for available\n",
       "    methods.\n",
       "\n",
       "return_ecc_method:\n",
       "    If true, returns the method object used to compute the eccentricity.\n",
       "\n",
       "extrema_finding_keywords:\n",
       "    Dictionary of arguments to be passed to the peak finding function,\n",
       "    where it will be passed to scipy.signal.find_peaks.\n",
       "\n",
       "spline_keywords:\n",
       "    Dictionary of arguments to be passed to\n",
       "    scipy.interpolate.InterpolatedUnivariateSpline.\n",
       "\n",
       "returns:\n",
       "--------\n",
       "ecc_ref:\n",
       "    Measured eccentricity at t_ref. Same type as t_ref.\n",
       "\n",
       "mean_ano_ref:\n",
       "    Measured mean anomaly at t_ref. Same type as t_ref.\n",
       "\n",
       "ecc_method:\n",
       "   method object used to compute eccentricity only if return_ecc_method is True\n",
       "\u001b[0;31mFile:\u001b[0m      ~/Eccentricity/measureEccentricity/measureEccentricity.py\n",
       "\u001b[0;31mType:\u001b[0m      function\n"
      ]
     },
     "metadata": {},
     "output_type": "display_data"
    }
   ],
   "source": [
    "?measure_eccentricity"
   ]
  },
  {
   "cell_type": "code",
   "execution_count": 22,
   "id": "7e88edb1-ada4-47ce-90e3-bbf2c10a177e",
   "metadata": {},
   "outputs": [
    {
     "name": "stderr",
     "output_type": "stream",
     "text": [
      "/home1/md.shaikh/Eccentricity/notebook/../measureEccentricity/eccDefinition.py:137: RuntimeWarning: invalid value encountered in sqrt\n",
      "  ecc_ref = ((np.sqrt(self.omega_peak_at_t_ref)\n",
      "/home1/md.shaikh/Eccentricity/notebook/../measureEccentricity/eccDefinition.py:138: RuntimeWarning: invalid value encountered in sqrt\n",
      "  - np.sqrt(self.omega_trough_at_t_ref))\n",
      "/home1/md.shaikh/Eccentricity/notebook/../measureEccentricity/eccDefinition.py:139: RuntimeWarning: invalid value encountered in sqrt\n",
      "  / (np.sqrt(self.omega_peak_at_t_ref)\n",
      "/home1/md.shaikh/Eccentricity/notebook/../measureEccentricity/eccDefinition.py:140: RuntimeWarning: invalid value encountered in sqrt\n",
      "  + np.sqrt(self.omega_trough_at_t_ref)))\n"
     ]
    }
   ],
   "source": [
    "ecc_vec, mean_ano_vec, eccMethod = measure_eccentricity(tref_vec, dataDict,\"Amplitude\", return_ecc_method=True)"
   ]
  },
  {
   "cell_type": "code",
   "execution_count": 23,
   "id": "778afc0c-a811-4565-9889-65e91e81db31",
   "metadata": {},
   "outputs": [
    {
     "data": {
      "text/plain": [
       "array([-0.04851366, -0.04852583, -0.0485501 , ..., -0.01356664,\n",
       "       -0.01342826, -0.01335197])"
      ]
     },
     "execution_count": 23,
     "metadata": {},
     "output_type": "execute_result"
    }
   ],
   "source": [
    "eccMethod.omega22"
   ]
  },
  {
   "cell_type": "code",
   "execution_count": 24,
   "id": "8015a9d2-8a82-4b94-8bca-8b1a14c137c4",
   "metadata": {},
   "outputs": [
    {
     "data": {
      "text/plain": [
       "array([ 1.62577648e-01,  1.54716107e-01,  1.46850619e-01, ...,\n",
       "       -2.11291622e+02, -2.11293811e+02, -2.11295975e+02])"
      ]
     },
     "execution_count": 24,
     "metadata": {},
     "output_type": "execute_result"
    }
   ],
   "source": [
    "eccMethod.phase22"
   ]
  },
  {
   "cell_type": "code",
   "execution_count": 28,
   "id": "d47455c7-84a1-4052-95ce-2f3f21efe62e",
   "metadata": {},
   "outputs": [
    {
     "data": {
      "image/png": "[encoded data removed]",
      "text/plain": [
       "<Figure size 432x288 with 1 Axes>"
      ]
     },
     "metadata": {
      "needs_background": "light"
     },
     "output_type": "display_data"
    }
   ],
   "source": [
    "plt.plot(eccMethod.t, eccMethod.omega22)\n",
    "plt.ylim(-0.5, 0.5)\n",
    "plt.grid()"
   ]
  },
  {
   "cell_type": "code",
   "execution_count": 31,
   "id": "bf2b665f-d12d-4d14-a85b-ab287c430851",
   "metadata": {},
   "outputs": [],
   "source": [
    "SXS_Files = glob.glob(\"/home1/md.shaikh/etask_force/AEI_sxs_sims/*.h5\")"
   ]
  },
  {
   "cell_type": "code",
   "execution_count": 32,
   "id": "e9177d45-1b48-4d70-9bda-e0c94b5d99c2",
   "metadata": {},
   "outputs": [
    {
     "data": {
      "text/plain": [
       "['/home1/md.shaikh/etask_force/AEI_sxs_sims/BBH_SKS_q1.1_-0.4_-0.7_e05_D28_Res3.h5',\n",
       " '/home1/md.shaikh/etask_force/AEI_sxs_sims/BBH_SHK_q4_e095_D65_Res3.h5',\n",
       " '/home1/md.shaikh/etask_force/AEI_sxs_sims/BBH_SHK_q10_e01_D16_Res3.h5',\n",
       " '/home1/md.shaikh/etask_force/AEI_sxs_sims/BBH_SHK_q4_e035_D26_Res3.h5',\n",
       " '/home1/md.shaikh/etask_force/AEI_sxs_sims/BBH_SHK_q6_e01_D18_Res3.h5',\n",
       " '/home1/md.shaikh/etask_force/AEI_sxs_sims/BBH_SKS_q1.1_-0.4_-0.7_e025_D22_Res3.h5',\n",
       " '/home1/md.shaikh/etask_force/AEI_sxs_sims/BBH_SHK_q6_e02_D20_Res3.h5',\n",
       " '/home1/md.shaikh/etask_force/AEI_sxs_sims/BBH_SKS_q10_-0.75_0_e05_D28_Res3.h5',\n",
       " '/home1/md.shaikh/etask_force/AEI_sxs_sims/BBH_SHK_q1_e09_D70_Res3.h5',\n",
       " '/home1/md.shaikh/etask_force/AEI_sxs_sims/BBH_SHK_q8_e02_D20_Res3.h5',\n",
       " '/home1/md.shaikh/etask_force/AEI_sxs_sims/BBH_SHK_q3_e02_D17.3_Res3.h5',\n",
       " '/home1/md.shaikh/etask_force/AEI_sxs_sims/BBH_SHK_q4_e04_D28_Res3.h5',\n",
       " '/home1/md.shaikh/etask_force/AEI_sxs_sims/BBH_SHK_q6_e095_D65_Res3.h5',\n",
       " '/home1/md.shaikh/etask_force/AEI_sxs_sims/BBH_SHK_q6_e035_D26_Res3.h5',\n",
       " '/home1/md.shaikh/etask_force/AEI_sxs_sims/BBH_SKS_q1__0.8_0._0._0.__0._0._0.__e0.1__D16_Res3.h5',\n",
       " '/home1/md.shaikh/etask_force/AEI_sxs_sims/BBH_SKS_q1__0.8_0._0._0.__0._0._0.__e0.4__D28_Res3.h5',\n",
       " '/home1/md.shaikh/etask_force/AEI_sxs_sims/BBH_SHK_q10_e05_D30_Res3.h5',\n",
       " '/home1/md.shaikh/etask_force/AEI_sxs_sims/BBH_SKS_q1_e09_D130_DoNotControlLEqualsOneShape_AdjustSphereCExtents_Res3.h5',\n",
       " '/home1/md.shaikh/etask_force/AEI_sxs_sims/BBH_SHK_q1_e095_D65_Res3.h5',\n",
       " '/home1/md.shaikh/etask_force/AEI_sxs_sims/BBH_SHK_q1_e035_D26_Res3.h5',\n",
       " '/home1/md.shaikh/etask_force/AEI_sxs_sims/BBH_SKS_q6__0.8_0._0._0.__0._0._0.__e0.7__D45_Res3.h5',\n",
       " '/home1/md.shaikh/etask_force/AEI_sxs_sims/BBH_SHK_q3_e03_D28_Res3.h5',\n",
       " '/home1/md.shaikh/etask_force/AEI_sxs_sims/BBH_SHK_q2_e05_D34_Res3.h5',\n",
       " '/home1/md.shaikh/etask_force/AEI_sxs_sims/BBH_SHK_q4_e01_D18_Res3.h5',\n",
       " '/home1/md.shaikh/etask_force/AEI_sxs_sims/BBH_SHK_q10_e01_D14.5_Res3.h5',\n",
       " '/home1/md.shaikh/etask_force/AEI_sxs_sims/BBH_SHK_q4_e02_D20_Res3.h5',\n",
       " '/home1/md.shaikh/etask_force/AEI_sxs_sims/BBH_SHK_q3_e08_D55_Res3.h5',\n",
       " '/home1/md.shaikh/etask_force/AEI_sxs_sims/BBH_SKS_q1_0.9_0.9_e05_D28_Res3.h5',\n",
       " '/home1/md.shaikh/etask_force/AEI_sxs_sims/BBH_SHK_q3_e02_D22_Res3.h5',\n",
       " '/home1/md.shaikh/etask_force/AEI_sxs_sims/BBH_SHK_q1_e07_D45_Res3.h5',\n",
       " '/home1/md.shaikh/etask_force/AEI_sxs_sims/BBH_SHK_q10_e07_D45_Res3.h5',\n",
       " '/home1/md.shaikh/etask_force/AEI_sxs_sims/BBH_SHK_q4_0_0_e05_D34_Res3.h5',\n",
       " '/home1/md.shaikh/etask_force/AEI_sxs_sims/BBH_SHK_q3_e025_D22_Res3.h5',\n",
       " '/home1/md.shaikh/etask_force/AEI_sxs_sims/BBH_SHK_q8_e04_D28_Res3.h5',\n",
       " '/home1/md.shaikh/etask_force/AEI_sxs_sims/BBH_SKS_q1.1_-0.4_-0.7_e02_D22_Res3.h5',\n",
       " '/home1/md.shaikh/etask_force/AEI_sxs_sims/BBH_SHK_q10_e05_D28_Res3.h5',\n",
       " '/home1/md.shaikh/etask_force/AEI_sxs_sims/BBH_SKS_q1__0.8_0._0._0.__0._0._0.__e0.5__D34_Res3.h5',\n",
       " '/home1/md.shaikh/etask_force/AEI_sxs_sims/BBH_SHK_q3_e035_D26_Res3.h5',\n",
       " '/home1/md.shaikh/etask_force/AEI_sxs_sims/BBH_SKS_q1_e09_D130_SKS_DoNotControlLEqualsOneShape_Res3.h5',\n",
       " '/home1/md.shaikh/etask_force/AEI_sxs_sims/BBH_SHK_q6_e04_D28_Res3.h5',\n",
       " '/home1/md.shaikh/etask_force/AEI_sxs_sims/BBH_SHK_q8_e01_D14.5_Res3.h5',\n",
       " '/home1/md.shaikh/etask_force/AEI_sxs_sims/BBH_SHK_q2_e035_D26_Res3.h5',\n",
       " '/home1/md.shaikh/etask_force/AEI_sxs_sims/BBH_SHK_q2_e095_D65_Res3.h5',\n",
       " '/home1/md.shaikh/etask_force/AEI_sxs_sims/BBH_SHK_q1_0_0_e02_D22_Res3.h5',\n",
       " '/home1/md.shaikh/etask_force/AEI_sxs_sims/BBH_SHK_q4_e08_D55_Res3.h5',\n",
       " '/home1/md.shaikh/etask_force/AEI_sxs_sims/BBH_SHK_q1_e08_D60_Res3.h5',\n",
       " '/home1/md.shaikh/etask_force/AEI_sxs_sims/BBH_SHK_q6_e07_D45_Res3.h5',\n",
       " '/home1/md.shaikh/etask_force/AEI_sxs_sims/BBH_SHK_q3_e035_D28_Res3.h5',\n",
       " '/home1/md.shaikh/etask_force/AEI_sxs_sims/BBH_SHK_q3_e01_D22_Res3.h5',\n",
       " '/home1/md.shaikh/etask_force/AEI_sxs_sims/BBH_SHK_q1_0_0_e02_D18_Res3.h5',\n",
       " '/home1/md.shaikh/etask_force/AEI_sxs_sims/BBH_SHK_q1_e04_D28_Res3.h5',\n",
       " '/home1/md.shaikh/etask_force/AEI_sxs_sims/BBH_SHK_q1_0_0_e05_D34_Res3.h5',\n",
       " '/home1/md.shaikh/etask_force/AEI_sxs_sims/BBH_SKS_q1_0.75_0.75_e07_D45_Res3.h5',\n",
       " '/home1/md.shaikh/etask_force/AEI_sxs_sims/BBH_SHK_q1_0_0_e01_D20_Res3.h5',\n",
       " '/home1/md.shaikh/etask_force/AEI_sxs_sims/BBH_SHK_q2_e02_D20_Res3.h5',\n",
       " '/home1/md.shaikh/etask_force/AEI_sxs_sims/BBH_SHK_q1_0_0_e01_D16_FastDyn_Res3.h5',\n",
       " '/home1/md.shaikh/etask_force/AEI_sxs_sims/BBH_SHK_q2_e01_D18_Res3.h5',\n",
       " '/home1/md.shaikh/etask_force/AEI_sxs_sims/BBH_SHK_q8_e05_D28_Res3.h5',\n",
       " '/home1/md.shaikh/etask_force/AEI_sxs_sims/BBH_SHK_q2_e04_D28_Res3.h5',\n",
       " '/home1/md.shaikh/etask_force/AEI_sxs_sims/BBH_SKS_q1_-0.75_-0.75_e07_D45_Res3.h5',\n",
       " '/home1/md.shaikh/etask_force/AEI_sxs_sims/BBH_SKS_q1.1_-0.4_-0.7_e04_D28_Res3.h5',\n",
       " '/home1/md.shaikh/etask_force/AEI_sxs_sims/BBH_SHK_q3_e04_D28_Res3.h5',\n",
       " '/home1/md.shaikh/etask_force/AEI_sxs_sims/BBH_SHK_q2_e08_D60_Res3.h5',\n",
       " '/home1/md.shaikh/etask_force/AEI_sxs_sims/BBH_SKS_q1__0.8_0._0._0.__0._0._0.__e0.2__D18_Res3.h5',\n",
       " '/home1/md.shaikh/etask_force/AEI_sxs_sims/BBH_SHK_q6_e05_D34_Res3.h5',\n",
       " '/home1/md.shaikh/etask_force/AEI_sxs_sims/BBH_SHK_q8_e035_D26_Res3.h5']"
      ]
     },
     "execution_count": 32,
     "metadata": {},
     "output_type": "execute_result"
    }
   ],
   "source": [
    "SXS_Files"
   ]
  },
  {
   "cell_type": "code",
   "execution_count": 33,
   "id": "4ee90300-6cc2-44d9-b367-e72f2f8f4998",
   "metadata": {},
   "outputs": [],
   "source": [
    "dataDictSXS = load_waveform(\"SXS\", SXS_Files[0])"
   ]
  },
  {
   "cell_type": "code",
   "execution_count": 35,
   "id": "977ca539-1556-4a35-bfe1-bdd14ba565c9",
   "metadata": {},
   "outputs": [
    {
     "name": "stderr",
     "output_type": "stream",
     "text": [
      "/home1/md.shaikh/Eccentricity/notebook/../measureEccentricity/eccDefinition.py:137: RuntimeWarning: invalid value encountered in sqrt\n",
      "  ecc_ref = ((np.sqrt(self.omega_peak_at_t_ref)\n",
      "/home1/md.shaikh/Eccentricity/notebook/../measureEccentricity/eccDefinition.py:138: RuntimeWarning: invalid value encountered in sqrt\n",
      "  - np.sqrt(self.omega_trough_at_t_ref))\n",
      "/home1/md.shaikh/Eccentricity/notebook/../measureEccentricity/eccDefinition.py:139: RuntimeWarning: invalid value encountered in sqrt\n",
      "  / (np.sqrt(self.omega_peak_at_t_ref)\n",
      "/home1/md.shaikh/Eccentricity/notebook/../measureEccentricity/eccDefinition.py:140: RuntimeWarning: invalid value encountered in sqrt\n",
      "  + np.sqrt(self.omega_trough_at_t_ref)))\n"
     ]
    }
   ],
   "source": [
    "ecc_vec, mean_ano_vec, eccMethod = measure_eccentricity(tref_vec, dataDictSXS,\"Amplitude\", return_ecc_method=True)"
   ]
  },
  {
   "cell_type": "code",
   "execution_count": 36,
   "id": "e05f64bb-5c3d-4084-b4da-6d31dd8f1a48",
   "metadata": {},
   "outputs": [
    {
     "data": {
      "image/png": "[encoded data removed]",
      "text/plain": [
       "<Figure size 432x288 with 1 Axes>"
      ]
     },
     "metadata": {
      "needs_background": "light"
     },
     "output_type": "display_data"
    }
   ],
   "source": [
    "plt.plot(eccMethod.t, eccMethod.omega22)\n",
    "plt.ylim(-0.5, 0.5)\n",
    "plt.grid()"
   ]
  },
  {
   "cell_type": "code",
   "execution_count": null,
   "id": "690a0527-1792-4470-8757-7b5c77892f76",
   "metadata": {},
   "outputs": [],
   "source": []
  }
 ],
 "metadata": {
  "kernelspec": {
   "display_name": "Python 3 (ipykernel)",
   "language": "python",
   "name": "python3"
  },
  "language_info": {
   "codemirror_mode": {
    "name": "ipython",
    "version": 3
   },
   "file_extension": ".py",
   "mimetype": "text/x-python",
   "name": "python",
   "nbconvert_exporter": "python",
   "pygments_lexer": "ipython3",
   "version": "3.8.12"
  }
 },
 "nbformat": 4,
 "nbformat_minor": 5
}
