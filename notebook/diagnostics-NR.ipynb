{
 "cells": [
  {
   "cell_type": "markdown",
   "id": "c48881b2-a62c-4af3-b465-1b31357bab2c",
   "metadata": {},
   "source": [
    "Diagnostics for NR"
   ]
  },
  {
   "cell_type": "code",
   "execution_count": 1,
   "id": "064133b3-5baa-44a5-baef-5f2353e565fd",
   "metadata": {},
   "outputs": [
    {
     "name": "stderr",
     "output_type": "stream",
     "text": [
      "/home/arif/miniconda3/envs/ecc/lib/python3.9/site-packages/gwtools/rotations.py:63: UserWarning: Could not import GWFrames, needed for rotations module\n",
      "  _warnings.warn(\"Could not import GWFrames, needed for rotations module\")\n",
      "/home/arif/miniconda3/envs/ecc/lib/python3.9/site-packages/gwtools/__init__.py:11: UserWarning: Could not import rotations, decompositions, or fitfuncs. These are not needed by GWSurrogate.\n",
      "  _warnings.warn(\"Could not import rotations, decompositions, or fitfuncs. These are not needed by GWSurrogate.\")\n"
     ]
    }
   ],
   "source": [
    "import sys\n",
    "sys.path.append(\"../\")\n",
    "\n",
    "import matplotlib.pyplot as plt\n",
    "from matplotlib.backends.backend_pdf import PdfPages\n",
    "\n",
    "import gw_eccentricity\n",
    "from gw_eccentricity import get_available_methods\n",
    "from gw_eccentricity import measure_eccentricity\n",
    "from gw_eccentricity.load_data import load_waveform\n",
    "from gw_eccentricity.plot_settings import colorsDict, lstyles, lwidths\n",
    "\n",
    "%load_ext autoreload\n",
    "%autoreload 2"
   ]
  },
  {
   "cell_type": "code",
   "execution_count": 2,
   "id": "b30ba51c-e0cf-4bb7-b53e-d130151b7edb",
   "metadata": {},
   "outputs": [],
   "source": [
    "import glob\n",
    "import numpy as np\n",
    "from tqdm import tqdm\n",
    "from gw_eccentricity.load_data import load_lvcnr_hack"
   ]
  },
  {
   "cell_type": "code",
   "execution_count": 3,
   "id": "204260fb-37e9-4e31-b021-0f3dd67c90c0",
   "metadata": {},
   "outputs": [],
   "source": [
    "sxs_nr_waveforms = glob.glob(\"../data/ecc_waveforms/Non-Precessing/SXS/BBH_S*.h5\")"
   ]
  },
  {
   "cell_type": "code",
   "execution_count": 4,
   "id": "a850c6d3-31a3-4049-a17f-d63a5219bf85",
   "metadata": {},
   "outputs": [],
   "source": [
    "problematic_cases = [8, # need to increase flow and width \n",
    "                     34, # Takes too long to load, did not load within tested time.\n",
    "                     37, # loads too short waveform\n",
    "                    ]"
   ]
  },
  {
   "cell_type": "code",
   "execution_count": 5,
   "id": "8a7138e7-bf44-483f-9a50-6efaa8d82f75",
   "metadata": {},
   "outputs": [],
   "source": [
    "num_orbits_dict= {\"BBH_SKS_q1_e09_D130_DoNotControlLEqualsOneShape_AdjustSphereCExtents_Res3.h5\": 3,\n",
    "                 \"BBH_SKS_q1_e09_D130_SKS_DoNotControlLEqualsOneShape_Res3.h5\": 3}"
   ]
  },
  {
   "cell_type": "code",
   "execution_count": 103,
   "id": "664e1db9",
   "metadata": {},
   "outputs": [],
   "source": [
    "def MakeDiagnosticPlots(methods, nr_waveforms, num_orbits_dict, two_column=True):\n",
    "    \"\"\"loop through all NR waveforms, and make diagnostics plots \n",
    "         methods - list of methods to apply\n",
    "         nr_waveforms - list of paths to NR waveforms to apply methods to\n",
    "    \"\"\"\n",
    "\n",
    "    # make output objects, one per method\n",
    "    pps = [PdfPages(f\"NR-diagnostics-{method}.pdf\") for method in methods]\n",
    "\n",
    "\n",
    "    comparisons = PdfPages(\"NR_diagnostics-comparisons.pdf\")\n",
    "\n",
    "    for idx, waveform_path in enumerate(nr_waveforms):\n",
    "        w = waveform_path.split(\"/\")[-1]\n",
    "        print(f\"===== {idx}/{len(nr_waveforms)} ===== {w} =====\", flush=True)\n",
    "        kwargs = {\"filepath\": waveform_path,\n",
    "                \"include_zero_ecc\": True,\n",
    "                \"num_orbits_to_remove_as_junk\": num_orbits_dict.get(w, 2)}\n",
    "        dataDict = load_lvcnr_hack(**kwargs)\n",
    "        tref_vec = -2000 # dataDict[\"t\"]\n",
    "\n",
    "\n",
    "        # for ecc-comparison plot\n",
    "        fig0, ax0 = plt.subplots(figsize=(12, 6))\n",
    "\n",
    "        for method,pp in zip(methods, pps):\n",
    "            tref_out, ecc_vec, mean_ano_vec, eccMethod = measure_eccentricity(\n",
    "                tref_in=tref_vec,\n",
    "                dataDict=dataDict,\n",
    "                method=method, \n",
    "                return_gwecc_object=True,\n",
    "                extra_kwargs={\"debug\": False})\n",
    "            fig, ax = eccMethod.make_diagnostic_plots(journal=\"APS\", two_columns=two_column)\n",
    "            q = dataDict[\"params_dict\"][\"q\"]\n",
    "            ecc = dataDict[\"params_dict\"][\"ecc\"]\n",
    "            chi1 = np.around(dataDict[\"params_dict\"][\"chi1\"], 5)\n",
    "            chi2 = np.around(dataDict[\"params_dict\"][\"chi2\"], 5)\n",
    "            title = (f\"case {idx}/{len(sxs_nr_waveforms)-1}, \"\n",
    "                    f\"$q$={q:.1f}, \"\n",
    "                    f\"$\\chi_{1}$={chi1}, \"\n",
    "                    f\"$\\chi_{2}$={chi2}, \"\n",
    "                    f\"ecc={ecc:.2f}\\n\"\n",
    "                    f\"method={method}, \"\n",
    "                    f\"id={w}\")\n",
    "            if two_column:\n",
    "                fig.suptitle(title, ha=\"center\", fontsize=10)\n",
    "            else:\n",
    "                ax[0].set_title(title, ha=\"center\", fontsize=10)\n",
    "            fig.set_tight_layout(True)\n",
    "            fig.savefig(pp,format='pdf')\n",
    "            plt.close(fig)\n",
    "\n",
    "            eccMethod.plot_measured_ecc(fig0, ax0, **{\"label\": method, \"lw\": lwidths[method], \"ls\": lstyles[method], \"c\": colorsDict[method]})\n",
    "        ax0.set_title(f\"q={q:.1f}, ecc={ecc:.2f}, {w}\", fontsize=14)\n",
    "        ax0.legend();\n",
    "        fig0.savefig(comparisons,format='pdf')\n",
    "        plt.close(fig0)\n",
    "\n",
    "    for pp in pps:\n",
    "        pp.close()\n",
    "    comparisons.close()\n"
   ]
  },
  {
   "cell_type": "code",
   "execution_count": 105,
   "id": "ab991d6b",
   "metadata": {},
   "outputs": [
    {
     "name": "stdout",
     "output_type": "stream",
     "text": [
      "===== 0/1 ===== BBH_SHK_q6_e07_D45_Res3.h5 =====\n"
     ]
    }
   ],
   "source": [
    "# to test, analyse only two waveforms:\n",
    "\n",
    "MakeDiagnosticPlots(gw_eccentricity.get_available_methods(), sxs_nr_waveforms[30:31], num_orbits_dict, two_column=True)"
   ]
  },
  {
   "cell_type": "code",
   "execution_count": null,
   "id": "5bb4e748",
   "metadata": {},
   "outputs": [],
   "source": [
    "# ALL SXS-WAVEFORMS.  THIS TAKES A FEW MINUTES !!!\n",
    "\n",
    "MakeDiagnosticPlots(gw_eccentricity.get_available_methods(), sxs_nr_waveforms, num_orbits_dict)"
   ]
  },
  {
   "cell_type": "markdown",
   "id": "cce0d1ed-d202-4b43-bd42-e2366a489762",
   "metadata": {},
   "source": [
    "### Loop over ET waveforms"
   ]
  },
  {
   "cell_type": "code",
   "execution_count": null,
   "id": "02704e91-00ea-413a-b2ec-6ef58a442c54",
   "metadata": {},
   "outputs": [],
   "source": [
    "et_waveforms = sorted(glob.glob(\"../data/ecc_waveforms/Non-Precessing/ET/*.h5\"))"
   ]
  },
  {
   "cell_type": "markdown",
   "id": "00f0bd4d-5479-4b6b-821a-583321e5cc59",
   "metadata": {},
   "source": [
    "### Using ResidualAmplitude"
   ]
  },
  {
   "cell_type": "code",
   "execution_count": null,
   "id": "37df55cb-5ab7-4d4b-9b89-071a0817002f",
   "metadata": {
    "collapsed": true,
    "jupyter": {
     "outputs_hidden": true
    },
    "tags": []
   },
   "outputs": [],
   "source": [
    "method = \"ResidualAmplitude\"\n",
    "for idx, waveform_path in tqdm(enumerate(et_waveforms)):\n",
    "    if idx in [5, 6]: # too few cycles\n",
    "        continue\n",
    "    kwargs = {\"filepath\": waveform_path,\n",
    "             \"include_zero_ecc\": True,\n",
    "             \"num_orbits_to_remove_as_junk\": 0}\n",
    "    dataDict = load_lvcnr_hack(**kwargs)\n",
    "    tref_vec = dataDict[\"t\"]\n",
    "    tref_out, ecc_vec, mean_ano_vec, eccMethod = measure_eccentricity(\n",
    "        tref_in=tref_vec,\n",
    "        dataDict=dataDict,\n",
    "        method=method, \n",
    "        return_ecc_method=True,\n",
    "        extra_kwargs={\"debug\": False})\n",
    "    fig, ax = eccMethod.make_diagnostic_plots()\n",
    "    w = waveform_path.split(\"/\")[-1]\n",
    "    q = dataDict[\"params_dict\"][\"q\"]\n",
    "    ecc = dataDict[\"params_dict\"][\"ecc\"]\n",
    "    chi1 = dataDict[\"params_dict\"][\"chi1\"]\n",
    "    chi2 = dataDict[\"params_dict\"][\"chi2\"]\n",
    "    ax[0].set_title(f\"===============================================================================\\n\"\n",
    "                f\"case {idx}/{len(sxs_nr_waveforms)-1}\\n\"\n",
    "                f\"q={q:.1f}\\n\"\n",
    "                f\"chi1={chi1}\\n\"\n",
    "                f\"chi2={chi2}\\n\"\n",
    "                f\"ecc={ecc:.2f}\\n\"\n",
    "                f\"method={method}\\n\"\n",
    "                f\"id={w}\\n\"\n",
    "                \"===============================================================================\", fontsize=14)"
   ]
  },
  {
   "cell_type": "code",
   "execution_count": null,
   "id": "ce763242-8002-4c12-8dd8-a436aef14288",
   "metadata": {},
   "outputs": [],
   "source": [
    "kwargs = {\"filepath\": et_waveforms[1],\n",
    "          \"include_zero_ecc\": True,\n",
    "          \"num_orbits_to_remove_as_junk\": 0}\n",
    "dataDict = load_NR(**kwargs)"
   ]
  },
  {
   "cell_type": "code",
   "execution_count": null,
   "id": "39616ade-536f-4256-9836-24854e7b5e5b",
   "metadata": {},
   "outputs": [],
   "source": [
    "import numpy as np\n",
    "plt.plot(dataDict[\"t\"], np.abs(dataDict[\"hlm\"][(2, 2)]))"
   ]
  },
  {
   "cell_type": "markdown",
   "id": "b8c93d86-f47b-4887-a8b1-888cfb582e9b",
   "metadata": {},
   "source": [
    "### With amplitude"
   ]
  },
  {
   "cell_type": "code",
   "execution_count": null,
   "id": "fe91143d-8221-4d8d-8b89-f935b40f1e3f",
   "metadata": {},
   "outputs": [],
   "source": [
    "method = \"Amplitude\"\n",
    "for idx, waveform_path in tqdm(enumerate(et_waveforms)):\n",
    "    if idx in [1, 5, 6]: # too few cycles\n",
    "        continue\n",
    "    kwargs = {\"filepath\": waveform_path,\n",
    "             \"include_zero_ecc\": True,\n",
    "             \"num_orbits_to_remove_as_junk\": 0}\n",
    "    dataDict = load_lvcnr_hack(**kwargs)\n",
    "    tref_vec = dataDict[\"t\"]\n",
    "    tref_out, ecc_vec, mean_ano_vec, eccMethod = measure_eccentricity(\n",
    "        tref_in=tref_vec,\n",
    "        dataDict=dataDict,\n",
    "        method=method, \n",
    "        return_ecc_method=True,\n",
    "        extra_kwargs={\"debug\": False})\n",
    "    fig, ax = eccMethod.make_diagnostic_plots()\n",
    "    w = waveform_path.split(\"/\")[-1]\n",
    "    q = dataDict[\"params_dict\"][\"q\"]\n",
    "    ecc = dataDict[\"params_dict\"][\"ecc\"]\n",
    "    chi1 = dataDict[\"params_dict\"][\"chi1\"]\n",
    "    chi2 = dataDict[\"params_dict\"][\"chi2\"]\n",
    "    ax[0].set_title(f\"===============================================================================\\n\"\n",
    "                f\"case {idx}/{len(sxs_nr_waveforms)-1}\\n\"\n",
    "                f\"q={q:.1f}\\n\"\n",
    "                f\"chi1={chi1}\\n\"\n",
    "                f\"chi2={chi2}\\n\"\n",
    "                f\"ecc={ecc:.2f}\\n\"\n",
    "                f\"method={method}\\n\"\n",
    "                f\"id={w}\\n\"\n",
    "                \"===============================================================================\", fontsize=14)"
   ]
  },
  {
   "cell_type": "markdown",
   "id": "adbda426-3089-4dcd-b0b2-4a2ca216ceca",
   "metadata": {},
   "source": [
    "### FrequencyFits"
   ]
  },
  {
   "cell_type": "code",
   "execution_count": null,
   "id": "cdf05085-66a7-48e4-89df-42b3a31aaa8d",
   "metadata": {},
   "outputs": [],
   "source": [
    "method = \"FrequencyFits\"\n",
    "for idx, waveform_path in tqdm(enumerate(et_waveforms)):\n",
    "    if idx in [0, 1, 2, 4, 5]: # too few cycles\n",
    "        continue\n",
    "    kwargs = {\"filepath\": waveform_path,\n",
    "             \"include_zero_ecc\": True,\n",
    "             \"num_orbits_to_remove_as_junk\": 0}\n",
    "    dataDict = load_lvcnr_hack(**kwargs)\n",
    "    tref_vec = dataDict[\"t\"]\n",
    "    tref_out, ecc_vec, mean_ano_vec, eccMethod = measure_eccentricity(\n",
    "        tref_in=tref_vec,\n",
    "        dataDict=dataDict,\n",
    "        method=method, \n",
    "        return_ecc_method=True,\n",
    "        extra_kwargs={\"debug\": False})\n",
    "    fig, ax = eccMethod.make_diagnostic_plots()\n",
    "    w = waveform_path.split(\"/\")[-1]\n",
    "    q = dataDict[\"params_dict\"][\"q\"]\n",
    "    ecc = dataDict[\"params_dict\"][\"ecc\"]\n",
    "    chi1 = dataDict[\"params_dict\"][\"chi1\"]\n",
    "    chi2 = dataDict[\"params_dict\"][\"chi2\"]\n",
    "    ax[0].set_title(f\"===============================================================================\\n\"\n",
    "                f\"case {idx}/{len(sxs_nr_waveforms)-1}\\n\"\n",
    "                f\"q={q:.1f}\\n\"\n",
    "                f\"chi1={chi1}\\n\"\n",
    "                f\"chi2={chi2}\\n\"\n",
    "                f\"ecc={ecc:.2f}\\n\"\n",
    "                f\"method={method}\\n\"\n",
    "                f\"id={w}\\n\"\n",
    "                \"===============================================================================\", fontsize=14)"
   ]
  },
  {
   "cell_type": "markdown",
   "id": "7eb952cb-eaf6-4c52-ac15-96a03ff73424",
   "metadata": {},
   "source": [
    "# check peaks and troughs appear alternatively"
   ]
  },
  {
   "cell_type": "code",
   "execution_count": null,
   "id": "0a86cebc-83b5-438f-bed3-79008200c2fc",
   "metadata": {},
   "outputs": [],
   "source": [
    "method = \"ResidualAmplitude\"\n",
    "waveform_path = sxs_nr_waveforms[32]\n",
    "kwargs = {\"filepath\": waveform_path,\n",
    "         \"include_zero_ecc\": True,\n",
    "         \"num_orbits_to_remove_as_junk\": 3}\n",
    "dataDict = load_lvcnr_hack(**kwargs)\n",
    "tref_vec = dataDict[\"t\"]\n",
    "tref_out, ecc_vec, mean_ano_vec, eccMethod = measure_eccentricity(tref_in=tref_vec, dataDict=dataDict, method=method, \n",
    "                                                                return_ecc_method=True,\n",
    "                                                                extra_kwargs={\"debug\": False,\n",
    "                                                                             #\"extrema_finding_kwargs\": {\"width\": 500}\n",
    "                                                                             })\n",
    "fig, ax = eccMethod.make_diagnostic_plots()\n",
    "w = waveform_path.split(\"/\")[-1]\n",
    "q = dataDict[\"params_dict\"][\"q\"]\n",
    "ecc = dataDict[\"params_dict\"][\"ecc\"]\n",
    "chi1 = dataDict[\"params_dict\"][\"chi1\"]\n",
    "chi2 = dataDict[\"params_dict\"][\"chi2\"]\n",
    "\n",
    "ax[0].set_title(f\"===============================================================================\\n\"\n",
    "                f\"case 1/61\\n\"\n",
    "                f\"q={q:.1f}\\n\"\n",
    "                f\"chi1={chi1}\\n\"\n",
    "                f\"chi2={chi2}\\n\"\n",
    "                f\"ecc={ecc:.2f}\\n\"\n",
    "                f\"method={method}\\n\"\n",
    "                f\"id={w}\\n\"\n",
    "                \"===============================================================================\", fontsize=14)"
   ]
  },
  {
   "cell_type": "code",
   "execution_count": null,
   "id": "fb7767b4-b419-4683-86a9-6dcbdeb5fc17",
   "metadata": {},
   "outputs": [],
   "source": [
    "eccMethod.peaks_location"
   ]
  },
  {
   "cell_type": "code",
   "execution_count": null,
   "id": "d9ac8669-7a2a-4b36-b830-94dda9ee1be0",
   "metadata": {},
   "outputs": [],
   "source": [
    "eccMethod.troughs_location"
   ]
  },
  {
   "cell_type": "code",
   "execution_count": null,
   "id": "2e1c4401-558f-428b-b7d1-f35eb7ecf1a4",
   "metadata": {},
   "outputs": [],
   "source": [
    "len(eccMethod.peaks_location), len(eccMethod.troughs_location)"
   ]
  },
  {
   "cell_type": "code",
   "execution_count": null,
   "id": "aa478200-e6c7-4ebb-89bf-ba98f09d2e70",
   "metadata": {},
   "outputs": [],
   "source": [
    "for idx in range(len(eccMethod.peaks_location)):\n",
    "    print(idx, (eccMethod.peaks_location[idx] - eccMethod.troughs_location[idx])\n",
    "              * (eccMethod.troughs_location[idx + 1] - eccMethod.peaks_location[idx]))"
   ]
  },
  {
   "cell_type": "code",
   "execution_count": null,
   "id": "500cd4d1-94cc-486b-ba95-cab5873bd583",
   "metadata": {},
   "outputs": [],
   "source": [
    "eccMethod.peaks_location[12], eccMethod.troughs_location[12]"
   ]
  },
  {
   "cell_type": "code",
   "execution_count": null,
   "id": "adf63e95-2931-47ff-80a2-a1e536495707",
   "metadata": {},
   "outputs": [],
   "source": [
    "eccMethod.troughs_location[12 + 1]"
   ]
  },
  {
   "cell_type": "code",
   "execution_count": null,
   "id": "f239d692-c62a-4c90-8f8f-969fc4fcfc30",
   "metadata": {},
   "outputs": [],
   "source": []
  }
 ],
 "metadata": {
  "kernelspec": {
   "display_name": "Python 3 (ipykernel)",
   "language": "python",
   "name": "python3"
  },
  "language_info": {
   "codemirror_mode": {
    "name": "ipython",
    "version": 3
   },
   "file_extension": ".py",
   "mimetype": "text/x-python",
   "name": "python",
   "nbconvert_exporter": "python",
   "pygments_lexer": "ipython3",
   "version": "3.9.0"
  },
  "vscode": {
   "interpreter": {
    "hash": "d8e522c59817b1c4e4289d5902f293b39fa35853ec59d838cdecd0fa60b128dc"
   }
  }
 },
 "nbformat": 4,
 "nbformat_minor": 5
}
