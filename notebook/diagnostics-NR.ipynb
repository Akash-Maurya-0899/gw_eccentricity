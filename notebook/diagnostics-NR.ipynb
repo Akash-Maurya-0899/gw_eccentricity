{
 "cells": [
  {
   "cell_type": "markdown",
   "id": "c48881b2-a62c-4af3-b465-1b31357bab2c",
   "metadata": {},
   "source": [
    "Diagnostics for NR"
   ]
  },
  {
   "cell_type": "code",
   "execution_count": 1,
   "id": "064133b3-5baa-44a5-baef-5f2353e565fd",
   "metadata": {},
   "outputs": [
    {
     "name": "stderr",
     "output_type": "stream",
     "text": [
      "/home/arif/miniconda3/envs/ecc/lib/python3.9/site-packages/gwtools/rotations.py:63: UserWarning: Could not import GWFrames, needed for rotations module\n",
      "  _warnings.warn(\"Could not import GWFrames, needed for rotations module\")\n",
      "/home/arif/miniconda3/envs/ecc/lib/python3.9/site-packages/gwtools/__init__.py:11: UserWarning: Could not import rotations, decompositions, or fitfuncs. These are not needed by GWSurrogate.\n",
      "  _warnings.warn(\"Could not import rotations, decompositions, or fitfuncs. These are not needed by GWSurrogate.\")\n"
     ]
    }
   ],
   "source": [
    "import sys\n",
    "sys.path.append(\"../\")\n",
    "\n",
    "import matplotlib.pyplot as plt\n",
    "from matplotlib.backends.backend_pdf import PdfPages\n",
    "\n",
    "import gw_eccentricity\n",
    "from gw_eccentricity import get_available_methods\n",
    "from gw_eccentricity import measure_eccentricity\n",
    "from gw_eccentricity.load_data import load_waveform\n",
    "from gw_eccentricity.plot_settings import colorsDict, lstyles, lwidths\n",
    "\n",
    "%load_ext autoreload\n",
    "%autoreload 2"
   ]
  },
  {
   "cell_type": "code",
   "execution_count": 2,
   "id": "b30ba51c-e0cf-4bb7-b53e-d130151b7edb",
   "metadata": {},
   "outputs": [],
   "source": [
    "import glob\n",
    "import numpy as np\n",
    "from tqdm import tqdm\n",
    "from gw_eccentricity.load_data import load_lvcnr_hack"
   ]
  },
  {
   "cell_type": "code",
   "execution_count": 3,
   "id": "204260fb-37e9-4e31-b021-0f3dd67c90c0",
   "metadata": {},
   "outputs": [],
   "source": [
    "sxs_nr_waveforms = sorted(glob.glob(\"../data/ecc_waveforms/Non-Precessing/SXS/BBH_S*.h5\"))\n",
    "et_waveforms = sorted(glob.glob(\"../data/ecc_waveforms/Non-Precessing/ET/*.h5\"))"
   ]
  },
  {
   "cell_type": "code",
   "execution_count": 4,
   "id": "9cd1337d-b41b-44af-90aa-468cb6e4b74c",
   "metadata": {},
   "outputs": [],
   "source": [
    "all_nr_waveforms = sorted(np.append(sxs_nr_waveforms, et_waveforms))"
   ]
  },
  {
   "cell_type": "code",
   "execution_count": 5,
   "id": "a850c6d3-31a3-4049-a17f-d63a5219bf85",
   "metadata": {},
   "outputs": [],
   "source": [
    "# in sxs_nr_waveforms\n",
    "problematic_cases = [8, # need to increase flow and width \n",
    "                     34, # Takes too long to load, did not load within tested time.\n",
    "                     37, # loads too short waveform\n",
    "                    ]"
   ]
  },
  {
   "cell_type": "code",
   "execution_count": 6,
   "id": "8a7138e7-bf44-483f-9a50-6efaa8d82f75",
   "metadata": {},
   "outputs": [],
   "source": [
    "num_orbits_dict= {\"BBH_SKS_q1_e09_D130_DoNotControlLEqualsOneShape_AdjustSphereCExtents_Res3.h5\": 3,\n",
    "                 \"BBH_SKS_q1_e09_D130_SKS_DoNotControlLEqualsOneShape_Res3.h5\": 3}"
   ]
  },
  {
   "cell_type": "code",
   "execution_count": 7,
   "id": "664e1db9",
   "metadata": {},
   "outputs": [],
   "source": [
    "def MakeDiagnosticPlots(methods, nr_waveforms, num_orbits_dict):\n",
    "    \"\"\"loop through all NR waveforms, and make diagnostics plots \n",
    "         methods - list of methods to apply\n",
    "         nr_waveforms - list of paths to NR waveforms to apply methods to\n",
    "    \"\"\"\n",
    "\n",
    "    # make output objects, one per method\n",
    "    pps = [PdfPages(f\"NR-diagnostics-{method}.pdf\") for method in methods]\n",
    "\n",
    "\n",
    "    comparisons = PdfPages(\"NR_diagnostics-comparisons.pdf\")\n",
    "\n",
    "    for idx, waveform_path in enumerate(nr_waveforms):\n",
    "        w = waveform_path.split(\"/\")[-1]\n",
    "        print(f\"===== {idx}/{len(nr_waveforms)} ===== {w} =====\", flush=True)\n",
    "        kwargs = {\"filepath\": waveform_path,\n",
    "                \"include_zero_ecc\": True,\n",
    "                \"num_orbits_to_remove_as_junk\": num_orbits_dict.get(w, 3)}\n",
    "        dataDict = load_lvcnr_hack(**kwargs)\n",
    "        tref_vec = dataDict[\"t\"]\n",
    "\n",
    "\n",
    "        # for ecc-comparison plot\n",
    "        fig0, ax0 = plt.subplots(figsize=(12, 6))\n",
    "\n",
    "        for method,pp in zip(methods, pps):\n",
    "            tref_out, ecc_vec, mean_ano_vec, eccMethod = measure_eccentricity(\n",
    "                tref_in=tref_vec,\n",
    "                dataDict=dataDict,\n",
    "                method=method, \n",
    "                return_gwecc_object=True,\n",
    "                extra_kwargs={\"debug\": False})\n",
    "            fig, ax = eccMethod.make_diagnostic_plots(twocol=True)\n",
    "            q = dataDict[\"params_dict\"][\"q\"]\n",
    "            ecc = dataDict[\"params_dict\"][\"ecc\"]\n",
    "            chi1 = np.around(dataDict[\"params_dict\"][\"chi1\"], 5)\n",
    "            chi2 = np.around(dataDict[\"params_dict\"][\"chi2\"], 5)\n",
    "            title = (f\"case {idx}/{len(sxs_nr_waveforms)-1}, \"\n",
    "                    f\"$q$={q:.1f}, \"\n",
    "                    f\"$\\chi_{1}$={chi1}, \"\n",
    "                    f\"$\\chi_{2}$={chi2}, \"\n",
    "                    f\"ecc={ecc:.2f}\\n\"\n",
    "                    f\"method={method}, \"\n",
    "                    f\"id={w}\")\n",
    "            fig.suptitle(title, ha=\"center\", fontsize=10)\n",
    "            fig.set_tight_layout(True)\n",
    "            fig.savefig(pp,format='pdf')\n",
    "            plt.close(fig)\n",
    "\n",
    "            eccMethod.plot_measured_ecc(fig0, ax0, add_vline_at_tref=True if method == methods[0] else False, **{\"label\": method, \"lw\": lwidths[method], \"ls\": lstyles[method], \"c\": colorsDict[method]})\n",
    "        ax0.set_title(f\"q={q:.1f}, ecc={ecc:.2f}, {w}\", fontsize=14)\n",
    "        ax0.legend();\n",
    "        fig0.savefig(comparisons,format='pdf')\n",
    "        plt.close(fig0)\n",
    "\n",
    "    for pp in pps:\n",
    "        pp.close()\n",
    "    comparisons.close()"
   ]
  },
  {
   "cell_type": "code",
   "execution_count": 8,
   "id": "ab991d6b",
   "metadata": {},
   "outputs": [
    {
     "name": "stdout",
     "output_type": "stream",
     "text": [
      "===== 0/2 ===== BBH_SHK_q3_e04_D28_Res3.h5 =====\n",
      "===== 1/2 ===== BBH_SHK_q3_e08_D55_Res3.h5 =====\n"
     ]
    }
   ],
   "source": [
    "# to test, analyse only two waveforms:\n",
    "MakeDiagnosticPlots(gw_eccentricity.get_available_methods(), sxs_nr_waveforms[30:32], num_orbits_dict)"
   ]
  },
  {
   "cell_type": "code",
   "execution_count": null,
   "id": "5bb4e748",
   "metadata": {},
   "outputs": [
    {
     "name": "stdout",
     "output_type": "stream",
     "text": [
      "===== 0/61 ===== BBH_SHK_q10_e01_D14.5_Res3.h5 =====\n"
     ]
    },
    {
     "name": "stderr",
     "output_type": "stream",
     "text": [
      "../gw_eccentricity/eccDefinition.py:450: UserWarning: Encountered negative eccentricity.\n",
      "  warnings.warn(\"Encountered negative eccentricity.\")\n"
     ]
    },
    {
     "name": "stdout",
     "output_type": "stream",
     "text": [
      "===== 1/61 ===== BBH_SHK_q10_e01_D16_Res3.h5 =====\n",
      "===== 2/61 ===== BBH_SHK_q10_e05_D28_Res3.h5 =====\n",
      "===== 3/61 ===== BBH_SHK_q10_e05_D30_Res3.h5 =====\n",
      "===== 4/61 ===== BBH_SHK_q10_e07_D45_Res3.h5 =====\n",
      "===== 5/61 ===== BBH_SHK_q1_0_0_e01_D16_FastDyn_Res3.h5 =====\n",
      "===== 6/61 ===== BBH_SHK_q1_0_0_e01_D20_Res3.h5 =====\n",
      "===== 7/61 ===== BBH_SHK_q1_0_0_e02_D18_Res3.h5 =====\n",
      "===== 8/61 ===== BBH_SHK_q1_0_0_e02_D22_Res3.h5 =====\n",
      "===== 9/61 ===== BBH_SHK_q1_0_0_e05_D34_Res3.h5 =====\n",
      "===== 10/61 ===== BBH_SHK_q1_e035_D26_Res3.h5 =====\n",
      "===== 11/61 ===== BBH_SHK_q1_e04_D28_Res3.h5 =====\n",
      "===== 12/61 ===== BBH_SHK_q1_e07_D45_Res3.h5 =====\n",
      "===== 13/61 ===== BBH_SHK_q1_e08_D60_Res3.h5 =====\n",
      "===== 14/61 ===== BBH_SHK_q1_e095_D65_Res3.h5 =====\n",
      "===== 15/61 ===== BBH_SHK_q1_e09_D70_Res3.h5 =====\n",
      "===== 16/61 ===== BBH_SHK_q2_e01_D18_Res3.h5 =====\n",
      "===== 17/61 ===== BBH_SHK_q2_e02_D20_Res3.h5 =====\n",
      "===== 18/61 ===== BBH_SHK_q2_e035_D26_Res3.h5 =====\n",
      "===== 19/61 ===== BBH_SHK_q2_e04_D28_Res3.h5 =====\n",
      "===== 20/61 ===== BBH_SHK_q2_e05_D34_Res3.h5 =====\n",
      "===== 21/61 ===== BBH_SHK_q2_e08_D60_Res3.h5 =====\n",
      "===== 22/61 ===== BBH_SHK_q2_e095_D65_Res3.h5 =====\n",
      "===== 23/61 ===== BBH_SHK_q3_e01_D22_Res3.h5 =====\n"
     ]
    }
   ],
   "source": [
    "# ALL SXS-WAVEFORMS.  THIS TAKES A FEW MINUTES !!!\n",
    "MakeDiagnosticPlots(gw_eccentricity.get_available_methods(), sxs_nr_waveforms, num_orbits_dict)"
   ]
  },
  {
   "cell_type": "code",
   "execution_count": null,
   "id": "8ed16a5a-0da3-4eed-989b-80f77af1135c",
   "metadata": {},
   "outputs": [],
   "source": []
  }
 ],
 "metadata": {
  "kernelspec": {
   "display_name": "Python 3 (ipykernel)",
   "language": "python",
   "name": "python3"
  },
  "language_info": {
   "codemirror_mode": {
    "name": "ipython",
    "version": 3
   },
   "file_extension": ".py",
   "mimetype": "text/x-python",
   "name": "python",
   "nbconvert_exporter": "python",
   "pygments_lexer": "ipython3",
   "version": "3.9.0"
  },
  "vscode": {
   "interpreter": {
    "hash": "d8e522c59817b1c4e4289d5902f293b39fa35853ec59d838cdecd0fa60b128dc"
   }
  }
 },
 "nbformat": 4,
 "nbformat_minor": 5
}
