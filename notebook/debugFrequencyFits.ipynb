{
 "cells": [
  {
   "cell_type": "markdown",
   "id": "c48881b2-a62c-4af3-b465-1b31357bab2c",
   "metadata": {},
   "source": [
    "Notebook used for debugging and improving FrequecnyFits.\n",
    "\n",
    "NOTE: To work with EOB or NR data, you need to get the data we are working with from `home/md.shaikh/ecc_waveforms` on CIT.\n"
   ]
  },
  {
   "cell_type": "code",
   "execution_count": 1,
   "id": "064133b3-5baa-44a5-baef-5f2353e565fd",
   "metadata": {},
   "outputs": [
    {
     "name": "stderr",
     "output_type": "stream",
     "text": [
      "/Users/pfeiffer/.virtualenvs/venv38/lib/python3.8/site-packages/gwtools/rotations.py:63: UserWarning: Could not import GWFrames, needed for rotations module\n",
      "  _warnings.warn(\"Could not import GWFrames, needed for rotations module\")\n",
      "/Users/pfeiffer/.virtualenvs/venv38/lib/python3.8/site-packages/gwtools/__init__.py:11: UserWarning: Could not import rotations, decompositions, or fitfuncs. These are not needed by GWSurrogate.\n",
      "  _warnings.warn(\"Could not import rotations, decompositions, or fitfuncs. These are not needed by GWSurrogate.\")\n"
     ]
    }
   ],
   "source": [
    "import numpy as np\n",
    "import matplotlib\n",
    "import matplotlib.pyplot as plt\n",
    "%matplotlib inline\n",
    "\n",
    "import glob\n",
    "\n",
    "import sys\n",
    "sys.path.append(\"../\")\n",
    "\n",
    "from measureEccentricity.measureEccentricity import get_available_methods\n",
    "from measureEccentricity import measure_eccentricity\n",
    "from measureEccentricity.load_data import load_waveform\n",
    "\n",
    "%load_ext autoreload\n",
    "%autoreload 2"
   ]
  },
  {
   "cell_type": "markdown",
   "id": "74335e31",
   "metadata": {},
   "source": [
    "### debug issue #50"
   ]
  },
  {
   "cell_type": "code",
   "execution_count": 20,
   "id": "c220caff",
   "metadata": {},
   "outputs": [
    {
     "name": "stdout",
     "output_type": "stream",
     "text": [
      "[0.32501383 0.32501224 0.32501066 ... 0.032158   0.03214611 0.03213424]\n"
     ]
    }
   ],
   "source": [
    "waveform_keywords = {\"filepath\": \"../data/ecc_waveforms/Non-Precessing/EOB/EccTest_q1.00_chi1z0.00_chi2z0.00_EOBecc0.4278619249_Momega00.010.h5\"}\n",
    "dataDict = load_waveform(catalog=\"EOB\", **waveform_keywords)\n",
    "tref_vec = dataDict[\"t\"]\n",
    "tref_out, ecc_vec, mean_ano_vec, eccMethod = measure_eccentricity(tref_in=tref_vec, dataDict=dataDict, method=\"FrequencyFits\", \n",
    "                                                                      return_ecc_method=True,\n",
    "                                                                      extra_kwargs={\"debug\": False})\n",
    "print(ecc_vec)"
   ]
  },
  {
   "cell_type": "markdown",
   "id": "38a2f562",
   "metadata": {},
   "source": [
    "### Debug issue #49"
   ]
  },
  {
   "cell_type": "code",
   "execution_count": 17,
   "id": "3ee33b7a",
   "metadata": {},
   "outputs": [],
   "source": [
    "waveform_keywords = {\"filepath\": \"../data/ecc_waveforms/Non-Precessing/EOB/EccTest_q1.00_chi1z0.00_chi2z0.00_EOBecc0.1052704229_Momega00.010.h5\"}\n",
    "dataDict = load_waveform(catalog=\"EOB\", **waveform_keywords)\n",
    "tref_vec = dataDict[\"t\"]\n",
    "tref_out, ecc_vec, mean_ano_vec, eccMethod = measure_eccentricity(tref_in=tref_vec, dataDict=dataDict, method=\"FrequencyFits\", \n",
    "                                                                      return_ecc_method=True,\n",
    "                                                                      extra_kwargs={\"debug\": False})"
   ]
  },
  {
   "cell_type": "markdown",
   "id": "0109dc32",
   "metadata": {},
   "source": [
    "### Debug Issue $49 (part b)"
   ]
  },
  {
   "cell_type": "code",
   "execution_count": 29,
   "id": "a753b230-3489-4905-9b77-5ff737b20a94",
   "metadata": {},
   "outputs": [],
   "source": [
    "kwargs = {\"filepath\": \"../data/ecc_waveforms/Non-Precessing/EOB/EccTest_q6.00_chi1z0.40_chi2z-0.40_EOBecc0.0018322339_Momega00.010_meanAno0.000.h5\"}\n",
    "dataDict = load_waveform(\"EOB\", **kwargs)\n",
    "tref_in = dataDict[\"t\"]\n",
    "method = \"FrequencyFits\"\n",
    "tref, ecc, meanAno, eccMethod = measure_eccentricity(tref_in=tref_in,\n",
    "                                                         dataDict=dataDict,\n",
    "                                                         method=method,\n",
    "                                                         return_ecc_method=True,\n",
    "                                                         extra_kwargs={# 'extrema_finding_kwargs': {\"width\": 25},\n",
    "                                                         \"treat_mid_points_between_peaks_as_troughs\": False,\n",
    "                                                         \"debug\": False})"
   ]
  },
  {
   "cell_type": "markdown",
   "id": "aa733522",
   "metadata": {},
   "source": [
    "### Debug issue #49 (part c)"
   ]
  },
  {
   "cell_type": "code",
   "execution_count": 27,
   "id": "819fe6d4",
   "metadata": {},
   "outputs": [
    {
     "name": "stderr",
     "output_type": "stream",
     "text": [
      "/Users/pfeiffer/research/Projects/Eccentricity/notebook/../measureEccentricity/eccDefinition.py:453: UserWarning: Ecc(t) is non monotonic.\n",
      "  warnings.warn(\"Ecc(t) is non monotonic.\")\n"
     ]
    }
   ],
   "source": [
    "kwargs = {\"filepath\": \"../data/ecc_waveforms/Non-Precessing/EOB/EccTest_q6.00_chi1z0.40_chi2z-0.40_EOBecc0.0003719374_Momega00.010_meanAno1.571.h5\"}\n",
    "dataDict = load_waveform(\"EOB\", **kwargs)\n",
    "tref_in = dataDict[\"t\"]\n",
    "method = \"FrequencyFits\"\n",
    "tref, ecc, meanAno, eccMethod = measure_eccentricity(tref_in=tref_in,\n",
    "                                                         dataDict=dataDict,\n",
    "                                                         method=method,\n",
    "                                                         return_ecc_method=True,\n",
    "                                                         extra_kwargs={# 'extrema_finding_kwargs': {\"width\": 25},\n",
    "                                                         \"treat_mid_points_between_peaks_as_troughs\": False,\n",
    "                                                         \"debug\": False})"
   ]
  },
  {
   "cell_type": "code",
   "execution_count": null,
   "id": "96098001",
   "metadata": {},
   "outputs": [],
   "source": []
  }
 ],
 "metadata": {
  "kernelspec": {
   "display_name": "Python 3 (ipykernel)",
   "language": "python",
   "name": "python3"
  },
  "language_info": {
   "codemirror_mode": {
    "name": "ipython",
    "version": 3
   },
   "file_extension": ".py",
   "mimetype": "text/x-python",
   "name": "python",
   "nbconvert_exporter": "python",
   "pygments_lexer": "ipython3",
   "version": "3.8.11"
  }
 },
 "nbformat": 4,
 "nbformat_minor": 5
}
