{
 "cells": [
  {
   "cell_type": "markdown",
   "id": "c48881b2-a62c-4af3-b465-1b31357bab2c",
   "metadata": {},
   "source": [
    "Notebook used for debugging and improving FrequecnyFits.\n",
    "\n",
    "NOTE: To work with EOB or NR data, you need to get the data we are working with from `home/md.shaikh/ecc_waveforms` on CIT.\n"
   ]
  },
  {
   "cell_type": "code",
   "execution_count": 1,
   "id": "064133b3-5baa-44a5-baef-5f2353e565fd",
   "metadata": {},
   "outputs": [
    {
     "name": "stderr",
     "output_type": "stream",
     "text": [
      "/Users/pfeiffer/.virtualenvs/venv38/lib/python3.8/site-packages/gwtools/rotations.py:63: UserWarning: Could not import GWFrames, needed for rotations module\n",
      "  _warnings.warn(\"Could not import GWFrames, needed for rotations module\")\n",
      "/Users/pfeiffer/.virtualenvs/venv38/lib/python3.8/site-packages/gwtools/__init__.py:11: UserWarning: Could not import rotations, decompositions, or fitfuncs. These are not needed by GWSurrogate.\n",
      "  _warnings.warn(\"Could not import rotations, decompositions, or fitfuncs. These are not needed by GWSurrogate.\")\n"
     ]
    }
   ],
   "source": [
    "import numpy as np\n",
    "import matplotlib\n",
    "import matplotlib.pyplot as plt\n",
    "%matplotlib inline\n",
    "\n",
    "import glob\n",
    "\n",
    "import sys\n",
    "sys.path.append(\"../\")\n",
    "\n",
    "from measureEccentricity.measureEccentricity import get_available_methods\n",
    "from measureEccentricity import measure_eccentricity\n",
    "from measureEccentricity.load_data import load_waveform\n",
    "\n",
    "%load_ext autoreload\n",
    "%autoreload 2"
   ]
  },
  {
   "cell_type": "markdown",
   "id": "74335e31",
   "metadata": {},
   "source": [
    "### debug issue #50"
   ]
  },
  {
   "cell_type": "code",
   "execution_count": null,
   "id": "c220caff",
   "metadata": {},
   "outputs": [],
   "source": [
    "waveform_keywords = {\"filepath\": \"../data/ecc_waveforms/Non-Precessing/EOB/EccTest_q1.00_chi1z0.00_chi2z0.00_EOBecc0.4278619249_Momega00.010.h5\"}\n",
    "dataDict = load_waveform(catalog=\"EOB\", **waveform_keywords)\n",
    "tref_vec = dataDict[\"t\"]\n",
    "tref_out, ecc_vec, mean_ano_vec, eccMethod = measure_eccentricity(tref_in=tref_vec, dataDict=dataDict, method=\"FrequencyFits\", \n",
    "                                                                      return_ecc_method=True,\n",
    "                                                                      extra_kwargs={\"debug\": True})\n",
    "print(ecc_vec)"
   ]
  },
  {
   "cell_type": "markdown",
   "id": "38a2f562",
   "metadata": {},
   "source": [
    "### Debug issue #49"
   ]
  },
  {
   "cell_type": "code",
   "execution_count": null,
   "id": "3ee33b7a",
   "metadata": {},
   "outputs": [],
   "source": [
    "waveform_keywords = {\"filepath\": \"../data/ecc_waveforms/Non-Precessing/EOB/EccTest_q1.00_chi1z0.00_chi2z0.00_EOBecc0.1052704229_Momega00.010.h5\"}\n",
    "dataDict = load_waveform(catalog=\"EOB\", **waveform_keywords)\n",
    "tref_vec = dataDict[\"t\"]\n",
    "tref_out, ecc_vec, mean_ano_vec, eccMethod = measure_eccentricity(tref_in=tref_vec, dataDict=dataDict, method=\"FrequencyFits\", \n",
    "                                                                      return_ecc_method=True,\n",
    "                                                                      extra_kwargs={\"debug\": False})"
   ]
  },
  {
   "cell_type": "markdown",
   "id": "0109dc32",
   "metadata": {},
   "source": [
    "### Debug Issue $49 (part b)"
   ]
  },
  {
   "cell_type": "code",
   "execution_count": null,
   "id": "a753b230-3489-4905-9b77-5ff737b20a94",
   "metadata": {},
   "outputs": [],
   "source": [
    "kwargs = {\"filepath\": \"../data/ecc_waveforms/Non-Precessing/EOB/EccTest_q6.00_chi1z0.40_chi2z-0.40_EOBecc0.0018322339_Momega00.010_meanAno0.000.h5\"}\n",
    "dataDict = load_waveform(\"EOB\", **kwargs)\n",
    "tref_in = dataDict[\"t\"]\n",
    "method = \"FrequencyFits\"\n",
    "tref, ecc, meanAno, eccMethod = measure_eccentricity(tref_in=tref_in,\n",
    "                                                         dataDict=dataDict,\n",
    "                                                         method=method,\n",
    "                                                         return_ecc_method=True,\n",
    "                                                         extra_kwargs={# 'extrema_finding_kwargs': {\"width\": 25},\n",
    "                                                         \"treat_mid_points_between_peaks_as_troughs\": False,\n",
    "                                                         \"debug\": False})"
   ]
  },
  {
   "cell_type": "markdown",
   "id": "aa733522",
   "metadata": {},
   "source": [
    "### Debug issue #49 (part c)"
   ]
  },
  {
   "cell_type": "code",
   "execution_count": null,
   "id": "819fe6d4",
   "metadata": {},
   "outputs": [],
   "source": [
    "kwargs = {\"filepath\": \"../data/ecc_waveforms/Non-Precessing/EOB/EccTest_q6.00_chi1z0.40_chi2z-0.40_EOBecc0.0003719374_Momega00.010_meanAno1.571.h5\"}\n",
    "dataDict = load_waveform(\"EOB\", **kwargs)\n",
    "tref_in = dataDict[\"t\"]\n",
    "method = \"FrequencyFits\"\n",
    "tref, ecc, meanAno, eccMethod = measure_eccentricity(tref_in=tref_in,\n",
    "                                                         dataDict=dataDict,\n",
    "                                                         method=method,\n",
    "                                                         return_ecc_method=True,\n",
    "                                                         extra_kwargs={# 'extrema_finding_kwargs': {\"width\": 25},\n",
    "                                                         \"treat_mid_points_between_peaks_as_troughs\": False,\n",
    "                                                         \"debug\": False})"
   ]
  },
  {
   "cell_type": "markdown",
   "id": "d36a3570",
   "metadata": {},
   "source": [
    "Debug issue #66"
   ]
  },
  {
   "cell_type": "code",
   "execution_count": 3,
   "id": "96098001",
   "metadata": {},
   "outputs": [
    {
     "ename": "ValueError",
     "evalue": "failed to create intent(cache|hide)|optional array-- must have defined dimensions but got (-2091338192,)",
     "output_type": "error",
     "traceback": [
      "\u001b[0;31m---------------------------------------------------------------------------\u001b[0m",
      "\u001b[0;31mValueError\u001b[0m                                Traceback (most recent call last)",
      "\u001b[1;32m/Users/pfeiffer/research/Projects/Eccentricity/notebook/debugFrequencyFits.ipynb Cell 12'\u001b[0m in \u001b[0;36m<cell line: 5>\u001b[0;34m()\u001b[0m\n\u001b[1;32m      <a href='vscode-notebook-cell:/Users/pfeiffer/research/Projects/Eccentricity/notebook/debugFrequencyFits.ipynb#ch0000011?line=2'>3</a>\u001b[0m method \u001b[39m=\u001b[39m \u001b[39m\"\u001b[39m\u001b[39mFrequencyFits\u001b[39m\u001b[39m\"\u001b[39m\n\u001b[1;32m      <a href='vscode-notebook-cell:/Users/pfeiffer/research/Projects/Eccentricity/notebook/debugFrequencyFits.ipynb#ch0000011?line=3'>4</a>\u001b[0m tref_vec \u001b[39m=\u001b[39m dataDict[\u001b[39m\"\u001b[39m\u001b[39mt\u001b[39m\u001b[39m\"\u001b[39m]\n\u001b[0;32m----> <a href='vscode-notebook-cell:/Users/pfeiffer/research/Projects/Eccentricity/notebook/debugFrequencyFits.ipynb#ch0000011?line=4'>5</a>\u001b[0m tref_out, ecc_vec, mean_ano_vec, eccMethod \u001b[39m=\u001b[39m measure_eccentricity(tref_in\u001b[39m=\u001b[39;49mtref_vec, dataDict\u001b[39m=\u001b[39;49mdataDict, method\u001b[39m=\u001b[39;49mmethod, \n\u001b[1;32m      <a href='vscode-notebook-cell:/Users/pfeiffer/research/Projects/Eccentricity/notebook/debugFrequencyFits.ipynb#ch0000011?line=5'>6</a>\u001b[0m                                                                 return_ecc_method\u001b[39m=\u001b[39;49m\u001b[39mTrue\u001b[39;49;00m,\n\u001b[1;32m      <a href='vscode-notebook-cell:/Users/pfeiffer/research/Projects/Eccentricity/notebook/debugFrequencyFits.ipynb#ch0000011?line=6'>7</a>\u001b[0m                                                                 extra_kwargs\u001b[39m=\u001b[39;49m{\u001b[39m\"\u001b[39;49m\u001b[39mdebug\u001b[39;49m\u001b[39m\"\u001b[39;49m: \u001b[39mFalse\u001b[39;49;00m})\n",
      "File \u001b[0;32m~/research/Projects/Eccentricity/notebook/../measureEccentricity/measureEccentricity.py:176\u001b[0m, in \u001b[0;36mmeasure_eccentricity\u001b[0;34m(tref_in, fref_in, dataDict, method, return_ecc_method, spline_kwargs, extra_kwargs)\u001b[0m\n\u001b[1;32m    <a href='file:///Users/pfeiffer/research/Projects/Eccentricity/notebook/../measureEccentricity/measureEccentricity.py?line=172'>173</a>\u001b[0m available_methods \u001b[39m=\u001b[39m get_available_methods()\n\u001b[1;32m    <a href='file:///Users/pfeiffer/research/Projects/Eccentricity/notebook/../measureEccentricity/measureEccentricity.py?line=174'>175</a>\u001b[0m \u001b[39mif\u001b[39;00m method \u001b[39min\u001b[39;00m available_methods:\n\u001b[0;32m--> <a href='file:///Users/pfeiffer/research/Projects/Eccentricity/notebook/../measureEccentricity/measureEccentricity.py?line=175'>176</a>\u001b[0m     ecc_method \u001b[39m=\u001b[39m available_methods[method](dataDict,\n\u001b[1;32m    <a href='file:///Users/pfeiffer/research/Projects/Eccentricity/notebook/../measureEccentricity/measureEccentricity.py?line=176'>177</a>\u001b[0m                                            spline_kwargs\u001b[39m=\u001b[39;49mspline_kwargs,\n\u001b[1;32m    <a href='file:///Users/pfeiffer/research/Projects/Eccentricity/notebook/../measureEccentricity/measureEccentricity.py?line=177'>178</a>\u001b[0m                                            extra_kwargs\u001b[39m=\u001b[39;49mextra_kwargs)\n\u001b[1;32m    <a href='file:///Users/pfeiffer/research/Projects/Eccentricity/notebook/../measureEccentricity/measureEccentricity.py?line=179'>180</a>\u001b[0m     tref_out, ecc_ref, mean_ano_ref \u001b[39m=\u001b[39m ecc_method\u001b[39m.\u001b[39mmeasure_ecc(\n\u001b[1;32m    <a href='file:///Users/pfeiffer/research/Projects/Eccentricity/notebook/../measureEccentricity/measureEccentricity.py?line=180'>181</a>\u001b[0m         tref_in\u001b[39m=\u001b[39mtref_in, fref_in\u001b[39m=\u001b[39mfref_in)\n\u001b[1;32m    <a href='file:///Users/pfeiffer/research/Projects/Eccentricity/notebook/../measureEccentricity/measureEccentricity.py?line=181'>182</a>\u001b[0m     \u001b[39mif\u001b[39;00m \u001b[39mnot\u001b[39;00m return_ecc_method:\n",
      "File \u001b[0;32m~/research/Projects/Eccentricity/notebook/../measureEccentricity/eccDefinitionUsingFrequencyFits.py:109\u001b[0m, in \u001b[0;36meccDefinitionUsingFrequencyFits.__init__\u001b[0;34m(self, *args, **kwargs)\u001b[0m\n\u001b[1;32m    <a href='file:///Users/pfeiffer/research/Projects/Eccentricity/notebook/../measureEccentricity/eccDefinitionUsingFrequencyFits.py?line=101'>102</a>\u001b[0m \u001b[39mdef\u001b[39;00m \u001b[39m__init__\u001b[39m(\u001b[39mself\u001b[39m, \u001b[39m*\u001b[39margs, \u001b[39m*\u001b[39m\u001b[39m*\u001b[39mkwargs):\n\u001b[1;32m    <a href='file:///Users/pfeiffer/research/Projects/Eccentricity/notebook/../measureEccentricity/eccDefinitionUsingFrequencyFits.py?line=102'>103</a>\u001b[0m     \u001b[39m\"\"\"Init for eccDefinitionUsingWithFrequencyFits class.\u001b[39;00m\n\u001b[1;32m    <a href='file:///Users/pfeiffer/research/Projects/Eccentricity/notebook/../measureEccentricity/eccDefinitionUsingFrequencyFits.py?line=103'>104</a>\u001b[0m \n\u001b[1;32m    <a href='file:///Users/pfeiffer/research/Projects/Eccentricity/notebook/../measureEccentricity/eccDefinitionUsingFrequencyFits.py?line=104'>105</a>\u001b[0m \u001b[39m    parameters:\u001b[39;00m\n\u001b[1;32m    <a href='file:///Users/pfeiffer/research/Projects/Eccentricity/notebook/../measureEccentricity/eccDefinitionUsingFrequencyFits.py?line=105'>106</a>\u001b[0m \u001b[39m    ----------\u001b[39;00m\n\u001b[1;32m    <a href='file:///Users/pfeiffer/research/Projects/Eccentricity/notebook/../measureEccentricity/eccDefinitionUsingFrequencyFits.py?line=106'>107</a>\u001b[0m \u001b[39m    dataDict: Dictionary containing the waveform data.\u001b[39;00m\n\u001b[1;32m    <a href='file:///Users/pfeiffer/research/Projects/Eccentricity/notebook/../measureEccentricity/eccDefinitionUsingFrequencyFits.py?line=107'>108</a>\u001b[0m \u001b[39m    \"\"\"\u001b[39;00m\n\u001b[0;32m--> <a href='file:///Users/pfeiffer/research/Projects/Eccentricity/notebook/../measureEccentricity/eccDefinitionUsingFrequencyFits.py?line=108'>109</a>\u001b[0m     \u001b[39msuper\u001b[39;49m()\u001b[39m.\u001b[39;49m\u001b[39m__init__\u001b[39;49m(\u001b[39m*\u001b[39;49margs, \u001b[39m*\u001b[39;49m\u001b[39m*\u001b[39;49mkwargs)\n\u001b[1;32m    <a href='file:///Users/pfeiffer/research/Projects/Eccentricity/notebook/../measureEccentricity/eccDefinitionUsingFrequencyFits.py?line=110'>111</a>\u001b[0m     \u001b[39mself\u001b[39m\u001b[39m.\u001b[39mdebug\u001b[39m=\u001b[39m\u001b[39mself\u001b[39m\u001b[39m.\u001b[39mextra_kwargs[\u001b[39m\"\u001b[39m\u001b[39mdebug\u001b[39m\u001b[39m\"\u001b[39m];\n\u001b[1;32m    <a href='file:///Users/pfeiffer/research/Projects/Eccentricity/notebook/../measureEccentricity/eccDefinitionUsingFrequencyFits.py?line=112'>113</a>\u001b[0m     \u001b[39m# create the shortened data-set for analysis \u001b[39;00m\n",
      "File \u001b[0;32m~/research/Projects/Eccentricity/notebook/../measureEccentricity/eccDefinition.py:82\u001b[0m, in \u001b[0;36meccDefinition.__init__\u001b[0;34m(self, dataDict, spline_kwargs, extra_kwargs)\u001b[0m\n\u001b[1;32m     <a href='file:///Users/pfeiffer/research/Projects/Eccentricity/notebook/../measureEccentricity/eccDefinition.py?line=77'>78</a>\u001b[0m \u001b[39mself\u001b[39m\u001b[39m.\u001b[39momega22 \u001b[39m=\u001b[39m time_deriv_4thOrder(\u001b[39mself\u001b[39m\u001b[39m.\u001b[39mphase22,\n\u001b[1;32m     <a href='file:///Users/pfeiffer/research/Projects/Eccentricity/notebook/../measureEccentricity/eccDefinition.py?line=78'>79</a>\u001b[0m                                    \u001b[39mself\u001b[39m\u001b[39m.\u001b[39mt[\u001b[39m1\u001b[39m] \u001b[39m-\u001b[39m \u001b[39mself\u001b[39m\u001b[39m.\u001b[39mt[\u001b[39m0\u001b[39m])\n\u001b[1;32m     <a href='file:///Users/pfeiffer/research/Projects/Eccentricity/notebook/../measureEccentricity/eccDefinition.py?line=80'>81</a>\u001b[0m \u001b[39mif\u001b[39;00m \u001b[39m\"\u001b[39m\u001b[39mhlm_zeroecc\u001b[39m\u001b[39m\"\u001b[39m \u001b[39min\u001b[39;00m dataDict:\n\u001b[0;32m---> <a href='file:///Users/pfeiffer/research/Projects/Eccentricity/notebook/../measureEccentricity/eccDefinition.py?line=81'>82</a>\u001b[0m     \u001b[39mself\u001b[39;49m\u001b[39m.\u001b[39;49mcompute_res_amp_and_omega22()\n\u001b[1;32m     <a href='file:///Users/pfeiffer/research/Projects/Eccentricity/notebook/../measureEccentricity/eccDefinition.py?line=83'>84</a>\u001b[0m \u001b[39m# Sanity check various kwargs and set default values\u001b[39;00m\n\u001b[1;32m     <a href='file:///Users/pfeiffer/research/Projects/Eccentricity/notebook/../measureEccentricity/eccDefinition.py?line=84'>85</a>\u001b[0m \u001b[39mself\u001b[39m\u001b[39m.\u001b[39mspline_kwargs \u001b[39m=\u001b[39m check_kwargs_and_set_defaults(\n\u001b[1;32m     <a href='file:///Users/pfeiffer/research/Projects/Eccentricity/notebook/../measureEccentricity/eccDefinition.py?line=85'>86</a>\u001b[0m     spline_kwargs, \u001b[39mself\u001b[39m\u001b[39m.\u001b[39mget_default_spline_kwargs(),\n\u001b[1;32m     <a href='file:///Users/pfeiffer/research/Projects/Eccentricity/notebook/../measureEccentricity/eccDefinition.py?line=86'>87</a>\u001b[0m     \u001b[39m\"\u001b[39m\u001b[39mspline_kwargs\u001b[39m\u001b[39m\"\u001b[39m)\n",
      "File \u001b[0;32m~/research/Projects/Eccentricity/notebook/../measureEccentricity/eccDefinition.py:488\u001b[0m, in \u001b[0;36meccDefinition.compute_res_amp_and_omega22\u001b[0;34m(self)\u001b[0m\n\u001b[1;32m    <a href='file:///Users/pfeiffer/research/Projects/Eccentricity/notebook/../measureEccentricity/eccDefinition.py?line=481'>482</a>\u001b[0m \u001b[39mif\u001b[39;00m (\u001b[39mself\u001b[39m\u001b[39m.\u001b[39mt_zeroecc[\u001b[39m0\u001b[39m] \u001b[39m>\u001b[39m \u001b[39mself\u001b[39m\u001b[39m.\u001b[39mt[\u001b[39m0\u001b[39m]):\n\u001b[1;32m    <a href='file:///Users/pfeiffer/research/Projects/Eccentricity/notebook/../measureEccentricity/eccDefinition.py?line=482'>483</a>\u001b[0m     \u001b[39mraise\u001b[39;00m \u001b[39mException\u001b[39;00m(\u001b[39m\"\u001b[39m\u001b[39mLength of zeroecc waveform must be >= the length \u001b[39m\u001b[39m\"\u001b[39m\n\u001b[1;32m    <a href='file:///Users/pfeiffer/research/Projects/Eccentricity/notebook/../measureEccentricity/eccDefinition.py?line=483'>484</a>\u001b[0m                     \u001b[39m\"\u001b[39m\u001b[39mof the eccentric waveform. Eccentric waveform \u001b[39m\u001b[39m\"\u001b[39m\n\u001b[1;32m    <a href='file:///Users/pfeiffer/research/Projects/Eccentricity/notebook/../measureEccentricity/eccDefinition.py?line=484'>485</a>\u001b[0m                     \u001b[39mf\u001b[39m\u001b[39m\"\u001b[39m\u001b[39mstarts at \u001b[39m\u001b[39m{\u001b[39;00m\u001b[39mself\u001b[39m\u001b[39m.\u001b[39mt[\u001b[39m0\u001b[39m]\u001b[39m}\u001b[39;00m\u001b[39m whereas zeroecc waveform \u001b[39m\u001b[39m\"\u001b[39m\n\u001b[1;32m    <a href='file:///Users/pfeiffer/research/Projects/Eccentricity/notebook/../measureEccentricity/eccDefinition.py?line=485'>486</a>\u001b[0m                     \u001b[39mf\u001b[39m\u001b[39m\"\u001b[39m\u001b[39mstarts at \u001b[39m\u001b[39m{\u001b[39;00m\u001b[39mself\u001b[39m\u001b[39m.\u001b[39mt_zeroecc[\u001b[39m0\u001b[39m]\u001b[39m}\u001b[39;00m\u001b[39m. Try starting the \u001b[39m\u001b[39m\"\u001b[39m\n\u001b[1;32m    <a href='file:///Users/pfeiffer/research/Projects/Eccentricity/notebook/../measureEccentricity/eccDefinition.py?line=486'>487</a>\u001b[0m                     \u001b[39m\"\u001b[39m\u001b[39mzeroecc waveform at lower Momega0.\u001b[39m\u001b[39m\"\u001b[39m)\n\u001b[0;32m--> <a href='file:///Users/pfeiffer/research/Projects/Eccentricity/notebook/../measureEccentricity/eccDefinition.py?line=487'>488</a>\u001b[0m \u001b[39mself\u001b[39m\u001b[39m.\u001b[39mamp22_zeroecc_interp \u001b[39m=\u001b[39m InterpolatedUnivariateSpline(\n\u001b[1;32m    <a href='file:///Users/pfeiffer/research/Projects/Eccentricity/notebook/../measureEccentricity/eccDefinition.py?line=488'>489</a>\u001b[0m     \u001b[39mself\u001b[39;49m\u001b[39m.\u001b[39;49mt_zeroecc, np\u001b[39m.\u001b[39;49mabs(\u001b[39mself\u001b[39;49m\u001b[39m.\u001b[39;49mh22_zeroecc))(\u001b[39mself\u001b[39m\u001b[39m.\u001b[39mt)\n\u001b[1;32m    <a href='file:///Users/pfeiffer/research/Projects/Eccentricity/notebook/../measureEccentricity/eccDefinition.py?line=489'>490</a>\u001b[0m \u001b[39mself\u001b[39m\u001b[39m.\u001b[39mres_amp22 \u001b[39m=\u001b[39m \u001b[39mself\u001b[39m\u001b[39m.\u001b[39mamp22 \u001b[39m-\u001b[39m \u001b[39mself\u001b[39m\u001b[39m.\u001b[39mamp22_zeroecc_interp\n\u001b[1;32m    <a href='file:///Users/pfeiffer/research/Projects/Eccentricity/notebook/../measureEccentricity/eccDefinition.py?line=491'>492</a>\u001b[0m \u001b[39mself\u001b[39m\u001b[39m.\u001b[39mphase22_zeroecc \u001b[39m=\u001b[39m \u001b[39m-\u001b[39m np\u001b[39m.\u001b[39munwrap(np\u001b[39m.\u001b[39mangle(\u001b[39mself\u001b[39m\u001b[39m.\u001b[39mh22_zeroecc))\n",
      "File \u001b[0;32m~/.virtualenvs/venv38/lib/python3.8/site-packages/scipy/interpolate/_fitpack2.py:667\u001b[0m, in \u001b[0;36mInterpolatedUnivariateSpline.__init__\u001b[0;34m(self, x, y, w, bbox, k, ext, check_finite)\u001b[0m\n\u001b[1;32m    <a href='file:///Users/pfeiffer/.virtualenvs/venv38/lib/python3.8/site-packages/scipy/interpolate/_fitpack2.py?line=663'>664</a>\u001b[0m     \u001b[39mraise\u001b[39;00m \u001b[39mValueError\u001b[39;00m(\u001b[39m'\u001b[39m\u001b[39mx must be strictly increasing\u001b[39m\u001b[39m'\u001b[39m)\n\u001b[1;32m    <a href='file:///Users/pfeiffer/.virtualenvs/venv38/lib/python3.8/site-packages/scipy/interpolate/_fitpack2.py?line=665'>666</a>\u001b[0m \u001b[39m# _data == x,y,w,xb,xe,k,s,n,t,c,fp,fpint,nrdata,ier\u001b[39;00m\n\u001b[0;32m--> <a href='file:///Users/pfeiffer/.virtualenvs/venv38/lib/python3.8/site-packages/scipy/interpolate/_fitpack2.py?line=666'>667</a>\u001b[0m \u001b[39mself\u001b[39m\u001b[39m.\u001b[39m_data \u001b[39m=\u001b[39m dfitpack\u001b[39m.\u001b[39;49mfpcurf0(x, y, k, w\u001b[39m=\u001b[39;49mw, xb\u001b[39m=\u001b[39;49mbbox[\u001b[39m0\u001b[39;49m],\n\u001b[1;32m    <a href='file:///Users/pfeiffer/.virtualenvs/venv38/lib/python3.8/site-packages/scipy/interpolate/_fitpack2.py?line=667'>668</a>\u001b[0m                               xe\u001b[39m=\u001b[39;49mbbox[\u001b[39m1\u001b[39;49m], s\u001b[39m=\u001b[39;49m\u001b[39m0\u001b[39;49m)\n\u001b[1;32m    <a href='file:///Users/pfeiffer/.virtualenvs/venv38/lib/python3.8/site-packages/scipy/interpolate/_fitpack2.py?line=668'>669</a>\u001b[0m \u001b[39mself\u001b[39m\u001b[39m.\u001b[39m_reset_class()\n",
      "\u001b[0;31mValueError\u001b[0m: failed to create intent(cache|hide)|optional array-- must have defined dimensions but got (-2091338192,)"
     ]
    }
   ],
   "source": [
    "waveform_keywords = {\"filepath\": '../data/ecc_waveforms/Non-Precessing/SXS/BBH_SHK_q6_e095_D65_Res3.h5'}\n",
    "dataDict = load_waveform(catalog=\"LVCNR\", **waveform_keywords)\n",
    "method = \"FrequencyFits\"\n",
    "tref_vec = dataDict[\"t\"]\n",
    "tref_out, ecc_vec, mean_ano_vec, eccMethod = measure_eccentricity(tref_in=tref_vec, dataDict=dataDict, method=method, \n",
    "                                                                return_ecc_method=True,\n",
    "                                                                extra_kwargs={\"debug\": False})\n",
    "#fig, ax = eccMethod.make_diagnostic_plots()"
   ]
  },
  {
   "cell_type": "code",
   "execution_count": null,
   "id": "a3863642",
   "metadata": {},
   "outputs": [],
   "source": [
    "\n"
   ]
  },
  {
   "cell_type": "code",
   "execution_count": null,
   "id": "34ff51b9",
   "metadata": {},
   "outputs": [],
   "source": []
  }
 ],
 "metadata": {
  "interpreter": {
   "hash": "d8e522c59817b1c4e4289d5902f293b39fa35853ec59d838cdecd0fa60b128dc"
  },
  "kernelspec": {
   "display_name": "Python 3.8.11 ('venv38')",
   "language": "python",
   "name": "python3"
  },
  "language_info": {
   "codemirror_mode": {
    "name": "ipython",
    "version": 3
   },
   "file_extension": ".py",
   "mimetype": "text/x-python",
   "name": "python",
   "nbconvert_exporter": "python",
   "pygments_lexer": "ipython3",
   "version": "3.8.11"
  }
 },
 "nbformat": 4,
 "nbformat_minor": 5
}
