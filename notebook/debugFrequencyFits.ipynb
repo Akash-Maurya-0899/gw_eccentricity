{
 "cells": [
  {
   "cell_type": "markdown",
   "id": "c48881b2-a62c-4af3-b465-1b31357bab2c",
   "metadata": {},
   "source": [
    "Notebook used for debugging and improving FrequecnyFits.\n",
    "\n",
    "NOTE: To work with EOB or NR data, you need to get the data we are working with from `home/md.shaikh/ecc_waveforms` on CIT.\n"
   ]
  },
  {
   "cell_type": "code",
   "execution_count": 2,
   "id": "064133b3-5baa-44a5-baef-5f2353e565fd",
   "metadata": {},
   "outputs": [
    {
     "name": "stderr",
     "output_type": "stream",
     "text": [
      "/Users/pfeiffer/.virtualenvs/venv38/lib/python3.8/site-packages/gwtools/rotations.py:63: UserWarning: Could not import GWFrames, needed for rotations module\n",
      "  _warnings.warn(\"Could not import GWFrames, needed for rotations module\")\n",
      "/Users/pfeiffer/.virtualenvs/venv38/lib/python3.8/site-packages/gwtools/__init__.py:11: UserWarning: Could not import rotations, decompositions, or fitfuncs. These are not needed by GWSurrogate.\n",
      "  _warnings.warn(\"Could not import rotations, decompositions, or fitfuncs. These are not needed by GWSurrogate.\")\n"
     ]
    }
   ],
   "source": [
    "import numpy as np\n",
    "import matplotlib\n",
    "import matplotlib.pyplot as plt\n",
    "%matplotlib inline\n",
    "\n",
    "import glob\n",
    "\n",
    "import sys\n",
    "sys.path.append(\"../\")\n",
    "\n",
    "from measureEccentricity.measureEccentricity import get_available_methods\n",
    "from measureEccentricity import measure_eccentricity\n",
    "from measureEccentricity.load_data import load_waveform\n",
    "\n",
    "%load_ext autoreload\n",
    "%autoreload 2"
   ]
  },
  {
   "cell_type": "markdown",
   "id": "74335e31",
   "metadata": {},
   "source": [
    "### debug issue #50"
   ]
  },
  {
   "cell_type": "code",
   "execution_count": 4,
   "id": "c220caff",
   "metadata": {},
   "outputs": [
    {
     "name": "stdout",
     "output_type": "stream",
     "text": [
      "[0.32501383 0.32501224 0.32501066 ... 0.02905739 0.02903523 0.02901302]\n"
     ]
    }
   ],
   "source": [
    "waveform_keywords = {\"filepath\": \"../data/ecc_waveforms/Non-Precessing/EOB/EccTest_q1.00_chi1z0.00_chi2z0.00_EOBecc0.4278619249_Momega00.010.h5\"}\n",
    "dataDict = load_waveform(catalog=\"EOB\", **waveform_keywords)\n",
    "tref_vec = dataDict[\"t\"]\n",
    "tref_out, ecc_vec, mean_ano_vec, eccMethod = measure_eccentricity(tref_in=tref_vec, dataDict=dataDict, method=\"FrequencyFits\", \n",
    "                                                                      return_ecc_method=True,\n",
    "                                                                      extra_kwargs={\"debug\": False})\n",
    "print(ecc_vec)"
   ]
  },
  {
   "cell_type": "markdown",
   "id": "38a2f562",
   "metadata": {},
   "source": [
    "### Debug issue #49"
   ]
  },
  {
   "cell_type": "code",
   "execution_count": 5,
   "id": "3ee33b7a",
   "metadata": {},
   "outputs": [
    {
     "ename": "TypeError",
     "evalue": "'<' not supported between instances of 'dict' and 'float'",
     "output_type": "error",
     "traceback": [
      "\u001b[0;31m---------------------------------------------------------------------------\u001b[0m",
      "\u001b[0;31mTypeError\u001b[0m                                 Traceback (most recent call last)",
      "\u001b[1;32m/Users/pfeiffer/research/Projects/Eccentricity/notebook/debugFrequencyFits.ipynb Cell 6'\u001b[0m in \u001b[0;36m<cell line: 4>\u001b[0;34m()\u001b[0m\n\u001b[1;32m      <a href='vscode-notebook-cell:/Users/pfeiffer/research/Projects/Eccentricity/notebook/debugFrequencyFits.ipynb#ch0000005?line=1'>2</a>\u001b[0m dataDict \u001b[39m=\u001b[39m load_waveform(catalog\u001b[39m=\u001b[39m\u001b[39m\"\u001b[39m\u001b[39mEOB\u001b[39m\u001b[39m\"\u001b[39m, \u001b[39m*\u001b[39m\u001b[39m*\u001b[39mwaveform_keywords)\n\u001b[1;32m      <a href='vscode-notebook-cell:/Users/pfeiffer/research/Projects/Eccentricity/notebook/debugFrequencyFits.ipynb#ch0000005?line=2'>3</a>\u001b[0m dataDict[\u001b[39m\"\u001b[39m\u001b[39mt\u001b[39m\u001b[39m\"\u001b[39m]\n\u001b[0;32m----> <a href='vscode-notebook-cell:/Users/pfeiffer/research/Projects/Eccentricity/notebook/debugFrequencyFits.ipynb#ch0000005?line=3'>4</a>\u001b[0m tref_out, ecc_vec, mean_ano_vec, eccMethod \u001b[39m=\u001b[39m measure_eccentricity(tref_in\u001b[39m=\u001b[39;49mtref_vec, dataDict\u001b[39m=\u001b[39;49mdataDict, method\u001b[39m=\u001b[39;49m\u001b[39m\"\u001b[39;49m\u001b[39mFrequencyFits\u001b[39;49m\u001b[39m\"\u001b[39;49m, \n\u001b[1;32m      <a href='vscode-notebook-cell:/Users/pfeiffer/research/Projects/Eccentricity/notebook/debugFrequencyFits.ipynb#ch0000005?line=4'>5</a>\u001b[0m                                                                       return_ecc_method\u001b[39m=\u001b[39;49m\u001b[39mTrue\u001b[39;49;00m,\n\u001b[1;32m      <a href='vscode-notebook-cell:/Users/pfeiffer/research/Projects/Eccentricity/notebook/debugFrequencyFits.ipynb#ch0000005?line=5'>6</a>\u001b[0m                                                                       extra_kwargs\u001b[39m=\u001b[39;49m{\u001b[39m\"\u001b[39;49m\u001b[39mdebug\u001b[39;49m\u001b[39m\"\u001b[39;49m: \u001b[39mFalse\u001b[39;49;00m})\n",
      "File \u001b[0;32m~/research/Projects/Eccentricity/notebook/../measureEccentricity/measureEccentricity.py:180\u001b[0m, in \u001b[0;36mmeasure_eccentricity\u001b[0;34m(tref_in, fref_in, dataDict, method, return_ecc_method, spline_kwargs, extra_kwargs)\u001b[0m\n\u001b[1;32m    <a href='file:///Users/pfeiffer/research/Projects/Eccentricity/notebook/../measureEccentricity/measureEccentricity.py?line=174'>175</a>\u001b[0m \u001b[39mif\u001b[39;00m method \u001b[39min\u001b[39;00m available_methods:\n\u001b[1;32m    <a href='file:///Users/pfeiffer/research/Projects/Eccentricity/notebook/../measureEccentricity/measureEccentricity.py?line=175'>176</a>\u001b[0m     ecc_method \u001b[39m=\u001b[39m available_methods[method](dataDict,\n\u001b[1;32m    <a href='file:///Users/pfeiffer/research/Projects/Eccentricity/notebook/../measureEccentricity/measureEccentricity.py?line=176'>177</a>\u001b[0m                                            spline_kwargs\u001b[39m=\u001b[39mspline_kwargs,\n\u001b[1;32m    <a href='file:///Users/pfeiffer/research/Projects/Eccentricity/notebook/../measureEccentricity/measureEccentricity.py?line=177'>178</a>\u001b[0m                                            extra_kwargs\u001b[39m=\u001b[39mextra_kwargs)\n\u001b[0;32m--> <a href='file:///Users/pfeiffer/research/Projects/Eccentricity/notebook/../measureEccentricity/measureEccentricity.py?line=179'>180</a>\u001b[0m     tref_out, ecc_ref, mean_ano_ref \u001b[39m=\u001b[39m ecc_method\u001b[39m.\u001b[39;49mmeasure_ecc(\n\u001b[1;32m    <a href='file:///Users/pfeiffer/research/Projects/Eccentricity/notebook/../measureEccentricity/measureEccentricity.py?line=180'>181</a>\u001b[0m         tref_in\u001b[39m=\u001b[39;49mtref_in, fref_in\u001b[39m=\u001b[39;49mfref_in)\n\u001b[1;32m    <a href='file:///Users/pfeiffer/research/Projects/Eccentricity/notebook/../measureEccentricity/measureEccentricity.py?line=181'>182</a>\u001b[0m     \u001b[39mif\u001b[39;00m \u001b[39mnot\u001b[39;00m return_ecc_method:\n\u001b[1;32m    <a href='file:///Users/pfeiffer/research/Projects/Eccentricity/notebook/../measureEccentricity/measureEccentricity.py?line=182'>183</a>\u001b[0m         \u001b[39mreturn\u001b[39;00m tref_out, ecc_ref, mean_ano_ref\n",
      "File \u001b[0;32m~/research/Projects/Eccentricity/notebook/../measureEccentricity/eccDefinition.py:294\u001b[0m, in \u001b[0;36meccDefinition.measure_ecc\u001b[0;34m(self, tref_in, fref_in)\u001b[0m\n\u001b[1;32m    <a href='file:///Users/pfeiffer/research/Projects/Eccentricity/notebook/../measureEccentricity/eccDefinition.py?line=285'>286</a>\u001b[0m     tref_in, \u001b[39mself\u001b[39m\u001b[39m.\u001b[39mfref_out \u001b[39m=\u001b[39m \u001b[39mself\u001b[39m\u001b[39m.\u001b[39mcompute_tref_in_and_fref_out_from_fref_in(fref_in)\n\u001b[1;32m    <a href='file:///Users/pfeiffer/research/Projects/Eccentricity/notebook/../measureEccentricity/eccDefinition.py?line=286'>287</a>\u001b[0m \u001b[39m# We measure eccentricity and mean anomaly from t_min to t_max.\u001b[39;00m\n\u001b[1;32m    <a href='file:///Users/pfeiffer/research/Projects/Eccentricity/notebook/../measureEccentricity/eccDefinition.py?line=287'>288</a>\u001b[0m \u001b[39m# Note that here we do not include the t_max. This is because\u001b[39;00m\n\u001b[1;32m    <a href='file:///Users/pfeiffer/research/Projects/Eccentricity/notebook/../measureEccentricity/eccDefinition.py?line=288'>289</a>\u001b[0m \u001b[39m# the mean anomaly computation requires to looking\u001b[39;00m\n\u001b[0;32m   (...)\u001b[0m\n\u001b[1;32m    <a href='file:///Users/pfeiffer/research/Projects/Eccentricity/notebook/../measureEccentricity/eccDefinition.py?line=291'>292</a>\u001b[0m \u001b[39m# If ref time is t_max, which could be equal to the last peak, then\u001b[39;00m\n\u001b[1;32m    <a href='file:///Users/pfeiffer/research/Projects/Eccentricity/notebook/../measureEccentricity/eccDefinition.py?line=292'>293</a>\u001b[0m \u001b[39m# there is no next peak and that would cause a problem.\u001b[39;00m\n\u001b[0;32m--> <a href='file:///Users/pfeiffer/research/Projects/Eccentricity/notebook/../measureEccentricity/eccDefinition.py?line=293'>294</a>\u001b[0m \u001b[39mself\u001b[39m\u001b[39m.\u001b[39mtref_out \u001b[39m=\u001b[39m tref_in[np\u001b[39m.\u001b[39mlogical_and(tref_in \u001b[39m<\u001b[39;49m \u001b[39mself\u001b[39;49m\u001b[39m.\u001b[39;49mt_max,\n\u001b[1;32m    <a href='file:///Users/pfeiffer/research/Projects/Eccentricity/notebook/../measureEccentricity/eccDefinition.py?line=294'>295</a>\u001b[0m                                        tref_in \u001b[39m>\u001b[39m\u001b[39m=\u001b[39m \u001b[39mself\u001b[39m\u001b[39m.\u001b[39mt_min)]\n\u001b[1;32m    <a href='file:///Users/pfeiffer/research/Projects/Eccentricity/notebook/../measureEccentricity/eccDefinition.py?line=296'>297</a>\u001b[0m \u001b[39m# Sanity checks\u001b[39;00m\n\u001b[1;32m    <a href='file:///Users/pfeiffer/research/Projects/Eccentricity/notebook/../measureEccentricity/eccDefinition.py?line=297'>298</a>\u001b[0m \u001b[39m# check that fref_out and tref_out are of the same length\u001b[39;00m\n\u001b[1;32m    <a href='file:///Users/pfeiffer/research/Projects/Eccentricity/notebook/../measureEccentricity/eccDefinition.py?line=298'>299</a>\u001b[0m \u001b[39mif\u001b[39;00m fref_in \u001b[39mis\u001b[39;00m \u001b[39mnot\u001b[39;00m \u001b[39mNone\u001b[39;00m:\n",
      "\u001b[0;31mTypeError\u001b[0m: '<' not supported between instances of 'dict' and 'float'"
     ]
    }
   ],
   "source": [
    "tref_vec = waveform_keywords = {\"filepath\": \"../data/ecc_waveforms/Non-Precessing/EOB/EccTest_q1.00_chi1z0.00_chi2z0.00_EOBecc0.1052704229_Momega00.010.h5\"}\n",
    "dataDict = load_waveform(catalog=\"EOB\", **waveform_keywords)\n",
    "dataDict[\"t\"]\n",
    "tref_out, ecc_vec, mean_ano_vec, eccMethod = measure_eccentricity(tref_in=tref_vec, dataDict=dataDict, method=\"FrequencyFits\", \n",
    "                                                                      return_ecc_method=True,\n",
    "                                                                      extra_kwargs={\"debug\": False})"
   ]
  },
  {
   "cell_type": "code",
   "execution_count": null,
   "id": "a753b230-3489-4905-9b77-5ff737b20a94",
   "metadata": {},
   "outputs": [],
   "source": []
  }
 ],
 "metadata": {
  "kernelspec": {
   "display_name": "Python 3 (ipykernel)",
   "language": "python",
   "name": "python3"
  },
  "language_info": {
   "codemirror_mode": {
    "name": "ipython",
    "version": 3
   },
   "file_extension": ".py",
   "mimetype": "text/x-python",
   "name": "python",
   "nbconvert_exporter": "python",
   "pygments_lexer": "ipython3",
   "version": "3.8.11"
  }
 },
 "nbformat": 4,
 "nbformat_minor": 5
}
