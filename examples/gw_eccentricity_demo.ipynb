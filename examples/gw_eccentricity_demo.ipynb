{
 "cells": [
  {
   "cell_type": "markdown",
   "id": "e3956aa7-c5cb-4c80-9e47-a607711bdfb6",
   "metadata": {},
   "source": [
    "# Example usage of gw_eccentricity"
   ]
  },
  {
   "cell_type": "markdown",
   "id": "5386d116-e716-418f-887e-80a8604288ed",
   "metadata": {},
   "source": [
    "### Get the available methods\n",
    "\n",
    "We implement different methods to measure eccentricity and mean anomaly"
   ]
  },
  {
   "cell_type": "code",
   "execution_count": 1,
   "id": "6b7797b4-5cc2-47f4-ada9-551d1026d603",
   "metadata": {},
   "outputs": [
    {
     "ename": "ModuleNotFoundError",
     "evalue": "No module named 'gw_eccentricity'",
     "output_type": "error",
     "traceback": [
      "\u001b[0;31m---------------------------------------------------------------------------\u001b[0m",
      "\u001b[0;31mModuleNotFoundError\u001b[0m                       Traceback (most recent call last)",
      "Input \u001b[0;32mIn [1]\u001b[0m, in \u001b[0;36m<cell line: 1>\u001b[0;34m()\u001b[0m\n\u001b[0;32m----> 1\u001b[0m \u001b[38;5;28;01mfrom\u001b[39;00m \u001b[38;5;21;01mgw_eccentricity\u001b[39;00m\u001b[38;5;21;01m.\u001b[39;00m\u001b[38;5;21;01mgw_eccentricity\u001b[39;00m \u001b[38;5;28;01mimport\u001b[39;00m get_available_methods\n",
      "\u001b[0;31mModuleNotFoundError\u001b[0m: No module named 'gw_eccentricity'"
     ]
    }
   ],
   "source": [
    "from gw_eccentricity.gw_eccentricity import get_available_methods"
   ]
  },
  {
   "cell_type": "code",
   "execution_count": null,
   "id": "82bcae98-b8be-4c62-acf7-762942c5438b",
   "metadata": {},
   "outputs": [],
   "source": []
  }
 ],
 "metadata": {
  "kernelspec": {
   "display_name": "Python 3 (ipykernel)",
   "language": "python",
   "name": "python3"
  },
  "language_info": {
   "codemirror_mode": {
    "name": "ipython",
    "version": 3
   },
   "file_extension": ".py",
   "mimetype": "text/x-python",
   "name": "python",
   "nbconvert_exporter": "python",
   "pygments_lexer": "ipython3",
   "version": "3.8.12"
  }
 },
 "nbformat": 4,
 "nbformat_minor": 5
}
