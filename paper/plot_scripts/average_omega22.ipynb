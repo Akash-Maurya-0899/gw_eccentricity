{
 "cells": [
  {
   "cell_type": "markdown",
   "id": "78c4be92-0409-4c7d-a9d4-c8d098b2772a",
   "metadata": {},
   "source": [
    "Plots to show average omega22"
   ]
  },
  {
   "cell_type": "code",
   "execution_count": 1,
   "id": "e44a31a5-f62c-480f-aa56-e115cdcda87e",
   "metadata": {},
   "outputs": [],
   "source": [
    "import sys\n",
    "sys.path.append(\"../../\")"
   ]
  },
  {
   "cell_type": "code",
   "execution_count": 2,
   "id": "81602348-8e35-4edd-82c2-f7130c62403d",
   "metadata": {},
   "outputs": [
    {
     "name": "stderr",
     "output_type": "stream",
     "text": [
      "/home1/md.shaikh/miniconda3/envs/eccimrct/lib/python3.8/site-packages/gwtools/rotations.py:63: UserWarning: Could not import GWFrames, needed for rotations module\n",
      "  _warnings.warn(\"Could not import GWFrames, needed for rotations module\")\n",
      "/home1/md.shaikh/miniconda3/envs/eccimrct/lib/python3.8/site-packages/gwtools/__init__.py:11: UserWarning: Could not import rotations, decompositions, or fitfuncs. These are not needed by GWSurrogate.\n",
      "  _warnings.warn(\"Could not import rotations, decompositions, or fitfuncs. These are not needed by GWSurrogate.\")\n"
     ]
    }
   ],
   "source": [
    "from measureEccentricity.measureEccentricity import measure_eccentricity\n",
    "from measureEccentricity.load_data import load_waveform\n",
    "from measureEccentricity.plot_settings import use_fancy_plotsettings, colorsDict, figWidthsOneColDict\n",
    "import matplotlib.pyplot as plt\n",
    "import numpy as np"
   ]
  },
  {
   "cell_type": "code",
   "execution_count": 3,
   "id": "21b85f56-4e2c-46a2-a012-a9bebb95a8d9",
   "metadata": {},
   "outputs": [],
   "source": [
    "# We choose a waveform that has moderate eccentricity"
   ]
  },
  {
   "cell_type": "code",
   "execution_count": 4,
   "id": "67d3e4cb-dd95-4469-a79c-02daa6ed0b27",
   "metadata": {},
   "outputs": [],
   "source": [
    "filepath = \"../../data/ecc_waveforms/Non-Precessing/EOB/EccTest_q4.00_chi1z-0.60_chi2z-0.60_EOBecc0.3042436177_Momega00.010_meanAno1.571.h5\"\n",
    "filepath_zeroecc = \"../../data/ecc_waveforms/Non-Precessing/EOB/EccTest_q4.00_chi1z-0.60_chi2z-0.60_EOBecc0.0000000000_Momega00.002_meanAno1.571.h5\""
   ]
  },
  {
   "cell_type": "code",
   "execution_count": 5,
   "id": "179bdfda-00d1-49d9-8c4e-09a6e1154d1e",
   "metadata": {},
   "outputs": [],
   "source": [
    "waveform_kwargs = {\"filepath\": filepath,\n",
    "                   \"filepath_zero_ecc\": filepath_zeroecc,\n",
    "                   \"include_zero_ecc\": True}"
   ]
  },
  {
   "cell_type": "code",
   "execution_count": 6,
   "id": "c2929de0-f492-4b39-97ac-91ffbcf5ea28",
   "metadata": {},
   "outputs": [],
   "source": [
    "dataDict = load_waveform(\"EOB\", **waveform_kwargs)"
   ]
  },
  {
   "cell_type": "code",
   "execution_count": 7,
   "id": "e436e4fb-a046-4037-a521-9f479bbe1188",
   "metadata": {},
   "outputs": [],
   "source": [
    "tref_in = dataDict[\"t\"]"
   ]
  },
  {
   "cell_type": "code",
   "execution_count": 8,
   "id": "e0e5f171-56b7-4899-b066-c4d590b40f0a",
   "metadata": {},
   "outputs": [],
   "source": [
    "journal = \"APS\"\n",
    "use_fancy_plotsettings(journal=journal)"
   ]
  },
  {
   "cell_type": "code",
   "execution_count": 9,
   "id": "2b4d8d6b-af59-43b9-839e-fc67ab746777",
   "metadata": {},
   "outputs": [
    {
     "data": {
      "text/plain": [
       "Text(0, 0.5, '$\\\\omega_{22}$ [rad/$M$]')"
      ]
     },
     "execution_count": 9,
     "metadata": {},
     "output_type": "execute_result"
    },
    {
     "data": {
      "image/png": "[encoded data removed]",
      "text/plain": [
       "<Figure size 244.8x216 with 1 Axes>"
      ]
     },
     "metadata": {
      "needs_background": "light"
     },
     "output_type": "display_data"
    }
   ],
   "source": [
    "fig, ax = plt.subplots(figsize=(figWidthsOneColDict[journal], 3))\n",
    "method = \"ResidualAmplitude\"\n",
    "fref_in = 0.04/2/np.pi\n",
    "lstyles = [\"-\", \"--\", \":\"]\n",
    "labels = [\"Average between the extrema\", \"Orbital average at the extrema\", \"Quasi-circular frequency\"]\n",
    "lcs = [colorsDict[\"apastron\"], colorsDict[\"periastron\"], colorsDict[\"vline\"]]\n",
    "for idx, avg_method in enumerate([\"average_between_extrema\", \"orbital_average_at_extrema\", \"omega22_zeroecc\"]):\n",
    "    tref, ecc, meanAno, eccMethod = measure_eccentricity(fref_in=fref_in,\n",
    "                                                        dataDict=dataDict,\n",
    "                                                        method=method,\n",
    "                                                        return_ecc_method=True,\n",
    "                                                        extra_kwargs={\"omega22_averaging_method\": avg_method})\n",
    "    if idx == 0:\n",
    "        ax.plot(eccMethod.t, eccMethod.omega22, c=colorsDict[\"default\"])\n",
    "    ax.plot(eccMethod.t_for_omega22_average, eccMethod.omega22_average, label=labels[idx], c=lcs[idx], ls=lstyles[idx])   \n",
    "ax.legend(loc=\"upper left\", handlelength=1, labelspacing=0.1, borderaxespad=0.1)\n",
    "ax.set_xlim(eccMethod.t[0], 500)\n",
    "ax.set_ylim(0.01, 0.08)\n",
    "ax.set_title(fr\"$q={4:.1f}$, $\\chi_{{1z}}={-0.6:.1f}$, $\\chi_{{2z}}={-0.6:.1f}$, $e_{{\\mathrm{{EOB}}}}={0.3:.1f}$\", fontsize=9, va=\"center\")\n",
    "ax.set_xlabel(r\"$t$ [$M$]\")\n",
    "ax.set_ylabel(r\"$\\omega_{22}$ [rad/$M$]\")"
   ]
  },
  {
   "cell_type": "code",
   "execution_count": 10,
   "id": "9586ca0e-7dc2-422f-9e7c-26d935d704e6",
   "metadata": {},
   "outputs": [],
   "source": [
    "fig.subplots_adjust(left=0.17, bottom=0.13, right=0.98, top=0.94)\n",
    "fig.savefig(\"../figs/omega22_average.pdf\")"
   ]
  },
  {
   "cell_type": "code",
   "execution_count": 19,
   "id": "23f18fde-d52a-4768-a4e4-3ce386aff778",
   "metadata": {},
   "outputs": [
    {
     "data": {
      "text/plain": [
       "{'average_between_extrema': <bound method eccDefinition.compute_omega22_average_between_extrema of <measureEccentricity.eccDefinitionUsingAmplitude.eccDefinitionUsingAmplitude object at 0x7fabdad885b0>>,\n",
       " 'orbital_average_at_extrema': <bound method eccDefinition.compute_orbital_averaged_omega22_at_extrema of <measureEccentricity.eccDefinitionUsingAmplitude.eccDefinitionUsingAmplitude object at 0x7fabdad885b0>>,\n",
       " 'omega22_zeroecc': <bound method eccDefinition.compute_omega22_zeroecc of <measureEccentricity.eccDefinitionUsingAmplitude.eccDefinitionUsingAmplitude object at 0x7fabdad885b0>>}"
      ]
     },
     "execution_count": 19,
     "metadata": {},
     "output_type": "execute_result"
    }
   ],
   "source": [
    "eccMethod.get_availabe_omega22_averaging_methods()"
   ]
  },
  {
   "cell_type": "code",
   "execution_count": null,
   "id": "63d22320-9497-45ce-b230-94ffde135e38",
   "metadata": {},
   "outputs": [],
   "source": []
  }
 ],
 "metadata": {
  "kernelspec": {
   "display_name": "Python 3 (ipykernel)",
   "language": "python",
   "name": "python3"
  },
  "language_info": {
   "codemirror_mode": {
    "name": "ipython",
    "version": 3
   },
   "file_extension": ".py",
   "mimetype": "text/x-python",
   "name": "python",
   "nbconvert_exporter": "python",
   "pygments_lexer": "ipython3",
   "version": "3.8.12"
  }
 },
 "nbformat": 4,
 "nbformat_minor": 5
}
