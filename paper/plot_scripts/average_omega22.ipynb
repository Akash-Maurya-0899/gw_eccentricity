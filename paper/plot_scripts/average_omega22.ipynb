{
 "cells": [
  {
   "cell_type": "markdown",
   "id": "78c4be92-0409-4c7d-a9d4-c8d098b2772a",
   "metadata": {},
   "source": [
    "Plots to show average omega22"
   ]
  },
  {
   "cell_type": "code",
   "execution_count": 5,
   "id": "e44a31a5-f62c-480f-aa56-e115cdcda87e",
   "metadata": {},
   "outputs": [],
   "source": [
    "import sys\n",
    "sys.path.append(\"../../\")"
   ]
  },
  {
   "cell_type": "code",
   "execution_count": 6,
   "id": "81602348-8e35-4edd-82c2-f7130c62403d",
   "metadata": {},
   "outputs": [],
   "source": [
    "from measureEccentricity.measureEccentricity import measure_eccentricity\n",
    "from measureEccentricity.load_data import load_waveform\n",
    "from measureEccentricity.plot_settings import use_fancy_plotsettings, colorsDict, figWidthsOneColDict\n",
    "import matplotlib.pyplot as plt\n",
    "import numpy as np"
   ]
  },
  {
   "cell_type": "code",
   "execution_count": 7,
   "id": "21b85f56-4e2c-46a2-a012-a9bebb95a8d9",
   "metadata": {},
   "outputs": [],
   "source": [
    "# We choose a waveform that has moderate eccentricity"
   ]
  },
  {
   "cell_type": "code",
   "execution_count": 8,
   "id": "67d3e4cb-dd95-4469-a79c-02daa6ed0b27",
   "metadata": {},
   "outputs": [],
   "source": [
    "filepath = \"../../data/ecc_waveforms/Non-Precessing/EOB/EccTest_q4.00_chi1z-0.60_chi2z-0.60_EOBecc0.3042436177_Momega00.010_meanAno1.571.h5\"\n",
    "filepath_zeroecc = \"../../data/ecc_waveforms/Non-Precessing/EOB/EccTest_q4.00_chi1z-0.60_chi2z-0.60_EOBecc0.0000000000_Momega00.002_meanAno1.571.h5\""
   ]
  },
  {
   "cell_type": "code",
   "execution_count": 9,
   "id": "179bdfda-00d1-49d9-8c4e-09a6e1154d1e",
   "metadata": {},
   "outputs": [],
   "source": [
    "waveform_kwargs = {\"filepath\": filepath,\n",
    "                   \"filepath_zero_ecc\": filepath_zeroecc,\n",
    "                   \"include_zero_ecc\": True}"
   ]
  },
  {
   "cell_type": "code",
   "execution_count": 10,
   "id": "c2929de0-f492-4b39-97ac-91ffbcf5ea28",
   "metadata": {},
   "outputs": [],
   "source": [
    "dataDict = load_waveform(\"EOB\", **waveform_kwargs)"
   ]
  },
  {
   "cell_type": "code",
   "execution_count": 11,
   "id": "e436e4fb-a046-4037-a521-9f479bbe1188",
   "metadata": {},
   "outputs": [],
   "source": [
    "tref_in = dataDict[\"t\"]"
   ]
  },
  {
   "cell_type": "code",
   "execution_count": 12,
   "id": "e0e5f171-56b7-4899-b066-c4d590b40f0a",
   "metadata": {},
   "outputs": [],
   "source": [
    "journal = \"APS\"\n",
    "use_fancy_plotsettings(journal=journal)"
   ]
  },
  {
   "cell_type": "code",
   "execution_count": 14,
   "id": "859eb005-fbba-4381-9ed7-df5adc6e81dd",
   "metadata": {},
   "outputs": [
    {
     "data": {
      "text/plain": [
       "\u001b[0;31mSignature:\u001b[0m\n",
       "\u001b[0mmeasure_eccentricity\u001b[0m\u001b[0;34m(\u001b[0m\u001b[0;34m\u001b[0m\n",
       "\u001b[0;34m\u001b[0m    \u001b[0mtref_in\u001b[0m\u001b[0;34m=\u001b[0m\u001b[0;32mNone\u001b[0m\u001b[0;34m,\u001b[0m\u001b[0;34m\u001b[0m\n",
       "\u001b[0;34m\u001b[0m    \u001b[0mfref_in\u001b[0m\u001b[0;34m=\u001b[0m\u001b[0;32mNone\u001b[0m\u001b[0;34m,\u001b[0m\u001b[0;34m\u001b[0m\n",
       "\u001b[0;34m\u001b[0m    \u001b[0mdataDict\u001b[0m\u001b[0;34m=\u001b[0m\u001b[0;32mNone\u001b[0m\u001b[0;34m,\u001b[0m\u001b[0;34m\u001b[0m\n",
       "\u001b[0;34m\u001b[0m    \u001b[0mmethod\u001b[0m\u001b[0;34m=\u001b[0m\u001b[0;34m'Amplitude'\u001b[0m\u001b[0;34m,\u001b[0m\u001b[0;34m\u001b[0m\n",
       "\u001b[0;34m\u001b[0m    \u001b[0mreturn_ecc_method\u001b[0m\u001b[0;34m=\u001b[0m\u001b[0;32mFalse\u001b[0m\u001b[0;34m,\u001b[0m\u001b[0;34m\u001b[0m\n",
       "\u001b[0;34m\u001b[0m    \u001b[0mspline_kwargs\u001b[0m\u001b[0;34m=\u001b[0m\u001b[0;32mNone\u001b[0m\u001b[0;34m,\u001b[0m\u001b[0;34m\u001b[0m\n",
       "\u001b[0;34m\u001b[0m    \u001b[0mextra_kwargs\u001b[0m\u001b[0;34m=\u001b[0m\u001b[0;32mNone\u001b[0m\u001b[0;34m,\u001b[0m\u001b[0;34m\u001b[0m\n",
       "\u001b[0;34m\u001b[0m\u001b[0;34m)\u001b[0m\u001b[0;34m\u001b[0m\u001b[0;34m\u001b[0m\u001b[0m\n",
       "\u001b[0;31mDocstring:\u001b[0m\n",
       "Measure eccentricity and mean anomaly at reference time.\n",
       "\n",
       "parameters:\n",
       "----------\n",
       "tref_in:\n",
       "    Input reference time at which to measure eccentricity and mean anomaly.\n",
       "    Can be a single float or an array. NOTE: eccentricity/mean_ano are\n",
       "    returned on a different time array tref_out, described below.\n",
       "\n",
       "fref_in:\n",
       "    Input reference frequency at which to measure the eccentricity and\n",
       "    mean anomaly. It can be a single float or an array.\n",
       "    NOTE: eccentricity/mean anomaly are returned on a different freq\n",
       "    array fref_out, described below.\n",
       "\n",
       "    Given an fref_in, we find the corresponding tref_in such that,\n",
       "    omega22_average(tref_in) = 2 * pi * fref_in.\n",
       "    Here, omega22_average(t) is a monotonically increasing average\n",
       "    frequency that is computed from the instantaneous omega22(t).\n",
       "    Note that this is not a moving average; depending on which averaging\n",
       "    method is used (see the omega22_averaging_method option below),\n",
       "    it means slightly different things.\n",
       "\n",
       "    Currently, following options are implemented to calculate the\n",
       "    omega22_average\n",
       "    - \"average_between_extrema\": Mean of the omega22 given by the\n",
       "        spline through the peaks and the spline through the troughs.\n",
       "    - \"orbital_average_at_extrema\": A spline through the orbital\n",
       "        averaged omega22 evaluated at all available extrema.\n",
       "    - \"omega22_zeroecc\": omega22 of the zero eccentricity waveform\n",
       "    The default is \"average_between_extrema\". A method could be passed\n",
       "    through the \"extra_kwargs\" option with the key\n",
       "    \"omega22_averaging_method\".\n",
       "\n",
       "dataDict:\n",
       "    Dictionary containing waveform modes dict, time etc.\n",
       "    Should follow the format:\n",
       "        {\"t\": time, \"hlm\": modeDict, ...}\n",
       "        with modeDict = {(l1, m1): h_{l1, m1},\n",
       "                         (l2, m2): h_{l2, m2}, ...\n",
       "                        }.\n",
       "    Some methods may need extra data. For example, the ResidualAmplitude\n",
       "    method, requires \"t_zeroecc\" and \"hlm_zeroecc\" as well in dataDict.\n",
       "\n",
       "method:\n",
       "    Method to define eccentricity. See get_available_methods() for\n",
       "    available methods.\n",
       "\n",
       "return_ecc_method:\n",
       "    If true, returns the method object used to compute the eccentricity.\n",
       "\n",
       "\n",
       "spline_kwargs:\n",
       "    Dictionary of arguments to be passed to\n",
       "    scipy.interpolate.InterpolatedUnivariateSpline.\n",
       "\n",
       "extra_kwargs: Any extra kwargs to be passed. Allowed kwargs are\n",
       "    num_orbits_to_exclude_before_merger:\n",
       "        Can be None or a non negative real number.\n",
       "        If None, the full waveform data (even post-merger) is used to\n",
       "        measure eccentricity, but this might cause issues when\n",
       "        interpolating trough extrema.\n",
       "        For a non negative real num_orbits_to_exclude_before_merger, that\n",
       "        many orbits prior to merger are excluded when finding extrema.\n",
       "        Default: 1.\n",
       "    extrema_finding_kwargs:\n",
       "        Dictionary of arguments to be passed to the peak finding function,\n",
       "        where it will be (typically) passed to scipy.signal.find_peaks.\n",
       "    debug:\n",
       "        Run additional sanity checks if debug is True.\n",
       "        Default: True.\n",
       "    omega22_averaging_method:\n",
       "        Methods for getting average omega22. For more see fref_in.\n",
       "        Default is \"average_between_extrema\".\n",
       "    treat_mid_points_between_peaks_as_troughs:\n",
       "        If True, instead of trying to find local minima in the\n",
       "        data, we simply find the midpoints between local maxima\n",
       "        and treat them as apastron locations. This is helpful for\n",
       "        eccentricities ~1 where periastrons are easy to find but\n",
       "        apastrons are not.\n",
       "        Default: False\n",
       "\n",
       "returns:\n",
       "--------\n",
       "tref_out/fref_out:\n",
       "    tref_out is the output reference time where eccentricity and mean\n",
       "    anomaly are measured and fref_out is the output reference frequency\n",
       "    where eccentricity and mean anomaly are measured.\n",
       "\n",
       "    NOTE: Only of these is returned depending on whether tref_in or\n",
       "    fref_in is provided. If tref_in is provided then tref_out is returned\n",
       "    and if fref_in provided then fref_out is returned.\n",
       "\n",
       "    tref_out is set as tref_out = tref_in[tref_in >= tmin && tref_in < tmax],\n",
       "    where tmax = min(t_peaks[-1], t_troughs[-1]),\n",
       "    and tmin = max(t_peaks[0], t_troughs[0]). This is necessary because\n",
       "    eccentricity is computed using interpolants of omega22_peaks and\n",
       "    omega22_troughs. The above cutoffs ensure that we are not\n",
       "    extrapolating in omega22_peaks/omega22_troughs.\n",
       "    In addition, if num_orbits_to_exclude_before_merger in extra_kwargs\n",
       "    is not None, only the data up to that many orbits before merger is\n",
       "    included when finding the t_peaks/t_troughs. This helps avoid\n",
       "    unphysical features like nonmonotonic eccentricity near the merger.\n",
       "\n",
       "    fref_out is set as fref_out = fref_in[fref_in >= fmin && fref_in < fmax].\n",
       "    where fmin is the frequency at tmin, and fmax is the frequency at tmax.\n",
       "    tmin/tmax are defined above.\n",
       "\n",
       "ecc_ref:\n",
       "    Measured eccentricity at t_ref. Same type as t_ref.\n",
       "\n",
       "mean_ano_ref:\n",
       "    Measured mean anomaly at t_ref. Same type as t_ref.\n",
       "\n",
       "ecc_method:\n",
       "    Method object used to compute eccentricity. Only returne if\n",
       "    return_ecc_method is True.\n",
       "\u001b[0;31mFile:\u001b[0m      ~/Eccentricity/measureEccentricity/measureEccentricity.py\n",
       "\u001b[0;31mType:\u001b[0m      function\n"
      ]
     },
     "metadata": {},
     "output_type": "display_data"
    }
   ],
   "source": [
    "?measure_eccentricity"
   ]
  },
  {
   "cell_type": "code",
   "execution_count": 46,
   "id": "2b4d8d6b-af59-43b9-839e-fc67ab746777",
   "metadata": {},
   "outputs": [
    {
     "data": {
      "text/plain": [
       "Text(0, 0.5, '$\\\\omega_{22}$ [rad/$M$]')"
      ]
     },
     "execution_count": 46,
     "metadata": {},
     "output_type": "execute_result"
    },
    {
     "data": {
      "image/png": "[encoded data removed]",
      "text/plain": [
       "<Figure size 244.8x216 with 1 Axes>"
      ]
     },
     "metadata": {
      "needs_background": "light"
     },
     "output_type": "display_data"
    }
   ],
   "source": [
    "fig, ax = plt.subplots(figsize=(figWidthsOneColDict[journal], 3))\n",
    "method = \"ResidualAmplitude\"\n",
    "fref_in = 0.04/2/np.pi\n",
    "lstyles = [\"-\", \"--\", \":\"]\n",
    "lcs = [colorsDict[\"apastron\"], colorsDict[\"periastron\"], colorsDict[\"vline\"]]\n",
    "for idx, avg_method in enumerate([\"average_between_extrema\", \"orbital_average_at_extrema\", \"omega22_zeroecc\"]):\n",
    "    tref, ecc, meanAno, eccMethod = measure_eccentricity(fref_in=fref_in,\n",
    "                                                        dataDict=dataDict,\n",
    "                                                        method=method,\n",
    "                                                        return_ecc_method=True,\n",
    "                                                        extra_kwargs={\"omega22_averaging_method\": avg_method})\n",
    "    if idx == 0:\n",
    "        ax.plot(eccMethod.t, eccMethod.omega22, c=colorsDict[\"default\"])\n",
    "    ax.plot(eccMethod.t_for_omega22_average, eccMethod.omega22_average, label=avg_method, c=lcs[idx], ls=lstyles[idx])   \n",
    "ax.legend(loc=\"upper left\", handlelength=1, labelspacing=0.1, borderaxespad=0.1)\n",
    "ax.set_xlim(eccMethod.t[0], 500)\n",
    "ax.set_ylim(0.01, 0.1)\n",
    "ax.set_title(fr\"$q={4:.1f}$, $\\chi_{{1z}}={-0.6:.1f}$, $\\chi_{{2z}}={-0.6:.1f}$, $e_{{\\mathrm{{EOB}}}}={0.3:.1f}$\", fontsize=10, va=\"center\")\n",
    "ax.set_xlabel(r\"$t$ [$M$]\")\n",
    "ax.set_ylabel(r\"$\\omega_{22}$ [rad/$M$]\")"
   ]
  },
  {
   "cell_type": "code",
   "execution_count": 47,
   "id": "9586ca0e-7dc2-422f-9e7c-26d935d704e6",
   "metadata": {},
   "outputs": [],
   "source": [
    "fig.subplots_adjust(left=0.17, bottom=0.13, right=0.98, top=0.94)\n",
    "fig.savefig(\"../figs/omega22_average.pdf\")"
   ]
  },
  {
   "cell_type": "code",
   "execution_count": 19,
   "id": "23f18fde-d52a-4768-a4e4-3ce386aff778",
   "metadata": {},
   "outputs": [
    {
     "data": {
      "text/plain": [
       "{'average_between_extrema': <bound method eccDefinition.compute_omega22_average_between_extrema of <measureEccentricity.eccDefinitionUsingAmplitude.eccDefinitionUsingAmplitude object at 0x7fabdad885b0>>,\n",
       " 'orbital_average_at_extrema': <bound method eccDefinition.compute_orbital_averaged_omega22_at_extrema of <measureEccentricity.eccDefinitionUsingAmplitude.eccDefinitionUsingAmplitude object at 0x7fabdad885b0>>,\n",
       " 'omega22_zeroecc': <bound method eccDefinition.compute_omega22_zeroecc of <measureEccentricity.eccDefinitionUsingAmplitude.eccDefinitionUsingAmplitude object at 0x7fabdad885b0>>}"
      ]
     },
     "execution_count": 19,
     "metadata": {},
     "output_type": "execute_result"
    }
   ],
   "source": [
    "eccMethod.get_availabe_omega22_averaging_methods()"
   ]
  },
  {
   "cell_type": "code",
   "execution_count": null,
   "id": "63d22320-9497-45ce-b230-94ffde135e38",
   "metadata": {},
   "outputs": [],
   "source": []
  }
 ],
 "metadata": {
  "kernelspec": {
   "display_name": "Python 3 (ipykernel)",
   "language": "python",
   "name": "python3"
  },
  "language_info": {
   "codemirror_mode": {
    "name": "ipython",
    "version": 3
   },
   "file_extension": ".py",
   "mimetype": "text/x-python",
   "name": "python",
   "nbconvert_exporter": "python",
   "pygments_lexer": "ipython3",
   "version": "3.8.12"
  }
 },
 "nbformat": 4,
 "nbformat_minor": 5
}
