{
 "cells": [
  {
   "cell_type": "markdown",
   "id": "78c4be92-0409-4c7d-a9d4-c8d098b2772a",
   "metadata": {},
   "source": [
    "Plots to explain the glitches in robustness test of ResidualAmplitude using EOB waveforms"
   ]
  },
  {
   "cell_type": "code",
   "execution_count": 1,
   "id": "e44a31a5-f62c-480f-aa56-e115cdcda87e",
   "metadata": {},
   "outputs": [],
   "source": [
    "import sys\n",
    "sys.path.append(\"../../\")"
   ]
  },
  {
   "cell_type": "code",
   "execution_count": 2,
   "id": "81602348-8e35-4edd-82c2-f7130c62403d",
   "metadata": {},
   "outputs": [
    {
     "name": "stderr",
     "output_type": "stream",
     "text": [
      "/home1/md.shaikh/miniconda3/envs/eccimrct/lib/python3.8/site-packages/gwtools/rotations.py:63: UserWarning: Could not import GWFrames, needed for rotations module\n",
      "  _warnings.warn(\"Could not import GWFrames, needed for rotations module\")\n",
      "/home1/md.shaikh/miniconda3/envs/eccimrct/lib/python3.8/site-packages/gwtools/__init__.py:11: UserWarning: Could not import rotations, decompositions, or fitfuncs. These are not needed by GWSurrogate.\n",
      "  _warnings.warn(\"Could not import rotations, decompositions, or fitfuncs. These are not needed by GWSurrogate.\")\n"
     ]
    }
   ],
   "source": [
    "from measureEccentricity.measureEccentricity import measure_eccentricity\n",
    "from measureEccentricity.load_data import load_waveform\n",
    "from measureEccentricity.plot_settings import use_fancy_plotsettings, colorsDict, figWidthsOneColDict\n",
    "import matplotlib.pyplot as plt\n",
    "import numpy as np"
   ]
  },
  {
   "cell_type": "code",
   "execution_count": 3,
   "id": "21b85f56-4e2c-46a2-a012-a9bebb95a8d9",
   "metadata": {},
   "outputs": [],
   "source": [
    "# We choose a waveform that has very low eccentricity"
   ]
  },
  {
   "cell_type": "code",
   "execution_count": 4,
   "id": "67d3e4cb-dd95-4469-a79c-02daa6ed0b27",
   "metadata": {},
   "outputs": [],
   "source": [
    "filepath = \"../../data/ecc_waveforms/Non-Precessing/EOB/EccTest_q4.00_chi1z-0.60_chi2z-0.60_EOBecc0.0000107150_Momega00.010.h5\"\n",
    "filepath_zeroecc = \"../../data/ecc_waveforms/Non-Precessing/EOB/EccTest_q4.00_chi1z-0.60_chi2z-0.60_EOBecc0.0000000000_Momega00.002.h5\""
   ]
  },
  {
   "cell_type": "code",
   "execution_count": 5,
   "id": "179bdfda-00d1-49d9-8c4e-09a6e1154d1e",
   "metadata": {},
   "outputs": [],
   "source": [
    "waveform_kwargs = {\"filepath\": filepath,\n",
    "                   \"filepath_zero_ecc\": filepath_zeroecc,\n",
    "                   \"include_zero_ecc\": True}"
   ]
  },
  {
   "cell_type": "code",
   "execution_count": 6,
   "id": "c2929de0-f492-4b39-97ac-91ffbcf5ea28",
   "metadata": {},
   "outputs": [],
   "source": [
    "dataDict = load_waveform(\"EOB\", **waveform_kwargs)"
   ]
  },
  {
   "cell_type": "code",
   "execution_count": 7,
   "id": "e436e4fb-a046-4037-a521-9f479bbe1188",
   "metadata": {},
   "outputs": [],
   "source": [
    "tref_in = dataDict[\"t\"]"
   ]
  },
  {
   "cell_type": "code",
   "execution_count": 8,
   "id": "e0e5f171-56b7-4899-b066-c4d590b40f0a",
   "metadata": {},
   "outputs": [],
   "source": [
    "journal = \"APS\"\n",
    "use_fancy_plotsettings(journal=journal)"
   ]
  },
  {
   "cell_type": "code",
   "execution_count": 51,
   "id": "2b4d8d6b-af59-43b9-839e-fc67ab746777",
   "metadata": {},
   "outputs": [
    {
     "name": "stderr",
     "output_type": "stream",
     "text": [
      "/home1/md.shaikh/Eccentricity/paper/plot_scripts/../../measureEccentricity/eccDefinition.py:421: UserWarning: Ecc(t) is non monotonic.\n",
      "  warnings.warn(\"Ecc(t) is non monotonic.\")\n"
     ]
    },
    {
     "data": {
      "text/plain": [
       "[<matplotlib.axis.XTick at 0x7f567cdd67f0>,\n",
       " <matplotlib.axis.XTick at 0x7f567cdd6700>,\n",
       " <matplotlib.axis.XTick at 0x7f567d48c130>,\n",
       " <matplotlib.axis.XTick at 0x7f567cda75b0>,\n",
       " <matplotlib.axis.XTick at 0x7f567cda7d00>,\n",
       " <matplotlib.axis.XTick at 0x7f567cdac490>]"
      ]
     },
     "execution_count": 51,
     "metadata": {},
     "output_type": "execute_result"
    },
    {
     "data": {
      "image/png": "[encoded data removed]",
      "text/plain": [
       "<Figure size 244.8x216 with 2 Axes>"
      ]
     },
     "metadata": {
      "needs_background": "light"
     },
     "output_type": "display_data"
    }
   ],
   "source": [
    "fig, ax = plt.subplots(nrows=2, figsize=(figWidthsOneColDict[journal], 3), sharex=True)\n",
    "method = \"ResidualAmplitude\"\n",
    "tref, ecc, meanAno, eccMethod = measure_eccentricity(tref_in=tref_in,\n",
    "                                                    dataDict=dataDict,\n",
    "                                                    method=method,\n",
    "                                                    return_ecc_method=True)\n",
    "eccMethod.plot_measured_ecc(fig, ax[0])\n",
    "ax[0].set_ylim(3e-6, 1.2e-5)\n",
    "ax[0].set_xlim(-20000, -5000)\n",
    "ax[0].set_xlabel(\"\")\n",
    "# ax[0].axvline(-9500, c=colorsDict[\"vline\"], ls=\"--\")\n",
    "ax[0].grid(False)\n",
    "\n",
    "ax[1].plot(eccMethod.t, eccMethod.res_omega22, c=colorsDict[\"default\"])\n",
    "# ax[1].plot(eccMethod.t[eccMethod.peaks_location], eccMethod.res_omega22[eccMethod.peaks_location],\n",
    "#            label=\"Pericenter\", ls=\"\", marker=\".\", c=colorsDict[\"periastron\"])\n",
    "# ax[1].plot(eccMethod.t[eccMethod.troughs_location], eccMethod.res_omega22[eccMethod.troughs_location],\n",
    "#            label=\"Apocenter\", ls=\"\", marker=\".\", c=colorsDict[\"apastron\"])\n",
    "ax[1].set_ylabel(r\"$\\Delta\\omega_{22}$ [rad/$M$]\")\n",
    "ax[1].set_xlabel(r\"$t [M]$\")\n",
    "# ax[1].set_ylim(-8e-7, 8e-7)\n",
    "ax[1].set_ylim(-5.45e-7, 5.45e-7)\n",
    "ax[1].set_xlim(-20000, -5000)\n",
    "# ax[1].axvline(-9500, c=colorsDict[\"vline\"], ls=\"--\")\n",
    "# ax[1].legend(loc=\"upper right\", handlelength=0.01, labelspacing=0.01, borderaxespad=0.00, columnspacing=1, frameon=False, ncol=1)\n",
    "xticks = np.arange(-20000, -4000, 3000)\n",
    "ax[1].set_xticks(xticks)\n",
    "#ax.set_xlim(right=-2000)\n",
    "#ax.set_ylim(0.019, 0.045)\n",
    "#ax.set_xlabel(r\"$t$ [$M$]\")\n",
    "#ax.set_ylabel(r\"$\\omega_{22}$ [rad/$M$]\")"
   ]
  },
  {
   "cell_type": "code",
   "execution_count": 54,
   "id": "9586ca0e-7dc2-422f-9e7c-26d935d704e6",
   "metadata": {},
   "outputs": [],
   "source": [
    "fig.subplots_adjust(left=0.13, bottom=0.13, right=0.94, top=0.94)\n",
    "fig.savefig(\"../figs/res_amp_glitches.pdf\")"
   ]
  },
  {
   "cell_type": "code",
   "execution_count": null,
   "id": "23f18fde-d52a-4768-a4e4-3ce386aff778",
   "metadata": {},
   "outputs": [],
   "source": []
  }
 ],
 "metadata": {
  "kernelspec": {
   "display_name": "Python 3 (ipykernel)",
   "language": "python",
   "name": "python3"
  },
  "language_info": {
   "codemirror_mode": {
    "name": "ipython",
    "version": 3
   },
   "file_extension": ".py",
   "mimetype": "text/x-python",
   "name": "python",
   "nbconvert_exporter": "python",
   "pygments_lexer": "ipython3",
   "version": "3.8.12"
  }
 },
 "nbformat": 4,
 "nbformat_minor": 5
}
