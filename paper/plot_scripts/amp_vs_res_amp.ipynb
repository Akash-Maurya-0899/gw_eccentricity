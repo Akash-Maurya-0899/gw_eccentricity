{
 "cells": [
  {
   "cell_type": "markdown",
   "id": "78c4be92-0409-4c7d-a9d4-c8d098b2772a",
   "metadata": {},
   "source": [
    "Plots to show robustness of ResidualAmplitude vs Amplitude in detecting peaks"
   ]
  },
  {
   "cell_type": "code",
   "execution_count": 1,
   "id": "e44a31a5-f62c-480f-aa56-e115cdcda87e",
   "metadata": {},
   "outputs": [],
   "source": [
    "import sys\n",
    "sys.path.append(\"../../\")"
   ]
  },
  {
   "cell_type": "code",
   "execution_count": 30,
   "id": "81602348-8e35-4edd-82c2-f7130c62403d",
   "metadata": {},
   "outputs": [],
   "source": [
    "from measureEccentricity.measureEccentricity import measure_eccentricity\n",
    "from measureEccentricity.load_data import load_waveform\n",
    "from measureEccentricity.plot_settings import use_fancy_plotsettings, colorsDict, figWidthsOneColDict\n",
    "import matplotlib.pyplot as plt\n",
    "import numpy as np"
   ]
  },
  {
   "cell_type": "code",
   "execution_count": 20,
   "id": "21b85f56-4e2c-46a2-a012-a9bebb95a8d9",
   "metadata": {},
   "outputs": [],
   "source": [
    "# We choose a waveform that has eccentricity"
   ]
  },
  {
   "cell_type": "code",
   "execution_count": 24,
   "id": "67d3e4cb-dd95-4469-a79c-02daa6ed0b27",
   "metadata": {},
   "outputs": [],
   "source": [
    "filepath = \"../../data/ecc_waveforms/Non-Precessing/EOB/EccTest_q4.00_chi1z-0.60_chi2z-0.60_EOBecc0.0011481056_Momega00.010.h5\"\n",
    "filepath_zeroecc = \"../../data/ecc_waveforms/Non-Precessing/EOB/EccTest_q4.00_chi1z-0.60_chi2z-0.60_EOBecc0.0000000000_Momega00.002.h5\""
   ]
  },
  {
   "cell_type": "code",
   "execution_count": 25,
   "id": "179bdfda-00d1-49d9-8c4e-09a6e1154d1e",
   "metadata": {},
   "outputs": [],
   "source": [
    "waveform_kwargs = {\"filepath\": filepath,\n",
    "                   \"filepath_zero_ecc\": filepath_zeroecc,\n",
    "                   \"include_zero_ecc\": True}"
   ]
  },
  {
   "cell_type": "code",
   "execution_count": 26,
   "id": "c2929de0-f492-4b39-97ac-91ffbcf5ea28",
   "metadata": {},
   "outputs": [],
   "source": [
    "dataDict = load_waveform(\"EOB\", **waveform_kwargs)"
   ]
  },
  {
   "cell_type": "code",
   "execution_count": 27,
   "id": "e436e4fb-a046-4037-a521-9f479bbe1188",
   "metadata": {},
   "outputs": [],
   "source": [
    "tref_in = dataDict[\"t\"]"
   ]
  },
  {
   "cell_type": "code",
   "execution_count": 28,
   "id": "e0e5f171-56b7-4899-b066-c4d590b40f0a",
   "metadata": {},
   "outputs": [],
   "source": [
    "journal = \"APS\"\n",
    "use_fancy_plotsettings(journal=journal)"
   ]
  },
  {
   "cell_type": "code",
   "execution_count": 69,
   "id": "d9251df2-ae02-45bd-a5b3-ab9111036d38",
   "metadata": {},
   "outputs": [],
   "source": [
    "markers = {\"Amplitude\": \".\",\n",
    "          \"ResidualAmplitude\": \".\"}"
   ]
  },
  {
   "cell_type": "code",
   "execution_count": 133,
   "id": "2b4d8d6b-af59-43b9-839e-fc67ab746777",
   "metadata": {},
   "outputs": [
    {
     "name": "stderr",
     "output_type": "stream",
     "text": [
      "/home1/md.shaikh/Eccentricity/paper/plot_scripts/../../measureEccentricity/eccDefinition.py:421: UserWarning: Ecc(t) is non monotonic.\n",
      "  warnings.warn(\"Ecc(t) is non monotonic.\")\n"
     ]
    },
    {
     "data": {
      "text/plain": [
       "(<matplotlib.patches.Rectangle at 0x7f08152c6d60>,\n",
       " (<matplotlib.patches.ConnectionPatch at 0x7f0814c710d0>,\n",
       "  <matplotlib.patches.ConnectionPatch at 0x7f0814c71430>,\n",
       "  <matplotlib.patches.ConnectionPatch at 0x7f0814c717c0>,\n",
       "  <matplotlib.patches.ConnectionPatch at 0x7f0814c71a60>))"
      ]
     },
     "execution_count": 133,
     "metadata": {},
     "output_type": "execute_result"
    },
    {
     "data": {
      "image/png": "[encoded data removed]",
      "text/plain": [
       "<Figure size 244.8x216 with 1 Axes>"
      ]
     },
     "metadata": {
      "needs_background": "light"
     },
     "output_type": "display_data"
    }
   ],
   "source": [
    "fig, ax = plt.subplots(figsize=(figWidthsOneColDict[journal], 3))\n",
    "axins = ax.inset_axes([0.14, 0.58, 0.6, 0.4])\n",
    "for method in [\"ResidualAmplitude\", \"Amplitude\"]:\n",
    "    tref, ecc, meanAno, eccMethod = measure_eccentricity(tref_in=tref_in,\n",
    "                                                        dataDict=dataDict,\n",
    "                                                        method=method,\n",
    "                                                        return_ecc_method=True)\n",
    "    ax.plot(eccMethod.t[eccMethod.peaks_location], eccMethod.omega22[eccMethod.peaks_location], label=method, mfc=\"none\", marker=markers[method], ls=\"\")\n",
    "    axins.plot(eccMethod.t[eccMethod.peaks_location], eccMethod.omega22[eccMethod.peaks_location], mfc=\"none\", marker=markers[method], ls=\"\")\n",
    "ax.plot(eccMethod.t, eccMethod.omega22)\n",
    "ax.legend(loc=\"lower right\", handlelength=1, labelspacing=0.1, borderaxespad=0.1)\n",
    "ax.set_xlim(right=-2000)\n",
    "ax.set_ylim(0.019, 0.045)\n",
    "ax.set_xlabel(r\"$t$ [$M$]\")\n",
    "ax.set_ylabel(r\"$\\omega_{22}$ [rad/$M$]\")\n",
    "\n",
    "axins.plot(eccMethod.t, eccMethod.omega22)\n",
    "axins.set_xlim(left=-22000, right=-16000)\n",
    "axins.set_ylim(0.020, 0.0225)\n",
    "ax.indicate_inset_zoom(axins, edgecolor=colorsDict[\"apastron\"])"
   ]
  },
  {
   "cell_type": "code",
   "execution_count": 134,
   "id": "9586ca0e-7dc2-422f-9e7c-26d935d704e6",
   "metadata": {},
   "outputs": [],
   "source": [
    "fig.subplots_adjust(left=0.17, bottom=0.13, right=0.98, top=0.98)\n",
    "fig.savefig(\"../figs/amp_vs_res_amp.pdf\")"
   ]
  },
  {
   "cell_type": "code",
   "execution_count": null,
   "id": "23f18fde-d52a-4768-a4e4-3ce386aff778",
   "metadata": {},
   "outputs": [],
   "source": []
  }
 ],
 "metadata": {
  "kernelspec": {
   "display_name": "Python 3 (ipykernel)",
   "language": "python",
   "name": "python3"
  },
  "language_info": {
   "codemirror_mode": {
    "name": "ipython",
    "version": 3
   },
   "file_extension": ".py",
   "mimetype": "text/x-python",
   "name": "python",
   "nbconvert_exporter": "python",
   "pygments_lexer": "ipython3",
   "version": "3.8.12"
  }
 },
 "nbformat": 4,
 "nbformat_minor": 5
}
