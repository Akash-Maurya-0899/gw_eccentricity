{
 "cells": [
  {
   "cell_type": "markdown",
   "id": "78c4be92-0409-4c7d-a9d4-c8d098b2772a",
   "metadata": {},
   "source": [
    "Plots to show how the methods work for highly eccentric seob waveforms"
   ]
  },
  {
   "cell_type": "code",
   "execution_count": 1,
   "id": "e44a31a5-f62c-480f-aa56-e115cdcda87e",
   "metadata": {},
   "outputs": [],
   "source": [
    "import sys\n",
    "sys.path.append(\"../../\")\n",
    "%load_ext autoreload\n",
    "%autoreload 2"
   ]
  },
  {
   "cell_type": "code",
   "execution_count": 2,
   "id": "81602348-8e35-4edd-82c2-f7130c62403d",
   "metadata": {},
   "outputs": [
    {
     "name": "stderr",
     "output_type": "stream",
     "text": [
      "/home1/md.shaikh/miniconda3/envs/teobJun22/lib/python3.8/site-packages/gwtools/rotations.py:63: UserWarning: Could not import GWFrames, needed for rotations module\n",
      "  _warnings.warn(\"Could not import GWFrames, needed for rotations module\")\n",
      "/home1/md.shaikh/miniconda3/envs/teobJun22/lib/python3.8/site-packages/gwtools/__init__.py:11: UserWarning: Could not import rotations, decompositions, or fitfuncs. These are not needed by GWSurrogate.\n",
      "  _warnings.warn(\"Could not import rotations, decompositions, or fitfuncs. These are not needed by GWSurrogate.\")\n"
     ]
    }
   ],
   "source": [
    "from measureEccentricity.measureEccentricity import measure_eccentricity\n",
    "from measureEccentricity.load_data import load_waveform\n",
    "from measureEccentricity.plot_settings import use_fancy_plotsettings, colorsDict, figWidthsOneColDict, lstyles, lwidths\n",
    "import matplotlib.pyplot as plt\n",
    "import numpy as np\n",
    "from measureEccentricity.utils import get_peak_via_quadratic_fit\n",
    "import matplotlib as mpl\n",
    "import warnings"
   ]
  },
  {
   "cell_type": "code",
   "execution_count": 3,
   "id": "9c111363-91af-40ec-8ec9-670957f718f7",
   "metadata": {},
   "outputs": [],
   "source": [
    "available_param_sets = {\n",
    "    \"1\": [1, 0, 0],\n",
    "    \"2\": [2, 0.5, 0.5],\n",
    "    \"3\": [4, -0.6, -0.6],\n",
    "    \"4\": [6, 0.4, -0.4]}"
   ]
  },
  {
   "cell_type": "markdown",
   "id": "9b6bada3-475a-4a41-9db9-5908abe1244d",
   "metadata": {},
   "source": [
    "### Create TEOBResumS waveforms"
   ]
  },
  {
   "cell_type": "code",
   "execution_count": 4,
   "id": "af0e12b5-4351-4d4c-aa22-5b9c27642638",
   "metadata": {},
   "outputs": [],
   "source": [
    "import lalsimulation as lalsim\n",
    "import lal"
   ]
  },
  {
   "cell_type": "code",
   "execution_count": 5,
   "id": "02c33a88-7e01-487c-b54e-f67b721700fd",
   "metadata": {},
   "outputs": [],
   "source": [
    "sys.path.append(\"/home1/md.shaikh/teobJun22/Python/\")\n",
    "import EOBRun_module"
   ]
  },
  {
   "cell_type": "code",
   "execution_count": 6,
   "id": "aeb61108-c7c2-40c9-a59b-83f6b6c2623e",
   "metadata": {},
   "outputs": [],
   "source": [
    "def generate_teob_22_mode(ecc=0.01,\n",
    "                          q=1.0,\n",
    "                          chi1=0.0,\n",
    "                          chi2=0.0,\n",
    "                          M=50.0,\n",
    "                          srate_interp=4096,\n",
    "                          domain=0, # for time domain\n",
    "                          arg_out=1, # get hlm also returned\n",
    "                          use_mode=[1], # use 22 mode\n",
    "                          output_lm=[1], # get 22 mode only\n",
    "                          use_geometric_units=1, # get geometric units\n",
    "                          initial_frequency=0.01 # initial frequency in geometric units\n",
    "                         ):\n",
    "    pars = {\n",
    "    'M'                  : M,\n",
    "    'q'                  : q,\n",
    "    'chi1'               : chi1,\n",
    "    'chi2'               : chi2,\n",
    "    'Lambda1'            : 0.,\n",
    "    'Lambda2'            : 0.,     \n",
    "    'domain'             : domain,      #Set 1 for FD. Default = 0\n",
    "    'arg_out'            : arg_out,      #Output hlm/hflm. Default = 0\n",
    "    'use_mode_lm'        : use_mode,    #List of modes to use/output through EOBRunPy\n",
    "    'output_lm'          : output_lm,    #List of modes to print on file\n",
    "    'srate_interp'       : srate_interp,  #srate at which to interpolate. Default = 4096.\n",
    "    'use_geometric_units': use_geometric_units,      #output quantities in geometric units. Default = 1\n",
    "    'df'                 : 0.01,   #df for FD interpolation\n",
    "    'initial_frequency'  : initial_frequency,     #in Hz if use_geometric_units = 0, else in geometric units\n",
    "    'interp_uniform_grid': 1,      #interpolate mode by mode on a uniform grid. Default = 0 (no interpolation)\n",
    "    'ecc'                : ecc,     #Eccentricity. Default = 0.\n",
    "    'ecc_freq'           : 2,      #Use periastron (0), average (1) or apastron (2) frequency for initial condition computation. Default = 1\n",
    "    }\n",
    "    t, hp, hcm, hlm, dyn = EOBRun_module.EOBRunPy(pars)\n",
    "    amp22 = hlm[\"1\"][0]\n",
    "    phase22 = hlm[\"1\"][1]\n",
    "    \n",
    "    t = t - get_peak_via_quadratic_fit(t, amp22)[0]\n",
    "    \n",
    "    data = {\"t\": t, \"hlm\": {(2, 2): amp22 * np.exp(- 1j * phase22)}}\n",
    "    \n",
    "    # add zero ecc data    \n",
    "    pars.update({\"ecc\": 1e-10})\n",
    "    if ecc >= 1e-1:\n",
    "        pars.update({\"initial_frequency\": 0.002})\n",
    "    t, hp, hcm, hlm, dyn = EOBRun_module.EOBRunPy(pars)\n",
    "    amp22 = hlm[\"1\"][0]\n",
    "    phase22 = hlm[\"1\"][1]\n",
    "    \n",
    "    t = t - get_peak_via_quadratic_fit(t, amp22)[0]\n",
    "    num = 1\n",
    "    while t[0] > (data[\"t\"][0] - 1):\n",
    "        pars.update({\"ecc\": 1e-10, \"initial_frequency\": pars[\"initial_frequency\"] * 0.9})\n",
    "        t, hp, hcm, hlm, dyn = EOBRun_module.EOBRunPy(pars)\n",
    "        amp22 = hlm[\"1\"][0]\n",
    "        phase22 = hlm[\"1\"][1]\n",
    "    \n",
    "        t = t - get_peak_via_quadratic_fit(t, amp22)[0]\n",
    "        num += 1\n",
    "    \n",
    "    if num >= 2:\n",
    "        warnings.warn(f\"Too many tries, number of tries {num}\")\n",
    "    \n",
    "    start = np.argmin(np.abs(t - (data[\"t\"][0] - 1)))\n",
    "    \n",
    "    data.update({\"t_zeroecc\": t[start:], \"hlm_zeroecc\": {(2, 2): amp22[start:] * np.exp(- 1j * phase22[start:])}})\n",
    "    \n",
    "    return data"
   ]
  },
  {
   "cell_type": "code",
   "execution_count": 7,
   "id": "a35156fb-b9dc-47b6-bc3f-4fe121520789",
   "metadata": {},
   "outputs": [
    {
     "data": {
      "text/plain": [
       "<matplotlib.legend.Legend at 0x7f3fb33cdd00>"
      ]
     },
     "execution_count": 7,
     "metadata": {},
     "output_type": "execute_result"
    },
    {
     "data": {
      "image/png": "[encoded data removed]",
      "text/plain": [
       "<Figure size 432x288 with 1 Axes>"
      ]
     },
     "metadata": {
      "needs_background": "light"
     },
     "output_type": "display_data"
    }
   ],
   "source": [
    "ecc = 9e-1\n",
    "dataDict = generate_teob_22_mode(ecc=ecc, initial_frequency=0.00005)\n",
    "plt.plot(dataDict[\"t\"], np.abs(dataDict[\"hlm\"][(2, 2)]), c=\"C0\", label=f\"e={ecc:.10f}\")\n",
    "plt.plot(dataDict[\"t_zeroecc\"], np.abs(dataDict[\"hlm_zeroecc\"][(2, 2)]), c=\"C1\", label=\"e=0\", ls=\"--\")\n",
    "plt.legend()"
   ]
  },
  {
   "cell_type": "code",
   "execution_count": 8,
   "id": "2367484c-3f3d-4d03-86f2-385dd8d5017b",
   "metadata": {},
   "outputs": [
    {
     "data": {
      "text/plain": [
       "array([-17313.10385072, -17312.60385072, -17312.10385072, ...,\n",
       "          256.39614928,    256.89614928,    257.39614928])"
      ]
     },
     "execution_count": 8,
     "metadata": {},
     "output_type": "execute_result"
    }
   ],
   "source": [
    "dataDict[\"t_zeroecc\"]"
   ]
  },
  {
   "cell_type": "code",
   "execution_count": 9,
   "id": "a273c22e-e1ab-49ee-be87-65485007d34c",
   "metadata": {},
   "outputs": [],
   "source": [
    "ecc = [1e-8, 1e-7, 1e-6, 1e-5, 1e-4, 1e-3, 1e-2, 1e-1, 2e-1, 3e-1, 4e-1, 5e-1, 6e-1, 7e-1, 8e-1, 9e-1]\n",
    "freq = np.array([0.0025, 0.0025, 0.0025, 0.0025, 0.0025, 0.0025, 0.0025, 0.002, 0.0017, 0.0013, 0.0009, 0.0007, 0.00045, 0.00028, 0.00013, 0.00005])"
   ]
  },
  {
   "cell_type": "code",
   "execution_count": 10,
   "id": "7c4f19dd-9962-4f0e-9a62-8d88c21fa0b7",
   "metadata": {},
   "outputs": [],
   "source": [
    "from scipy.interpolate import InterpolatedUnivariateSpline\n",
    "inv_freq_of_ecc = InterpolatedUnivariateSpline(ecc, 1 / freq)"
   ]
  },
  {
   "cell_type": "code",
   "execution_count": 11,
   "id": "264b945b-a67b-4136-ad2c-91de98795827",
   "metadata": {},
   "outputs": [
    {
     "data": {
      "text/plain": [
       "0.0024999999999999953"
      ]
     },
     "execution_count": 11,
     "metadata": {},
     "output_type": "execute_result"
    }
   ],
   "source": [
    "1 / inv_freq_of_ecc(1e-7)"
   ]
  },
  {
   "cell_type": "markdown",
   "id": "7f225e40-a67b-43a8-a02b-a3dc7b29ac9d",
   "metadata": {},
   "source": [
    "### measure eccentricity"
   ]
  },
  {
   "cell_type": "code",
   "execution_count": 32,
   "id": "ce561a25-68ad-4e8f-8214-6a2e3ae42700",
   "metadata": {},
   "outputs": [
    {
     "name": "stderr",
     "output_type": "stream",
     "text": [
      "/tmp/ipykernel_1267503/2435822276.py:61: UserWarning: Too many tries, number of tries 2\n",
      "  warnings.warn(f\"Too many tries, number of tries {num}\")\n",
      "../../measureEccentricity/eccDefinition.py:453: UserWarning: Ecc(t) is non monotonic.\n",
      "  warnings.warn(\"Ecc(t) is non monotonic.\")\n"
     ]
    }
   ],
   "source": [
    "dataDict = generate_teob_22_mode(1e-7, 1/inv_freq_of_ecc(1e-7))\n",
    "tref_in = dataDict[\"t\"]\n",
    "tref, ecc, mean_ano, eccMethod = measure_eccentricity(tref_in=tref_in,\n",
    "                                                     method=\"ResidualAmplitude\",\n",
    "                                                     dataDict=dataDict,\n",
    "                                                     return_ecc_method=True)"
   ]
  },
  {
   "cell_type": "code",
   "execution_count": 35,
   "id": "07f93a05-9c46-4d1e-a3ae-0825961aee77",
   "metadata": {},
   "outputs": [
    {
     "data": {
      "image/png": "[encoded data removed]",
      "text/plain": [
       "<Figure size 432x288 with 1 Axes>"
      ]
     },
     "metadata": {
      "needs_background": "light"
     },
     "output_type": "display_data"
    }
   ],
   "source": [
    "fig, ax = eccMethod.plot_measured_ecc()\n",
    "ax.set_yscale(\"log\")"
   ]
  },
  {
   "cell_type": "markdown",
   "id": "dfb0e3c9-7412-4bfc-aca1-f7606f626dba",
   "metadata": {},
   "source": [
    "### Now we measure the eccentricities of SEOB waveforms"
   ]
  },
  {
   "cell_type": "code",
   "execution_count": 71,
   "id": "397ce1fa-a020-420f-b3a9-3ecdd1aadb82",
   "metadata": {},
   "outputs": [
    {
     "data": {
      "text/plain": [
       "(1e-07, 0.8974704009584349)"
      ]
     },
     "execution_count": 71,
     "metadata": {},
     "output_type": "execute_result"
    }
   ],
   "source": [
    "EOBeccs = 10.0**np.linspace(-7.0, 0.0, 150)\n",
    "EOBeccs = EOBeccs[EOBeccs <= 0.95]\n",
    "EOBeccs = EOBeccs[0:150:2]\n",
    "min(EOBeccs), max(EOBeccs)"
   ]
  },
  {
   "cell_type": "code",
   "execution_count": 72,
   "id": "b58d2a1d-c58a-4bbd-9726-a92407cb9dd6",
   "metadata": {},
   "outputs": [],
   "source": [
    "param_key = \"1\"\n",
    "params = available_param_sets[param_key]\n",
    "q, chi1, chi2 = params"
   ]
  },
  {
   "cell_type": "code",
   "execution_count": 73,
   "id": "c4e1fcc4-63a6-4de0-b150-ff491823063a",
   "metadata": {},
   "outputs": [],
   "source": [
    "from tqdm import tqdm"
   ]
  },
  {
   "cell_type": "code",
   "execution_count": 74,
   "id": "7088c000-cafe-42d4-8299-324c2cbecfb7",
   "metadata": {},
   "outputs": [
    {
     "name": "stderr",
     "output_type": "stream",
     "text": [
      "  0%|                                                                                                                                                                                       | 0/75 [00:00<?, ?it/s]../../measureEccentricity/eccDefinition.py:453: UserWarning: Ecc(t) is non monotonic.\n",
      "  warnings.warn(\"Ecc(t) is non monotonic.\")\n",
      " 31%|█████████████████████████████████████████████████████▎                                                                                                                        | 23/75 [00:15<00:35,  1.47it/s]../../measureEccentricity/eccDefinition.py:392: UserWarning: At least a pair of peaks are too close. Minimum orbital phase diff is 2.990962220343164. Times of occurances are [-445.58938594]\n",
      "  warnings.warn(f\"At least a pair of {extrema_type} are too close.\"\n",
      "../../measureEccentricity/eccDefinition.py:398: UserWarning: Phase shift closer to pi than 2 pi detected.\n",
      "  warnings.warn(\"Phase shift closer to pi than 2 pi detected.\")\n",
      "../../measureEccentricity/eccDefinition.py:410: UserWarning: At least a pair of peaks are too far. Maximum orbital phase diff is 9.230110587871451. Times of occurances are [-269.58938594]\n",
      "  warnings.warn(f\"At least a pair of {extrema_type} are too far.\"\n",
      " 32%|███████████████████████████████████████████████████████▋                                                                                                                      | 24/75 [00:16<00:34,  1.47it/s]../../measureEccentricity/eccDefinition.py:410: UserWarning: At least a pair of peaks are too far. Maximum orbital phase diff is 9.173925224719994. Times of occurances are [-275.59088243]\n",
      "  warnings.warn(f\"At least a pair of {extrema_type} are too far.\"\n",
      "100%|██████████████████████████████████████████████████████████████████████████████████████████████████████████████████████████████████████████████████████████████████████████████| 75/75 [00:51<00:00,  1.46it/s]\n"
     ]
    }
   ],
   "source": [
    "waveform_eccs = []\n",
    "model_eccs = [] \n",
    "method = \"ResidualAmplitude\"\n",
    "\n",
    "data_dir = \"../../data/ecc_waveforms/Non-Precessing/EOB/\"\n",
    "Momega0 = 0.01\n",
    "Momega0_zeroecc = 0.002\n",
    "meanAno = np.pi/2\n",
    "\n",
    "for ecc in tqdm(EOBeccs):\n",
    "    fileName = (f\"{data_dir}/EccTest_q{q:.2f}_chi1z{chi1:.2f}_\"\n",
    "                f\"chi2z{chi2:.2f}_EOBecc{ecc:.10f}_\"\n",
    "                f\"Momega0{Momega0:.3f}_meanAno{meanAno:.3f}.h5\")\n",
    "    kwargs = {\"filepath\": fileName}\n",
    "    if \"Residual\" in method:\n",
    "        fileName_zero_ecc = (\n",
    "            f\"{data_dir}/EccTest_q{q:.2f}_chi1z\"\n",
    "            f\"{chi1:.2f}_\"\n",
    "            f\"chi2z{chi2:.2f}_EOBecc{0:.10f}_\"\n",
    "            f\"Momega0{Momega0_zeroecc:.3f}_meanAno{meanAno:.3f}.h5\")\n",
    "        kwargs.update({\"filepath_zero_ecc\": fileName_zero_ecc,\n",
    "                        \"include_zero_ecc\": True})\n",
    "    dataDict = load_waveform(catalog=\"EOB\", **kwargs)\n",
    "    tref_in = dataDict[\"t\"]\n",
    "    try:\n",
    "        tref_out, measured_ecc, mean_ano = measure_eccentricity(\n",
    "            tref_in=tref_in,\n",
    "            dataDict=dataDict,\n",
    "            method=method,\n",
    "            extra_kwargs={\"debug\": False})\n",
    "            # Get the measured eccentricity at the first available index.\n",
    "            # This corresponds to the first extrema that occurs after the\n",
    "            # initial time.\n",
    "        waveform_eccs.append(measured_ecc[0])\n",
    "        model_eccs.append(ecc)\n",
    "    except Exception:\n",
    "        warnings.warn(\"Exception raised. Probably too small eccentricity \"\n",
    "                    \"to detect any extrema.\")"
   ]
  },
  {
   "cell_type": "markdown",
   "id": "fdfeb158-df42-4fdb-a135-2fb6735aff27",
   "metadata": {},
   "source": [
    "### Now for TEOBResumS"
   ]
  },
  {
   "cell_type": "code",
   "execution_count": 75,
   "id": "a395c19f-20ec-4803-b0ef-0fac82d6b8e3",
   "metadata": {},
   "outputs": [
    {
     "name": "stderr",
     "output_type": "stream",
     "text": [
      "  0%|                                                                                                                                                                                       | 0/75 [00:00<?, ?it/s]/tmp/ipykernel_1267503/2435822276.py:61: UserWarning: Too many tries, number of tries 2\n",
      "  warnings.warn(f\"Too many tries, number of tries {num}\")\n",
      "../../measureEccentricity/eccDefinition.py:453: UserWarning: Ecc(t) is non monotonic.\n",
      "  warnings.warn(\"Ecc(t) is non monotonic.\")\n",
      "100%|██████████████████████████████████████████████████████████████████████████████████████████████████████████████████████████████████████████████████████████████████████████████| 75/75 [02:30<00:00,  2.00s/it]\n"
     ]
    }
   ],
   "source": [
    "tEOBeccs = []\n",
    "measuredtEOBeccs = []\n",
    "for ecc_in in tqdm(EOBeccs):\n",
    "    dataDict = generate_teob_22_mode(ecc=ecc_in, initial_frequency=1/inv_freq_of_ecc(ecc_in))\n",
    "    tref_in = dataDict[\"t\"]\n",
    "    try:\n",
    "        tref, ecc, mean_ano, eccMethod = measure_eccentricity(tref_in=tref_in,\n",
    "                                                     method=\"ResidualAmplitude\",\n",
    "                                                     dataDict=dataDict,\n",
    "                                                     return_ecc_method=True)\n",
    "        tEOBeccs.append(ecc_in)\n",
    "        measuredtEOBeccs.append(ecc[0])\n",
    "    except Exceptionption:\n",
    "        print(f\"Measurement failed for {ecc_in}\")"
   ]
  },
  {
   "cell_type": "markdown",
   "id": "6eb36a41-2807-4fe5-bbbf-ea30412c1978",
   "metadata": {},
   "source": [
    "### Save data"
   ]
  },
  {
   "cell_type": "code",
   "execution_count": 77,
   "id": "a4e67313-3106-4a57-b93d-034d5b8af2b8",
   "metadata": {},
   "outputs": [],
   "source": [
    "import pandas as pd"
   ]
  },
  {
   "cell_type": "code",
   "execution_count": 78,
   "id": "e02943f7-2b45-4e6f-82fa-e0f51149af4c",
   "metadata": {},
   "outputs": [],
   "source": [
    "df = pd.DataFrame({\"model_ecc\": model_eccs,\n",
    "                  \"SEOB_measured_ecc\": waveform_eccs,\n",
    "                  \"TEOB_measured_ecc\": measuredtEOBeccs})"
   ]
  },
  {
   "cell_type": "code",
   "execution_count": 79,
   "id": "dd4bc970-87ae-43c3-804a-3aa9464d5e20",
   "metadata": {},
   "outputs": [
    {
     "data": {
      "text/html": [
       "<div>\n",
       "<style scoped>\n",
       "    .dataframe tbody tr th:only-of-type {\n",
       "        vertical-align: middle;\n",
       "    }\n",
       "\n",
       "    .dataframe tbody tr th {\n",
       "        vertical-align: top;\n",
       "    }\n",
       "\n",
       "    .dataframe thead th {\n",
       "        text-align: right;\n",
       "    }\n",
       "</style>\n",
       "<table border=\"1\" class=\"dataframe\">\n",
       "  <thead>\n",
       "    <tr style=\"text-align: right;\">\n",
       "      <th></th>\n",
       "      <th>model_ecc</th>\n",
       "      <th>SEOB_measured_ecc</th>\n",
       "      <th>TEOB_measured_ecc</th>\n",
       "    </tr>\n",
       "  </thead>\n",
       "  <tbody>\n",
       "    <tr>\n",
       "      <th>0</th>\n",
       "      <td>1.000000e-07</td>\n",
       "      <td>0.000008</td>\n",
       "      <td>6.227867e-07</td>\n",
       "    </tr>\n",
       "    <tr>\n",
       "      <th>1</th>\n",
       "      <td>1.241537e-07</td>\n",
       "      <td>0.000008</td>\n",
       "      <td>6.231381e-07</td>\n",
       "    </tr>\n",
       "    <tr>\n",
       "      <th>2</th>\n",
       "      <td>1.541415e-07</td>\n",
       "      <td>0.000008</td>\n",
       "      <td>6.231284e-07</td>\n",
       "    </tr>\n",
       "    <tr>\n",
       "      <th>3</th>\n",
       "      <td>1.913724e-07</td>\n",
       "      <td>0.000008</td>\n",
       "      <td>6.233500e-07</td>\n",
       "    </tr>\n",
       "    <tr>\n",
       "      <th>4</th>\n",
       "      <td>2.375959e-07</td>\n",
       "      <td>0.000008</td>\n",
       "      <td>6.231089e-07</td>\n",
       "    </tr>\n",
       "    <tr>\n",
       "      <th>...</th>\n",
       "      <td>...</td>\n",
       "      <td>...</td>\n",
       "      <td>...</td>\n",
       "    </tr>\n",
       "    <tr>\n",
       "      <th>70</th>\n",
       "      <td>3.777298e-01</td>\n",
       "      <td>0.289390</td>\n",
       "      <td>2.912790e-01</td>\n",
       "    </tr>\n",
       "    <tr>\n",
       "      <th>71</th>\n",
       "      <td>4.689655e-01</td>\n",
       "      <td>0.364825</td>\n",
       "      <td>3.670322e-01</td>\n",
       "    </tr>\n",
       "    <tr>\n",
       "      <th>72</th>\n",
       "      <td>5.822382e-01</td>\n",
       "      <td>0.464001</td>\n",
       "      <td>4.680458e-01</td>\n",
       "    </tr>\n",
       "    <tr>\n",
       "      <th>73</th>\n",
       "      <td>7.228703e-01</td>\n",
       "      <td>0.599268</td>\n",
       "      <td>6.119623e-01</td>\n",
       "    </tr>\n",
       "    <tr>\n",
       "      <th>74</th>\n",
       "      <td>8.974704e-01</td>\n",
       "      <td>0.764401</td>\n",
       "      <td>7.682609e-01</td>\n",
       "    </tr>\n",
       "  </tbody>\n",
       "</table>\n",
       "<p>75 rows × 3 columns</p>\n",
       "</div>"
      ],
      "text/plain": [
       "       model_ecc  SEOB_measured_ecc  TEOB_measured_ecc\n",
       "0   1.000000e-07           0.000008       6.227867e-07\n",
       "1   1.241537e-07           0.000008       6.231381e-07\n",
       "2   1.541415e-07           0.000008       6.231284e-07\n",
       "3   1.913724e-07           0.000008       6.233500e-07\n",
       "4   2.375959e-07           0.000008       6.231089e-07\n",
       "..           ...                ...                ...\n",
       "70  3.777298e-01           0.289390       2.912790e-01\n",
       "71  4.689655e-01           0.364825       3.670322e-01\n",
       "72  5.822382e-01           0.464001       4.680458e-01\n",
       "73  7.228703e-01           0.599268       6.119623e-01\n",
       "74  8.974704e-01           0.764401       7.682609e-01\n",
       "\n",
       "[75 rows x 3 columns]"
      ]
     },
     "execution_count": 79,
     "metadata": {},
     "output_type": "execute_result"
    }
   ],
   "source": [
    "df"
   ]
  },
  {
   "cell_type": "code",
   "execution_count": 81,
   "id": "1d1738a4-7c1d-4df9-a0c4-43e07433e206",
   "metadata": {},
   "outputs": [],
   "source": [
    "df.to_csv(\"../../data/model_eccs_vs_measured_ecc.csv\", index=False)"
   ]
  },
  {
   "cell_type": "code",
   "execution_count": 82,
   "id": "967bd23b-594f-47a8-a216-b5430e9e86a4",
   "metadata": {},
   "outputs": [],
   "source": [
    "data = pd.read_csv(\"../../data/model_eccs_vs_measured_ecc.csv\")"
   ]
  },
  {
   "cell_type": "code",
   "execution_count": 83,
   "id": "c62be75e-d2ba-4d69-90bf-9fb178508406",
   "metadata": {},
   "outputs": [
    {
     "data": {
      "text/html": [
       "<div>\n",
       "<style scoped>\n",
       "    .dataframe tbody tr th:only-of-type {\n",
       "        vertical-align: middle;\n",
       "    }\n",
       "\n",
       "    .dataframe tbody tr th {\n",
       "        vertical-align: top;\n",
       "    }\n",
       "\n",
       "    .dataframe thead th {\n",
       "        text-align: right;\n",
       "    }\n",
       "</style>\n",
       "<table border=\"1\" class=\"dataframe\">\n",
       "  <thead>\n",
       "    <tr style=\"text-align: right;\">\n",
       "      <th></th>\n",
       "      <th>model_ecc</th>\n",
       "      <th>SEOB_measured_ecc</th>\n",
       "      <th>TEOB_measured_ecc</th>\n",
       "    </tr>\n",
       "  </thead>\n",
       "  <tbody>\n",
       "    <tr>\n",
       "      <th>0</th>\n",
       "      <td>1.000000e-07</td>\n",
       "      <td>0.000008</td>\n",
       "      <td>6.227867e-07</td>\n",
       "    </tr>\n",
       "    <tr>\n",
       "      <th>1</th>\n",
       "      <td>1.241537e-07</td>\n",
       "      <td>0.000008</td>\n",
       "      <td>6.231381e-07</td>\n",
       "    </tr>\n",
       "    <tr>\n",
       "      <th>2</th>\n",
       "      <td>1.541415e-07</td>\n",
       "      <td>0.000008</td>\n",
       "      <td>6.231284e-07</td>\n",
       "    </tr>\n",
       "    <tr>\n",
       "      <th>3</th>\n",
       "      <td>1.913724e-07</td>\n",
       "      <td>0.000008</td>\n",
       "      <td>6.233500e-07</td>\n",
       "    </tr>\n",
       "    <tr>\n",
       "      <th>4</th>\n",
       "      <td>2.375959e-07</td>\n",
       "      <td>0.000008</td>\n",
       "      <td>6.231089e-07</td>\n",
       "    </tr>\n",
       "    <tr>\n",
       "      <th>...</th>\n",
       "      <td>...</td>\n",
       "      <td>...</td>\n",
       "      <td>...</td>\n",
       "    </tr>\n",
       "    <tr>\n",
       "      <th>70</th>\n",
       "      <td>3.777298e-01</td>\n",
       "      <td>0.289390</td>\n",
       "      <td>2.912790e-01</td>\n",
       "    </tr>\n",
       "    <tr>\n",
       "      <th>71</th>\n",
       "      <td>4.689655e-01</td>\n",
       "      <td>0.364825</td>\n",
       "      <td>3.670322e-01</td>\n",
       "    </tr>\n",
       "    <tr>\n",
       "      <th>72</th>\n",
       "      <td>5.822382e-01</td>\n",
       "      <td>0.464001</td>\n",
       "      <td>4.680458e-01</td>\n",
       "    </tr>\n",
       "    <tr>\n",
       "      <th>73</th>\n",
       "      <td>7.228703e-01</td>\n",
       "      <td>0.599268</td>\n",
       "      <td>6.119623e-01</td>\n",
       "    </tr>\n",
       "    <tr>\n",
       "      <th>74</th>\n",
       "      <td>8.974704e-01</td>\n",
       "      <td>0.764401</td>\n",
       "      <td>7.682609e-01</td>\n",
       "    </tr>\n",
       "  </tbody>\n",
       "</table>\n",
       "<p>75 rows × 3 columns</p>\n",
       "</div>"
      ],
      "text/plain": [
       "       model_ecc  SEOB_measured_ecc  TEOB_measured_ecc\n",
       "0   1.000000e-07           0.000008       6.227867e-07\n",
       "1   1.241537e-07           0.000008       6.231381e-07\n",
       "2   1.541415e-07           0.000008       6.231284e-07\n",
       "3   1.913724e-07           0.000008       6.233500e-07\n",
       "4   2.375959e-07           0.000008       6.231089e-07\n",
       "..           ...                ...                ...\n",
       "70  3.777298e-01           0.289390       2.912790e-01\n",
       "71  4.689655e-01           0.364825       3.670322e-01\n",
       "72  5.822382e-01           0.464001       4.680458e-01\n",
       "73  7.228703e-01           0.599268       6.119623e-01\n",
       "74  8.974704e-01           0.764401       7.682609e-01\n",
       "\n",
       "[75 rows x 3 columns]"
      ]
     },
     "execution_count": 83,
     "metadata": {},
     "output_type": "execute_result"
    }
   ],
   "source": [
    "data"
   ]
  },
  {
   "cell_type": "code",
   "execution_count": 84,
   "id": "076a778f-5959-425f-b3c6-3ed61d95f249",
   "metadata": {},
   "outputs": [],
   "source": [
    "use_fancy_plotsettings()"
   ]
  },
  {
   "cell_type": "code",
   "execution_count": 89,
   "id": "c5029f0b-eec1-4439-bfea-74a23abfcef6",
   "metadata": {},
   "outputs": [
    {
     "data": {
      "text/plain": [
       "[<matplotlib.lines.Line2D at 0x7f40a8214730>]"
      ]
     },
     "execution_count": 89,
     "metadata": {},
     "output_type": "execute_result"
    },
    {
     "data": {
      "image/png": "[encoded data removed]",
      "text/plain": [
       "<Figure size 244.8x216 with 1 Axes>"
      ]
     },
     "metadata": {
      "needs_background": "light"
     },
     "output_type": "display_data"
    }
   ],
   "source": [
    "fig, ax = plt.subplots(figsize=(figWidthsOneColDict[\"APS\"], 3))\n",
    "ax.loglog(data[\"model_ecc\"], data[\"SEOB_measured_ecc\"], marker=\".\")\n",
    "ax.loglog(data[\"model_ecc\"], data[\"TEOB_measured_ecc\"], marker=\".\")"
   ]
  },
  {
   "cell_type": "code",
   "execution_count": null,
   "id": "d3c728bd-42fc-4243-b4db-155397b90577",
   "metadata": {},
   "outputs": [],
   "source": []
  }
 ],
 "metadata": {
  "kernelspec": {
   "display_name": "Python 3 (ipykernel)",
   "language": "python",
   "name": "python3"
  },
  "language_info": {
   "codemirror_mode": {
    "name": "ipython",
    "version": 3
   },
   "file_extension": ".py",
   "mimetype": "text/x-python",
   "name": "python",
   "nbconvert_exporter": "python",
   "pygments_lexer": "ipython3",
   "version": "3.8.0"
  }
 },
 "nbformat": 4,
 "nbformat_minor": 5
}
