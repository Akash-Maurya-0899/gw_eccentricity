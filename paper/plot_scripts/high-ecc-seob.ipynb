{
 "cells": [
  {
   "cell_type": "markdown",
   "id": "78c4be92-0409-4c7d-a9d4-c8d098b2772a",
   "metadata": {},
   "source": [
    "Plots to show how the methods work for highly eccentric seob waveforms"
   ]
  },
  {
   "cell_type": "code",
   "execution_count": 1,
   "id": "e44a31a5-f62c-480f-aa56-e115cdcda87e",
   "metadata": {},
   "outputs": [],
   "source": [
    "import sys\n",
    "sys.path.append(\"../../\")\n",
    "%load_ext autoreload\n",
    "%autoreload 2"
   ]
  },
  {
   "cell_type": "code",
   "execution_count": 2,
   "id": "81602348-8e35-4edd-82c2-f7130c62403d",
   "metadata": {},
   "outputs": [
    {
     "name": "stderr",
     "output_type": "stream",
     "text": [
      "/home1/md.shaikh/miniconda3/envs/seob/lib/python3.8/site-packages/gwtools/rotations.py:63: UserWarning: Could not import GWFrames, needed for rotations module\n",
      "  _warnings.warn(\"Could not import GWFrames, needed for rotations module\")\n",
      "/home1/md.shaikh/miniconda3/envs/seob/lib/python3.8/site-packages/gwtools/__init__.py:11: UserWarning: Could not import rotations, decompositions, or fitfuncs. These are not needed by GWSurrogate.\n",
      "  _warnings.warn(\"Could not import rotations, decompositions, or fitfuncs. These are not needed by GWSurrogate.\")\n"
     ]
    }
   ],
   "source": [
    "from measureEccentricity.measureEccentricity import measure_eccentricity\n",
    "from measureEccentricity.load_data import load_waveform\n",
    "from measureEccentricity.plot_settings import use_fancy_plotsettings, colorsDict, figWidthsOneColDict, lstyles, lwidths\n",
    "import matplotlib.pyplot as plt\n",
    "import numpy as np\n",
    "from measureEccentricity.utils import get_peak_via_quadratic_fit\n",
    "import matplotlib as mpl"
   ]
  },
  {
   "cell_type": "markdown",
   "id": "eea9cca1-f93f-43e7-9bb4-5528240ec20f",
   "metadata": {},
   "source": [
    "### Create eccentric waveforms using seobnrv4ehm"
   ]
  },
  {
   "cell_type": "code",
   "execution_count": 3,
   "id": "f71f57de-c069-417d-8825-7ad50a93d101",
   "metadata": {},
   "outputs": [],
   "source": [
    "from EccTests.TestEOBvsMeasuredEcc.seobnrv4ehm import get_modes\n",
    "import lal"
   ]
  },
  {
   "cell_type": "code",
   "execution_count": 4,
   "id": "9c111363-91af-40ec-8ec9-670957f718f7",
   "metadata": {},
   "outputs": [],
   "source": [
    "available_param_sets = {\n",
    "    \"1\": [1, 0, 0],\n",
    "    \"2\": [2, 0.5, 0.5],\n",
    "    \"3\": [4, -0.6, -0.6],\n",
    "    \"4\": [6, 0.4, -0.4]}"
   ]
  },
  {
   "cell_type": "code",
   "execution_count": 5,
   "id": "7d12852f-6d48-4c74-a5ea-c9f2720820d1",
   "metadata": {},
   "outputs": [],
   "source": [
    "M = 50\n",
    "MT = M * lal.MTSUN_SI\n",
    "key = \"4\"\n",
    "params = available_param_sets[key]\n",
    "q = params[0]\n",
    "chi1 = params[1]\n",
    "chi2= params[2]\n",
    "eccentric_anomaly=np.pi/2\n",
    "EccIC=-1\n",
    "delta_t = 1 / 4096\n",
    "Momega0_zeroecc = 0.002\n",
    "f_low_zeroecc = Momega0_zeroecc/np.pi/MT\n",
    "tzeroecc, hlmzeroecc = get_modes(delta_t=delta_t, q=q, chi1=chi1, chi2=chi2, M_fed=M, eccentricity=0, eccentric_anomaly=eccentric_anomaly, EccIC=EccIC, f_min=f_low_zeroecc, physical_units=False, save=False)\n",
    "tzeroecc = tzeroecc - get_peak_via_quadratic_fit(tzeroecc, np.abs(hlmzeroecc[(2, 2)]))[0]\n",
    "    \n",
    "def getDataDict(Momega0, ecc):\n",
    "    f_low = Momega0/np.pi/MT\n",
    "    tecc, hlmecc = get_modes(delta_t=delta_t, q=q, chi1=chi1, chi2=chi2, M_fed=M, eccentricity=ecc, eccentric_anomaly=eccentric_anomaly, EccIC=EccIC, f_min=f_low, physical_units=False, save=False)\n",
    "    tecc = tecc - get_peak_via_quadratic_fit(tecc, np.abs(hlmecc[(2, 2)]))[0]\n",
    "    startzero = np.argmin(np.abs(tzeroecc - tecc[0])) - 10\n",
    "    dataDict = {\"t\": tecc, \"hlm\": hlmecc, \"t_zeroecc\": tzeroecc[startzero:], \"hlm_zeroecc\":{(2, 2): hlmzeroecc[(2, 2)][startzero: ]}}\n",
    "    return dataDict"
   ]
  },
  {
   "cell_type": "code",
   "execution_count": 6,
   "id": "528d5887-c5c2-4be3-8aa4-af2bff271aa2",
   "metadata": {},
   "outputs": [
    {
     "data": {
      "text/plain": [
       "<matplotlib.legend.Legend at 0x7fea49b0f9d0>"
      ]
     },
     "execution_count": 6,
     "metadata": {},
     "output_type": "execute_result"
    },
    {
     "data": {
      "image/png": "[encoded data removed]",
      "text/plain": [
       "<Figure size 432x288 with 1 Axes>"
      ]
     },
     "metadata": {
      "needs_background": "light"
     },
     "output_type": "display_data"
    }
   ],
   "source": [
    "datadict = getDataDict(0.01, 1e-7)\n",
    "plt.plot(datadict[\"t\"], np.abs(datadict[\"hlm\"][(2, 2)]), label=\"ecc\")\n",
    "plt.plot(datadict[\"t_zeroecc\"], np.abs(datadict[\"hlm_zeroecc\"][(2, 2)]), label=\"zeroecc\", ls=\"--\")\n",
    "plt.legend()"
   ]
  },
  {
   "cell_type": "code",
   "execution_count": 7,
   "id": "307a71cb-5676-4e72-8807-42619702ee6c",
   "metadata": {},
   "outputs": [],
   "source": [
    "journal = \"APS\"\n",
    "use_fancy_plotsettings(journal=journal)"
   ]
  },
  {
   "cell_type": "code",
   "execution_count": 8,
   "id": "366f9092-b9cc-4f08-b3e7-63740ce41e0c",
   "metadata": {},
   "outputs": [],
   "source": [
    "from tqdm import tqdm"
   ]
  },
  {
   "cell_type": "markdown",
   "id": "70b5e4df-c964-4f92-af87-5bfbca4e042a",
   "metadata": {},
   "source": [
    "### Test the `ResidualAmplitude` method from ecc=1e-7 to ecc=1 with `treat_mid_points_between_peaks_as_troughs=True` and `False`"
   ]
  },
  {
   "cell_type": "code",
   "execution_count": 52,
   "id": "76d9b9dd-b468-4991-9780-ecabd90002b5",
   "metadata": {
    "collapsed": true,
    "jupyter": {
     "outputs_hidden": true
    },
    "tags": []
   },
   "outputs": [
    {
     "name": "stderr",
     "output_type": "stream",
     "text": [
      "  0%|                                                                                                                                                                                      | 0/150 [00:00<?, ?it/s]"
     ]
    },
    {
     "name": "stdout",
     "output_type": "stream",
     "text": [
      "1e-07\n"
     ]
    },
    {
     "name": "stderr",
     "output_type": "stream",
     "text": [
      "/home1/md.shaikh/Eccentricity/paper/plot_scripts/../../measureEccentricity/eccDefinition.py:425: UserWarning: Ecc(t) is non monotonic.\n",
      "  warnings.warn(\"Ecc(t) is non monotonic.\")\n",
      "  1%|█▏                                                                                                                                                                            | 1/150 [00:03<07:30,  3.02s/it]"
     ]
    },
    {
     "name": "stdout",
     "output_type": "stream",
     "text": [
      "1.1142428752325099e-07\n"
     ]
    },
    {
     "name": "stderr",
     "output_type": "stream",
     "text": [
      "  1%|██▎                                                                                                                                                                           | 2/150 [00:05<07:04,  2.87s/it]"
     ]
    },
    {
     "name": "stdout",
     "output_type": "stream",
     "text": [
      "1.2415371850064104e-07\n"
     ]
    },
    {
     "name": "stderr",
     "output_type": "stream",
     "text": [
      "  2%|███▍                                                                                                                                                                          | 3/150 [00:08<07:02,  2.87s/it]"
     ]
    },
    {
     "name": "stdout",
     "output_type": "stream",
     "text": [
      "1.3833739627296223e-07\n"
     ]
    },
    {
     "name": "stderr",
     "output_type": "stream",
     "text": [
      "  3%|████▋                                                                                                                                                                         | 4/150 [00:11<06:56,  2.85s/it]"
     ]
    },
    {
     "name": "stdout",
     "output_type": "stream",
     "text": [
      "1.5414145817536454e-07\n"
     ]
    },
    {
     "name": "stderr",
     "output_type": "stream",
     "text": [
      "  3%|█████▊                                                                                                                                                                        | 5/150 [00:14<06:48,  2.82s/it]"
     ]
    },
    {
     "name": "stdout",
     "output_type": "stream",
     "text": [
      "1.7175102154984983e-07\n"
     ]
    },
    {
     "name": "stderr",
     "output_type": "stream",
     "text": [
      "  4%|██████▉                                                                                                                                                                       | 6/150 [00:16<06:42,  2.79s/it]"
     ]
    },
    {
     "name": "stdout",
     "output_type": "stream",
     "text": [
      "1.9137235207582544e-07\n"
     ]
    },
    {
     "name": "stderr",
     "output_type": "stream",
     "text": [
      "  5%|████████                                                                                                                                                                      | 7/150 [00:19<06:37,  2.78s/it]"
     ]
    },
    {
     "name": "stdout",
     "output_type": "stream",
     "text": [
      "2.1323527981697593e-07\n"
     ]
    },
    {
     "name": "stderr",
     "output_type": "stream",
     "text": [
      "  5%|█████████▎                                                                                                                                                                    | 8/150 [00:22<06:33,  2.77s/it]"
     ]
    },
    {
     "name": "stdout",
     "output_type": "stream",
     "text": [
      "2.3759589128427652e-07\n"
     ]
    },
    {
     "name": "stderr",
     "output_type": "stream",
     "text": [
      "  6%|██████████▍                                                                                                                                                                   | 9/150 [00:25<06:29,  2.76s/it]"
     ]
    },
    {
     "name": "stdout",
     "output_type": "stream",
     "text": [
      "2.647395290480231e-07\n"
     ]
    },
    {
     "name": "stderr",
     "output_type": "stream",
     "text": [
      "  7%|███████████▌                                                                                                                                                                 | 10/150 [00:28<06:28,  2.77s/it]"
     ]
    },
    {
     "name": "stdout",
     "output_type": "stream",
     "text": [
      "2.949841340341698e-07\n"
     ]
    },
    {
     "name": "stderr",
     "output_type": "stream",
     "text": [
      "  7%|████████████▋                                                                                                                                                                | 11/150 [00:30<06:32,  2.83s/it]"
     ]
    },
    {
     "name": "stdout",
     "output_type": "stream",
     "text": [
      "3.286839696542055e-07\n"
     ]
    },
    {
     "name": "stderr",
     "output_type": "stream",
     "text": [
      "  8%|█████████████▊                                                                                                                                                               | 12/150 [00:33<06:27,  2.81s/it]"
     ]
    },
    {
     "name": "stdout",
     "output_type": "stream",
     "text": [
      "3.662337713903369e-07\n"
     ]
    },
    {
     "name": "stderr",
     "output_type": "stream",
     "text": [
      "  9%|██████████████▉                                                                                                                                                              | 13/150 [00:36<06:21,  2.78s/it]"
     ]
    },
    {
     "name": "stdout",
     "output_type": "stream",
     "text": [
      "4.0807337044121557e-07\n"
     ]
    },
    {
     "name": "stderr",
     "output_type": "stream",
     "text": [
      "  9%|████████████████▏                                                                                                                                                            | 14/150 [00:39<06:17,  2.78s/it]"
     ]
    },
    {
     "name": "stdout",
     "output_type": "stream",
     "text": [
      "4.5469284558624114e-07\n"
     ]
    },
    {
     "name": "stderr",
     "output_type": "stream",
     "text": [
      " 10%|█████████████████▎                                                                                                                                                           | 15/150 [00:41<06:14,  2.77s/it]"
     ]
    },
    {
     "name": "stdout",
     "output_type": "stream",
     "text": [
      "5.066382636136649e-07\n"
     ]
    },
    {
     "name": "stderr",
     "output_type": "stream",
     "text": [
      " 11%|██████████████████▍                                                                                                                                                          | 16/150 [00:44<06:09,  2.76s/it]"
     ]
    },
    {
     "name": "stdout",
     "output_type": "stream",
     "text": [
      "5.645180755516963e-07\n"
     ]
    },
    {
     "name": "stderr",
     "output_type": "stream",
     "text": [
      " 11%|███████████████████▌                                                                                                                                                         | 17/150 [00:47<06:06,  2.76s/it]"
     ]
    },
    {
     "name": "stdout",
     "output_type": "stream",
     "text": [
      "6.290102436234467e-07\n"
     ]
    },
    {
     "name": "stderr",
     "output_type": "stream",
     "text": [
      " 12%|████████████████████▊                                                                                                                                                        | 18/150 [00:50<06:03,  2.75s/it]"
     ]
    },
    {
     "name": "stdout",
     "output_type": "stream",
     "text": [
      "7.008701824056906e-07\n"
     ]
    },
    {
     "name": "stderr",
     "output_type": "stream",
     "text": [
      " 13%|█████████████████████▉                                                                                                                                                       | 19/150 [00:52<06:00,  2.75s/it]"
     ]
    },
    {
     "name": "stdout",
     "output_type": "stream",
     "text": [
      "7.809396072084504e-07\n"
     ]
    },
    {
     "name": "stderr",
     "output_type": "stream",
     "text": [
      " 13%|███████████████████████                                                                                                                                                      | 20/150 [00:55<05:57,  2.75s/it]"
     ]
    },
    {
     "name": "stdout",
     "output_type": "stream",
     "text": [
      "8.701563933188907e-07\n"
     ]
    },
    {
     "name": "stderr",
     "output_type": "stream",
     "text": [
      " 14%|████████████████████████▏                                                                                                                                                    | 21/150 [00:58<05:55,  2.76s/it]"
     ]
    },
    {
     "name": "stdout",
     "output_type": "stream",
     "text": [
      "9.695655615935915e-07\n"
     ]
    },
    {
     "name": "stderr",
     "output_type": "stream",
     "text": [
      " 15%|█████████████████████████▎                                                                                                                                                   | 22/150 [01:01<05:52,  2.76s/it]"
     ]
    },
    {
     "name": "stdout",
     "output_type": "stream",
     "text": [
      "1.0803315190764665e-06\n"
     ]
    },
    {
     "name": "stderr",
     "output_type": "stream",
     "text": [
      " 15%|██████████████████████████▌                                                                                                                                                  | 23/150 [01:03<05:49,  2.75s/it]"
     ]
    },
    {
     "name": "stdout",
     "output_type": "stream",
     "text": [
      "1.2037516980200695e-06\n"
     ]
    },
    {
     "name": "stderr",
     "output_type": "stream",
     "text": [
      " 16%|███████████████████████████▋                                                                                                                                                 | 24/150 [01:06<05:47,  2.76s/it]"
     ]
    },
    {
     "name": "stdout",
     "output_type": "stream",
     "text": [
      "1.3412717530678983e-06\n"
     ]
    },
    {
     "name": "stderr",
     "output_type": "stream",
     "text": [
      " 17%|████████████████████████████▊                                                                                                                                                | 25/150 [01:09<05:45,  2.76s/it]"
     ]
    },
    {
     "name": "stdout",
     "output_type": "stream",
     "text": [
      "1.494502494606524e-06\n"
     ]
    },
    {
     "name": "stderr",
     "output_type": "stream",
     "text": [
      " 17%|█████████████████████████████▉                                                                                                                                               | 26/150 [01:12<05:41,  2.76s/it]"
     ]
    },
    {
     "name": "stdout",
     "output_type": "stream",
     "text": [
      "1.665238756632532e-06\n"
     ]
    },
    {
     "name": "stderr",
     "output_type": "stream",
     "text": [
      " 18%|███████████████████████████████▏                                                                                                                                             | 27/150 [01:15<05:39,  2.76s/it]"
     ]
    },
    {
     "name": "stdout",
     "output_type": "stream",
     "text": [
      "1.8554804201388458e-06\n"
     ]
    },
    {
     "name": "stderr",
     "output_type": "stream",
     "text": [
      " 19%|████████████████████████████████▎                                                                                                                                            | 28/150 [01:17<05:36,  2.76s/it]"
     ]
    },
    {
     "name": "stdout",
     "output_type": "stream",
     "text": [
      "2.067455838273133e-06\n"
     ]
    },
    {
     "name": "stderr",
     "output_type": "stream",
     "text": [
      " 19%|█████████████████████████████████▍                                                                                                                                           | 29/150 [01:20<05:34,  2.76s/it]"
     ]
    },
    {
     "name": "stdout",
     "output_type": "stream",
     "text": [
      "2.3036479376536947e-06\n"
     ]
    },
    {
     "name": "stderr",
     "output_type": "stream",
     "text": [
      " 20%|██████████████████████████████████▌                                                                                                                                          | 30/150 [01:23<05:32,  2.77s/it]"
     ]
    },
    {
     "name": "stdout",
     "output_type": "stream",
     "text": [
      "2.5668233015746943e-06\n"
     ]
    },
    {
     "name": "stderr",
     "output_type": "stream",
     "text": [
      " 21%|███████████████████████████████████▊                                                                                                                                         | 31/150 [01:26<05:29,  2.77s/it]"
     ]
    },
    {
     "name": "stdout",
     "output_type": "stream",
     "text": [
      "2.8600645757603915e-06\n"
     ]
    },
    {
     "name": "stderr",
     "output_type": "stream",
     "text": [
      " 21%|████████████████████████████████████▉                                                                                                                                        | 32/150 [01:29<05:32,  2.82s/it]"
     ]
    },
    {
     "name": "stdout",
     "output_type": "stream",
     "text": [
      "3.186806576245907e-06\n"
     ]
    },
    {
     "name": "stderr",
     "output_type": "stream",
     "text": [
      " 22%|██████████████████████████████████████                                                                                                                                       | 33/150 [01:32<05:41,  2.92s/it]"
     ]
    },
    {
     "name": "stdout",
     "output_type": "stream",
     "text": [
      "3.5508765223261173e-06\n"
     ]
    },
    {
     "name": "stderr",
     "output_type": "stream",
     "text": [
      " 23%|███████████████████████████████████████▏                                                                                                                                     | 34/150 [01:35<05:37,  2.91s/it]"
     ]
    },
    {
     "name": "stdout",
     "output_type": "stream",
     "text": [
      "3.956538865832268e-06\n"
     ]
    },
    {
     "name": "stderr",
     "output_type": "stream",
     "text": [
      " 23%|████████████████████████████████████████▎                                                                                                                                    | 35/150 [01:37<05:33,  2.90s/it]"
     ]
    },
    {
     "name": "stdout",
     "output_type": "stream",
     "text": [
      "4.40854524183412e-06\n"
     ]
    },
    {
     "name": "stderr",
     "output_type": "stream",
     "text": [
      " 24%|█████████████████████████████████████████▌                                                                                                                                   | 36/150 [01:40<05:29,  2.89s/it]"
     ]
    },
    {
     "name": "stdout",
     "output_type": "stream",
     "text": [
      "4.912190125853851e-06\n"
     ]
    },
    {
     "name": "stderr",
     "output_type": "stream",
     "text": [
      " 25%|██████████████████████████████████████████▋                                                                                                                                  | 37/150 [01:43<05:26,  2.89s/it]"
     ]
    },
    {
     "name": "stdout",
     "output_type": "stream",
     "text": [
      "5.47337284952015e-06\n"
     ]
    },
    {
     "name": "stderr",
     "output_type": "stream",
     "text": [
      " 25%|███████████████████████████████████████████▊                                                                                                                                 | 38/150 [01:46<05:23,  2.89s/it]"
     ]
    },
    {
     "name": "stdout",
     "output_type": "stream",
     "text": [
      "6.098666701068888e-06\n"
     ]
    },
    {
     "name": "stderr",
     "output_type": "stream",
     "text": [
      " 26%|████████████████████████████████████████████▉                                                                                                                                | 39/150 [01:49<05:27,  2.95s/it]"
     ]
    },
    {
     "name": "stdout",
     "output_type": "stream",
     "text": [
      "6.795395920083764e-06\n"
     ]
    },
    {
     "name": "stderr",
     "output_type": "stream",
     "text": [
      " 27%|██████████████████████████████████████████████▏                                                                                                                              | 40/150 [01:52<05:21,  2.92s/it]"
     ]
    },
    {
     "name": "stdout",
     "output_type": "stream",
     "text": [
      "7.5717214883374e-06\n"
     ]
    },
    {
     "name": "stderr",
     "output_type": "stream",
     "text": [
      " 27%|███████████████████████████████████████████████▎                                                                                                                             | 41/150 [01:55<05:16,  2.91s/it]"
     ]
    },
    {
     "name": "stdout",
     "output_type": "stream",
     "text": [
      "8.436736721624844e-06\n"
     ]
    },
    {
     "name": "stderr",
     "output_type": "stream",
     "text": [
      " 28%|████████████████████████████████████████████████▍                                                                                                                            | 42/150 [01:58<05:13,  2.90s/it]"
     ]
    },
    {
     "name": "stdout",
     "output_type": "stream",
     "text": [
      "9.400573782282964e-06\n"
     ]
    },
    {
     "name": "stderr",
     "output_type": "stream",
     "text": [
      " 29%|█████████████████████████████████████████████████▌                                                                                                                           | 43/150 [02:01<05:11,  2.92s/it]"
     ]
    },
    {
     "name": "stdout",
     "output_type": "stream",
     "text": [
      "1.047452236000632e-05\n"
     ]
    },
    {
     "name": "stderr",
     "output_type": "stream",
     "text": [
      " 29%|██████████████████████████████████████████████████▋                                                                                                                          | 44/150 [02:04<05:09,  2.92s/it]"
     ]
    },
    {
     "name": "stdout",
     "output_type": "stream",
     "text": [
      "1.1671161911100682e-05\n"
     ]
    },
    {
     "name": "stderr",
     "output_type": "stream",
     "text": [
      " 30%|███████████████████████████████████████████████████▉                                                                                                                         | 45/150 [02:07<05:08,  2.94s/it]"
     ]
    },
    {
     "name": "stdout",
     "output_type": "stream",
     "text": [
      "1.3004509005128978e-05\n"
     ]
    },
    {
     "name": "stderr",
     "output_type": "stream",
     "text": [
      " 31%|█████████████████████████████████████████████████████                                                                                                                        | 46/150 [02:10<05:07,  2.95s/it]"
     ]
    },
    {
     "name": "stdout",
     "output_type": "stream",
     "text": [
      "1.4490181504862008e-05\n"
     ]
    },
    {
     "name": "stderr",
     "output_type": "stream",
     "text": [
      " 31%|██████████████████████████████████████████████████████▏                                                                                                                      | 47/150 [02:13<05:05,  2.97s/it]"
     ]
    },
    {
     "name": "stdout",
     "output_type": "stream",
     "text": [
      "1.614558150261838e-05\n"
     ]
    },
    {
     "name": "stderr",
     "output_type": "stream",
     "text": [
      " 32%|███████████████████████████████████████████████████████▎                                                                                                                     | 48/150 [02:16<05:04,  2.98s/it]"
     ]
    },
    {
     "name": "stdout",
     "output_type": "stream",
     "text": [
      "1.7990099155778334e-05\n"
     ]
    },
    {
     "name": "stderr",
     "output_type": "stream",
     "text": [
      " 33%|████████████████████████████████████████████████████████▌                                                                                                                    | 49/150 [02:19<05:03,  3.00s/it]"
     ]
    },
    {
     "name": "stdout",
     "output_type": "stream",
     "text": [
      "2.00453398090524e-05\n"
     ]
    },
    {
     "name": "stderr",
     "output_type": "stream",
     "text": [
      " 33%|█████████████████████████████████████████████████████████▋                                                                                                                   | 50/150 [02:22<05:01,  3.02s/it]"
     ]
    },
    {
     "name": "stdout",
     "output_type": "stream",
     "text": [
      "2.2335377063851234e-05\n"
     ]
    },
    {
     "name": "stderr",
     "output_type": "stream",
     "text": [
      " 34%|██████████████████████████████████████████████████████████▊                                                                                                                  | 51/150 [02:25<05:00,  3.04s/it]"
     ]
    },
    {
     "name": "stdout",
     "output_type": "stream",
     "text": [
      "2.4887034759027854e-05\n"
     ]
    },
    {
     "name": "stderr",
     "output_type": "stream",
     "text": [
      " 35%|███████████████████████████████████████████████████████████▉                                                                                                                 | 52/150 [02:28<04:59,  3.05s/it]"
     ]
    },
    {
     "name": "stdout",
     "output_type": "stream",
     "text": [
      "2.7730201165910607e-05\n"
     ]
    },
    {
     "name": "stderr",
     "output_type": "stream",
     "text": [
      " 35%|█████████████████████████████████████████████████████████████▏                                                                                                               | 53/150 [02:31<04:58,  3.07s/it]"
     ]
    },
    {
     "name": "stdout",
     "output_type": "stream",
     "text": [
      "3.08981790778802e-05\n"
     ]
    },
    {
     "name": "stderr",
     "output_type": "stream",
     "text": [
      " 36%|██████████████████████████████████████████████████████████████▎                                                                                                              | 54/150 [02:34<04:57,  3.09s/it]"
     ]
    },
    {
     "name": "stdout",
     "output_type": "stream",
     "text": [
      "3.442807589518621e-05\n"
     ]
    },
    {
     "name": "stderr",
     "output_type": "stream",
     "text": [
      " 37%|███████████████████████████████████████████████████████████████▍                                                                                                             | 55/150 [02:37<04:56,  3.12s/it]"
     ]
    },
    {
     "name": "stdout",
     "output_type": "stream",
     "text": [
      "3.836123827417535e-05\n"
     ]
    },
    {
     "name": "stderr",
     "output_type": "stream",
     "text": [
      " 37%|████████████████████████████████████████████████████████████████▌                                                                                                            | 56/150 [02:41<04:55,  3.15s/it]"
     ]
    },
    {
     "name": "stdout",
     "output_type": "stream",
     "text": [
      "4.274373643209663e-05\n"
     ]
    },
    {
     "name": "stderr",
     "output_type": "stream",
     "text": [
      " 38%|█████████████████████████████████████████████████████████████████▋                                                                                                           | 57/150 [02:44<04:54,  3.17s/it]"
     ]
    },
    {
     "name": "stdout",
     "output_type": "stream",
     "text": [
      "4.762690378027994e-05\n"
     ]
    },
    {
     "name": "stderr",
     "output_type": "stream",
     "text": [
      " 39%|██████████████████████████████████████████████████████████████████▉                                                                                                          | 58/150 [02:47<04:54,  3.20s/it]"
     ]
    },
    {
     "name": "stdout",
     "output_type": "stream",
     "text": [
      "5.306793820656121e-05\n"
     ]
    },
    {
     "name": "stderr",
     "output_type": "stream",
     "text": [
      " 39%|████████████████████████████████████████████████████████████████████                                                                                                         | 59/150 [02:51<05:03,  3.34s/it]"
     ]
    },
    {
     "name": "stdout",
     "output_type": "stream",
     "text": [
      "5.913057204993993e-05\n"
     ]
    },
    {
     "name": "stderr",
     "output_type": "stream",
     "text": [
      " 40%|█████████████████████████████████████████████████████████████████████▏                                                                                                       | 60/150 [02:54<05:05,  3.40s/it]"
     ]
    },
    {
     "name": "stdout",
     "output_type": "stream",
     "text": [
      "6.588581861506814e-05\n"
     ]
    },
    {
     "name": "stderr",
     "output_type": "stream",
     "text": [
      " 41%|██████████████████████████████████████████████████████████████████████▎                                                                                                      | 61/150 [02:58<05:03,  3.41s/it]"
     ]
    },
    {
     "name": "stdout",
     "output_type": "stream",
     "text": [
      "7.341280397070115e-05\n"
     ]
    },
    {
     "name": "stderr",
     "output_type": "stream",
     "text": [
      " 41%|███████████████████████████████████████████████████████████████████████▌                                                                                                     | 62/150 [03:01<05:00,  3.41s/it]"
     ]
    },
    {
     "name": "stdout",
     "output_type": "stream",
     "text": [
      "8.179969377519468e-05\n"
     ]
    },
    {
     "name": "stderr",
     "output_type": "stream",
     "text": [
      " 42%|████████████████████████████████████████████████████████████████████████▋                                                                                                    | 63/150 [03:05<04:57,  3.42s/it]"
     ]
    },
    {
     "name": "stdout",
     "output_type": "stream",
     "text": [
      "9.114472598521194e-05\n"
     ]
    },
    {
     "name": "stderr",
     "output_type": "stream",
     "text": [
      " 43%|█████████████████████████████████████████████████████████████████████████▊                                                                                                   | 64/150 [03:08<04:55,  3.43s/it]"
     ]
    },
    {
     "name": "stdout",
     "output_type": "stream",
     "text": [
      "0.0001015573615440418\n"
     ]
    },
    {
     "name": "stderr",
     "output_type": "stream",
     "text": [
      " 43%|██████████████████████████████████████████████████████████████████████████▉                                                                                                  | 65/150 [03:12<04:53,  3.46s/it]"
     ]
    },
    {
     "name": "stdout",
     "output_type": "stream",
     "text": [
      "0.00011315956652786067\n"
     ]
    },
    {
     "name": "stderr",
     "output_type": "stream",
     "text": [
      " 44%|████████████████████████████████████████████████████████████████████████████                                                                                                 | 66/150 [03:15<04:52,  3.48s/it]"
     ]
    },
    {
     "name": "stdout",
     "output_type": "stream",
     "text": [
      "0.0001260872407680681\n"
     ]
    },
    {
     "name": "stderr",
     "output_type": "stream",
     "text": [
      " 45%|█████████████████████████████████████████████████████████████████████████████▎                                                                                               | 67/150 [03:19<04:51,  3.51s/it]"
     ]
    },
    {
     "name": "stdout",
     "output_type": "stream",
     "text": [
      "0.00014049180968354593\n"
     ]
    },
    {
     "name": "stderr",
     "output_type": "stream",
     "text": [
      " 45%|██████████████████████████████████████████████████████████████████████████████▍                                                                                              | 68/150 [03:22<04:49,  3.54s/it]"
     ]
    },
    {
     "name": "stdout",
     "output_type": "stream",
     "text": [
      "0.00015654199796841294\n"
     ]
    },
    {
     "name": "stderr",
     "output_type": "stream",
     "text": [
      " 46%|███████████████████████████████████████████████████████████████████████████████▌                                                                                             | 69/150 [03:26<04:49,  3.57s/it]"
     ]
    },
    {
     "name": "stdout",
     "output_type": "stream",
     "text": [
      "0.00017442580591096616\n"
     ]
    },
    {
     "name": "stderr",
     "output_type": "stream",
     "text": [
      " 47%|████████████████████████████████████████████████████████████████████████████████▋                                                                                            | 70/150 [03:30<04:48,  3.61s/it]"
     ]
    },
    {
     "name": "stdout",
     "output_type": "stream",
     "text": [
      "0.00019435271149298265\n"
     ]
    },
    {
     "name": "stderr",
     "output_type": "stream",
     "text": [
      " 47%|█████████████████████████████████████████████████████████████████████████████████▉                                                                                           | 71/150 [03:33<04:48,  3.65s/it]"
     ]
    },
    {
     "name": "stdout",
     "output_type": "stream",
     "text": [
      "0.00021655612406317566\n"
     ]
    },
    {
     "name": "stderr",
     "output_type": "stream",
     "text": [
      " 48%|███████████████████████████████████████████████████████████████████████████████████                                                                                          | 72/150 [03:37<04:46,  3.68s/it]"
     ]
    },
    {
     "name": "stdout",
     "output_type": "stream",
     "text": [
      "0.00024129611832536096\n"
     ]
    },
    {
     "name": "stderr",
     "output_type": "stream",
     "text": [
      " 49%|████████████████████████████████████████████████████████████████████████████████████▏                                                                                        | 73/150 [03:42<05:04,  3.95s/it]"
     ]
    },
    {
     "name": "stdout",
     "output_type": "stream",
     "text": [
      "0.0002688624806652944\n"
     ]
    },
    {
     "name": "stderr",
     "output_type": "stream",
     "text": [
      " 49%|█████████████████████████████████████████████████████████████████████████████████████▎                                                                                       | 74/150 [03:46<04:58,  3.93s/it]"
     ]
    },
    {
     "name": "stdout",
     "output_type": "stream",
     "text": [
      "0.0002995781034986427\n"
     ]
    },
    {
     "name": "stderr",
     "output_type": "stream",
     "text": [
      " 50%|██████████████████████████████████████████████████████████████████████████████████████▌                                                                                      | 75/150 [03:49<04:54,  3.92s/it]"
     ]
    },
    {
     "name": "stdout",
     "output_type": "stream",
     "text": [
      "0.0003338027673990301\n"
     ]
    },
    {
     "name": "stderr",
     "output_type": "stream",
     "text": [
      " 51%|███████████████████████████████████████████████████████████████████████████████████████▋                                                                                     | 76/150 [03:53<04:49,  3.92s/it]"
     ]
    },
    {
     "name": "stdout",
     "output_type": "stream",
     "text": [
      "0.0003719373553072644\n"
     ]
    },
    {
     "name": "stderr",
     "output_type": "stream",
     "text": [
      " 51%|████████████████████████████████████████████████████████████████████████████████████████▊                                                                                    | 77/150 [03:57<04:47,  3.94s/it]"
     ]
    },
    {
     "name": "stdout",
     "output_type": "stream",
     "text": [
      "0.00041442854818394187\n"
     ]
    },
    {
     "name": "stderr",
     "output_type": "stream",
     "text": [
      " 52%|█████████████████████████████████████████████████████████████████████████████████████████▉                                                                                   | 78/150 [04:01<04:44,  3.95s/it]"
     ]
    },
    {
     "name": "stdout",
     "output_type": "stream",
     "text": [
      "0.00046177405710691065\n"
     ]
    },
    {
     "name": "stderr",
     "output_type": "stream",
     "text": [
      " 53%|███████████████████████████████████████████████████████████████████████████████████████████                                                                                  | 79/150 [04:05<04:42,  3.98s/it]"
     ]
    },
    {
     "name": "stdout",
     "output_type": "stream",
     "text": [
      "0.0005145284530985853\n"
     ]
    },
    {
     "name": "stderr",
     "output_type": "stream",
     "text": [
      " 53%|████████████████████████████████████████████████████████████████████████████████████████████▎                                                                                | 80/150 [04:10<04:40,  4.01s/it]"
     ]
    },
    {
     "name": "stdout",
     "output_type": "stream",
     "text": [
      "0.0005733096629695033\n"
     ]
    },
    {
     "name": "stderr",
     "output_type": "stream",
     "text": [
      " 54%|█████████████████████████████████████████████████████████████████████████████████████████████▍                                                                               | 81/150 [04:14<04:39,  4.05s/it]"
     ]
    },
    {
     "name": "stdout",
     "output_type": "stream",
     "text": [
      "0.0006388062072657212\n"
     ]
    },
    {
     "name": "stderr",
     "output_type": "stream",
     "text": [
      " 55%|██████████████████████████████████████████████████████████████████████████████████████████████▌                                                                              | 82/150 [04:18<04:37,  4.09s/it]"
     ]
    },
    {
     "name": "stdout",
     "output_type": "stream",
     "text": [
      "0.0007117852651001318\n"
     ]
    },
    {
     "name": "stderr",
     "output_type": "stream",
     "text": [
      " 55%|███████████████████████████████████████████████████████████████████████████████████████████████▋                                                                             | 83/150 [04:22<04:36,  4.13s/it]"
     ]
    },
    {
     "name": "stdout",
     "output_type": "stream",
     "text": [
      "0.000793101660333306\n"
     ]
    },
    {
     "name": "stderr",
     "output_type": "stream",
     "text": [
      " 56%|████████████████████████████████████████████████████████████████████████████████████████████████▉                                                                            | 84/150 [04:26<04:35,  4.18s/it]"
     ]
    },
    {
     "name": "stdout",
     "output_type": "stream",
     "text": [
      "0.0008837078743614603\n"
     ]
    },
    {
     "name": "stderr",
     "output_type": "stream",
     "text": [
      " 57%|██████████████████████████████████████████████████████████████████████████████████████████████████                                                                           | 85/150 [04:31<04:34,  4.23s/it]"
     ]
    },
    {
     "name": "stdout",
     "output_type": "stream",
     "text": [
      "0.0009846652027941242\n"
     ]
    },
    {
     "name": "stderr",
     "output_type": "stream",
     "text": [
      " 57%|███████████████████████████████████████████████████████████████████████████████████████████████████▏                                                                         | 86/150 [04:35<04:33,  4.27s/it]"
     ]
    },
    {
     "name": "stdout",
     "output_type": "stream",
     "text": [
      "0.0010971561867027262\n"
     ]
    },
    {
     "name": "stderr",
     "output_type": "stream",
     "text": [
      " 58%|████████████████████████████████████████████████████████████████████████████████████████████████████▎                                                                        | 87/150 [04:39<04:32,  4.32s/it]"
     ]
    },
    {
     "name": "stdout",
     "output_type": "stream",
     "text": [
      "0.0012224984640507844\n"
     ]
    },
    {
     "name": "stderr",
     "output_type": "stream",
     "text": [
      " 59%|█████████████████████████████████████████████████████████████████████████████████████████████████████▍                                                                       | 88/150 [04:44<04:30,  4.37s/it]"
     ]
    },
    {
     "name": "stdout",
     "output_type": "stream",
     "text": [
      "0.0013621602035512731\n"
     ]
    },
    {
     "name": "stderr",
     "output_type": "stream",
     "text": [
      " 59%|██████████████████████████████████████████████████████████████████████████████████████████████████████▋                                                                      | 89/150 [04:49<04:29,  4.42s/it]"
     ]
    },
    {
     "name": "stdout",
     "output_type": "stream",
     "text": [
      "0.0015177773017322714\n"
     ]
    },
    {
     "name": "stderr",
     "output_type": "stream",
     "text": [
      " 60%|███████████████████████████████████████████████████████████████████████████████████████████████████████▊                                                                     | 90/150 [04:53<04:28,  4.47s/it]"
     ]
    },
    {
     "name": "stdout",
     "output_type": "stream",
     "text": [
      "0.0016911725446448068\n"
     ]
    },
    {
     "name": "stderr",
     "output_type": "stream",
     "text": [
      " 61%|████████████████████████████████████████████████████████████████████████████████████████████████████████▉                                                                    | 91/150 [04:58<04:27,  4.53s/it]"
     ]
    },
    {
     "name": "stdout",
     "output_type": "stream",
     "text": [
      "0.0018843769586593098\n"
     ]
    },
    {
     "name": "stderr",
     "output_type": "stream",
     "text": [
      " 61%|██████████████████████████████████████████████████████████████████████████████████████████████████████████                                                                   | 92/150 [05:02<04:25,  4.58s/it]"
     ]
    },
    {
     "name": "stdout",
     "output_type": "stream",
     "text": [
      "0.002099653600438446\n"
     ]
    },
    {
     "name": "stderr",
     "output_type": "stream",
     "text": [
      " 62%|███████████████████████████████████████████████████████████████████████████████████████████████████████████▎                                                                 | 93/150 [05:07<04:24,  4.63s/it]"
     ]
    },
    {
     "name": "stdout",
     "output_type": "stream",
     "text": [
      "0.0023395240647448253\n"
     ]
    },
    {
     "name": "stderr",
     "output_type": "stream",
     "text": [
      " 63%|████████████████████████████████████████████████████████████████████████████████████████████████████████████▍                                                                | 94/150 [05:12<04:24,  4.73s/it]"
     ]
    },
    {
     "name": "stdout",
     "output_type": "stream",
     "text": [
      "0.002606798020576923\n"
     ]
    },
    {
     "name": "stderr",
     "output_type": "stream",
     "text": [
      " 63%|█████████████████████████████████████████████████████████████████████████████████████████████████████████████▌                                                               | 95/150 [05:17<04:24,  4.80s/it]"
     ]
    },
    {
     "name": "stdout",
     "output_type": "stream",
     "text": [
      "0.002904606121598046\n"
     ]
    },
    {
     "name": "stderr",
     "output_type": "stream",
     "text": [
      " 64%|██████████████████████████████████████████████████████████████████████████████████████████████████████████████▋                                                              | 96/150 [05:22<04:24,  4.89s/it]"
     ]
    },
    {
     "name": "stdout",
     "output_type": "stream",
     "text": [
      "0.0032364366763473628\n"
     ]
    },
    {
     "name": "stderr",
     "output_type": "stream",
     "text": [
      " 65%|███████████████████████████████████████████████████████████████████████████████████████████████████████████████▊                                                             | 97/150 [05:27<04:21,  4.94s/it]"
     ]
    },
    {
     "name": "stdout",
     "output_type": "stream",
     "text": [
      "0.0036061765077612332\n"
     ]
    },
    {
     "name": "stderr",
     "output_type": "stream",
     "text": [
      " 65%|█████████████████████████████████████████████████████████████████████████████████████████████████████████████████                                                            | 98/150 [05:32<04:18,  4.98s/it]"
     ]
    },
    {
     "name": "stdout",
     "output_type": "stream",
     "text": [
      "0.004018156480603808\n"
     ]
    },
    {
     "name": "stderr",
     "output_type": "stream",
     "text": [
      " 66%|██████████████████████████████████████████████████████████████████████████████████████████████████████████████████▏                                                          | 99/150 [05:37<04:15,  5.02s/it]"
     ]
    },
    {
     "name": "stdout",
     "output_type": "stream",
     "text": [
      "0.00447720223008213\n"
     ]
    },
    {
     "name": "stderr",
     "output_type": "stream",
     "text": [
      " 67%|██████████████████████████████████████████████████████████████████████████████████████████████████████████████████▋                                                         | 100/150 [05:43<04:14,  5.08s/it]"
     ]
    },
    {
     "name": "stdout",
     "output_type": "stream",
     "text": [
      "0.004988690685844118\n"
     ]
    },
    {
     "name": "stderr",
     "output_type": "stream",
     "text": [
      " 67%|███████████████████████████████████████████████████████████████████████████████████████████████████████████████████▊                                                        | 101/150 [05:48<04:12,  5.15s/it]"
     ]
    },
    {
     "name": "stdout",
     "output_type": "stream",
     "text": [
      "0.005558613053440603\n"
     ]
    },
    {
     "name": "stderr",
     "output_type": "stream",
     "text": [
      " 68%|████████████████████████████████████████████████████████████████████████████████████████████████████████████████████▉                                                       | 102/150 [05:53<04:10,  5.22s/it]"
     ]
    },
    {
     "name": "stdout",
     "output_type": "stream",
     "text": [
      "0.006193644990970618\n"
     ]
    },
    {
     "name": "stderr",
     "output_type": "stream",
     "text": [
      " 69%|██████████████████████████████████████████████████████████████████████████████████████████████████████████████████████                                                      | 103/150 [05:59<04:08,  5.29s/it]"
     ]
    },
    {
     "name": "stdout",
     "output_type": "stream",
     "text": [
      "0.006901224802908534\n"
     ]
    },
    {
     "name": "stderr",
     "output_type": "stream",
     "text": [
      " 69%|███████████████████████████████████████████████████████████████████████████████████████████████████████████████████████▎                                                    | 104/150 [06:04<04:06,  5.35s/it]"
     ]
    },
    {
     "name": "stdout",
     "output_type": "stream",
     "text": [
      "0.007689640567018716\n"
     ]
    },
    {
     "name": "stderr",
     "output_type": "stream",
     "text": [
      " 70%|████████████████████████████████████████████████████████████████████████████████████████████████████████████████████████▍                                                   | 105/150 [06:10<04:03,  5.42s/it]"
     ]
    },
    {
     "name": "stdout",
     "output_type": "stream",
     "text": [
      "0.008568127214899482\n"
     ]
    },
    {
     "name": "stderr",
     "output_type": "stream",
     "text": [
      " 71%|█████████████████████████████████████████████████████████████████████████████████████████████████████████████████████████▌                                                  | 106/150 [06:16<04:01,  5.49s/it]"
     ]
    },
    {
     "name": "stdout",
     "output_type": "stream",
     "text": [
      "0.009546974703287536\n"
     ]
    },
    {
     "name": "stderr",
     "output_type": "stream",
     "text": [
      " 71%|██████████████████████████████████████████████████████████████████████████████████████████████████████████████████████████▋                                                 | 107/150 [06:21<03:59,  5.57s/it]"
     ]
    },
    {
     "name": "stdout",
     "output_type": "stream",
     "text": [
      "0.01063764854316314\n"
     ]
    },
    {
     "name": "stderr",
     "output_type": "stream",
     "text": [
      " 72%|███████████████████████████████████████████████████████████████████████████████████████████████████████████████████████████▊                                                | 108/150 [06:27<03:56,  5.64s/it]"
     ]
    },
    {
     "name": "stdout",
     "output_type": "stream",
     "text": [
      "0.011852924098447019\n"
     ]
    },
    {
     "name": "stderr",
     "output_type": "stream",
     "text": [
      " 73%|████████████████████████████████████████████████████████████████████████████████████████████████████████████████████████████▉                                               | 109/150 [06:33<03:54,  5.71s/it]"
     ]
    },
    {
     "name": "stdout",
     "output_type": "stream",
     "text": [
      "0.01320703622736631\n"
     ]
    },
    {
     "name": "stderr",
     "output_type": "stream",
     "text": [
      " 73%|██████████████████████████████████████████████████████████████████████████████████████████████████████████████████████████████▏                                             | 110/150 [06:39<03:51,  5.80s/it]"
     ]
    },
    {
     "name": "stdout",
     "output_type": "stream",
     "text": [
      "0.014715846019280557\n"
     ]
    },
    {
     "name": "stderr",
     "output_type": "stream",
     "text": [
      " 74%|███████████████████████████████████████████████████████████████████████████████████████████████████████████████████████████████▎                                            | 111/150 [06:45<03:50,  5.91s/it]"
     ]
    },
    {
     "name": "stdout",
     "output_type": "stream",
     "text": [
      "0.016397026580002087\n"
     ]
    },
    {
     "name": "stderr",
     "output_type": "stream",
     "text": [
      " 75%|████████████████████████████████████████████████████████████████████████████████████████████████████████████████████████████████▍                                           | 112/150 [06:51<03:48,  6.00s/it]"
     ]
    },
    {
     "name": "stdout",
     "output_type": "stream",
     "text": [
      "0.018270270041765412\n"
     ]
    },
    {
     "name": "stderr",
     "output_type": "stream",
     "text": [
      " 75%|█████████████████████████████████████████████████████████████████████████████████████████████████████████████████████████████████▌                                          | 113/150 [06:58<03:44,  6.07s/it]"
     ]
    },
    {
     "name": "stdout",
     "output_type": "stream",
     "text": [
      "0.020357518222611084\n"
     ]
    },
    {
     "name": "stderr",
     "output_type": "stream",
     "text": [
      " 76%|██████████████████████████████████████████████████████████████████████████████████████████████████████████████████████████████████▋                                         | 114/150 [07:04<03:40,  6.13s/it]"
     ]
    },
    {
     "name": "stdout",
     "output_type": "stream",
     "text": [
      "0.022683219636960388\n"
     ]
    },
    {
     "name": "stderr",
     "output_type": "stream",
     "text": [
      " 77%|███████████████████████████████████████████████████████████████████████████████████████████████████████████████████████████████████▊                                        | 115/150 [07:10<03:37,  6.20s/it]"
     ]
    },
    {
     "name": "stdout",
     "output_type": "stream",
     "text": [
      "0.02527461586781727\n"
     ]
    },
    {
     "name": "stderr",
     "output_type": "stream",
     "text": [
      " 77%|█████████████████████████████████████████████████████████████████████████████████████████████████████████████████████████████████████                                       | 116/150 [07:17<03:33,  6.28s/it]"
     ]
    },
    {
     "name": "stdout",
     "output_type": "stream",
     "text": [
      "0.02816206065495399\n"
     ]
    },
    {
     "name": "stderr",
     "output_type": "stream",
     "text": [
      " 78%|██████████████████████████████████████████████████████████████████████████████████████████████████████████████████████████████████████▏                                     | 117/150 [07:23<03:29,  6.36s/it]"
     ]
    },
    {
     "name": "stdout",
     "output_type": "stream",
     "text": [
      "0.031379375436648274\n"
     ]
    },
    {
     "name": "stderr",
     "output_type": "stream",
     "text": [
      " 79%|███████████████████████████████████████████████████████████████████████████████████████████████████████████████████████████████████████▎                                    | 118/150 [07:30<03:26,  6.44s/it]"
     ]
    },
    {
     "name": "stdout",
     "output_type": "stream",
     "text": [
      "0.034964245509531366\n"
     ]
    },
    {
     "name": "stderr",
     "output_type": "stream",
     "text": [
      " 79%|████████████████████████████████████████████████████████████████████████████████████████████████████████████████████████████████████████▍                                   | 119/150 [07:37<03:22,  6.53s/it]"
     ]
    },
    {
     "name": "stdout",
     "output_type": "stream",
     "text": [
      "0.038958661446875605\n"
     ]
    },
    {
     "name": "stderr",
     "output_type": "stream",
     "text": [
      " 80%|█████████████████████████████████████████████████████████████████████████████████████████████████████████████████████████████████████████▌                                  | 120/150 [07:43<03:18,  6.63s/it]"
     ]
    },
    {
     "name": "stdout",
     "output_type": "stream",
     "text": [
      "0.043409410945776605\n"
     ]
    },
    {
     "name": "stderr",
     "output_type": "stream",
     "text": [
      " 81%|██████████████████████████████████████████████████████████████████████████████████████████████████████████████████████████████████████████▋                                 | 121/150 [07:50<03:15,  6.73s/it]"
     ]
    },
    {
     "name": "stdout",
     "output_type": "stream",
     "text": [
      "0.04836862686437181\n"
     ]
    },
    {
     "name": "stderr",
     "output_type": "stream",
     "text": [
      " 81%|███████████████████████████████████████████████████████████████████████████████████████████████████████████████████████████████████████████▉                                | 122/150 [07:58<03:11,  6.84s/it]"
     ]
    },
    {
     "name": "stdout",
     "output_type": "stream",
     "text": [
      "0.053894397868406066\n"
     ]
    },
    {
     "name": "stderr",
     "output_type": "stream",
     "text": [
      " 82%|█████████████████████████████████████████████████████████████████████████████████████████████████████████████████████████████████████████████                               | 123/150 [08:05<03:07,  6.94s/it]"
     ]
    },
    {
     "name": "stdout",
     "output_type": "stream",
     "text": [
      "0.060051448839817625\n"
     ]
    },
    {
     "name": "stderr",
     "output_type": "stream",
     "text": [
      " 83%|██████████████████████████████████████████████████████████████████████████████████████████████████████████████████████████████████████████████▏                             | 124/150 [08:12<03:03,  7.05s/it]"
     ]
    },
    {
     "name": "stdout",
     "output_type": "stream",
     "text": [
      "0.06691189901715636\n"
     ]
    },
    {
     "name": "stderr",
     "output_type": "stream",
     "text": [
      " 83%|███████████████████████████████████████████████████████████████████████████████████████████████████████████████████████████████████████████████▎                            | 125/150 [08:19<02:59,  7.17s/it]"
     ]
    },
    {
     "name": "stdout",
     "output_type": "stream",
     "text": [
      "0.07455610674814366\n"
     ]
    },
    {
     "name": "stderr",
     "output_type": "stream",
     "text": [
      " 84%|████████████████████████████████████████████████████████████████████████████████████████████████████████████████████████████████████████████████▍                           | 126/150 [08:27<02:54,  7.28s/it]"
     ]
    },
    {
     "name": "stdout",
     "output_type": "stream",
     "text": [
      "0.08307361074919369\n"
     ]
    },
    {
     "name": "stderr",
     "output_type": "stream",
     "text": [
      " 85%|█████████████████████████████████████████████████████████████████████████████████████████████████████████████████████████████████████████████████▋                          | 127/150 [08:35<02:50,  7.41s/it]"
     ]
    },
    {
     "name": "stdout",
     "output_type": "stream",
     "text": [
      "0.09256417889712791\n"
     ]
    },
    {
     "name": "stderr",
     "output_type": "stream",
     "text": [
      " 85%|██████████████████████████████████████████████████████████████████████████████████████████████████████████████████████████████████████████████████▊                         | 128/150 [08:43<02:45,  7.53s/it]"
     ]
    },
    {
     "name": "stdout",
     "output_type": "stream",
     "text": [
      "0.10313897683787221\n"
     ]
    },
    {
     "name": "stderr",
     "output_type": "stream",
     "text": [
      " 86%|███████████████████████████████████████████████████████████████████████████████████████████████████████████████████████████████████████████████████▉                        | 129/150 [08:51<02:40,  7.66s/it]"
     ]
    },
    {
     "name": "stdout",
     "output_type": "stream",
     "text": [
      "0.11492187010036997\n"
     ]
    },
    {
     "name": "stderr",
     "output_type": "stream",
     "text": [
      " 87%|█████████████████████████████████████████████████████████████████████████████████████████████████████████████████████████████████████████████████████                       | 130/150 [08:59<02:35,  7.80s/it]"
     ]
    },
    {
     "name": "stdout",
     "output_type": "stream",
     "text": [
      "0.12805087496773324\n"
     ]
    },
    {
     "name": "stderr",
     "output_type": "stream",
     "text": [
      " 87%|██████████████████████████████████████████████████████████████████████████████████████████████████████████████████████████████████████████████████████▏                     | 131/150 [09:07<02:30,  7.94s/it]"
     ]
    },
    {
     "name": "stdout",
     "output_type": "stream",
     "text": [
      "0.142679775100086\n"
     ]
    },
    {
     "name": "stderr",
     "output_type": "stream",
     "text": [
      " 88%|███████████████████████████████████████████████████████████████████████████████████████████████████████████████████████████████████████████████████████▎                    | 132/150 [09:15<02:25,  8.08s/it]"
     ]
    },
    {
     "name": "stdout",
     "output_type": "stream",
     "text": [
      "0.1589799228450477\n"
     ]
    },
    {
     "name": "stderr",
     "output_type": "stream",
     "text": [
      " 89%|████████████████████████████████████████████████████████████████████████████████████████████████████████████████████████████████████████████████████████▌                   | 133/150 [09:24<02:19,  8.23s/it]"
     ]
    },
    {
     "name": "stdout",
     "output_type": "stream",
     "text": [
      "0.17714224633510853\n"
     ]
    },
    {
     "name": "stderr",
     "output_type": "stream",
     "text": [
      " 89%|█████████████████████████████████████████████████████████████████████████████████████████████████████████████████████████████████████████████████████████▋                  | 134/150 [09:33<02:14,  8.38s/it]"
     ]
    },
    {
     "name": "stdout",
     "output_type": "stream",
     "text": [
      "0.19737948588157686\n"
     ]
    },
    {
     "name": "stderr",
     "output_type": "stream",
     "text": [
      " 90%|██████████████████████████████████████████████████████████████████████████████████████████████████████████████████████████████████████████████████████████▊                 | 135/150 [09:41<02:07,  8.53s/it]"
     ]
    },
    {
     "name": "stdout",
     "output_type": "stream",
     "text": [
      "0.2199286858606028\n"
     ]
    },
    {
     "name": "stderr",
     "output_type": "stream",
     "text": [
      " 91%|███████████████████████████████████████████████████████████████████████████████████████████████████████████████████████████████████████████████████████████▉                | 136/150 [09:51<02:01,  8.69s/it]"
     ]
    },
    {
     "name": "stdout",
     "output_type": "stream",
     "text": [
      "0.24505397127942602\n"
     ]
    },
    {
     "name": "stderr",
     "output_type": "stream",
     "text": [
      " 91%|█████████████████████████████████████████████████████████████████████████████████████████████████████████████████████████████████████████████████████████████               | 137/150 [10:00<01:54,  8.84s/it]"
     ]
    },
    {
     "name": "stdout",
     "output_type": "stream",
     "text": [
      "0.2730496415455325\n"
     ]
    },
    {
     "name": "stderr",
     "output_type": "stream",
     "text": [
      " 92%|██████████████████████████████████████████████████████████████████████████████████████████████████████████████████████████████████████████████████████████████▏             | 138/150 [10:09<01:48,  9.01s/it]"
     ]
    },
    {
     "name": "stdout",
     "output_type": "stream",
     "text": [
      "0.30424361767690034\n"
     ]
    },
    {
     "name": "stderr",
     "output_type": "stream",
     "text": [
      " 93%|███████████████████████████████████████████████████████████████████████████████████████████████████████████████████████████████████████████████████████████████▍            | 139/150 [10:19<01:40,  9.17s/it]"
     ]
    },
    {
     "name": "stdout",
     "output_type": "stream",
     "text": [
      "0.3390012833314499\n"
     ]
    },
    {
     "name": "stderr",
     "output_type": "stream",
     "text": [
      " 93%|████████████████████████████████████████████████████████████████████████████████████████████████████████████████████████████████████████████████████████████████▌           | 140/150 [10:28<01:33,  9.35s/it]"
     ]
    },
    {
     "name": "stdout",
     "output_type": "stream",
     "text": [
      "0.37772976464674546\n"
     ]
    },
    {
     "name": "stderr",
     "output_type": "stream",
     "text": [
      " 94%|█████████████████████████████████████████████████████████████████████████████████████████████████████████████████████████████████████████████████████████████████▋          | 141/150 [10:38<01:25,  9.52s/it]"
     ]
    },
    {
     "name": "stdout",
     "output_type": "stream",
     "text": [
      "0.42088269902088976\n"
     ]
    },
    {
     "name": "stderr",
     "output_type": "stream",
     "text": [
      " 95%|██████████████████████████████████████████████████████████████████████████████████████████████████████████████████████████████████████████████████████████████████▊         | 142/150 [10:48<01:17,  9.69s/it]"
     ]
    },
    {
     "name": "stdout",
     "output_type": "stream",
     "text": [
      "0.4689655486926553\n"
     ]
    },
    {
     "name": "stderr",
     "output_type": "stream",
     "text": [
      " 95%|███████████████████████████████████████████████████████████████████████████████████████████████████████████████████████████████████████████████████████████████████▉        | 143/150 [10:59<01:09,  9.88s/it]"
     ]
    },
    {
     "name": "stdout",
     "output_type": "stream",
     "text": [
      "0.5225415213602959\n"
     ]
    },
    {
     "name": "stderr",
     "output_type": "stream",
     "text": [
      " 96%|█████████████████████████████████████████████████████████████████████████████████████████████████████████████████████████████████████████████████████████████████████       | 144/150 [11:09<01:00, 10.09s/it]"
     ]
    },
    {
     "name": "stdout",
     "output_type": "stream",
     "text": [
      "0.582238167188866\n"
     ]
    },
    {
     "name": "stderr",
     "output_type": "stream",
     "text": [
      " 97%|██████████████████████████████████████████████████████████████████████████████████████████████████████████████████████████████████████████████████████████████████████▎     | 145/150 [11:20<00:51, 10.30s/it]"
     ]
    },
    {
     "name": "stdout",
     "output_type": "stream",
     "text": [
      "0.6487547294786289\n"
     ]
    },
    {
     "name": "stderr",
     "output_type": "stream",
     "text": [
      " 97%|███████████████████████████████████████████████████████████████████████████████████████████████████████████████████████████████████████████████████████████████████████▍    | 146/150 [11:31<00:42, 10.54s/it]"
     ]
    },
    {
     "name": "stdout",
     "output_type": "stream",
     "text": [
      "0.722870335094958\n"
     ]
    },
    {
     "name": "stderr",
     "output_type": "stream",
     "text": [
      " 98%|████████████████████████████████████████████████████████████████████████████████████████████████████████████████████████████████████████████████████████████████████████▌   | 147/150 [11:43<00:32, 10.81s/it]"
     ]
    },
    {
     "name": "stdout",
     "output_type": "stream",
     "text": [
      "0.8054531205964939\n"
     ]
    },
    {
     "name": "stderr",
     "output_type": "stream",
     "text": [
      " 99%|█████████████████████████████████████████████████████████████████████████████████████████████████████████████████████████████████████████████████████████████████████████▋  | 148/150 [11:55<00:22, 11.15s/it]"
     ]
    },
    {
     "name": "stdout",
     "output_type": "stream",
     "text": [
      "0.8974704009584349\n"
     ]
    },
    {
     "name": "stderr",
     "output_type": "stream",
     "text": [
      " 99%|██████████████████████████████████████████████████████████████████████████████████████████████████████████████████████████████████████████████████████████████████████████▊ | 149/150 [12:07<00:11, 11.66s/it]"
     ]
    },
    {
     "name": "stdout",
     "output_type": "stream",
     "text": [
      "1.0\n"
     ]
    },
    {
     "name": "stderr",
     "output_type": "stream",
     "text": [
      "/home1/md.shaikh/Eccentricity/paper/plot_scripts/../../measureEccentricity/eccDefinition.py:415: UserWarning: time array t_for_ecc_test is too long. Length is 1339265\n",
      "  warnings.warn(\"time array t_for_ecc_test is too long.\"\n",
      "/home1/md.shaikh/Eccentricity/paper/plot_scripts/../../measureEccentricity/eccDefinition.py:415: UserWarning: time array t_for_ecc_test is too long. Length is 1528352\n",
      "  warnings.warn(\"time array t_for_ecc_test is too long.\"\n",
      "100%|████████████████████████████████████████████████████████████████████████████████████████████████████████████████████████████████████████████████████████████████████████████| 150/150 [12:26<00:00,  4.98s/it]\n"
     ]
    }
   ],
   "source": [
    "eobEccs = 10**np.linspace(-7, 0., 150)\n",
    "method = \"ResidualAmplitude\"\n",
    "measuredEccsTrue = []\n",
    "eEOBTrue = []\n",
    "measuredEccsFalse = []\n",
    "eEOBFalse = []\n",
    "for EOBecc in tqdm(eobEccs):\n",
    "    print(EOBecc)\n",
    "    dataDict = getDataDict(0.01, EOBecc)\n",
    "    tref_in = dataDict[\"t\"] - get_peak_via_quadratic_fit(dataDict[\"t\"], np.abs(dataDict[\"hlm\"][(2, 2)]))[0]\n",
    "    for case in [True, False]:\n",
    "        try:\n",
    "            tref, ecc, meanAno, eccMethod = measure_eccentricity(tref_in=tref_in,\n",
    "                                                        dataDict=dataDict,\n",
    "                                                        method=method,\n",
    "                                                        return_ecc_method=True,\n",
    "                                                        extra_kwargs={\"treat_mid_points_between_peaks_as_troughs\": case})\n",
    "            if case:\n",
    "                measuredEccsTrue.append(ecc[0])\n",
    "                eEOBTrue.append(EOBecc)\n",
    "            else:\n",
    "                measuredEccsFalse.append(ecc[0])\n",
    "                eEOBFalse.append(EOBecc)\n",
    "        except Exception:\n",
    "            print(f\"failed for {EOBecc} for {method}.\")"
   ]
  },
  {
   "cell_type": "code",
   "execution_count": 53,
   "id": "a67286f1-846f-442a-88d9-68619c1172ab",
   "metadata": {},
   "outputs": [
    {
     "data": {
      "text/plain": [
       "<matplotlib.legend.Legend at 0x7f120f00d670>"
      ]
     },
     "execution_count": 53,
     "metadata": {},
     "output_type": "execute_result"
    },
    {
     "data": {
      "image/png": "[encoded data removed]",
      "text/plain": [
       "<Figure size 244.8x216 with 1 Axes>"
      ]
     },
     "metadata": {
      "needs_background": "light"
     },
     "output_type": "display_data"
    }
   ],
   "source": [
    "fig, ax = plt.subplots(figsize=(figWidthsOneColDict[journal], 3))\n",
    "if len(measuredEccsTrue) >= 1:\n",
    "    ax.plot(eEOBTrue, measuredEccsTrue, label=f\"True\", ls=\"-\")\n",
    "if len(measuredEccsFalse) >= 1:\n",
    "    ax.plot(eEOBFalse, measuredEccsFalse, label=f\"False\", c=colorsDict[method], ls=\"--\")\n",
    "ax.set_xscale(\"log\")\n",
    "ax.set_yscale(\"log\")\n",
    "ax.set_xlabel(\"$e_{\\mathrm{EOB}}$\")\n",
    "ax.set_ylabel(\"Measured Eccentricity $e$\")\n",
    "ax.legend()\n",
    "ax.set_ylim(top=1.0)\n",
    "ax.set_xlim(left=1e-7, right=1.0)\n",
    "# set major ticks\n",
    "locmaj = mpl.ticker.LogLocator(base=10, numticks=20)\n",
    "ax.xaxis.set_major_locator(locmaj)\n",
    "# set minor ticks\n",
    "locmin = mpl.ticker.LogLocator(base=10.0, subs=np.arange(0.1, 1.0, 0.1),\n",
    "                                numticks=20)\n",
    "ax.xaxis.set_minor_locator(locmin)\n",
    "ax.xaxis.set_minor_formatter(mpl.ticker.NullFormatter())\n",
    "ax.grid(which=\"major\")\n",
    "ax.legend()"
   ]
  },
  {
   "cell_type": "code",
   "execution_count": 54,
   "id": "51f40fe6-79cf-4ed4-b2a3-f7463d2d3c8d",
   "metadata": {},
   "outputs": [],
   "source": [
    "fig.suptitle(f\"$q={q:.1f}$, $\\chi_{{1z}}={chi1:.1f}$, $\\chi_{{2z}}={chi2:.1f}$\")\n",
    "fig.subplots_adjust(left=0.16, right=0.96, top=0.9)\n",
    "fig.savefig(f\"../../../public_html/EccDefinition/test_eob_vs_measured_ecc_resamp_compare_set_{key}_method_{method}.pdf\")"
   ]
  },
  {
   "cell_type": "code",
   "execution_count": 55,
   "id": "f9ec6c99-5c68-462a-b2f8-bd814390223e",
   "metadata": {
    "tags": []
   },
   "outputs": [
    {
     "name": "stderr",
     "output_type": "stream",
     "text": [
      "  0%|                                                                                                                                                                                      | 0/150 [00:00<?, ?it/s]"
     ]
    },
    {
     "name": "stdout",
     "output_type": "stream",
     "text": [
      "1e-07\n"
     ]
    },
    {
     "name": "stderr",
     "output_type": "stream",
     "text": [
      "/home1/md.shaikh/Eccentricity/paper/plot_scripts/../../measureEccentricity/eccDefinition.py:425: UserWarning: Ecc(t) is non monotonic.\n",
      "  warnings.warn(\"Ecc(t) is non monotonic.\")\n",
      "  1%|█▏                                                                                                                                                                            | 1/150 [00:02<07:14,  2.91s/it]"
     ]
    },
    {
     "name": "stdout",
     "output_type": "stream",
     "text": [
      "1.1142428752325099e-07\n"
     ]
    },
    {
     "name": "stderr",
     "output_type": "stream",
     "text": [
      "  1%|██▎                                                                                                                                                                           | 2/150 [00:05<06:58,  2.83s/it]"
     ]
    },
    {
     "name": "stdout",
     "output_type": "stream",
     "text": [
      "1.2415371850064104e-07\n"
     ]
    },
    {
     "name": "stderr",
     "output_type": "stream",
     "text": [
      "  2%|███▍                                                                                                                                                                          | 3/150 [00:08<06:51,  2.80s/it]"
     ]
    },
    {
     "name": "stdout",
     "output_type": "stream",
     "text": [
      "1.3833739627296223e-07\n"
     ]
    },
    {
     "name": "stderr",
     "output_type": "stream",
     "text": [
      "  3%|████▋                                                                                                                                                                         | 4/150 [00:11<06:47,  2.79s/it]"
     ]
    },
    {
     "name": "stdout",
     "output_type": "stream",
     "text": [
      "1.5414145817536454e-07\n"
     ]
    },
    {
     "name": "stderr",
     "output_type": "stream",
     "text": [
      "  3%|█████▊                                                                                                                                                                        | 5/150 [00:13<06:43,  2.78s/it]"
     ]
    },
    {
     "name": "stdout",
     "output_type": "stream",
     "text": [
      "1.7175102154984983e-07\n"
     ]
    },
    {
     "name": "stderr",
     "output_type": "stream",
     "text": [
      "  4%|██████▉                                                                                                                                                                       | 6/150 [00:16<06:39,  2.78s/it]"
     ]
    },
    {
     "name": "stdout",
     "output_type": "stream",
     "text": [
      "1.9137235207582544e-07\n"
     ]
    },
    {
     "name": "stderr",
     "output_type": "stream",
     "text": [
      "  5%|████████                                                                                                                                                                      | 7/150 [00:19<06:39,  2.79s/it]"
     ]
    },
    {
     "name": "stdout",
     "output_type": "stream",
     "text": [
      "2.1323527981697593e-07\n"
     ]
    },
    {
     "name": "stderr",
     "output_type": "stream",
     "text": [
      "  5%|█████████▎                                                                                                                                                                    | 8/150 [00:22<06:47,  2.87s/it]"
     ]
    },
    {
     "name": "stdout",
     "output_type": "stream",
     "text": [
      "2.3759589128427652e-07\n"
     ]
    },
    {
     "name": "stderr",
     "output_type": "stream",
     "text": [
      "  6%|██████████▍                                                                                                                                                                   | 9/150 [00:25<06:56,  2.95s/it]"
     ]
    },
    {
     "name": "stdout",
     "output_type": "stream",
     "text": [
      "2.647395290480231e-07\n"
     ]
    },
    {
     "name": "stderr",
     "output_type": "stream",
     "text": [
      "  7%|███████████▌                                                                                                                                                                 | 10/150 [00:28<06:54,  2.96s/it]"
     ]
    },
    {
     "name": "stdout",
     "output_type": "stream",
     "text": [
      "2.949841340341698e-07\n"
     ]
    },
    {
     "name": "stderr",
     "output_type": "stream",
     "text": [
      "  7%|████████████▋                                                                                                                                                                | 11/150 [00:31<06:45,  2.92s/it]"
     ]
    },
    {
     "name": "stdout",
     "output_type": "stream",
     "text": [
      "3.286839696542055e-07\n"
     ]
    },
    {
     "name": "stderr",
     "output_type": "stream",
     "text": [
      "  8%|█████████████▊                                                                                                                                                               | 12/150 [00:34<06:41,  2.91s/it]"
     ]
    },
    {
     "name": "stdout",
     "output_type": "stream",
     "text": [
      "3.662337713903369e-07\n"
     ]
    },
    {
     "name": "stderr",
     "output_type": "stream",
     "text": [
      "  9%|██████████████▉                                                                                                                                                              | 13/150 [00:37<06:46,  2.97s/it]"
     ]
    },
    {
     "name": "stdout",
     "output_type": "stream",
     "text": [
      "4.0807337044121557e-07\n"
     ]
    },
    {
     "name": "stderr",
     "output_type": "stream",
     "text": [
      "  9%|████████████████▏                                                                                                                                                            | 14/150 [00:40<06:38,  2.93s/it]"
     ]
    },
    {
     "name": "stdout",
     "output_type": "stream",
     "text": [
      "4.5469284558624114e-07\n"
     ]
    },
    {
     "name": "stderr",
     "output_type": "stream",
     "text": [
      " 10%|█████████████████▎                                                                                                                                                           | 15/150 [00:43<06:32,  2.91s/it]"
     ]
    },
    {
     "name": "stdout",
     "output_type": "stream",
     "text": [
      "5.066382636136649e-07\n"
     ]
    },
    {
     "name": "stderr",
     "output_type": "stream",
     "text": [
      " 11%|██████████████████▍                                                                                                                                                          | 16/150 [00:46<06:25,  2.88s/it]"
     ]
    },
    {
     "name": "stdout",
     "output_type": "stream",
     "text": [
      "5.645180755516963e-07\n"
     ]
    },
    {
     "name": "stderr",
     "output_type": "stream",
     "text": [
      " 11%|███████████████████▌                                                                                                                                                         | 17/150 [00:48<06:23,  2.88s/it]"
     ]
    },
    {
     "name": "stdout",
     "output_type": "stream",
     "text": [
      "6.290102436234467e-07\n"
     ]
    },
    {
     "name": "stderr",
     "output_type": "stream",
     "text": [
      " 12%|████████████████████▊                                                                                                                                                        | 18/150 [00:51<06:21,  2.89s/it]"
     ]
    },
    {
     "name": "stdout",
     "output_type": "stream",
     "text": [
      "7.008701824056906e-07\n"
     ]
    },
    {
     "name": "stderr",
     "output_type": "stream",
     "text": [
      " 13%|█████████████████████▉                                                                                                                                                       | 19/150 [00:54<06:15,  2.87s/it]"
     ]
    },
    {
     "name": "stdout",
     "output_type": "stream",
     "text": [
      "7.809396072084504e-07\n"
     ]
    },
    {
     "name": "stderr",
     "output_type": "stream",
     "text": [
      " 13%|███████████████████████                                                                                                                                                      | 20/150 [00:57<06:17,  2.91s/it]"
     ]
    },
    {
     "name": "stdout",
     "output_type": "stream",
     "text": [
      "8.701563933188907e-07\n"
     ]
    },
    {
     "name": "stderr",
     "output_type": "stream",
     "text": [
      " 14%|████████████████████████▏                                                                                                                                                    | 21/150 [01:00<06:11,  2.88s/it]"
     ]
    },
    {
     "name": "stdout",
     "output_type": "stream",
     "text": [
      "9.695655615935915e-07\n"
     ]
    },
    {
     "name": "stderr",
     "output_type": "stream",
     "text": [
      " 15%|█████████████████████████▎                                                                                                                                                   | 22/150 [01:03<06:04,  2.85s/it]"
     ]
    },
    {
     "name": "stdout",
     "output_type": "stream",
     "text": [
      "1.0803315190764665e-06\n"
     ]
    },
    {
     "name": "stderr",
     "output_type": "stream",
     "text": [
      " 15%|██████████████████████████▌                                                                                                                                                  | 23/150 [01:06<05:58,  2.82s/it]"
     ]
    },
    {
     "name": "stdout",
     "output_type": "stream",
     "text": [
      "1.2037516980200695e-06\n"
     ]
    },
    {
     "name": "stderr",
     "output_type": "stream",
     "text": [
      " 16%|███████████████████████████▋                                                                                                                                                 | 24/150 [01:08<05:53,  2.81s/it]"
     ]
    },
    {
     "name": "stdout",
     "output_type": "stream",
     "text": [
      "1.3412717530678983e-06\n"
     ]
    },
    {
     "name": "stderr",
     "output_type": "stream",
     "text": [
      " 17%|████████████████████████████▊                                                                                                                                                | 25/150 [01:11<05:56,  2.85s/it]"
     ]
    },
    {
     "name": "stdout",
     "output_type": "stream",
     "text": [
      "1.494502494606524e-06\n"
     ]
    },
    {
     "name": "stderr",
     "output_type": "stream",
     "text": [
      " 17%|█████████████████████████████▉                                                                                                                                               | 26/150 [01:14<05:53,  2.85s/it]"
     ]
    },
    {
     "name": "stdout",
     "output_type": "stream",
     "text": [
      "1.665238756632532e-06\n"
     ]
    },
    {
     "name": "stderr",
     "output_type": "stream",
     "text": [
      " 18%|███████████████████████████████▏                                                                                                                                             | 27/150 [01:17<05:48,  2.84s/it]"
     ]
    },
    {
     "name": "stdout",
     "output_type": "stream",
     "text": [
      "1.8554804201388458e-06\n"
     ]
    },
    {
     "name": "stderr",
     "output_type": "stream",
     "text": [
      " 19%|████████████████████████████████▎                                                                                                                                            | 28/150 [01:20<05:44,  2.83s/it]"
     ]
    },
    {
     "name": "stdout",
     "output_type": "stream",
     "text": [
      "2.067455838273133e-06\n"
     ]
    },
    {
     "name": "stderr",
     "output_type": "stream",
     "text": [
      " 19%|█████████████████████████████████▍                                                                                                                                           | 29/150 [01:22<05:41,  2.82s/it]"
     ]
    },
    {
     "name": "stdout",
     "output_type": "stream",
     "text": [
      "2.3036479376536947e-06\n"
     ]
    },
    {
     "name": "stderr",
     "output_type": "stream",
     "text": [
      " 20%|██████████████████████████████████▌                                                                                                                                          | 30/150 [01:25<05:38,  2.82s/it]"
     ]
    },
    {
     "name": "stdout",
     "output_type": "stream",
     "text": [
      "2.5668233015746943e-06\n"
     ]
    },
    {
     "name": "stderr",
     "output_type": "stream",
     "text": [
      " 21%|███████████████████████████████████▊                                                                                                                                         | 31/150 [01:28<05:36,  2.83s/it]"
     ]
    },
    {
     "name": "stdout",
     "output_type": "stream",
     "text": [
      "2.8600645757603915e-06\n"
     ]
    },
    {
     "name": "stderr",
     "output_type": "stream",
     "text": [
      " 21%|████████████████████████████████████▉                                                                                                                                        | 32/150 [01:31<05:33,  2.83s/it]"
     ]
    },
    {
     "name": "stdout",
     "output_type": "stream",
     "text": [
      "3.186806576245907e-06\n"
     ]
    },
    {
     "name": "stderr",
     "output_type": "stream",
     "text": [
      " 22%|██████████████████████████████████████                                                                                                                                       | 33/150 [01:34<05:36,  2.87s/it]"
     ]
    },
    {
     "name": "stdout",
     "output_type": "stream",
     "text": [
      "3.5508765223261173e-06\n"
     ]
    },
    {
     "name": "stderr",
     "output_type": "stream",
     "text": [
      " 23%|███████████████████████████████████████▏                                                                                                                                     | 34/150 [01:37<05:40,  2.94s/it]"
     ]
    },
    {
     "name": "stdout",
     "output_type": "stream",
     "text": [
      "3.956538865832268e-06\n"
     ]
    },
    {
     "name": "stderr",
     "output_type": "stream",
     "text": [
      " 23%|████████████████████████████████████████▎                                                                                                                                    | 35/150 [01:40<05:34,  2.91s/it]"
     ]
    },
    {
     "name": "stdout",
     "output_type": "stream",
     "text": [
      "4.40854524183412e-06\n"
     ]
    },
    {
     "name": "stderr",
     "output_type": "stream",
     "text": [
      " 24%|█████████████████████████████████████████▌                                                                                                                                   | 36/150 [01:43<05:28,  2.89s/it]"
     ]
    },
    {
     "name": "stdout",
     "output_type": "stream",
     "text": [
      "4.912190125853851e-06\n"
     ]
    },
    {
     "name": "stderr",
     "output_type": "stream",
     "text": [
      " 25%|██████████████████████████████████████████▋                                                                                                                                  | 37/150 [01:46<05:30,  2.92s/it]"
     ]
    },
    {
     "name": "stdout",
     "output_type": "stream",
     "text": [
      "5.47337284952015e-06\n"
     ]
    },
    {
     "name": "stderr",
     "output_type": "stream",
     "text": [
      " 25%|███████████████████████████████████████████▊                                                                                                                                 | 38/150 [01:49<05:33,  2.97s/it]"
     ]
    },
    {
     "name": "stdout",
     "output_type": "stream",
     "text": [
      "6.098666701068888e-06\n"
     ]
    },
    {
     "name": "stderr",
     "output_type": "stream",
     "text": [
      " 26%|████████████████████████████████████████████▉                                                                                                                                | 39/150 [01:52<05:28,  2.96s/it]"
     ]
    },
    {
     "name": "stdout",
     "output_type": "stream",
     "text": [
      "6.795395920083764e-06\n"
     ]
    },
    {
     "name": "stderr",
     "output_type": "stream",
     "text": [
      " 27%|██████████████████████████████████████████████▏                                                                                                                              | 40/150 [01:55<05:27,  2.98s/it]"
     ]
    },
    {
     "name": "stdout",
     "output_type": "stream",
     "text": [
      "7.5717214883374e-06\n"
     ]
    },
    {
     "name": "stderr",
     "output_type": "stream",
     "text": [
      " 27%|███████████████████████████████████████████████▎                                                                                                                             | 41/150 [01:58<05:23,  2.97s/it]"
     ]
    },
    {
     "name": "stdout",
     "output_type": "stream",
     "text": [
      "8.436736721624844e-06\n"
     ]
    },
    {
     "name": "stderr",
     "output_type": "stream",
     "text": [
      " 28%|████████████████████████████████████████████████▍                                                                                                                            | 42/150 [02:01<05:19,  2.96s/it]"
     ]
    },
    {
     "name": "stdout",
     "output_type": "stream",
     "text": [
      "9.400573782282964e-06\n"
     ]
    },
    {
     "name": "stderr",
     "output_type": "stream",
     "text": [
      " 29%|█████████████████████████████████████████████████▌                                                                                                                           | 43/150 [02:04<05:16,  2.96s/it]"
     ]
    },
    {
     "name": "stdout",
     "output_type": "stream",
     "text": [
      "1.047452236000632e-05\n"
     ]
    },
    {
     "name": "stderr",
     "output_type": "stream",
     "text": [
      " 29%|██████████████████████████████████████████████████▋                                                                                                                          | 44/150 [02:07<05:13,  2.96s/it]"
     ]
    },
    {
     "name": "stdout",
     "output_type": "stream",
     "text": [
      "1.1671161911100682e-05\n"
     ]
    },
    {
     "name": "stderr",
     "output_type": "stream",
     "text": [
      " 30%|███████████████████████████████████████████████████▉                                                                                                                         | 45/150 [02:10<05:11,  2.97s/it]"
     ]
    },
    {
     "name": "stdout",
     "output_type": "stream",
     "text": [
      "1.3004509005128978e-05\n"
     ]
    },
    {
     "name": "stderr",
     "output_type": "stream",
     "text": [
      " 31%|█████████████████████████████████████████████████████                                                                                                                        | 46/150 [02:13<05:10,  2.99s/it]"
     ]
    },
    {
     "name": "stdout",
     "output_type": "stream",
     "text": [
      "1.4490181504862008e-05\n"
     ]
    },
    {
     "name": "stderr",
     "output_type": "stream",
     "text": [
      " 31%|██████████████████████████████████████████████████████▏                                                                                                                      | 47/150 [02:16<05:08,  2.99s/it]"
     ]
    },
    {
     "name": "stdout",
     "output_type": "stream",
     "text": [
      "1.614558150261838e-05\n"
     ]
    },
    {
     "name": "stderr",
     "output_type": "stream",
     "text": [
      " 32%|███████████████████████████████████████████████████████▎                                                                                                                     | 48/150 [02:19<05:06,  3.01s/it]"
     ]
    },
    {
     "name": "stdout",
     "output_type": "stream",
     "text": [
      "1.7990099155778334e-05\n"
     ]
    },
    {
     "name": "stderr",
     "output_type": "stream",
     "text": [
      " 33%|████████████████████████████████████████████████████████▌                                                                                                                    | 49/150 [02:22<05:17,  3.15s/it]"
     ]
    },
    {
     "name": "stdout",
     "output_type": "stream",
     "text": [
      "2.00453398090524e-05\n"
     ]
    },
    {
     "name": "stderr",
     "output_type": "stream",
     "text": [
      " 33%|█████████████████████████████████████████████████████████▋                                                                                                                   | 50/150 [02:25<05:13,  3.13s/it]"
     ]
    },
    {
     "name": "stdout",
     "output_type": "stream",
     "text": [
      "2.2335377063851234e-05\n"
     ]
    },
    {
     "name": "stderr",
     "output_type": "stream",
     "text": [
      " 34%|██████████████████████████████████████████████████████████▊                                                                                                                  | 51/150 [02:28<05:08,  3.12s/it]"
     ]
    },
    {
     "name": "stdout",
     "output_type": "stream",
     "text": [
      "2.4887034759027854e-05\n"
     ]
    },
    {
     "name": "stderr",
     "output_type": "stream",
     "text": [
      " 35%|███████████████████████████████████████████████████████████▉                                                                                                                 | 52/150 [02:31<05:04,  3.11s/it]"
     ]
    },
    {
     "name": "stdout",
     "output_type": "stream",
     "text": [
      "2.7730201165910607e-05\n"
     ]
    },
    {
     "name": "stderr",
     "output_type": "stream",
     "text": [
      " 35%|█████████████████████████████████████████████████████████████▏                                                                                                               | 53/150 [02:35<05:03,  3.12s/it]"
     ]
    },
    {
     "name": "stdout",
     "output_type": "stream",
     "text": [
      "3.08981790778802e-05\n"
     ]
    },
    {
     "name": "stderr",
     "output_type": "stream",
     "text": [
      " 36%|██████████████████████████████████████████████████████████████▎                                                                                                              | 54/150 [02:38<05:06,  3.19s/it]"
     ]
    },
    {
     "name": "stdout",
     "output_type": "stream",
     "text": [
      "3.442807589518621e-05\n"
     ]
    },
    {
     "name": "stderr",
     "output_type": "stream",
     "text": [
      " 37%|███████████████████████████████████████████████████████████████▍                                                                                                             | 55/150 [02:41<05:03,  3.20s/it]"
     ]
    },
    {
     "name": "stdout",
     "output_type": "stream",
     "text": [
      "3.836123827417535e-05\n"
     ]
    },
    {
     "name": "stderr",
     "output_type": "stream",
     "text": [
      " 37%|████████████████████████████████████████████████████████████████▌                                                                                                            | 56/150 [02:44<05:01,  3.21s/it]"
     ]
    },
    {
     "name": "stdout",
     "output_type": "stream",
     "text": [
      "4.274373643209663e-05\n"
     ]
    },
    {
     "name": "stderr",
     "output_type": "stream",
     "text": [
      " 38%|█████████████████████████████████████████████████████████████████▋                                                                                                           | 57/150 [02:48<05:01,  3.24s/it]"
     ]
    },
    {
     "name": "stdout",
     "output_type": "stream",
     "text": [
      "4.762690378027994e-05\n"
     ]
    },
    {
     "name": "stderr",
     "output_type": "stream",
     "text": [
      " 39%|██████████████████████████████████████████████████████████████████▉                                                                                                          | 58/150 [02:51<05:02,  3.29s/it]"
     ]
    },
    {
     "name": "stdout",
     "output_type": "stream",
     "text": [
      "5.306793820656121e-05\n"
     ]
    },
    {
     "name": "stderr",
     "output_type": "stream",
     "text": [
      " 39%|████████████████████████████████████████████████████████████████████                                                                                                         | 59/150 [02:55<05:05,  3.35s/it]"
     ]
    },
    {
     "name": "stdout",
     "output_type": "stream",
     "text": [
      "5.913057204993993e-05\n"
     ]
    },
    {
     "name": "stderr",
     "output_type": "stream",
     "text": [
      " 40%|█████████████████████████████████████████████████████████████████████▏                                                                                                       | 60/150 [02:58<05:02,  3.37s/it]"
     ]
    },
    {
     "name": "stdout",
     "output_type": "stream",
     "text": [
      "6.588581861506814e-05\n"
     ]
    },
    {
     "name": "stderr",
     "output_type": "stream",
     "text": [
      " 41%|██████████████████████████████████████████████████████████████████████▎                                                                                                      | 61/150 [03:01<04:59,  3.37s/it]"
     ]
    },
    {
     "name": "stdout",
     "output_type": "stream",
     "text": [
      "7.341280397070115e-05\n"
     ]
    },
    {
     "name": "stderr",
     "output_type": "stream",
     "text": [
      " 41%|███████████████████████████████████████████████████████████████████████▌                                                                                                     | 62/150 [03:05<04:58,  3.39s/it]"
     ]
    },
    {
     "name": "stdout",
     "output_type": "stream",
     "text": [
      "8.179969377519468e-05\n"
     ]
    },
    {
     "name": "stderr",
     "output_type": "stream",
     "text": [
      " 42%|████████████████████████████████████████████████████████████████████████▋                                                                                                    | 63/150 [03:08<04:56,  3.41s/it]"
     ]
    },
    {
     "name": "stdout",
     "output_type": "stream",
     "text": [
      "9.114472598521194e-05\n"
     ]
    },
    {
     "name": "stderr",
     "output_type": "stream",
     "text": [
      " 43%|█████████████████████████████████████████████████████████████████████████▊                                                                                                   | 64/150 [03:12<04:55,  3.44s/it]"
     ]
    },
    {
     "name": "stdout",
     "output_type": "stream",
     "text": [
      "0.0001015573615440418\n"
     ]
    },
    {
     "name": "stderr",
     "output_type": "stream",
     "text": [
      " 43%|██████████████████████████████████████████████████████████████████████████▉                                                                                                  | 65/150 [03:15<04:55,  3.48s/it]"
     ]
    },
    {
     "name": "stdout",
     "output_type": "stream",
     "text": [
      "0.00011315956652786067\n"
     ]
    },
    {
     "name": "stderr",
     "output_type": "stream",
     "text": [
      " 44%|████████████████████████████████████████████████████████████████████████████                                                                                                 | 66/150 [03:19<05:00,  3.57s/it]"
     ]
    },
    {
     "name": "stdout",
     "output_type": "stream",
     "text": [
      "0.0001260872407680681\n"
     ]
    },
    {
     "name": "stderr",
     "output_type": "stream",
     "text": [
      " 45%|█████████████████████████████████████████████████████████████████████████████▎                                                                                               | 67/150 [03:23<04:58,  3.59s/it]"
     ]
    },
    {
     "name": "stdout",
     "output_type": "stream",
     "text": [
      "0.00014049180968354593\n"
     ]
    },
    {
     "name": "stderr",
     "output_type": "stream",
     "text": [
      " 45%|██████████████████████████████████████████████████████████████████████████████▍                                                                                              | 68/150 [03:26<04:55,  3.60s/it]"
     ]
    },
    {
     "name": "stdout",
     "output_type": "stream",
     "text": [
      "0.00015654199796841294\n"
     ]
    },
    {
     "name": "stderr",
     "output_type": "stream",
     "text": [
      " 46%|███████████████████████████████████████████████████████████████████████████████▌                                                                                             | 69/150 [03:30<04:53,  3.62s/it]"
     ]
    },
    {
     "name": "stdout",
     "output_type": "stream",
     "text": [
      "0.00017442580591096616\n"
     ]
    },
    {
     "name": "stderr",
     "output_type": "stream",
     "text": [
      " 47%|████████████████████████████████████████████████████████████████████████████████▋                                                                                            | 70/150 [03:34<04:52,  3.65s/it]"
     ]
    },
    {
     "name": "stdout",
     "output_type": "stream",
     "text": [
      "0.00019435271149298265\n"
     ]
    },
    {
     "name": "stderr",
     "output_type": "stream",
     "text": [
      " 47%|█████████████████████████████████████████████████████████████████████████████████▉                                                                                           | 71/150 [03:38<04:51,  3.70s/it]"
     ]
    },
    {
     "name": "stdout",
     "output_type": "stream",
     "text": [
      "0.00021655612406317566\n"
     ]
    },
    {
     "name": "stderr",
     "output_type": "stream",
     "text": [
      " 48%|███████████████████████████████████████████████████████████████████████████████████                                                                                          | 72/150 [03:41<04:50,  3.72s/it]"
     ]
    },
    {
     "name": "stdout",
     "output_type": "stream",
     "text": [
      "0.00024129611832536096\n"
     ]
    },
    {
     "name": "stderr",
     "output_type": "stream",
     "text": [
      " 49%|████████████████████████████████████████████████████████████████████████████████████▏                                                                                        | 73/150 [03:45<04:49,  3.75s/it]"
     ]
    },
    {
     "name": "stdout",
     "output_type": "stream",
     "text": [
      "0.0002688624806652944\n"
     ]
    },
    {
     "name": "stderr",
     "output_type": "stream",
     "text": [
      " 49%|█████████████████████████████████████████████████████████████████████████████████████▎                                                                                       | 74/150 [03:49<04:47,  3.79s/it]"
     ]
    },
    {
     "name": "stdout",
     "output_type": "stream",
     "text": [
      "0.0002995781034986427\n"
     ]
    },
    {
     "name": "stderr",
     "output_type": "stream",
     "text": [
      " 50%|██████████████████████████████████████████████████████████████████████████████████████▌                                                                                      | 75/150 [03:53<04:46,  3.83s/it]"
     ]
    },
    {
     "name": "stdout",
     "output_type": "stream",
     "text": [
      "0.0003338027673990301\n"
     ]
    },
    {
     "name": "stderr",
     "output_type": "stream",
     "text": [
      " 51%|███████████████████████████████████████████████████████████████████████████████████████▋                                                                                     | 76/150 [03:57<04:45,  3.86s/it]"
     ]
    },
    {
     "name": "stdout",
     "output_type": "stream",
     "text": [
      "0.0003719373553072644\n"
     ]
    },
    {
     "name": "stderr",
     "output_type": "stream",
     "text": [
      " 51%|████████████████████████████████████████████████████████████████████████████████████████▊                                                                                    | 77/150 [04:01<04:45,  3.91s/it]"
     ]
    },
    {
     "name": "stdout",
     "output_type": "stream",
     "text": [
      "0.00041442854818394187\n"
     ]
    },
    {
     "name": "stderr",
     "output_type": "stream",
     "text": [
      " 52%|█████████████████████████████████████████████████████████████████████████████████████████▉                                                                                   | 78/150 [04:05<04:43,  3.94s/it]"
     ]
    },
    {
     "name": "stdout",
     "output_type": "stream",
     "text": [
      "0.00046177405710691065\n"
     ]
    },
    {
     "name": "stderr",
     "output_type": "stream",
     "text": [
      " 53%|███████████████████████████████████████████████████████████████████████████████████████████                                                                                  | 79/150 [04:09<04:42,  3.98s/it]"
     ]
    },
    {
     "name": "stdout",
     "output_type": "stream",
     "text": [
      "0.0005145284530985853\n"
     ]
    },
    {
     "name": "stderr",
     "output_type": "stream",
     "text": [
      " 53%|████████████████████████████████████████████████████████████████████████████████████████████▎                                                                                | 80/150 [04:13<04:41,  4.02s/it]"
     ]
    },
    {
     "name": "stdout",
     "output_type": "stream",
     "text": [
      "0.0005733096629695033\n"
     ]
    },
    {
     "name": "stderr",
     "output_type": "stream",
     "text": [
      " 54%|█████████████████████████████████████████████████████████████████████████████████████████████▍                                                                               | 81/150 [04:17<04:40,  4.06s/it]"
     ]
    },
    {
     "name": "stdout",
     "output_type": "stream",
     "text": [
      "0.0006388062072657212\n"
     ]
    },
    {
     "name": "stderr",
     "output_type": "stream",
     "text": [
      " 55%|██████████████████████████████████████████████████████████████████████████████████████████████▌                                                                              | 82/150 [04:21<04:39,  4.11s/it]"
     ]
    },
    {
     "name": "stdout",
     "output_type": "stream",
     "text": [
      "0.0007117852651001318\n"
     ]
    },
    {
     "name": "stderr",
     "output_type": "stream",
     "text": [
      " 55%|███████████████████████████████████████████████████████████████████████████████████████████████▋                                                                             | 83/150 [04:26<04:38,  4.16s/it]"
     ]
    },
    {
     "name": "stdout",
     "output_type": "stream",
     "text": [
      "0.000793101660333306\n"
     ]
    },
    {
     "name": "stderr",
     "output_type": "stream",
     "text": [
      " 56%|████████████████████████████████████████████████████████████████████████████████████████████████▉                                                                            | 84/150 [04:30<04:37,  4.20s/it]"
     ]
    },
    {
     "name": "stdout",
     "output_type": "stream",
     "text": [
      "0.0008837078743614603\n"
     ]
    },
    {
     "name": "stderr",
     "output_type": "stream",
     "text": [
      " 57%|██████████████████████████████████████████████████████████████████████████████████████████████████                                                                           | 85/150 [04:34<04:36,  4.25s/it]"
     ]
    },
    {
     "name": "stdout",
     "output_type": "stream",
     "text": [
      "0.0009846652027941242\n"
     ]
    },
    {
     "name": "stderr",
     "output_type": "stream",
     "text": [
      " 57%|███████████████████████████████████████████████████████████████████████████████████████████████████▏                                                                         | 86/150 [04:39<04:34,  4.29s/it]"
     ]
    },
    {
     "name": "stdout",
     "output_type": "stream",
     "text": [
      "0.0010971561867027262\n"
     ]
    },
    {
     "name": "stderr",
     "output_type": "stream",
     "text": [
      " 58%|████████████████████████████████████████████████████████████████████████████████████████████████████▎                                                                        | 87/150 [04:43<04:33,  4.35s/it]"
     ]
    },
    {
     "name": "stdout",
     "output_type": "stream",
     "text": [
      "0.0012224984640507844\n"
     ]
    },
    {
     "name": "stderr",
     "output_type": "stream",
     "text": [
      " 59%|█████████████████████████████████████████████████████████████████████████████████████████████████████▍                                                                       | 88/150 [04:48<04:32,  4.40s/it]"
     ]
    },
    {
     "name": "stdout",
     "output_type": "stream",
     "text": [
      "0.0013621602035512731\n"
     ]
    },
    {
     "name": "stderr",
     "output_type": "stream",
     "text": [
      " 59%|██████████████████████████████████████████████████████████████████████████████████████████████████████▋                                                                      | 89/150 [04:52<04:31,  4.45s/it]"
     ]
    },
    {
     "name": "stdout",
     "output_type": "stream",
     "text": [
      "0.0015177773017322714\n"
     ]
    },
    {
     "name": "stderr",
     "output_type": "stream",
     "text": [
      " 60%|███████████████████████████████████████████████████████████████████████████████████████████████████████▊                                                                     | 90/150 [04:57<04:30,  4.51s/it]"
     ]
    },
    {
     "name": "stdout",
     "output_type": "stream",
     "text": [
      "0.0016911725446448068\n"
     ]
    },
    {
     "name": "stderr",
     "output_type": "stream",
     "text": [
      " 61%|████████████████████████████████████████████████████████████████████████████████████████████████████████▉                                                                    | 91/150 [05:02<04:30,  4.58s/it]"
     ]
    },
    {
     "name": "stdout",
     "output_type": "stream",
     "text": [
      "0.0018843769586593098\n"
     ]
    },
    {
     "name": "stderr",
     "output_type": "stream",
     "text": [
      " 61%|██████████████████████████████████████████████████████████████████████████████████████████████████████████                                                                   | 92/150 [05:07<04:28,  4.63s/it]"
     ]
    },
    {
     "name": "stdout",
     "output_type": "stream",
     "text": [
      "0.002099653600438446\n"
     ]
    },
    {
     "name": "stderr",
     "output_type": "stream",
     "text": [
      " 62%|███████████████████████████████████████████████████████████████████████████████████████████████████████████▎                                                                 | 93/150 [05:11<04:26,  4.68s/it]"
     ]
    },
    {
     "name": "stdout",
     "output_type": "stream",
     "text": [
      "0.0023395240647448253\n"
     ]
    },
    {
     "name": "stderr",
     "output_type": "stream",
     "text": [
      " 63%|████████████████████████████████████████████████████████████████████████████████████████████████████████████▍                                                                | 94/150 [05:16<04:24,  4.73s/it]"
     ]
    },
    {
     "name": "stdout",
     "output_type": "stream",
     "text": [
      "0.002606798020576923\n"
     ]
    },
    {
     "name": "stderr",
     "output_type": "stream",
     "text": [
      " 63%|█████████████████████████████████████████████████████████████████████████████████████████████████████████████▌                                                               | 95/150 [05:21<04:23,  4.79s/it]"
     ]
    },
    {
     "name": "stdout",
     "output_type": "stream",
     "text": [
      "0.002904606121598046\n"
     ]
    },
    {
     "name": "stderr",
     "output_type": "stream",
     "text": [
      " 64%|██████████████████████████████████████████████████████████████████████████████████████████████████████████████▋                                                              | 96/150 [05:26<04:21,  4.84s/it]"
     ]
    },
    {
     "name": "stdout",
     "output_type": "stream",
     "text": [
      "0.0032364366763473628\n"
     ]
    },
    {
     "name": "stderr",
     "output_type": "stream",
     "text": [
      " 65%|███████████████████████████████████████████████████████████████████████████████████████████████████████████████▊                                                             | 97/150 [05:31<04:19,  4.90s/it]"
     ]
    },
    {
     "name": "stdout",
     "output_type": "stream",
     "text": [
      "0.0036061765077612332\n"
     ]
    },
    {
     "name": "stderr",
     "output_type": "stream",
     "text": [
      " 65%|█████████████████████████████████████████████████████████████████████████████████████████████████████████████████                                                            | 98/150 [05:36<04:17,  4.96s/it]"
     ]
    },
    {
     "name": "stdout",
     "output_type": "stream",
     "text": [
      "0.004018156480603808\n"
     ]
    },
    {
     "name": "stderr",
     "output_type": "stream",
     "text": [
      " 66%|██████████████████████████████████████████████████████████████████████████████████████████████████████████████████▏                                                          | 99/150 [05:41<04:15,  5.01s/it]"
     ]
    },
    {
     "name": "stdout",
     "output_type": "stream",
     "text": [
      "0.00447720223008213\n"
     ]
    },
    {
     "name": "stderr",
     "output_type": "stream",
     "text": [
      " 67%|██████████████████████████████████████████████████████████████████████████████████████████████████████████████████▋                                                         | 100/150 [05:47<04:14,  5.08s/it]"
     ]
    },
    {
     "name": "stdout",
     "output_type": "stream",
     "text": [
      "0.004988690685844118\n"
     ]
    },
    {
     "name": "stderr",
     "output_type": "stream",
     "text": [
      " 67%|███████████████████████████████████████████████████████████████████████████████████████████████████████████████████▊                                                        | 101/150 [05:52<04:12,  5.16s/it]"
     ]
    },
    {
     "name": "stdout",
     "output_type": "stream",
     "text": [
      "0.005558613053440603\n"
     ]
    },
    {
     "name": "stderr",
     "output_type": "stream",
     "text": [
      " 68%|████████████████████████████████████████████████████████████████████████████████████████████████████████████████████▉                                                       | 102/150 [05:57<04:10,  5.23s/it]"
     ]
    },
    {
     "name": "stdout",
     "output_type": "stream",
     "text": [
      "0.006193644990970618\n"
     ]
    },
    {
     "name": "stderr",
     "output_type": "stream",
     "text": [
      " 69%|██████████████████████████████████████████████████████████████████████████████████████████████████████████████████████                                                      | 103/150 [06:03<04:08,  5.30s/it]"
     ]
    },
    {
     "name": "stdout",
     "output_type": "stream",
     "text": [
      "0.006901224802908534\n"
     ]
    },
    {
     "name": "stderr",
     "output_type": "stream",
     "text": [
      " 69%|███████████████████████████████████████████████████████████████████████████████████████████████████████████████████████▎                                                    | 104/150 [06:08<04:06,  5.37s/it]"
     ]
    },
    {
     "name": "stdout",
     "output_type": "stream",
     "text": [
      "0.007689640567018716\n"
     ]
    },
    {
     "name": "stderr",
     "output_type": "stream",
     "text": [
      " 70%|████████████████████████████████████████████████████████████████████████████████████████████████████████████████████████▍                                                   | 105/150 [06:14<04:04,  5.44s/it]"
     ]
    },
    {
     "name": "stdout",
     "output_type": "stream",
     "text": [
      "0.008568127214899482\n"
     ]
    },
    {
     "name": "stderr",
     "output_type": "stream",
     "text": [
      " 71%|█████████████████████████████████████████████████████████████████████████████████████████████████████████████████████████▌                                                  | 106/150 [06:20<04:03,  5.54s/it]"
     ]
    },
    {
     "name": "stdout",
     "output_type": "stream",
     "text": [
      "0.009546974703287536\n"
     ]
    },
    {
     "name": "stderr",
     "output_type": "stream",
     "text": [
      " 71%|██████████████████████████████████████████████████████████████████████████████████████████████████████████████████████████▋                                                 | 107/150 [06:26<04:03,  5.66s/it]"
     ]
    },
    {
     "name": "stdout",
     "output_type": "stream",
     "text": [
      "0.01063764854316314\n"
     ]
    },
    {
     "name": "stderr",
     "output_type": "stream",
     "text": [
      " 72%|███████████████████████████████████████████████████████████████████████████████████████████████████████████████████████████▊                                                | 108/150 [06:32<04:01,  5.74s/it]"
     ]
    },
    {
     "name": "stdout",
     "output_type": "stream",
     "text": [
      "0.011852924098447019\n"
     ]
    },
    {
     "name": "stderr",
     "output_type": "stream",
     "text": [
      " 73%|████████████████████████████████████████████████████████████████████████████████████████████████████████████████████████████▉                                               | 109/150 [06:38<03:58,  5.81s/it]"
     ]
    },
    {
     "name": "stdout",
     "output_type": "stream",
     "text": [
      "0.01320703622736631\n"
     ]
    },
    {
     "name": "stderr",
     "output_type": "stream",
     "text": [
      " 73%|██████████████████████████████████████████████████████████████████████████████████████████████████████████████████████████████▏                                             | 110/150 [06:44<03:55,  5.90s/it]"
     ]
    },
    {
     "name": "stdout",
     "output_type": "stream",
     "text": [
      "0.014715846019280557\n"
     ]
    },
    {
     "name": "stderr",
     "output_type": "stream",
     "text": [
      " 74%|███████████████████████████████████████████████████████████████████████████████████████████████████████████████████████████████▎                                            | 111/150 [06:50<03:55,  6.03s/it]"
     ]
    },
    {
     "name": "stdout",
     "output_type": "stream",
     "text": [
      "0.016397026580002087\n"
     ]
    },
    {
     "name": "stderr",
     "output_type": "stream",
     "text": [
      " 75%|████████████████████████████████████████████████████████████████████████████████████████████████████████████████████████████████▍                                           | 112/150 [06:56<03:52,  6.12s/it]"
     ]
    },
    {
     "name": "stdout",
     "output_type": "stream",
     "text": [
      "0.018270270041765412\n"
     ]
    },
    {
     "name": "stderr",
     "output_type": "stream",
     "text": [
      " 75%|█████████████████████████████████████████████████████████████████████████████████████████████████████████████████████████████████▌                                          | 113/150 [07:03<03:47,  6.16s/it]"
     ]
    },
    {
     "name": "stdout",
     "output_type": "stream",
     "text": [
      "0.020357518222611084\n"
     ]
    },
    {
     "name": "stderr",
     "output_type": "stream",
     "text": [
      " 76%|██████████████████████████████████████████████████████████████████████████████████████████████████████████████████████████████████▋                                         | 114/150 [07:09<03:43,  6.21s/it]"
     ]
    },
    {
     "name": "stdout",
     "output_type": "stream",
     "text": [
      "0.022683219636960388\n"
     ]
    },
    {
     "name": "stderr",
     "output_type": "stream",
     "text": [
      " 77%|███████████████████████████████████████████████████████████████████████████████████████████████████████████████████████████████████▊                                        | 115/150 [07:15<03:39,  6.27s/it]"
     ]
    },
    {
     "name": "stdout",
     "output_type": "stream",
     "text": [
      "0.02527461586781727\n"
     ]
    },
    {
     "name": "stderr",
     "output_type": "stream",
     "text": [
      " 77%|█████████████████████████████████████████████████████████████████████████████████████████████████████████████████████████████████████                                       | 116/150 [07:22<03:35,  6.34s/it]"
     ]
    },
    {
     "name": "stdout",
     "output_type": "stream",
     "text": [
      "0.02816206065495399\n"
     ]
    },
    {
     "name": "stderr",
     "output_type": "stream",
     "text": [
      " 78%|██████████████████████████████████████████████████████████████████████████████████████████████████████████████████████████████████████▏                                     | 117/150 [07:28<03:31,  6.40s/it]"
     ]
    },
    {
     "name": "stdout",
     "output_type": "stream",
     "text": [
      "0.031379375436648274\n"
     ]
    },
    {
     "name": "stderr",
     "output_type": "stream",
     "text": [
      " 79%|███████████████████████████████████████████████████████████████████████████████████████████████████████████████████████████████████████▎                                    | 118/150 [07:35<03:28,  6.53s/it]"
     ]
    },
    {
     "name": "stdout",
     "output_type": "stream",
     "text": [
      "0.034964245509531366\n"
     ]
    },
    {
     "name": "stderr",
     "output_type": "stream",
     "text": [
      " 79%|████████████████████████████████████████████████████████████████████████████████████████████████████████████████████████████████████████▍                                   | 119/150 [07:44<03:43,  7.20s/it]"
     ]
    },
    {
     "name": "stdout",
     "output_type": "stream",
     "text": [
      "0.038958661446875605\n"
     ]
    },
    {
     "name": "stderr",
     "output_type": "stream",
     "text": [
      " 80%|█████████████████████████████████████████████████████████████████████████████████████████████████████████████████████████████████████████▌                                  | 120/150 [07:53<03:50,  7.68s/it]"
     ]
    },
    {
     "name": "stdout",
     "output_type": "stream",
     "text": [
      "0.043409410945776605\n"
     ]
    },
    {
     "name": "stderr",
     "output_type": "stream",
     "text": [
      " 81%|██████████████████████████████████████████████████████████████████████████████████████████████████████████████████████████████████████████▋                                 | 121/150 [08:01<03:44,  7.74s/it]"
     ]
    },
    {
     "name": "stdout",
     "output_type": "stream",
     "text": [
      "0.04836862686437181\n"
     ]
    },
    {
     "name": "stderr",
     "output_type": "stream",
     "text": [
      " 81%|███████████████████████████████████████████████████████████████████████████████████████████████████████████████████████████████████████████▉                                | 122/150 [08:08<03:31,  7.56s/it]"
     ]
    },
    {
     "name": "stdout",
     "output_type": "stream",
     "text": [
      "0.053894397868406066\n"
     ]
    },
    {
     "name": "stderr",
     "output_type": "stream",
     "text": [
      " 82%|█████████████████████████████████████████████████████████████████████████████████████████████████████████████████████████████████████████████                               | 123/150 [08:15<03:21,  7.46s/it]"
     ]
    },
    {
     "name": "stdout",
     "output_type": "stream",
     "text": [
      "0.060051448839817625\n"
     ]
    },
    {
     "name": "stderr",
     "output_type": "stream",
     "text": [
      " 83%|██████████████████████████████████████████████████████████████████████████████████████████████████████████████████████████████████████████████▏                             | 124/150 [08:22<03:12,  7.42s/it]"
     ]
    },
    {
     "name": "stdout",
     "output_type": "stream",
     "text": [
      "0.06691189901715636\n"
     ]
    },
    {
     "name": "stderr",
     "output_type": "stream",
     "text": [
      " 83%|███████████████████████████████████████████████████████████████████████████████████████████████████████████████████████████████████████████████▎                            | 125/150 [08:30<03:05,  7.44s/it]"
     ]
    },
    {
     "name": "stdout",
     "output_type": "stream",
     "text": [
      "0.07455610674814366\n"
     ]
    },
    {
     "name": "stderr",
     "output_type": "stream",
     "text": [
      " 84%|████████████████████████████████████████████████████████████████████████████████████████████████████████████████████████████████████████████████▍                           | 126/150 [08:37<02:59,  7.48s/it]"
     ]
    },
    {
     "name": "stdout",
     "output_type": "stream",
     "text": [
      "0.08307361074919369\n"
     ]
    },
    {
     "name": "stderr",
     "output_type": "stream",
     "text": [
      " 85%|█████████████████████████████████████████████████████████████████████████████████████████████████████████████████████████████████████████████████▋                          | 127/150 [08:45<02:53,  7.56s/it]"
     ]
    },
    {
     "name": "stdout",
     "output_type": "stream",
     "text": [
      "0.09256417889712791\n"
     ]
    },
    {
     "name": "stderr",
     "output_type": "stream",
     "text": [
      " 85%|██████████████████████████████████████████████████████████████████████████████████████████████████████████████████████████████████████████████████▊                         | 128/150 [08:53<02:48,  7.65s/it]"
     ]
    },
    {
     "name": "stdout",
     "output_type": "stream",
     "text": [
      "0.10313897683787221\n"
     ]
    },
    {
     "name": "stderr",
     "output_type": "stream",
     "text": [
      " 86%|███████████████████████████████████████████████████████████████████████████████████████████████████████████████████████████████████████████████████▉                        | 129/150 [09:01<02:44,  7.83s/it]"
     ]
    },
    {
     "name": "stdout",
     "output_type": "stream",
     "text": [
      "0.11492187010036997\n"
     ]
    },
    {
     "name": "stderr",
     "output_type": "stream",
     "text": [
      " 87%|█████████████████████████████████████████████████████████████████████████████████████████████████████████████████████████████████████████████████████                       | 130/150 [09:09<02:38,  7.92s/it]"
     ]
    },
    {
     "name": "stdout",
     "output_type": "stream",
     "text": [
      "0.12805087496773324\n"
     ]
    },
    {
     "name": "stderr",
     "output_type": "stream",
     "text": [
      " 87%|██████████████████████████████████████████████████████████████████████████████████████████████████████████████████████████████████████████████████████▏                     | 131/150 [09:18<02:32,  8.03s/it]"
     ]
    },
    {
     "name": "stdout",
     "output_type": "stream",
     "text": [
      "0.142679775100086\n"
     ]
    },
    {
     "name": "stderr",
     "output_type": "stream",
     "text": [
      " 88%|███████████████████████████████████████████████████████████████████████████████████████████████████████████████████████████████████████████████████████▎                    | 132/150 [09:26<02:26,  8.16s/it]"
     ]
    },
    {
     "name": "stdout",
     "output_type": "stream",
     "text": [
      "0.1589799228450477\n"
     ]
    },
    {
     "name": "stderr",
     "output_type": "stream",
     "text": [
      " 89%|████████████████████████████████████████████████████████████████████████████████████████████████████████████████████████████████████████████████████████▌                   | 133/150 [09:35<02:20,  8.29s/it]"
     ]
    },
    {
     "name": "stdout",
     "output_type": "stream",
     "text": [
      "0.17714224633510853\n"
     ]
    },
    {
     "name": "stderr",
     "output_type": "stream",
     "text": [
      " 89%|█████████████████████████████████████████████████████████████████████████████████████████████████████████████████████████████████████████████████████████▋                  | 134/150 [09:43<02:14,  8.43s/it]"
     ]
    },
    {
     "name": "stdout",
     "output_type": "stream",
     "text": [
      "0.19737948588157686\n"
     ]
    },
    {
     "name": "stderr",
     "output_type": "stream",
     "text": [
      " 90%|██████████████████████████████████████████████████████████████████████████████████████████████████████████████████████████████████████████████████████████▊                 | 135/150 [09:52<02:08,  8.58s/it]"
     ]
    },
    {
     "name": "stdout",
     "output_type": "stream",
     "text": [
      "0.2199286858606028\n"
     ]
    },
    {
     "name": "stderr",
     "output_type": "stream",
     "text": [
      " 91%|███████████████████████████████████████████████████████████████████████████████████████████████████████████████████████████████████████████████████████████▉                | 136/150 [10:02<02:03,  8.84s/it]"
     ]
    },
    {
     "name": "stdout",
     "output_type": "stream",
     "text": [
      "0.24505397127942602\n"
     ]
    },
    {
     "name": "stderr",
     "output_type": "stream",
     "text": [
      " 91%|█████████████████████████████████████████████████████████████████████████████████████████████████████████████████████████████████████████████████████████████               | 137/150 [10:11<01:57,  9.01s/it]"
     ]
    },
    {
     "name": "stdout",
     "output_type": "stream",
     "text": [
      "0.2730496415455325\n"
     ]
    },
    {
     "name": "stderr",
     "output_type": "stream",
     "text": [
      " 92%|██████████████████████████████████████████████████████████████████████████████████████████████████████████████████████████████████████████████████████████████▏             | 138/150 [10:21<01:49,  9.12s/it]"
     ]
    },
    {
     "name": "stdout",
     "output_type": "stream",
     "text": [
      "0.30424361767690034\n"
     ]
    },
    {
     "name": "stderr",
     "output_type": "stream",
     "text": [
      " 93%|███████████████████████████████████████████████████████████████████████████████████████████████████████████████████████████████████████████████████████████████▍            | 139/150 [10:30<01:41,  9.26s/it]"
     ]
    },
    {
     "name": "stdout",
     "output_type": "stream",
     "text": [
      "0.3390012833314499\n"
     ]
    },
    {
     "name": "stderr",
     "output_type": "stream",
     "text": [
      " 93%|████████████████████████████████████████████████████████████████████████████████████████████████████████████████████████████████████████████████████████████████▌           | 140/150 [10:40<01:34,  9.41s/it]"
     ]
    },
    {
     "name": "stdout",
     "output_type": "stream",
     "text": [
      "0.37772976464674546\n"
     ]
    },
    {
     "name": "stderr",
     "output_type": "stream",
     "text": [
      " 94%|█████████████████████████████████████████████████████████████████████████████████████████████████████████████████████████████████████████████████████████████████▋          | 141/150 [10:50<01:26,  9.58s/it]"
     ]
    },
    {
     "name": "stdout",
     "output_type": "stream",
     "text": [
      "0.42088269902088976\n"
     ]
    },
    {
     "name": "stderr",
     "output_type": "stream",
     "text": [
      " 95%|██████████████████████████████████████████████████████████████████████████████████████████████████████████████████████████████████████████████████████████████████▊         | 142/150 [11:00<01:17,  9.74s/it]"
     ]
    },
    {
     "name": "stdout",
     "output_type": "stream",
     "text": [
      "0.4689655486926553\n"
     ]
    },
    {
     "name": "stderr",
     "output_type": "stream",
     "text": [
      " 95%|███████████████████████████████████████████████████████████████████████████████████████████████████████████████████████████████████████████████████████████████████▉        | 143/150 [11:10<01:09,  9.95s/it]"
     ]
    },
    {
     "name": "stdout",
     "output_type": "stream",
     "text": [
      "0.5225415213602959\n"
     ]
    },
    {
     "name": "stderr",
     "output_type": "stream",
     "text": [
      " 96%|█████████████████████████████████████████████████████████████████████████████████████████████████████████████████████████████████████████████████████████████████████       | 144/150 [11:21<01:00, 10.13s/it]"
     ]
    },
    {
     "name": "stdout",
     "output_type": "stream",
     "text": [
      "0.582238167188866\n"
     ]
    },
    {
     "name": "stderr",
     "output_type": "stream",
     "text": [
      " 97%|██████████████████████████████████████████████████████████████████████████████████████████████████████████████████████████████████████████████████████████████████████▎     | 145/150 [11:32<00:51, 10.34s/it]"
     ]
    },
    {
     "name": "stdout",
     "output_type": "stream",
     "text": [
      "0.6487547294786289\n"
     ]
    },
    {
     "name": "stderr",
     "output_type": "stream",
     "text": [
      " 97%|███████████████████████████████████████████████████████████████████████████████████████████████████████████████████████████████████████████████████████████████████████▍    | 146/150 [11:43<00:42, 10.58s/it]"
     ]
    },
    {
     "name": "stdout",
     "output_type": "stream",
     "text": [
      "0.722870335094958\n"
     ]
    },
    {
     "name": "stderr",
     "output_type": "stream",
     "text": [
      " 98%|████████████████████████████████████████████████████████████████████████████████████████████████████████████████████████████████████████████████████████████████████████▌   | 147/150 [11:54<00:32, 10.83s/it]"
     ]
    },
    {
     "name": "stdout",
     "output_type": "stream",
     "text": [
      "0.8054531205964939\n"
     ]
    },
    {
     "name": "stderr",
     "output_type": "stream",
     "text": [
      " 99%|█████████████████████████████████████████████████████████████████████████████████████████████████████████████████████████████████████████████████████████████████████████▋  | 148/150 [12:06<00:22, 11.18s/it]"
     ]
    },
    {
     "name": "stdout",
     "output_type": "stream",
     "text": [
      "0.8974704009584349\n"
     ]
    },
    {
     "name": "stderr",
     "output_type": "stream",
     "text": [
      " 99%|██████████████████████████████████████████████████████████████████████████████████████████████████████████████████████████████████████████████████████████████████████████▊ | 149/150 [12:19<00:11, 11.72s/it]"
     ]
    },
    {
     "name": "stdout",
     "output_type": "stream",
     "text": [
      "1.0\n"
     ]
    },
    {
     "name": "stderr",
     "output_type": "stream",
     "text": [
      "/home1/md.shaikh/Eccentricity/paper/plot_scripts/../../measureEccentricity/eccDefinition.py:415: UserWarning: time array t_for_ecc_test is too long. Length is 1339265\n",
      "  warnings.warn(\"time array t_for_ecc_test is too long.\"\n",
      "/home1/md.shaikh/Eccentricity/paper/plot_scripts/../../measureEccentricity/eccDefinition.py:415: UserWarning: time array t_for_ecc_test is too long. Length is 1528352\n",
      "  warnings.warn(\"time array t_for_ecc_test is too long.\"\n",
      "100%|████████████████████████████████████████████████████████████████████████████████████████████████████████████████████████████████████████████████████████████████████████████| 150/150 [12:38<00:00,  5.06s/it]\n"
     ]
    },
    {
     "data": {
      "image/png": "[encoded data removed]",
      "text/plain": [
       "<Figure size 244.8x288 with 2 Axes>"
      ]
     },
     "metadata": {
      "needs_background": "light"
     },
     "output_type": "display_data"
    }
   ],
   "source": [
    "fig, ax = plt.subplots(nrows=2, figsize=(figWidthsOneColDict[journal], 4))\n",
    "eobEccs = 10**np.linspace(-7, 0., 150)\n",
    "method = \"ResidualAmplitude\"\n",
    "for EOBecc in tqdm(eobEccs):\n",
    "    print(EOBecc)\n",
    "    dataDict = getDataDict(0.01, EOBecc)\n",
    "    tref_in = dataDict[\"t\"] - get_peak_via_quadratic_fit(dataDict[\"t\"], np.abs(dataDict[\"hlm\"][(2, 2)]))[0]\n",
    "    for case in [True, False]:\n",
    "        try:\n",
    "            tref, ecc, meanAno, eccMethod = measure_eccentricity(tref_in=tref_in,\n",
    "                                                        dataDict=dataDict,\n",
    "                                                        method=method,\n",
    "                                                        return_ecc_method=True,\n",
    "                                                        extra_kwargs={\"treat_mid_points_between_peaks_as_troughs\": case})\n",
    "            if case:\n",
    "                eccMethod.plot_measured_ecc(fig, ax[0])\n",
    "            else:\n",
    "                eccMethod.plot_measured_ecc(fig, ax[1])\n",
    "        except Exception:\n",
    "            print(f\"failed for {EOBecc} for {method}.\")"
   ]
  },
  {
   "cell_type": "code",
   "execution_count": 64,
   "id": "b7b5b0ea-bfe5-4dfb-ad4a-af449f1cc72f",
   "metadata": {},
   "outputs": [
    {
     "data": {
      "image/png": "[encoded data removed]",
      "text/plain": [
       "<Figure size 244.8x288 with 2 Axes>"
      ]
     },
     "execution_count": 64,
     "metadata": {},
     "output_type": "execute_result"
    }
   ],
   "source": [
    "ax[1].set_yscale(\"log\")\n",
    "ax[1].set_xlim(-20000,0)\n",
    "ax[0].set_xlim(-20000,0)\n",
    "ax[0].set_ylim(1e-7,)\n",
    "ax[1].set_ylim(1e-7,)\n",
    "fig"
   ]
  },
  {
   "cell_type": "markdown",
   "id": "b2a8a375-921d-4e03-81fd-d931e4235350",
   "metadata": {},
   "source": [
    "### Test for high ecc"
   ]
  },
  {
   "cell_type": "code",
   "execution_count": 23,
   "id": "12caa772-1ad2-455f-942f-62efd2489728",
   "metadata": {},
   "outputs": [
    {
     "name": "stderr",
     "output_type": "stream",
     "text": [
      "/home1/md.shaikh/Eccentricity/paper/plot_scripts/../../measureEccentricity/eccDefinition.py:425: UserWarning: Ecc(t) is non monotonic.\n",
      "  warnings.warn(\"Ecc(t) is non monotonic.\")\n",
      "/home1/md.shaikh/Eccentricity/paper/plot_scripts/../../measureEccentricity/eccDefinition.py:370: UserWarning: Phase shift closer to pi than 2 pi detected.\n",
      "  warnings.warn(\"Phase shift closer to pi than 2 pi detected.\")\n",
      "/home1/md.shaikh/Eccentricity/paper/plot_scripts/../../measureEccentricity/eccDefinition.py:382: UserWarning: At least a pair of peaks are too far. Maximum orbital phase diff is 10.790380395400291. Times of occurances are [-36212.12625994]\n",
      "  warnings.warn(f\"At least a pair of {extrema_type} are too far.\"\n",
      "/home1/md.shaikh/Eccentricity/paper/plot_scripts/../../measureEccentricity/eccDefinition.py:382: UserWarning: At least a pair of peaks are too far. Maximum orbital phase diff is 11.206740051356917. Times of occurances are [-33835.63411971]\n",
      "  warnings.warn(f\"At least a pair of {extrema_type} are too far.\"\n",
      "/home1/md.shaikh/Eccentricity/paper/plot_scripts/../../measureEccentricity/eccDefinition.py:364: UserWarning: At least a pair of troughs are too close. Minimum orbital phase diff is 1.027253048313252. Times of occurances are [-40560.85193621]\n",
      "  warnings.warn(f\"At least a pair of {extrema_type} are too close.\"\n",
      "/home1/md.shaikh/Eccentricity/paper/plot_scripts/../../measureEccentricity/eccDefinition.py:382: UserWarning: At least a pair of troughs are too far. Maximum orbital phase diff is 10.630656707698705. Times of occurances are [-36383.36551541]\n",
      "  warnings.warn(f\"At least a pair of {extrema_type} are too far.\"\n",
      "/home1/md.shaikh/Eccentricity/paper/plot_scripts/../../measureEccentricity/eccDefinition.py:382: UserWarning: At least a pair of peaks are too far. Maximum orbital phase diff is 12.040352400304215. Times of occurances are [-31321.68911623]\n",
      "  warnings.warn(f\"At least a pair of {extrema_type} are too far.\"\n",
      "/home1/md.shaikh/Eccentricity/paper/plot_scripts/../../measureEccentricity/eccDefinition.py:364: UserWarning: At least a pair of troughs are too close. Minimum orbital phase diff is 0.9515758707356632. Times of occurances are [-44492.56823033 -37733.64501793]\n",
      "  warnings.warn(f\"At least a pair of {extrema_type} are too close.\"\n",
      "/home1/md.shaikh/Eccentricity/paper/plot_scripts/../../measureEccentricity/eccDefinition.py:382: UserWarning: At least a pair of troughs are too far. Maximum orbital phase diff is 11.08063954694623. Times of occurances are [-40844.45479213 -33748.47762077]\n",
      "  warnings.warn(f\"At least a pair of {extrema_type} are too far.\"\n",
      "/home1/md.shaikh/Eccentricity/paper/plot_scripts/../../measureEccentricity/eccDefinition.py:309: RuntimeWarning: invalid value encountered in sqrt\n",
      "  self.ecc_ref = ((np.sqrt(self.omega22_peak_at_tref_out)\n",
      "/home1/md.shaikh/Eccentricity/paper/plot_scripts/../../measureEccentricity/eccDefinition.py:311: RuntimeWarning: invalid value encountered in sqrt\n",
      "  / (np.sqrt(self.omega22_peak_at_tref_out)\n",
      "/home1/md.shaikh/Eccentricity/paper/plot_scripts/../../measureEccentricity/eccDefinition.py:382: UserWarning: At least a pair of peaks are too far. Maximum orbital phase diff is 10.609990090547882. Times of occurances are [-28655.11160545]\n",
      "  warnings.warn(f\"At least a pair of {extrema_type} are too far.\"\n",
      "/home1/md.shaikh/Eccentricity/paper/plot_scripts/../../measureEccentricity/eccDefinition.py:364: UserWarning: At least a pair of troughs are too close. Minimum orbital phase diff is 0.866125746392088. Times of occurances are [-49800.29085456 -41023.00922908 -34670.53343778]\n",
      "  warnings.warn(f\"At least a pair of {extrema_type} are too close.\"\n",
      "/home1/md.shaikh/Eccentricity/paper/plot_scripts/../../measureEccentricity/eccDefinition.py:382: UserWarning: At least a pair of troughs are too far. Maximum orbital phase diff is 10.212768654680417. Times of occurances are [-44964.55787861 -37592.98952903 -30931.21716363]\n",
      "  warnings.warn(f\"At least a pair of {extrema_type} are too far.\"\n",
      "/home1/md.shaikh/Eccentricity/paper/plot_scripts/../../measureEccentricity/eccDefinition.py:382: UserWarning: At least a pair of peaks are too far. Maximum orbital phase diff is 10.99169353211434. Times of occurances are [-30262.03193328]\n",
      "  warnings.warn(f\"At least a pair of {extrema_type} are too far.\"\n",
      "/home1/md.shaikh/Eccentricity/paper/plot_scripts/../../measureEccentricity/eccDefinition.py:364: UserWarning: At least a pair of troughs are too close. Minimum orbital phase diff is 0.7657613360891347. Times of occurances are [-57761.66964403 -45552.38564815 -37473.00398476]\n",
      "  warnings.warn(f\"At least a pair of {extrema_type} are too close.\"\n",
      "/home1/md.shaikh/Eccentricity/paper/plot_scripts/../../measureEccentricity/eccDefinition.py:382: UserWarning: At least a pair of troughs are too far. Maximum orbital phase diff is 10.511407612340065. Times of occurances are [-50816.37541903 -41105.25606018 -32960.44627534]\n",
      "  warnings.warn(f\"At least a pair of {extrema_type} are too far.\"\n",
      "/home1/md.shaikh/Eccentricity/paper/plot_scripts/../../measureEccentricity/eccDefinition.py:382: UserWarning: At least a pair of peaks are too far. Maximum orbital phase diff is 11.553899189892746. Times of occurances are [-27339.4399363]\n",
      "  warnings.warn(f\"At least a pair of {extrema_type} are too far.\"\n",
      "/home1/md.shaikh/Eccentricity/paper/plot_scripts/../../measureEccentricity/eccDefinition.py:364: UserWarning: At least a pair of troughs are too close. Minimum orbital phase diff is 0.6418881574161333. Times of occurances are [-71168.35062367 -52043.512458   -41166.5829352  -33884.23475124]\n",
      "  warnings.warn(f\"At least a pair of {extrema_type} are too close.\"\n",
      "/home1/md.shaikh/Eccentricity/paper/plot_scripts/../../measureEccentricity/eccDefinition.py:382: UserWarning: At least a pair of troughs are too far. Maximum orbital phase diff is 10.804721479341282. Times of occurances are [-59651.01857885 -45881.37302    -37167.53684562 -29792.00315535]\n",
      "  warnings.warn(f\"At least a pair of {extrema_type} are too far.\"\n",
      "/home1/md.shaikh/Eccentricity/paper/plot_scripts/../../measureEccentricity/eccDefinition.py:415: UserWarning: time array t_for_ecc_test is too long. Length is 1246823\n",
      "  warnings.warn(\"time array t_for_ecc_test is too long.\"\n"
     ]
    },
    {
     "name": "stdout",
     "output_type": "stream",
     "text": [
      "failed for 0.5416666666666666 for FrequencyFits.\n",
      "failed for 0.625 for FrequencyFits.\n",
      "failed for 0.6875 for FrequencyFits.\n",
      "failed for 0.75 for FrequencyFits.\n",
      "failed for 0.7708333333333333 for FrequencyFits.\n",
      "failed for 0.8333333333333333 for FrequencyFits.\n",
      "failed for 0.8958333333333333 for FrequencyFits.\n",
      "failed for 0.9166666666666666 for FrequencyFits.\n",
      "failed for 0.9583333333333333 for FrequencyFits.\n",
      "failed for 0.9791666666666666 for FrequencyFits.\n",
      "failed for 1.0 for FrequencyFits.\n"
     ]
    },
    {
     "data": {
      "image/png": "[encoded data removed]",
      "text/plain": [
       "<Figure size 244.8x216 with 1 Axes>"
      ]
     },
     "metadata": {
      "needs_background": "light"
     },
     "output_type": "display_data"
    }
   ],
   "source": [
    "fig, ax = plt.subplots(figsize=(figWidthsOneColDict[journal], 3))\n",
    "eobEccs = np.linspace(0.5, 1., 25)\n",
    "for method in [\"Amplitude\", \"ResidualAmplitude\", \"FrequencyFits\"]:\n",
    "    measuredEccs = []\n",
    "    eEOB = []\n",
    "    for EOBecc in eobEccs:\n",
    "        dataDict = getDataDict(0.01, EOBecc)\n",
    "        tref_in = dataDict[\"t\"] - get_peak_via_quadratic_fit(dataDict[\"t\"], np.abs(dataDict[\"hlm\"][(2, 2)]))[0]\n",
    "        try:\n",
    "            tref, ecc, meanAno, eccMethod = measure_eccentricity(tref_in=tref_in,\n",
    "                                                        dataDict=dataDict,\n",
    "                                                        method=method,\n",
    "                                                        return_ecc_method=True,\n",
    "                                                        extra_kwargs={\"treat_mid_points_between_peaks_as_troughs\": True})\n",
    "            measuredEccs.append(ecc[0])\n",
    "            eEOB.append(EOBecc)\n",
    "        except Exception:\n",
    "            print(f\"failed for {EOBecc} for {method}.\")\n",
    "    if len(measuredEccs) >= 1:\n",
    "        ax.plot(eEOB, measuredEccs, marker=\".\", label=f\"{method}\", c=colorsDict[method], ls=lstyles[method])"
   ]
  },
  {
   "cell_type": "code",
   "execution_count": 24,
   "id": "e37681b0-166c-4dcd-9855-5e0a3f014eb4",
   "metadata": {},
   "outputs": [
    {
     "data": {
      "image/png": "[encoded data removed]",
      "text/plain": [
       "<Figure size 244.8x216 with 1 Axes>"
      ]
     },
     "execution_count": 24,
     "metadata": {},
     "output_type": "execute_result"
    }
   ],
   "source": [
    "ax.set_xlabel(\"$e_{\\mathrm{EOB}}$\")\n",
    "ax.set_ylabel(\"Measured Eccentricity $e$\")\n",
    "ax.legend()\n",
    "ax.set_ylim(0.3, 1.0)\n",
    "ax.set_xlim(0.5, 1.0)\n",
    "ax.grid()\n",
    "fig"
   ]
  },
  {
   "cell_type": "code",
   "execution_count": 19,
   "id": "bd7e1b47-2fd8-4753-a60c-3c71d993884c",
   "metadata": {},
   "outputs": [],
   "source": [
    "fig.subplots_adjust(right=0.96, top=0.98)\n",
    "fig.savefig(\"../../../public_html/EccDefinition/high_ecc_test_{key}_{method}.pdf\")"
   ]
  },
  {
   "cell_type": "markdown",
   "id": "bb66cfa0-e717-4831-968d-207dcae5e140",
   "metadata": {},
   "source": [
    "### LOW ecc"
   ]
  },
  {
   "cell_type": "code",
   "execution_count": 16,
   "id": "11b48ac8-4112-4c56-a0f7-073d38743b61",
   "metadata": {},
   "outputs": [
    {
     "name": "stdout",
     "output_type": "stream",
     "text": [
      "failed for 0.0001 for Amplitude.\n",
      "failed for 0.00011006941712522093 for Amplitude.\n",
      "failed for 0.00012115276586285888 for Amplitude.\n",
      "failed for 0.0001333521432163324 for Amplitude.\n",
      "failed for 0.0001467799267622069 for Amplitude.\n",
      "failed for 0.00016155980984398745 for Amplitude.\n",
      "failed for 0.00017782794100389227 for Amplitude.\n",
      "failed for 0.00019573417814876596 for Amplitude.\n",
      "failed for 0.00021544346900318845 for Amplitude.\n",
      "failed for 0.00023713737056616554 for Amplitude.\n",
      "failed for 0.0002610157215682536 for Amplitude.\n",
      "failed for 0.0002872984833353666 for Amplitude.\n",
      "failed for 0.00031622776601683794 for Amplitude.\n",
      "failed for 0.00034807005884284094 for Amplitude.\n",
      "failed for 0.00038311868495572853 for Amplitude.\n",
      "failed for 0.00042169650342858224 for Amplitude.\n",
      "failed for 0.00046415888336127773 for Amplitude.\n",
      "failed for 0.0005108969774506924 for Amplitude.\n",
      "failed for 0.0005623413251903491 for Amplitude.\n",
      "failed for 0.0006189658188912603 for Amplitude.\n",
      "failed for 0.0006812920690579609 for Amplitude.\n",
      "failed for 0.0007498942093324559 for Amplitude.\n",
      "failed for 0.0008254041852680181 for Amplitude.\n",
      "failed for 0.0009085175756516862 for Amplitude.\n",
      "failed for 0.0001 for ResidualAmplitude.\n",
      "failed for 0.00011006941712522093 for ResidualAmplitude.\n",
      "failed for 0.00012115276586285888 for ResidualAmplitude.\n",
      "failed for 0.0001333521432163324 for ResidualAmplitude.\n",
      "failed for 0.0001467799267622069 for ResidualAmplitude.\n",
      "failed for 0.00016155980984398745 for ResidualAmplitude.\n",
      "failed for 0.00017782794100389227 for ResidualAmplitude.\n",
      "failed for 0.00019573417814876596 for ResidualAmplitude.\n",
      "failed for 0.00021544346900318845 for ResidualAmplitude.\n",
      "failed for 0.00023713737056616554 for ResidualAmplitude.\n",
      "failed for 0.0002610157215682536 for ResidualAmplitude.\n",
      "failed for 0.0002872984833353666 for ResidualAmplitude.\n",
      "failed for 0.00031622776601683794 for ResidualAmplitude.\n",
      "failed for 0.00034807005884284094 for ResidualAmplitude.\n",
      "failed for 0.00038311868495572853 for ResidualAmplitude.\n",
      "failed for 0.00042169650342858224 for ResidualAmplitude.\n",
      "failed for 0.00012115276586285888 for FrequencyFits.\n"
     ]
    },
    {
     "name": "stderr",
     "output_type": "stream",
     "text": [
      "/home1/md.shaikh/Eccentricity/paper/plot_scripts/../../measureEccentricity/eccDefinition.py:364: UserWarning: At least a pair of peaks are too close. Minimum orbital phase diff is 3.131698530400115. Times of occurances are [-3058.68544994]\n",
      "  warnings.warn(f\"At least a pair of {extrema_type} are too close.\"\n",
      "/home1/md.shaikh/Eccentricity/paper/plot_scripts/../../measureEccentricity/eccDefinition.py:364: UserWarning: At least a pair of peaks are too close. Minimum orbital phase diff is 3.049076331565459. Times of occurances are [-3064.63575906]\n",
      "  warnings.warn(f\"At least a pair of {extrema_type} are too close.\"\n"
     ]
    },
    {
     "name": "stdout",
     "output_type": "stream",
     "text": [
      "failed for 0.0007498942093324559 for FrequencyFits.\n"
     ]
    },
    {
     "data": {
      "image/png": "[encoded data removed]",
      "text/plain": [
       "<Figure size 244.8x216 with 1 Axes>"
      ]
     },
     "metadata": {
      "needs_background": "light"
     },
     "output_type": "display_data"
    }
   ],
   "source": [
    "fig, ax = plt.subplots(figsize=(figWidthsOneColDict[journal], 3))\n",
    "eobEccs = 10**np.linspace(-4.0, -3.0, 25)\n",
    "for method in [\"Amplitude\", \"ResidualAmplitude\", \"FrequencyFits\"]:\n",
    "    measuredEccs = []\n",
    "    eEOB = []\n",
    "    for EOBecc in eobEccs:\n",
    "        dataDict = getDataDict(0.01, EOBecc)\n",
    "        tref_in = dataDict[\"t\"] - get_peak_via_quadratic_fit(dataDict[\"t\"], np.abs(dataDict[\"hlm\"][(2, 2)]))[0]\n",
    "        try:\n",
    "            tref, ecc, meanAno, eccMethod = measure_eccentricity(tref_in=tref_in,\n",
    "                                                        dataDict=dataDict,\n",
    "                                                        method=method,\n",
    "                                                        return_ecc_method=True,\n",
    "                                                        extra_kwargs={\"treat_mid_points_between_peaks_as_troughs\": True})\n",
    "            measuredEccs.append(ecc[0])\n",
    "            eEOB.append(EOBecc)\n",
    "        except Exception:\n",
    "            print(f\"failed for {EOBecc} for {method}.\")\n",
    "    if len(measuredEccs) >= 1:\n",
    "        ax.plot(eEOB, measuredEccs, marker=\".\", label=f\"{method}\", c=colorsDict[method], ls=lstyles[method])"
   ]
  },
  {
   "cell_type": "code",
   "execution_count": 17,
   "id": "ab5f82e8-992e-4521-9d14-3a01c0f4d591",
   "metadata": {},
   "outputs": [
    {
     "data": {
      "image/png": "[encoded data removed]",
      "text/plain": [
       "<Figure size 244.8x216 with 1 Axes>"
      ]
     },
     "execution_count": 17,
     "metadata": {},
     "output_type": "execute_result"
    }
   ],
   "source": [
    "ax.set_xlabel(\"$e_{\\mathrm{EOB}}$\")\n",
    "ax.set_ylabel(\"Measured Eccentricity $e$\")\n",
    "ax.legend()\n",
    "# ax.set_ylim(0.3, 1.0)\n",
    "# ax.set_xlim(0.5, 1.0)\n",
    "ax.grid()\n",
    "fig"
   ]
  },
  {
   "cell_type": "code",
   "execution_count": null,
   "id": "de70783c-3c46-4434-9e6d-98b366cb1286",
   "metadata": {},
   "outputs": [],
   "source": [
    "fig.subplots_adjust(right=0.96, top=0.98)\n",
    "fig.savefig(\"../../../public_html/EccDefinition/low_ecc_test_{key}_{method}.pdf\")"
   ]
  },
  {
   "cell_type": "code",
   "execution_count": 66,
   "id": "9586ca0e-7dc2-422f-9e7c-26d935d704e6",
   "metadata": {},
   "outputs": [],
   "source": [
    "# fig.subplots_adjust(left=0.15, bottom=0.13, right=0.98, top=0.91, hspace=0.12)\n",
    "# fig.savefig(\"../figs/ecc_and_zero_ecc.pdf\")"
   ]
  },
  {
   "cell_type": "code",
   "execution_count": 67,
   "id": "61f0c105-1002-443e-8387-81787e7462f2",
   "metadata": {},
   "outputs": [
    {
     "data": {
      "text/plain": [
       "(<Figure size 432x288 with 1 Axes>,\n",
       " <matplotlib.axes._subplots.AxesSubplot at 0x7f5191199e50>)"
      ]
     },
     "execution_count": 67,
     "metadata": {},
     "output_type": "execute_result"
    },
    {
     "data": {
      "image/png": "[encoded data removed]",
      "text/plain": [
       "<Figure size 432x288 with 1 Axes>"
      ]
     },
     "metadata": {
      "needs_background": "light"
     },
     "output_type": "display_data"
    }
   ],
   "source": [
    "eccMethod.plot_residual_amp22()"
   ]
  },
  {
   "cell_type": "code",
   "execution_count": 62,
   "id": "6474374d-04fc-459c-a8d0-5399a1699b55",
   "metadata": {},
   "outputs": [
    {
     "data": {
      "text/plain": [
       "[<matplotlib.lines.Line2D at 0x7f5191659ca0>]"
      ]
     },
     "execution_count": 62,
     "metadata": {},
     "output_type": "execute_result"
    },
    {
     "data": {
      "image/png": "[encoded data removed]",
      "text/plain": [
       "<Figure size 432x288 with 1 Axes>"
      ]
     },
     "metadata": {
      "needs_background": "light"
     },
     "output_type": "display_data"
    }
   ],
   "source": [
    "plt.plot(eccMethod.t, eccMethod.amp22)\n",
    "plt.plot(eccMethod.t, eccMethod.amp22_zeroecc_interp)"
   ]
  },
  {
   "cell_type": "code",
   "execution_count": null,
   "id": "274c8769-f31a-431d-be6c-65ec59e9e24f",
   "metadata": {},
   "outputs": [],
   "source": [
    "ecc_in = 0.9\n",
    "dataDict = getDataDict(0.01, ecc_in)"
   ]
  },
  {
   "cell_type": "code",
   "execution_count": 32,
   "id": "4f9f26d9-4de4-4ccd-9d7e-d1d66b6a4fa4",
   "metadata": {},
   "outputs": [],
   "source": [
    "method = \"FrequencyFits\"\n",
    "tref_in = dataDict[\"t\"] - get_peak_via_quadratic_fit(dataDict[\"t\"], np.abs(dataDict[\"hlm\"][(2, 2)]))[0]\n",
    "tref, ecc, meanAno, eccMethod = measure_eccentricity(tref_in=tref_in,\n",
    "                                                     dataDict=dataDict,\n",
    "                                                     method=method,\n",
    "                                                     return_ecc_method=True,\n",
    "                                                    extra_kwargs={# 'extrema_finding_kwargs': {\"width\": 25},\n",
    "                                                                 \"treat_mid_points_between_peaks_as_troughs\": False}\n",
    "                                                    )"
   ]
  },
  {
   "cell_type": "code",
   "execution_count": 33,
   "id": "2bcb87f2-cf02-413b-8630-3fe64b99eeaf",
   "metadata": {},
   "outputs": [
    {
     "data": {
      "text/plain": [
       "(<Figure size 864x2016 with 7 Axes>,\n",
       " array([<AxesSubplot:xlabel='$t$', ylabel='Eccentricity $e$'>,\n",
       "        <AxesSubplot:xlabel='$t$', ylabel='$de/dt$'>,\n",
       "        <AxesSubplot:xlabel='$t$', ylabel='mean anomaly'>,\n",
       "        <AxesSubplot:xlabel='$t$', ylabel='$\\\\omega_{22}$'>,\n",
       "        <AxesSubplot:xlabel='$t$', ylabel='$\\\\Delta \\\\Phi_{orb}[i] / \\\\Delta \\\\Phi_{orb}[i-1]$'>,\n",
       "        <AxesSubplot:xlabel='$t$', ylabel='$\\\\Delta\\\\omega_{22}$'>,\n",
       "        <AxesSubplot:xlabel='$t$', ylabel='$\\\\Delta A_{22}$'>],\n",
       "       dtype=object))"
      ]
     },
     "execution_count": 33,
     "metadata": {},
     "output_type": "execute_result"
    },
    {
     "data": {
      "image/png": "[encoded data removed]",
      "text/plain": [
       "<Figure size 864x2016 with 7 Axes>"
      ]
     },
     "metadata": {
      "needs_background": "light"
     },
     "output_type": "display_data"
    }
   ],
   "source": [
    "eccMethod.make_diagnostic_plots()"
   ]
  },
  {
   "cell_type": "code",
   "execution_count": 34,
   "id": "3bc63d84-4933-4b77-b96d-9f381fff0e14",
   "metadata": {},
   "outputs": [
    {
     "data": {
      "image/png": "[encoded data removed]",
      "text/plain": [
       "<Figure size 432x288 with 1 Axes>"
      ]
     },
     "metadata": {
      "needs_background": "light"
     },
     "output_type": "display_data"
    }
   ],
   "source": [
    "fig, ax = eccMethod.plot_residual_amp22()\n",
    "ax.set_xlim(-75000, -60000)\n",
    "ax.set_ylim(-0.027, top=-0.025)\n",
    "fig.tight_layout()\n",
    "fig.savefig(f\"../../../public_html/EccDefinition/debug_{method}_high_ecc.pdf\")"
   ]
  },
  {
   "cell_type": "code",
   "execution_count": 42,
   "id": "25d9bc09-3b5e-40d1-bda5-7d7d5b36975e",
   "metadata": {},
   "outputs": [],
   "source": [
    "# !pip install ipympl\n",
    "# %matplotlib widget"
   ]
  },
  {
   "cell_type": "code",
   "execution_count": 46,
   "id": "bc39ba12-a80e-47d9-a52a-155d390d560b",
   "metadata": {},
   "outputs": [
    {
     "data": {
      "text/plain": [
       "(-20000.0, -10000.0)"
      ]
     },
     "execution_count": 46,
     "metadata": {},
     "output_type": "execute_result"
    },
    {
     "data": {
      "image/png": "[encoded data removed]",
      "text/plain": [
       "<Figure size 244.8x432 with 2 Axes>"
      ]
     },
     "metadata": {
      "needs_background": "light"
     },
     "output_type": "display_data"
    }
   ],
   "source": [
    "fig, ax = plt.subplots(nrows=2, figsize=(figWidthsOneColDict[journal], 6), sharex=True)\n",
    "eccMethod.plot_extrema_in_omega22(fig, ax[0])\n",
    "# ax[0].set_ylim(0.0, 0.07)\n",
    "# ax[0].set_xlim(right=-40000)\n",
    "\n",
    "eccMethod.plot_residual_amp22(fig, ax[1])\n",
    "ax[1].set_ylim(-1e-6, 1e-6)\n",
    "ax[1].set_xlim(-20000, -10000)\n",
    "# ax[1].set_ylim(-0.0331, -0.0330)"
   ]
  },
  {
   "cell_type": "code",
   "execution_count": 23,
   "id": "26e99395-33c4-430d-a7a9-393e09c69902",
   "metadata": {},
   "outputs": [],
   "source": [
    "# fig.subplots_adjust(left=0.2, bottom=0.07, top=0.98, right=0.95, hspace=0.1)\n",
    "# fig.savefig(\"../../../public_html/EccDefinition/debug_high_ecc_amp.pdf\")"
   ]
  },
  {
   "cell_type": "code",
   "execution_count": 24,
   "id": "ba8e22d1-5eed-4d07-88ad-5841615d23d0",
   "metadata": {},
   "outputs": [
    {
     "data": {
      "text/plain": [
       "{'extrema_finding_kwargs': {'width': 25,\n",
       "  'height': None,\n",
       "  'threshold': None,\n",
       "  'distance': None,\n",
       "  'prominence': None,\n",
       "  'wlen': None,\n",
       "  'rel_height': 0.5,\n",
       "  'plateau_size': None},\n",
       " 'treat_mid_points_between_peaks_as_troughs': True,\n",
       " 'num_orbits_to_exclude_before_merger': 1,\n",
       " 'debug': True,\n",
       " 'omega22_averaging_method': 'average_between_extrema'}"
      ]
     },
     "execution_count": 24,
     "metadata": {},
     "output_type": "execute_result"
    }
   ],
   "source": [
    "eccMethod.extra_kwargs"
   ]
  },
  {
   "cell_type": "code",
   "execution_count": 35,
   "id": "ac8ea3c9-ee48-420a-8300-6c2b2a5b363f",
   "metadata": {},
   "outputs": [],
   "source": [
    "import lalsimulation as lalsim"
   ]
  },
  {
   "cell_type": "code",
   "execution_count": 42,
   "id": "0f9a057b-61e6-476e-89b7-4550438d8666",
   "metadata": {},
   "outputs": [
    {
     "data": {
      "text/plain": [
       "18.67474182712697"
      ]
     },
     "execution_count": 42,
     "metadata": {},
     "output_type": "execute_result"
    }
   ],
   "source": [
    "lalsim.SimIMRSEOBNRv4ROMFrequencyOfTime(4.0, 10 * lal.MSUN_SI, 20*lal.MSUN_SI, 0.0, 0.0)"
   ]
  },
  {
   "cell_type": "code",
   "execution_count": null,
   "id": "ad9f1974-6f85-456c-931c-654b28e394bc",
   "metadata": {},
   "outputs": [],
   "source": []
  }
 ],
 "metadata": {
  "kernelspec": {
   "display_name": "SEOBNRv4E",
   "language": "python",
   "name": "seob"
  },
  "language_info": {
   "codemirror_mode": {
    "name": "ipython",
    "version": 3
   },
   "file_extension": ".py",
   "mimetype": "text/x-python",
   "name": "python",
   "nbconvert_exporter": "python",
   "pygments_lexer": "ipython3",
   "version": "3.8.12"
  }
 },
 "nbformat": 4,
 "nbformat_minor": 5
}
