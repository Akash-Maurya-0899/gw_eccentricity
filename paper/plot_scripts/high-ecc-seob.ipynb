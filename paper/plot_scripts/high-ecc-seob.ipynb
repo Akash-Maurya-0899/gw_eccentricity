{
 "cells": [
  {
   "cell_type": "markdown",
   "id": "78c4be92-0409-4c7d-a9d4-c8d098b2772a",
   "metadata": {},
   "source": [
    "Plots to show how the methods work for highly eccentric seob waveforms"
   ]
  },
  {
   "cell_type": "code",
   "execution_count": 1,
   "id": "e44a31a5-f62c-480f-aa56-e115cdcda87e",
   "metadata": {},
   "outputs": [],
   "source": [
    "import sys\n",
    "sys.path.append(\"../../\")\n",
    "%load_ext autoreload\n",
    "%autoreload 2"
   ]
  },
  {
   "cell_type": "code",
   "execution_count": 82,
   "id": "81602348-8e35-4edd-82c2-f7130c62403d",
   "metadata": {},
   "outputs": [],
   "source": [
    "from measureEccentricity.measureEccentricity import measure_eccentricity\n",
    "from measureEccentricity.load_data import load_waveform\n",
    "from measureEccentricity.plot_settings import use_fancy_plotsettings, colorsDict, figWidthsOneColDict, lstyles, lwidths\n",
    "import matplotlib.pyplot as plt\n",
    "import numpy as np\n",
    "from measureEccentricity.utils import get_peak_via_quadratic_fit\n",
    "import matplotlib as mpl"
   ]
  },
  {
   "cell_type": "markdown",
   "id": "eea9cca1-f93f-43e7-9bb4-5528240ec20f",
   "metadata": {},
   "source": [
    "### Create eccentric waveforms using seobnrv4ehm"
   ]
  },
  {
   "cell_type": "code",
   "execution_count": 3,
   "id": "f71f57de-c069-417d-8825-7ad50a93d101",
   "metadata": {},
   "outputs": [],
   "source": [
    "from EccTests.TestEOBvsMeasuredEcc.seobnrv4ehm import get_modes\n",
    "import lal"
   ]
  },
  {
   "cell_type": "code",
   "execution_count": 4,
   "id": "0c9bec0d-fe70-4fd3-a598-a3c4bd51634e",
   "metadata": {},
   "outputs": [
    {
     "data": {
      "text/plain": [
       "\u001b[0;31mSignature:\u001b[0m\n",
       "\u001b[0mget_modes\u001b[0m\u001b[0;34m(\u001b[0m\u001b[0;34m\u001b[0m\n",
       "\u001b[0;34m\u001b[0m    \u001b[0mq\u001b[0m\u001b[0;34m=\u001b[0m\u001b[0;36m1\u001b[0m\u001b[0;34m,\u001b[0m\u001b[0;34m\u001b[0m\n",
       "\u001b[0;34m\u001b[0m    \u001b[0mchi1\u001b[0m\u001b[0;34m=\u001b[0m\u001b[0;36m0\u001b[0m\u001b[0;34m,\u001b[0m\u001b[0;34m\u001b[0m\n",
       "\u001b[0;34m\u001b[0m    \u001b[0mchi2\u001b[0m\u001b[0;34m=\u001b[0m\u001b[0;36m0\u001b[0m\u001b[0;34m,\u001b[0m\u001b[0;34m\u001b[0m\n",
       "\u001b[0;34m\u001b[0m    \u001b[0meccentricity\u001b[0m\u001b[0;34m=\u001b[0m\u001b[0;36m1e-05\u001b[0m\u001b[0;34m,\u001b[0m\u001b[0;34m\u001b[0m\n",
       "\u001b[0;34m\u001b[0m    \u001b[0meccentric_anomaly\u001b[0m\u001b[0;34m=\u001b[0m\u001b[0;36m0\u001b[0m\u001b[0;34m,\u001b[0m\u001b[0;34m\u001b[0m\n",
       "\u001b[0;34m\u001b[0m    \u001b[0mf_min\u001b[0m\u001b[0;34m=\u001b[0m\u001b[0;36m20\u001b[0m\u001b[0;34m,\u001b[0m\u001b[0;34m\u001b[0m\n",
       "\u001b[0;34m\u001b[0m    \u001b[0mM_fed\u001b[0m\u001b[0;34m=\u001b[0m\u001b[0;36m50\u001b[0m\u001b[0;34m,\u001b[0m\u001b[0;34m\u001b[0m\n",
       "\u001b[0;34m\u001b[0m    \u001b[0mdelta_t\u001b[0m\u001b[0;34m=\u001b[0m\u001b[0;36m0.00048828125\u001b[0m\u001b[0;34m,\u001b[0m\u001b[0;34m\u001b[0m\n",
       "\u001b[0;34m\u001b[0m    \u001b[0mEccIC\u001b[0m\u001b[0;34m=\u001b[0m\u001b[0;36m0\u001b[0m\u001b[0;34m,\u001b[0m\u001b[0;34m\u001b[0m\n",
       "\u001b[0;34m\u001b[0m    \u001b[0mdMpc\u001b[0m\u001b[0;34m=\u001b[0m\u001b[0;36m500\u001b[0m\u001b[0;34m,\u001b[0m\u001b[0;34m\u001b[0m\n",
       "\u001b[0;34m\u001b[0m    \u001b[0mapprox\u001b[0m\u001b[0;34m=\u001b[0m\u001b[0;34m'SEOBNRv4EHM_opt'\u001b[0m\u001b[0;34m,\u001b[0m\u001b[0;34m\u001b[0m\n",
       "\u001b[0;34m\u001b[0m    \u001b[0mphysical_units\u001b[0m\u001b[0;34m=\u001b[0m\u001b[0;32mTrue\u001b[0m\u001b[0;34m,\u001b[0m\u001b[0;34m\u001b[0m\n",
       "\u001b[0;34m\u001b[0m    \u001b[0msave\u001b[0m\u001b[0;34m=\u001b[0m\u001b[0;32mTrue\u001b[0m\u001b[0;34m,\u001b[0m\u001b[0;34m\u001b[0m\n",
       "\u001b[0;34m\u001b[0m\u001b[0;34m)\u001b[0m\u001b[0;34m\u001b[0m\u001b[0;34m\u001b[0m\u001b[0m\n",
       "\u001b[0;31mDocstring:\u001b[0m Get the hlm modes.\n",
       "\u001b[0;31mFile:\u001b[0m      ~/Eccentricity/EccTests/TestEOBvsMeasuredEcc/seobnrv4ehm.py\n",
       "\u001b[0;31mType:\u001b[0m      function\n"
      ]
     },
     "metadata": {},
     "output_type": "display_data"
    }
   ],
   "source": [
    "?get_modes"
   ]
  },
  {
   "cell_type": "code",
   "execution_count": 30,
   "id": "7d12852f-6d48-4c74-a5ea-c9f2720820d1",
   "metadata": {},
   "outputs": [],
   "source": [
    "M = 50\n",
    "MT = M * lal.MTSUN_SI\n",
    "q = 4\n",
    "chi1 = -0.6\n",
    "chi2=-0.6\n",
    "eccentric_anomaly=np.pi/2\n",
    "EccIC=-1\n",
    "Momega0_zeroecc = 0.002\n",
    "f_low_zeroecc = Momega0_zeroecc/np.pi/MT\n",
    "tzeroecc, hlmzeroecc = get_modes(q=q, chi1=chi1, chi2=chi2, M_fed=M, eccentricity=0, eccentric_anomaly=eccentric_anomaly, EccIC=EccIC, f_min=f_low_zeroecc, physical_units=False, save=False)\n",
    "tzeroecc = tzeroecc - get_peak_via_quadratic_fit(tzeroecc, np.abs(hlmzeroecc[(2, 2)]))[0]\n",
    "    \n",
    "def getDataDict(Momega0, ecc):\n",
    "    f_low = Momega0/np.pi/MT\n",
    "    tecc, hlmecc = get_modes(q=4, chi1=chi1, chi2=chi2, M_fed=M, eccentricity=ecc, eccentric_anomaly=eccentric_anomaly, EccIC=EccIC, f_min=f_low, physical_units=False, save=False)\n",
    "    tecc = tecc - get_peak_via_quadratic_fit(tecc, np.abs(hlmecc[(2, 2)]))[0]\n",
    "    startzero = np.argmin(np.abs(tzeroecc - tecc[0])) - 10\n",
    "    dataDict = {\"t\": tecc, \"hlm\": hlmecc, \"t_zeroecc\": tzeroecc[startzero:], \"hlm_zeroecc\":{(2, 2): hlmzeroecc[(2, 2)][startzero: ]}}\n",
    "    return dataDict"
   ]
  },
  {
   "cell_type": "code",
   "execution_count": 33,
   "id": "528d5887-c5c2-4be3-8aa4-af2bff271aa2",
   "metadata": {},
   "outputs": [
    {
     "data": {
      "text/plain": [
       "<matplotlib.legend.Legend at 0x7f8e388378e0>"
      ]
     },
     "execution_count": 33,
     "metadata": {},
     "output_type": "execute_result"
    },
    {
     "data": {
      "image/png": "[encoded data removed]",
      "text/plain": [
       "<Figure size 432x288 with 1 Axes>"
      ]
     },
     "metadata": {
      "needs_background": "light"
     },
     "output_type": "display_data"
    }
   ],
   "source": [
    "datadict = getDataDict(0.01, 1)\n",
    "plt.plot(datadict[\"t\"], np.abs(datadict[\"hlm\"][(2, 2)]), label=\"ecc\")\n",
    "plt.plot(datadict[\"t_zeroecc\"], np.abs(datadict[\"hlm_zeroecc\"][(2, 2)]), label=\"zeroecc\", ls=\"--\")\n",
    "plt.legend()"
   ]
  },
  {
   "cell_type": "code",
   "execution_count": 34,
   "id": "307a71cb-5676-4e72-8807-42619702ee6c",
   "metadata": {},
   "outputs": [],
   "source": [
    "journal = \"APS\"\n",
    "use_fancy_plotsettings(journal=journal)"
   ]
  },
  {
   "cell_type": "code",
   "execution_count": 37,
   "id": "366f9092-b9cc-4f08-b3e7-63740ce41e0c",
   "metadata": {},
   "outputs": [],
   "source": [
    "from tqdm import tqdm"
   ]
  },
  {
   "cell_type": "markdown",
   "id": "70b5e4df-c964-4f92-af87-5bfbca4e042a",
   "metadata": {},
   "source": [
    "### Test the `ResidualAmplitude` method from ecc=1e-7 to ecc=1 with `treat_mid_points_between_peaks_as_troughs=True` and `False`"
   ]
  },
  {
   "cell_type": "code",
   "execution_count": 70,
   "id": "76d9b9dd-b468-4991-9780-ecabd90002b5",
   "metadata": {},
   "outputs": [
    {
     "name": "stderr",
     "output_type": "stream",
     "text": [
      "  1%|█▏                                                                                                                                                                            | 1/150 [00:01<04:36,  1.86s/it]"
     ]
    },
    {
     "name": "stdout",
     "output_type": "stream",
     "text": [
      "1e-07\n",
      "1.1142428752325099e-07\n"
     ]
    },
    {
     "name": "stderr",
     "output_type": "stream",
     "text": [
      "  1%|██▎                                                                                                                                                                           | 2/150 [00:03<04:40,  1.90s/it]"
     ]
    },
    {
     "name": "stdout",
     "output_type": "stream",
     "text": [
      "1.2415371850064104e-07\n"
     ]
    },
    {
     "name": "stderr",
     "output_type": "stream",
     "text": [
      "  2%|███▍                                                                                                                                                                          | 3/150 [00:05<04:56,  2.02s/it]"
     ]
    },
    {
     "name": "stdout",
     "output_type": "stream",
     "text": [
      "1.3833739627296223e-07\n"
     ]
    },
    {
     "name": "stderr",
     "output_type": "stream",
     "text": [
      "  3%|████▋                                                                                                                                                                         | 4/150 [00:08<05:02,  2.07s/it]"
     ]
    },
    {
     "name": "stdout",
     "output_type": "stream",
     "text": [
      "1.5414145817536454e-07\n"
     ]
    },
    {
     "name": "stderr",
     "output_type": "stream",
     "text": [
      "  3%|█████▊                                                                                                                                                                        | 5/150 [00:10<05:05,  2.11s/it]"
     ]
    },
    {
     "name": "stdout",
     "output_type": "stream",
     "text": [
      "1.7175102154984983e-07\n"
     ]
    },
    {
     "name": "stderr",
     "output_type": "stream",
     "text": [
      "  4%|██████▉                                                                                                                                                                       | 6/150 [00:12<05:05,  2.12s/it]"
     ]
    },
    {
     "name": "stdout",
     "output_type": "stream",
     "text": [
      "1.9137235207582544e-07\n"
     ]
    },
    {
     "name": "stderr",
     "output_type": "stream",
     "text": [
      "  5%|████████                                                                                                                                                                      | 7/150 [00:14<05:03,  2.12s/it]"
     ]
    },
    {
     "name": "stdout",
     "output_type": "stream",
     "text": [
      "2.1323527981697593e-07\n"
     ]
    },
    {
     "name": "stderr",
     "output_type": "stream",
     "text": [
      "  5%|█████████▎                                                                                                                                                                    | 8/150 [00:16<05:01,  2.12s/it]"
     ]
    },
    {
     "name": "stdout",
     "output_type": "stream",
     "text": [
      "2.3759589128427652e-07\n"
     ]
    },
    {
     "name": "stderr",
     "output_type": "stream",
     "text": [
      "  6%|██████████▍                                                                                                                                                                   | 9/150 [00:18<04:58,  2.12s/it]"
     ]
    },
    {
     "name": "stdout",
     "output_type": "stream",
     "text": [
      "2.647395290480231e-07\n"
     ]
    },
    {
     "name": "stderr",
     "output_type": "stream",
     "text": [
      "  7%|███████████▌                                                                                                                                                                 | 10/150 [00:20<04:55,  2.11s/it]"
     ]
    },
    {
     "name": "stdout",
     "output_type": "stream",
     "text": [
      "2.949841340341698e-07\n"
     ]
    },
    {
     "name": "stderr",
     "output_type": "stream",
     "text": [
      "  7%|████████████▋                                                                                                                                                                | 11/150 [00:22<04:51,  2.10s/it]"
     ]
    },
    {
     "name": "stdout",
     "output_type": "stream",
     "text": [
      "3.286839696542055e-07\n"
     ]
    },
    {
     "name": "stderr",
     "output_type": "stream",
     "text": [
      "  8%|█████████████▊                                                                                                                                                               | 12/150 [00:25<04:48,  2.09s/it]"
     ]
    },
    {
     "name": "stdout",
     "output_type": "stream",
     "text": [
      "3.662337713903369e-07\n"
     ]
    },
    {
     "name": "stderr",
     "output_type": "stream",
     "text": [
      "  9%|██████████████▉                                                                                                                                                              | 13/150 [00:26<04:33,  1.99s/it]"
     ]
    },
    {
     "name": "stdout",
     "output_type": "stream",
     "text": [
      "4.0807337044121557e-07\n"
     ]
    },
    {
     "name": "stderr",
     "output_type": "stream",
     "text": [
      "  9%|████████████████▏                                                                                                                                                            | 14/150 [00:28<04:18,  1.90s/it]"
     ]
    },
    {
     "name": "stdout",
     "output_type": "stream",
     "text": [
      "4.5469284558624114e-07\n"
     ]
    },
    {
     "name": "stderr",
     "output_type": "stream",
     "text": [
      " 10%|█████████████████▎                                                                                                                                                           | 15/150 [00:30<04:07,  1.83s/it]"
     ]
    },
    {
     "name": "stdout",
     "output_type": "stream",
     "text": [
      "5.066382636136649e-07\n"
     ]
    },
    {
     "name": "stderr",
     "output_type": "stream",
     "text": [
      " 11%|██████████████████▍                                                                                                                                                          | 16/150 [00:31<03:59,  1.79s/it]"
     ]
    },
    {
     "name": "stdout",
     "output_type": "stream",
     "text": [
      "5.645180755516963e-07\n"
     ]
    },
    {
     "name": "stderr",
     "output_type": "stream",
     "text": [
      " 11%|███████████████████▌                                                                                                                                                         | 17/150 [00:33<03:54,  1.77s/it]"
     ]
    },
    {
     "name": "stdout",
     "output_type": "stream",
     "text": [
      "6.290102436234467e-07\n"
     ]
    },
    {
     "name": "stderr",
     "output_type": "stream",
     "text": [
      " 12%|████████████████████▊                                                                                                                                                        | 18/150 [00:35<03:49,  1.74s/it]"
     ]
    },
    {
     "name": "stdout",
     "output_type": "stream",
     "text": [
      "7.008701824056906e-07\n"
     ]
    },
    {
     "name": "stderr",
     "output_type": "stream",
     "text": [
      " 13%|█████████████████████▉                                                                                                                                                       | 19/150 [00:36<03:46,  1.73s/it]"
     ]
    },
    {
     "name": "stdout",
     "output_type": "stream",
     "text": [
      "7.809396072084504e-07\n"
     ]
    },
    {
     "name": "stderr",
     "output_type": "stream",
     "text": [
      " 13%|███████████████████████                                                                                                                                                      | 20/150 [00:38<03:49,  1.77s/it]"
     ]
    },
    {
     "name": "stdout",
     "output_type": "stream",
     "text": [
      "8.701563933188907e-07\n"
     ]
    },
    {
     "name": "stderr",
     "output_type": "stream",
     "text": [
      " 14%|████████████████████████▏                                                                                                                                                    | 21/150 [00:40<03:43,  1.73s/it]"
     ]
    },
    {
     "name": "stdout",
     "output_type": "stream",
     "text": [
      "9.695655615935915e-07\n"
     ]
    },
    {
     "name": "stderr",
     "output_type": "stream",
     "text": [
      " 15%|█████████████████████████▎                                                                                                                                                   | 22/150 [00:42<03:39,  1.72s/it]"
     ]
    },
    {
     "name": "stdout",
     "output_type": "stream",
     "text": [
      "1.0803315190764665e-06\n"
     ]
    },
    {
     "name": "stderr",
     "output_type": "stream",
     "text": [
      " 15%|██████████████████████████▌                                                                                                                                                  | 23/150 [00:43<03:35,  1.70s/it]"
     ]
    },
    {
     "name": "stdout",
     "output_type": "stream",
     "text": [
      "1.2037516980200695e-06\n"
     ]
    },
    {
     "name": "stderr",
     "output_type": "stream",
     "text": [
      " 16%|███████████████████████████▋                                                                                                                                                 | 24/150 [00:45<03:32,  1.69s/it]"
     ]
    },
    {
     "name": "stdout",
     "output_type": "stream",
     "text": [
      "1.3412717530678983e-06\n"
     ]
    },
    {
     "name": "stderr",
     "output_type": "stream",
     "text": [
      " 17%|████████████████████████████▊                                                                                                                                                | 25/150 [00:47<03:30,  1.68s/it]"
     ]
    },
    {
     "name": "stdout",
     "output_type": "stream",
     "text": [
      "1.494502494606524e-06\n"
     ]
    },
    {
     "name": "stderr",
     "output_type": "stream",
     "text": [
      " 17%|█████████████████████████████▉                                                                                                                                               | 26/150 [00:48<03:28,  1.68s/it]"
     ]
    },
    {
     "name": "stdout",
     "output_type": "stream",
     "text": [
      "1.665238756632532e-06\n"
     ]
    },
    {
     "name": "stderr",
     "output_type": "stream",
     "text": [
      " 18%|███████████████████████████████▏                                                                                                                                             | 27/150 [00:50<03:26,  1.68s/it]"
     ]
    },
    {
     "name": "stdout",
     "output_type": "stream",
     "text": [
      "1.8554804201388458e-06\n"
     ]
    },
    {
     "name": "stderr",
     "output_type": "stream",
     "text": [
      " 19%|████████████████████████████████▎                                                                                                                                            | 28/150 [00:52<03:24,  1.68s/it]"
     ]
    },
    {
     "name": "stdout",
     "output_type": "stream",
     "text": [
      "2.067455838273133e-06\n"
     ]
    },
    {
     "name": "stderr",
     "output_type": "stream",
     "text": [
      " 19%|█████████████████████████████████▍                                                                                                                                           | 29/150 [00:53<03:25,  1.70s/it]"
     ]
    },
    {
     "name": "stdout",
     "output_type": "stream",
     "text": [
      "2.3036479376536947e-06\n"
     ]
    },
    {
     "name": "stderr",
     "output_type": "stream",
     "text": [
      " 20%|██████████████████████████████████▌                                                                                                                                          | 30/150 [00:55<03:27,  1.73s/it]"
     ]
    },
    {
     "name": "stdout",
     "output_type": "stream",
     "text": [
      "2.5668233015746943e-06\n"
     ]
    },
    {
     "name": "stderr",
     "output_type": "stream",
     "text": [
      " 21%|███████████████████████████████████▊                                                                                                                                         | 31/150 [00:57<03:23,  1.71s/it]"
     ]
    },
    {
     "name": "stdout",
     "output_type": "stream",
     "text": [
      "2.8600645757603915e-06\n"
     ]
    },
    {
     "name": "stderr",
     "output_type": "stream",
     "text": [
      " 21%|████████████████████████████████████▉                                                                                                                                        | 32/150 [00:59<03:20,  1.70s/it]"
     ]
    },
    {
     "name": "stdout",
     "output_type": "stream",
     "text": [
      "3.186806576245907e-06\n"
     ]
    },
    {
     "name": "stderr",
     "output_type": "stream",
     "text": [
      " 22%|██████████████████████████████████████                                                                                                                                       | 33/150 [01:00<03:18,  1.70s/it]"
     ]
    },
    {
     "name": "stdout",
     "output_type": "stream",
     "text": [
      "3.5508765223261173e-06\n"
     ]
    },
    {
     "name": "stderr",
     "output_type": "stream",
     "text": [
      " 23%|███████████████████████████████████████▏                                                                                                                                     | 34/150 [01:02<03:16,  1.69s/it]"
     ]
    },
    {
     "name": "stdout",
     "output_type": "stream",
     "text": [
      "3.956538865832268e-06\n"
     ]
    },
    {
     "name": "stderr",
     "output_type": "stream",
     "text": [
      " 23%|████████████████████████████████████████▎                                                                                                                                    | 35/150 [01:04<03:14,  1.69s/it]"
     ]
    },
    {
     "name": "stdout",
     "output_type": "stream",
     "text": [
      "4.40854524183412e-06\n"
     ]
    },
    {
     "name": "stderr",
     "output_type": "stream",
     "text": [
      " 24%|█████████████████████████████████████████▌                                                                                                                                   | 36/150 [01:05<03:12,  1.69s/it]"
     ]
    },
    {
     "name": "stdout",
     "output_type": "stream",
     "text": [
      "4.912190125853851e-06\n"
     ]
    },
    {
     "name": "stderr",
     "output_type": "stream",
     "text": [
      " 25%|██████████████████████████████████████████▋                                                                                                                                  | 37/150 [01:07<03:10,  1.69s/it]"
     ]
    },
    {
     "name": "stdout",
     "output_type": "stream",
     "text": [
      "5.47337284952015e-06\n"
     ]
    },
    {
     "name": "stderr",
     "output_type": "stream",
     "text": [
      " 25%|███████████████████████████████████████████▊                                                                                                                                 | 38/150 [01:09<03:09,  1.69s/it]"
     ]
    },
    {
     "name": "stdout",
     "output_type": "stream",
     "text": [
      "6.098666701068888e-06\n"
     ]
    },
    {
     "name": "stderr",
     "output_type": "stream",
     "text": [
      " 26%|████████████████████████████████████████████▉                                                                                                                                | 39/150 [01:10<03:11,  1.72s/it]"
     ]
    },
    {
     "name": "stdout",
     "output_type": "stream",
     "text": [
      "6.795395920083764e-06\n"
     ]
    },
    {
     "name": "stderr",
     "output_type": "stream",
     "text": [
      " 27%|██████████████████████████████████████████████▏                                                                                                                              | 40/150 [01:12<03:13,  1.76s/it]"
     ]
    },
    {
     "name": "stdout",
     "output_type": "stream",
     "text": [
      "7.5717214883374e-06\n"
     ]
    },
    {
     "name": "stderr",
     "output_type": "stream",
     "text": [
      " 27%|███████████████████████████████████████████████▎                                                                                                                             | 41/150 [01:14<03:10,  1.75s/it]"
     ]
    },
    {
     "name": "stdout",
     "output_type": "stream",
     "text": [
      "8.436736721624844e-06\n"
     ]
    },
    {
     "name": "stderr",
     "output_type": "stream",
     "text": [
      " 28%|████████████████████████████████████████████████▍                                                                                                                            | 42/150 [01:16<03:07,  1.74s/it]"
     ]
    },
    {
     "name": "stdout",
     "output_type": "stream",
     "text": [
      "9.400573782282964e-06\n"
     ]
    },
    {
     "name": "stderr",
     "output_type": "stream",
     "text": [
      " 29%|█████████████████████████████████████████████████▌                                                                                                                           | 43/150 [01:17<03:05,  1.73s/it]"
     ]
    },
    {
     "name": "stdout",
     "output_type": "stream",
     "text": [
      "1.047452236000632e-05\n"
     ]
    },
    {
     "name": "stderr",
     "output_type": "stream",
     "text": [
      " 29%|██████████████████████████████████████████████████▋                                                                                                                          | 44/150 [01:19<03:03,  1.73s/it]"
     ]
    },
    {
     "name": "stdout",
     "output_type": "stream",
     "text": [
      "1.1671161911100682e-05\n"
     ]
    },
    {
     "name": "stderr",
     "output_type": "stream",
     "text": [
      " 30%|███████████████████████████████████████████████████▉                                                                                                                         | 45/150 [01:21<03:02,  1.74s/it]"
     ]
    },
    {
     "name": "stdout",
     "output_type": "stream",
     "text": [
      "1.3004509005128978e-05\n"
     ]
    },
    {
     "name": "stderr",
     "output_type": "stream",
     "text": [
      " 31%|█████████████████████████████████████████████████████                                                                                                                        | 46/150 [01:23<03:01,  1.75s/it]"
     ]
    },
    {
     "name": "stdout",
     "output_type": "stream",
     "text": [
      "1.4490181504862008e-05\n"
     ]
    },
    {
     "name": "stderr",
     "output_type": "stream",
     "text": [
      " 31%|██████████████████████████████████████████████████████▏                                                                                                                      | 47/150 [01:24<03:00,  1.76s/it]"
     ]
    },
    {
     "name": "stdout",
     "output_type": "stream",
     "text": [
      "1.614558150261838e-05\n"
     ]
    },
    {
     "name": "stderr",
     "output_type": "stream",
     "text": [
      " 32%|███████████████████████████████████████████████████████▎                                                                                                                     | 48/150 [01:26<02:59,  1.76s/it]"
     ]
    },
    {
     "name": "stdout",
     "output_type": "stream",
     "text": [
      "1.7990099155778334e-05\n"
     ]
    },
    {
     "name": "stderr",
     "output_type": "stream",
     "text": [
      " 33%|████████████████████████████████████████████████████████▌                                                                                                                    | 49/150 [01:28<03:00,  1.79s/it]"
     ]
    },
    {
     "name": "stdout",
     "output_type": "stream",
     "text": [
      "2.00453398090524e-05\n"
     ]
    },
    {
     "name": "stderr",
     "output_type": "stream",
     "text": [
      " 33%|█████████████████████████████████████████████████████████▋                                                                                                                   | 50/150 [01:30<03:02,  1.83s/it]"
     ]
    },
    {
     "name": "stdout",
     "output_type": "stream",
     "text": [
      "2.2335377063851234e-05\n"
     ]
    },
    {
     "name": "stderr",
     "output_type": "stream",
     "text": [
      " 34%|██████████████████████████████████████████████████████████▊                                                                                                                  | 51/150 [01:32<03:00,  1.82s/it]"
     ]
    },
    {
     "name": "stdout",
     "output_type": "stream",
     "text": [
      "2.4887034759027854e-05\n"
     ]
    },
    {
     "name": "stderr",
     "output_type": "stream",
     "text": [
      " 35%|███████████████████████████████████████████████████████████▉                                                                                                                 | 52/150 [01:34<03:04,  1.89s/it]"
     ]
    },
    {
     "name": "stdout",
     "output_type": "stream",
     "text": [
      "2.7730201165910607e-05\n"
     ]
    },
    {
     "name": "stderr",
     "output_type": "stream",
     "text": [
      " 35%|█████████████████████████████████████████████████████████████▏                                                                                                               | 53/150 [01:36<03:06,  1.92s/it]"
     ]
    },
    {
     "name": "stdout",
     "output_type": "stream",
     "text": [
      "3.08981790778802e-05\n"
     ]
    },
    {
     "name": "stderr",
     "output_type": "stream",
     "text": [
      " 36%|██████████████████████████████████████████████████████████████▎                                                                                                              | 54/150 [01:38<03:02,  1.90s/it]"
     ]
    },
    {
     "name": "stdout",
     "output_type": "stream",
     "text": [
      "3.442807589518621e-05\n"
     ]
    },
    {
     "name": "stderr",
     "output_type": "stream",
     "text": [
      " 37%|███████████████████████████████████████████████████████████████▍                                                                                                             | 55/150 [01:40<02:58,  1.88s/it]"
     ]
    },
    {
     "name": "stdout",
     "output_type": "stream",
     "text": [
      "3.836123827417535e-05\n"
     ]
    },
    {
     "name": "stderr",
     "output_type": "stream",
     "text": [
      " 37%|████████████████████████████████████████████████████████████████▌                                                                                                            | 56/150 [01:42<02:58,  1.90s/it]"
     ]
    },
    {
     "name": "stdout",
     "output_type": "stream",
     "text": [
      "4.274373643209663e-05\n"
     ]
    },
    {
     "name": "stderr",
     "output_type": "stream",
     "text": [
      " 38%|█████████████████████████████████████████████████████████████████▋                                                                                                           | 57/150 [01:44<03:00,  1.94s/it]"
     ]
    },
    {
     "name": "stdout",
     "output_type": "stream",
     "text": [
      "4.762690378027994e-05\n"
     ]
    },
    {
     "name": "stderr",
     "output_type": "stream",
     "text": [
      " 39%|██████████████████████████████████████████████████████████████████▉                                                                                                          | 58/150 [01:45<02:57,  1.93s/it]"
     ]
    },
    {
     "name": "stdout",
     "output_type": "stream",
     "text": [
      "5.306793820656121e-05\n"
     ]
    },
    {
     "name": "stderr",
     "output_type": "stream",
     "text": [
      " 39%|████████████████████████████████████████████████████████████████████                                                                                                         | 59/150 [01:47<02:55,  1.93s/it]"
     ]
    },
    {
     "name": "stdout",
     "output_type": "stream",
     "text": [
      "5.913057204993993e-05\n"
     ]
    },
    {
     "name": "stderr",
     "output_type": "stream",
     "text": [
      " 40%|█████████████████████████████████████████████████████████████████████▏                                                                                                       | 60/150 [01:49<02:53,  1.93s/it]"
     ]
    },
    {
     "name": "stdout",
     "output_type": "stream",
     "text": [
      "6.588581861506814e-05\n"
     ]
    },
    {
     "name": "stderr",
     "output_type": "stream",
     "text": [
      " 41%|██████████████████████████████████████████████████████████████████████▎                                                                                                      | 61/150 [01:51<02:52,  1.94s/it]"
     ]
    },
    {
     "name": "stdout",
     "output_type": "stream",
     "text": [
      "7.341280397070115e-05\n"
     ]
    },
    {
     "name": "stderr",
     "output_type": "stream",
     "text": [
      " 41%|███████████████████████████████████████████████████████████████████████▌                                                                                                     | 62/150 [01:53<02:51,  1.95s/it]"
     ]
    },
    {
     "name": "stdout",
     "output_type": "stream",
     "text": [
      "8.179969377519468e-05\n"
     ]
    },
    {
     "name": "stderr",
     "output_type": "stream",
     "text": [
      " 42%|████████████████████████████████████████████████████████████████████████▋                                                                                                    | 63/150 [01:55<02:50,  1.96s/it]"
     ]
    },
    {
     "name": "stdout",
     "output_type": "stream",
     "text": [
      "9.114472598521194e-05\n"
     ]
    },
    {
     "name": "stderr",
     "output_type": "stream",
     "text": [
      " 43%|█████████████████████████████████████████████████████████████████████████▊                                                                                                   | 64/150 [01:57<02:50,  1.98s/it]"
     ]
    },
    {
     "name": "stdout",
     "output_type": "stream",
     "text": [
      "0.0001015573615440418\n"
     ]
    },
    {
     "name": "stderr",
     "output_type": "stream",
     "text": [
      " 43%|██████████████████████████████████████████████████████████████████████████▉                                                                                                  | 65/150 [01:59<02:49,  2.00s/it]"
     ]
    },
    {
     "name": "stdout",
     "output_type": "stream",
     "text": [
      "0.00011315956652786067\n"
     ]
    },
    {
     "name": "stderr",
     "output_type": "stream",
     "text": [
      " 44%|████████████████████████████████████████████████████████████████████████████                                                                                                 | 66/150 [02:01<02:49,  2.02s/it]"
     ]
    },
    {
     "name": "stdout",
     "output_type": "stream",
     "text": [
      "0.0001260872407680681\n"
     ]
    },
    {
     "name": "stderr",
     "output_type": "stream",
     "text": [
      " 45%|█████████████████████████████████████████████████████████████████████████████▎                                                                                               | 67/150 [02:03<02:48,  2.03s/it]"
     ]
    },
    {
     "name": "stdout",
     "output_type": "stream",
     "text": [
      "0.00014049180968354593\n"
     ]
    },
    {
     "name": "stderr",
     "output_type": "stream",
     "text": [
      " 45%|██████████████████████████████████████████████████████████████████████████████▍                                                                                              | 68/150 [02:06<02:48,  2.05s/it]"
     ]
    },
    {
     "name": "stdout",
     "output_type": "stream",
     "text": [
      "0.00015654199796841294\n"
     ]
    },
    {
     "name": "stderr",
     "output_type": "stream",
     "text": [
      " 46%|███████████████████████████████████████████████████████████████████████████████▌                                                                                             | 69/150 [02:08<02:47,  2.07s/it]"
     ]
    },
    {
     "name": "stdout",
     "output_type": "stream",
     "text": [
      "0.00017442580591096616\n"
     ]
    },
    {
     "name": "stderr",
     "output_type": "stream",
     "text": [
      " 47%|████████████████████████████████████████████████████████████████████████████████▋                                                                                            | 70/150 [02:10<02:47,  2.09s/it]"
     ]
    },
    {
     "name": "stdout",
     "output_type": "stream",
     "text": [
      "0.00019435271149298265\n"
     ]
    },
    {
     "name": "stderr",
     "output_type": "stream",
     "text": [
      " 47%|█████████████████████████████████████████████████████████████████████████████████▉                                                                                           | 71/150 [02:12<02:47,  2.11s/it]"
     ]
    },
    {
     "name": "stdout",
     "output_type": "stream",
     "text": [
      "0.00021655612406317566\n"
     ]
    },
    {
     "name": "stderr",
     "output_type": "stream",
     "text": [
      " 48%|███████████████████████████████████████████████████████████████████████████████████                                                                                          | 72/150 [02:14<02:46,  2.14s/it]"
     ]
    },
    {
     "name": "stdout",
     "output_type": "stream",
     "text": [
      "0.00024129611832536096\n"
     ]
    },
    {
     "name": "stderr",
     "output_type": "stream",
     "text": [
      " 49%|████████████████████████████████████████████████████████████████████████████████████▏                                                                                        | 73/150 [02:16<02:45,  2.16s/it]"
     ]
    },
    {
     "name": "stdout",
     "output_type": "stream",
     "text": [
      "0.0002688624806652944\n"
     ]
    },
    {
     "name": "stderr",
     "output_type": "stream",
     "text": [
      " 49%|█████████████████████████████████████████████████████████████████████████████████████▎                                                                                       | 74/150 [02:19<02:45,  2.18s/it]"
     ]
    },
    {
     "name": "stdout",
     "output_type": "stream",
     "text": [
      "0.0002995781034986427\n"
     ]
    },
    {
     "name": "stderr",
     "output_type": "stream",
     "text": [
      " 50%|██████████████████████████████████████████████████████████████████████████████████████▌                                                                                      | 75/150 [02:21<02:44,  2.20s/it]"
     ]
    },
    {
     "name": "stdout",
     "output_type": "stream",
     "text": [
      "0.0003338027673990301\n"
     ]
    },
    {
     "name": "stderr",
     "output_type": "stream",
     "text": [
      " 51%|███████████████████████████████████████████████████████████████████████████████████████▋                                                                                     | 76/150 [02:23<02:44,  2.22s/it]"
     ]
    },
    {
     "name": "stdout",
     "output_type": "stream",
     "text": [
      "0.0003719373553072644\n"
     ]
    },
    {
     "name": "stderr",
     "output_type": "stream",
     "text": [
      " 51%|████████████████████████████████████████████████████████████████████████████████████████▊                                                                                    | 77/150 [02:25<02:43,  2.25s/it]"
     ]
    },
    {
     "name": "stdout",
     "output_type": "stream",
     "text": [
      "0.00041442854818394187\n"
     ]
    },
    {
     "name": "stderr",
     "output_type": "stream",
     "text": [
      " 52%|█████████████████████████████████████████████████████████████████████████████████████████▉                                                                                   | 78/150 [02:28<02:43,  2.27s/it]"
     ]
    },
    {
     "name": "stdout",
     "output_type": "stream",
     "text": [
      "0.00046177405710691065\n"
     ]
    },
    {
     "name": "stderr",
     "output_type": "stream",
     "text": [
      " 53%|███████████████████████████████████████████████████████████████████████████████████████████                                                                                  | 79/150 [02:30<02:42,  2.29s/it]"
     ]
    },
    {
     "name": "stdout",
     "output_type": "stream",
     "text": [
      "0.0005145284530985853\n"
     ]
    },
    {
     "name": "stderr",
     "output_type": "stream",
     "text": [
      " 53%|████████████████████████████████████████████████████████████████████████████████████████████▎                                                                                | 80/150 [02:32<02:41,  2.31s/it]"
     ]
    },
    {
     "name": "stdout",
     "output_type": "stream",
     "text": [
      "0.0005733096629695033\n"
     ]
    },
    {
     "name": "stderr",
     "output_type": "stream",
     "text": [
      " 54%|█████████████████████████████████████████████████████████████████████████████████████████████▍                                                                               | 81/150 [02:35<02:41,  2.34s/it]"
     ]
    },
    {
     "name": "stdout",
     "output_type": "stream",
     "text": [
      "0.0006388062072657212\n"
     ]
    },
    {
     "name": "stderr",
     "output_type": "stream",
     "text": [
      " 55%|██████████████████████████████████████████████████████████████████████████████████████████████▌                                                                              | 82/150 [02:37<02:40,  2.36s/it]"
     ]
    },
    {
     "name": "stdout",
     "output_type": "stream",
     "text": [
      "0.0007117852651001318\n"
     ]
    },
    {
     "name": "stderr",
     "output_type": "stream",
     "text": [
      " 55%|███████████████████████████████████████████████████████████████████████████████████████████████▋                                                                             | 83/150 [02:40<02:39,  2.39s/it]"
     ]
    },
    {
     "name": "stdout",
     "output_type": "stream",
     "text": [
      "0.000793101660333306\n"
     ]
    },
    {
     "name": "stderr",
     "output_type": "stream",
     "text": [
      " 56%|████████████████████████████████████████████████████████████████████████████████████████████████▉                                                                            | 84/150 [02:42<02:39,  2.41s/it]"
     ]
    },
    {
     "name": "stdout",
     "output_type": "stream",
     "text": [
      "0.0008837078743614603\n"
     ]
    },
    {
     "name": "stderr",
     "output_type": "stream",
     "text": [
      " 57%|██████████████████████████████████████████████████████████████████████████████████████████████████                                                                           | 85/150 [02:45<02:38,  2.44s/it]"
     ]
    },
    {
     "name": "stdout",
     "output_type": "stream",
     "text": [
      "0.0009846652027941242\n"
     ]
    },
    {
     "name": "stderr",
     "output_type": "stream",
     "text": [
      " 57%|███████████████████████████████████████████████████████████████████████████████████████████████████▏                                                                         | 86/150 [02:47<02:38,  2.47s/it]"
     ]
    },
    {
     "name": "stdout",
     "output_type": "stream",
     "text": [
      "0.0010971561867027262\n"
     ]
    },
    {
     "name": "stderr",
     "output_type": "stream",
     "text": [
      " 58%|████████████████████████████████████████████████████████████████████████████████████████████████████▎                                                                        | 87/150 [02:50<02:37,  2.50s/it]"
     ]
    },
    {
     "name": "stdout",
     "output_type": "stream",
     "text": [
      "0.0012224984640507844\n"
     ]
    },
    {
     "name": "stderr",
     "output_type": "stream",
     "text": [
      " 59%|█████████████████████████████████████████████████████████████████████████████████████████████████████▍                                                                       | 88/150 [02:52<02:36,  2.53s/it]"
     ]
    },
    {
     "name": "stdout",
     "output_type": "stream",
     "text": [
      "0.0013621602035512731\n"
     ]
    },
    {
     "name": "stderr",
     "output_type": "stream",
     "text": [
      " 59%|██████████████████████████████████████████████████████████████████████████████████████████████████████▋                                                                      | 89/150 [02:55<02:35,  2.56s/it]"
     ]
    },
    {
     "name": "stdout",
     "output_type": "stream",
     "text": [
      "0.0015177773017322714\n"
     ]
    },
    {
     "name": "stderr",
     "output_type": "stream",
     "text": [
      " 60%|███████████████████████████████████████████████████████████████████████████████████████████████████████▊                                                                     | 90/150 [02:58<02:35,  2.59s/it]"
     ]
    },
    {
     "name": "stdout",
     "output_type": "stream",
     "text": [
      "0.0016911725446448068\n"
     ]
    },
    {
     "name": "stderr",
     "output_type": "stream",
     "text": [
      " 61%|████████████████████████████████████████████████████████████████████████████████████████████████████████▉                                                                    | 91/150 [03:00<02:34,  2.62s/it]"
     ]
    },
    {
     "name": "stdout",
     "output_type": "stream",
     "text": [
      "0.0018843769586593098\n"
     ]
    },
    {
     "name": "stderr",
     "output_type": "stream",
     "text": [
      " 61%|██████████████████████████████████████████████████████████████████████████████████████████████████████████                                                                   | 92/150 [03:03<02:33,  2.65s/it]"
     ]
    },
    {
     "name": "stdout",
     "output_type": "stream",
     "text": [
      "0.002099653600438446\n"
     ]
    },
    {
     "name": "stderr",
     "output_type": "stream",
     "text": [
      " 62%|███████████████████████████████████████████████████████████████████████████████████████████████████████████▎                                                                 | 93/150 [03:06<02:32,  2.68s/it]"
     ]
    },
    {
     "name": "stdout",
     "output_type": "stream",
     "text": [
      "0.0023395240647448253\n"
     ]
    },
    {
     "name": "stderr",
     "output_type": "stream",
     "text": [
      " 63%|████████████████████████████████████████████████████████████████████████████████████████████████████████████▍                                                                | 94/150 [03:09<02:31,  2.71s/it]"
     ]
    },
    {
     "name": "stdout",
     "output_type": "stream",
     "text": [
      "0.002606798020576923\n"
     ]
    },
    {
     "name": "stderr",
     "output_type": "stream",
     "text": [
      " 63%|█████████████████████████████████████████████████████████████████████████████████████████████████████████████▌                                                               | 95/150 [03:11<02:31,  2.75s/it]"
     ]
    },
    {
     "name": "stdout",
     "output_type": "stream",
     "text": [
      "0.002904606121598046\n"
     ]
    },
    {
     "name": "stderr",
     "output_type": "stream",
     "text": [
      " 64%|██████████████████████████████████████████████████████████████████████████████████████████████████████████████▋                                                              | 96/150 [03:15<02:34,  2.86s/it]"
     ]
    },
    {
     "name": "stdout",
     "output_type": "stream",
     "text": [
      "0.0032364366763473628\n"
     ]
    },
    {
     "name": "stderr",
     "output_type": "stream",
     "text": [
      " 65%|███████████████████████████████████████████████████████████████████████████████████████████████████████████████▊                                                             | 97/150 [03:18<02:35,  2.93s/it]"
     ]
    },
    {
     "name": "stdout",
     "output_type": "stream",
     "text": [
      "0.0036061765077612332\n"
     ]
    },
    {
     "name": "stderr",
     "output_type": "stream",
     "text": [
      " 65%|█████████████████████████████████████████████████████████████████████████████████████████████████████████████████                                                            | 98/150 [03:21<02:32,  2.93s/it]"
     ]
    },
    {
     "name": "stdout",
     "output_type": "stream",
     "text": [
      "0.004018156480603808\n"
     ]
    },
    {
     "name": "stderr",
     "output_type": "stream",
     "text": [
      " 66%|██████████████████████████████████████████████████████████████████████████████████████████████████████████████████▏                                                          | 99/150 [03:24<02:30,  2.95s/it]"
     ]
    },
    {
     "name": "stdout",
     "output_type": "stream",
     "text": [
      "0.00447720223008213\n"
     ]
    },
    {
     "name": "stderr",
     "output_type": "stream",
     "text": [
      " 67%|██████████████████████████████████████████████████████████████████████████████████████████████████████████████████▋                                                         | 100/150 [03:27<02:28,  2.96s/it]"
     ]
    },
    {
     "name": "stdout",
     "output_type": "stream",
     "text": [
      "0.004988690685844118\n"
     ]
    },
    {
     "name": "stderr",
     "output_type": "stream",
     "text": [
      " 67%|███████████████████████████████████████████████████████████████████████████████████████████████████████████████████▊                                                        | 101/150 [03:30<02:26,  3.00s/it]"
     ]
    },
    {
     "name": "stdout",
     "output_type": "stream",
     "text": [
      "0.005558613053440603\n"
     ]
    },
    {
     "name": "stderr",
     "output_type": "stream",
     "text": [
      " 68%|████████████████████████████████████████████████████████████████████████████████████████████████████████████████████▉                                                       | 102/150 [03:33<02:25,  3.03s/it]"
     ]
    },
    {
     "name": "stdout",
     "output_type": "stream",
     "text": [
      "0.006193644990970618\n"
     ]
    },
    {
     "name": "stderr",
     "output_type": "stream",
     "text": [
      " 69%|██████████████████████████████████████████████████████████████████████████████████████████████████████████████████████                                                      | 103/150 [03:36<02:23,  3.06s/it]"
     ]
    },
    {
     "name": "stdout",
     "output_type": "stream",
     "text": [
      "0.006901224802908534\n"
     ]
    },
    {
     "name": "stderr",
     "output_type": "stream",
     "text": [
      " 69%|███████████████████████████████████████████████████████████████████████████████████████████████████████████████████████▎                                                    | 104/150 [03:39<02:22,  3.09s/it]"
     ]
    },
    {
     "name": "stdout",
     "output_type": "stream",
     "text": [
      "0.007689640567018716\n"
     ]
    },
    {
     "name": "stderr",
     "output_type": "stream",
     "text": [
      " 70%|████████████████████████████████████████████████████████████████████████████████████████████████████████████████████████▍                                                   | 105/150 [03:42<02:20,  3.13s/it]"
     ]
    },
    {
     "name": "stdout",
     "output_type": "stream",
     "text": [
      "0.008568127214899482\n"
     ]
    },
    {
     "name": "stderr",
     "output_type": "stream",
     "text": [
      " 71%|█████████████████████████████████████████████████████████████████████████████████████████████████████████████████████████▌                                                  | 106/150 [03:45<02:19,  3.17s/it]"
     ]
    },
    {
     "name": "stdout",
     "output_type": "stream",
     "text": [
      "0.009546974703287536\n"
     ]
    },
    {
     "name": "stderr",
     "output_type": "stream",
     "text": [
      " 71%|██████████████████████████████████████████████████████████████████████████████████████████████████████████████████████████▋                                                 | 107/150 [03:49<02:18,  3.21s/it]"
     ]
    },
    {
     "name": "stdout",
     "output_type": "stream",
     "text": [
      "0.01063764854316314\n"
     ]
    },
    {
     "name": "stderr",
     "output_type": "stream",
     "text": [
      " 72%|███████████████████████████████████████████████████████████████████████████████████████████████████████████████████████████▊                                                | 108/150 [03:52<02:16,  3.25s/it]"
     ]
    },
    {
     "name": "stdout",
     "output_type": "stream",
     "text": [
      "0.011852924098447019\n"
     ]
    },
    {
     "name": "stderr",
     "output_type": "stream",
     "text": [
      " 73%|████████████████████████████████████████████████████████████████████████████████████████████████████████████████████████████▉                                               | 109/150 [03:56<02:15,  3.30s/it]"
     ]
    },
    {
     "name": "stdout",
     "output_type": "stream",
     "text": [
      "0.01320703622736631\n"
     ]
    },
    {
     "name": "stderr",
     "output_type": "stream",
     "text": [
      " 73%|██████████████████████████████████████████████████████████████████████████████████████████████████████████████████████████████▏                                             | 110/150 [03:59<02:13,  3.34s/it]"
     ]
    },
    {
     "name": "stdout",
     "output_type": "stream",
     "text": [
      "0.014715846019280557\n"
     ]
    },
    {
     "name": "stderr",
     "output_type": "stream",
     "text": [
      " 74%|███████████████████████████████████████████████████████████████████████████████████████████████████████████████████████████████▎                                            | 111/150 [04:02<02:11,  3.38s/it]"
     ]
    },
    {
     "name": "stdout",
     "output_type": "stream",
     "text": [
      "0.016397026580002087\n"
     ]
    },
    {
     "name": "stderr",
     "output_type": "stream",
     "text": [
      " 75%|████████████████████████████████████████████████████████████████████████████████████████████████████████████████████████████████▍                                           | 112/150 [04:06<02:10,  3.43s/it]"
     ]
    },
    {
     "name": "stdout",
     "output_type": "stream",
     "text": [
      "0.018270270041765412\n"
     ]
    },
    {
     "name": "stderr",
     "output_type": "stream",
     "text": [
      " 75%|█████████████████████████████████████████████████████████████████████████████████████████████████████████████████████████████████▌                                          | 113/150 [04:10<02:10,  3.53s/it]"
     ]
    },
    {
     "name": "stdout",
     "output_type": "stream",
     "text": [
      "0.020357518222611084\n"
     ]
    },
    {
     "name": "stderr",
     "output_type": "stream",
     "text": [
      " 76%|██████████████████████████████████████████████████████████████████████████████████████████████████████████████████████████████████▋                                         | 114/150 [04:13<02:08,  3.56s/it]"
     ]
    },
    {
     "name": "stdout",
     "output_type": "stream",
     "text": [
      "0.022683219636960388\n"
     ]
    },
    {
     "name": "stderr",
     "output_type": "stream",
     "text": [
      " 77%|███████████████████████████████████████████████████████████████████████████████████████████████████████████████████████████████████▊                                        | 115/150 [04:17<02:05,  3.59s/it]"
     ]
    },
    {
     "name": "stdout",
     "output_type": "stream",
     "text": [
      "0.02527461586781727\n"
     ]
    },
    {
     "name": "stderr",
     "output_type": "stream",
     "text": [
      " 77%|█████████████████████████████████████████████████████████████████████████████████████████████████████████████████████████████████████                                       | 116/150 [04:21<02:03,  3.63s/it]"
     ]
    },
    {
     "name": "stdout",
     "output_type": "stream",
     "text": [
      "0.02816206065495399\n"
     ]
    },
    {
     "name": "stderr",
     "output_type": "stream",
     "text": [
      " 78%|██████████████████████████████████████████████████████████████████████████████████████████████████████████████████████████████████████▏                                     | 117/150 [04:25<02:01,  3.68s/it]"
     ]
    },
    {
     "name": "stdout",
     "output_type": "stream",
     "text": [
      "0.031379375436648274\n"
     ]
    },
    {
     "name": "stderr",
     "output_type": "stream",
     "text": [
      " 79%|███████████████████████████████████████████████████████████████████████████████████████████████████████████████████████████████████████▎                                    | 118/150 [04:28<01:58,  3.72s/it]"
     ]
    },
    {
     "name": "stdout",
     "output_type": "stream",
     "text": [
      "0.034964245509531366\n"
     ]
    },
    {
     "name": "stderr",
     "output_type": "stream",
     "text": [
      " 79%|████████████████████████████████████████████████████████████████████████████████████████████████████████████████████████████████████████▍                                   | 119/150 [04:32<01:56,  3.77s/it]"
     ]
    },
    {
     "name": "stdout",
     "output_type": "stream",
     "text": [
      "0.038958661446875605\n"
     ]
    },
    {
     "name": "stderr",
     "output_type": "stream",
     "text": [
      " 80%|█████████████████████████████████████████████████████████████████████████████████████████████████████████████████████████████████████████▌                                  | 120/150 [04:36<01:54,  3.83s/it]"
     ]
    },
    {
     "name": "stdout",
     "output_type": "stream",
     "text": [
      "0.043409410945776605\n"
     ]
    },
    {
     "name": "stderr",
     "output_type": "stream",
     "text": [
      " 81%|██████████████████████████████████████████████████████████████████████████████████████████████████████████████████████████████████████████▋                                 | 121/150 [04:40<01:52,  3.89s/it]"
     ]
    },
    {
     "name": "stdout",
     "output_type": "stream",
     "text": [
      "0.04836862686437181\n"
     ]
    },
    {
     "name": "stderr",
     "output_type": "stream",
     "text": [
      " 81%|███████████████████████████████████████████████████████████████████████████████████████████████████████████████████████████████████████████▉                                | 122/150 [04:44<01:50,  3.94s/it]"
     ]
    },
    {
     "name": "stdout",
     "output_type": "stream",
     "text": [
      "0.053894397868406066\n"
     ]
    },
    {
     "name": "stderr",
     "output_type": "stream",
     "text": [
      " 82%|█████████████████████████████████████████████████████████████████████████████████████████████████████████████████████████████████████████████                               | 123/150 [04:49<01:48,  4.01s/it]"
     ]
    },
    {
     "name": "stdout",
     "output_type": "stream",
     "text": [
      "0.060051448839817625\n"
     ]
    },
    {
     "name": "stderr",
     "output_type": "stream",
     "text": [
      " 83%|██████████████████████████████████████████████████████████████████████████████████████████████████████████████████████████████████████████████▏                             | 124/150 [04:53<01:45,  4.07s/it]"
     ]
    },
    {
     "name": "stdout",
     "output_type": "stream",
     "text": [
      "0.06691189901715636\n"
     ]
    },
    {
     "name": "stderr",
     "output_type": "stream",
     "text": [
      " 83%|███████████████████████████████████████████████████████████████████████████████████████████████████████████████████████████████████████████████▎                            | 125/150 [04:57<01:43,  4.14s/it]"
     ]
    },
    {
     "name": "stdout",
     "output_type": "stream",
     "text": [
      "0.07455610674814366\n"
     ]
    },
    {
     "name": "stderr",
     "output_type": "stream",
     "text": [
      " 84%|████████████████████████████████████████████████████████████████████████████████████████████████████████████████████████████████████████████████▍                           | 126/150 [05:01<01:41,  4.21s/it]"
     ]
    },
    {
     "name": "stdout",
     "output_type": "stream",
     "text": [
      "0.08307361074919369\n"
     ]
    },
    {
     "name": "stderr",
     "output_type": "stream",
     "text": [
      " 85%|█████████████████████████████████████████████████████████████████████████████████████████████████████████████████████████████████████████████████▋                          | 127/150 [05:06<01:38,  4.28s/it]"
     ]
    },
    {
     "name": "stdout",
     "output_type": "stream",
     "text": [
      "0.09256417889712791\n"
     ]
    },
    {
     "name": "stderr",
     "output_type": "stream",
     "text": [
      " 85%|██████████████████████████████████████████████████████████████████████████████████████████████████████████████████████████████████████████████████▊                         | 128/150 [05:10<01:36,  4.37s/it]"
     ]
    },
    {
     "name": "stdout",
     "output_type": "stream",
     "text": [
      "0.10313897683787221\n"
     ]
    },
    {
     "name": "stderr",
     "output_type": "stream",
     "text": [
      " 86%|███████████████████████████████████████████████████████████████████████████████████████████████████████████████████████████████████████████████████▉                        | 129/150 [05:15<01:33,  4.44s/it]"
     ]
    },
    {
     "name": "stdout",
     "output_type": "stream",
     "text": [
      "0.11492187010036997\n"
     ]
    },
    {
     "name": "stderr",
     "output_type": "stream",
     "text": [
      " 87%|█████████████████████████████████████████████████████████████████████████████████████████████████████████████████████████████████████████████████████                       | 130/150 [05:20<01:30,  4.51s/it]"
     ]
    },
    {
     "name": "stdout",
     "output_type": "stream",
     "text": [
      "0.12805087496773324\n"
     ]
    },
    {
     "name": "stderr",
     "output_type": "stream",
     "text": [
      " 87%|██████████████████████████████████████████████████████████████████████████████████████████████████████████████████████████████████████████████████████▏                     | 131/150 [05:24<01:27,  4.59s/it]"
     ]
    },
    {
     "name": "stdout",
     "output_type": "stream",
     "text": [
      "0.142679775100086\n"
     ]
    },
    {
     "name": "stderr",
     "output_type": "stream",
     "text": [
      " 88%|███████████████████████████████████████████████████████████████████████████████████████████████████████████████████████████████████████████████████████▎                    | 132/150 [05:29<01:23,  4.66s/it]"
     ]
    },
    {
     "name": "stdout",
     "output_type": "stream",
     "text": [
      "0.1589799228450477\n"
     ]
    },
    {
     "name": "stderr",
     "output_type": "stream",
     "text": [
      " 89%|████████████████████████████████████████████████████████████████████████████████████████████████████████████████████████████████████████████████████████▌                   | 133/150 [05:34<01:20,  4.75s/it]"
     ]
    },
    {
     "name": "stdout",
     "output_type": "stream",
     "text": [
      "0.17714224633510853\n"
     ]
    },
    {
     "name": "stderr",
     "output_type": "stream",
     "text": [
      " 89%|█████████████████████████████████████████████████████████████████████████████████████████████████████████████████████████████████████████████████████████▋                  | 134/150 [05:39<01:17,  4.83s/it]"
     ]
    },
    {
     "name": "stdout",
     "output_type": "stream",
     "text": [
      "0.19737948588157686\n"
     ]
    },
    {
     "name": "stderr",
     "output_type": "stream",
     "text": [
      " 90%|██████████████████████████████████████████████████████████████████████████████████████████████████████████████████████████████████████████████████████████▊                 | 135/150 [05:44<01:13,  4.92s/it]"
     ]
    },
    {
     "name": "stdout",
     "output_type": "stream",
     "text": [
      "0.2199286858606028\n"
     ]
    },
    {
     "name": "stderr",
     "output_type": "stream",
     "text": [
      " 91%|███████████████████████████████████████████████████████████████████████████████████████████████████████████████████████████████████████████████████████████▉                | 136/150 [05:50<01:10,  5.01s/it]"
     ]
    },
    {
     "name": "stdout",
     "output_type": "stream",
     "text": [
      "0.24505397127942602\n"
     ]
    },
    {
     "name": "stderr",
     "output_type": "stream",
     "text": [
      " 91%|█████████████████████████████████████████████████████████████████████████████████████████████████████████████████████████████████████████████████████████████               | 137/150 [05:55<01:06,  5.10s/it]"
     ]
    },
    {
     "name": "stdout",
     "output_type": "stream",
     "text": [
      "0.2730496415455325\n"
     ]
    },
    {
     "name": "stderr",
     "output_type": "stream",
     "text": [
      " 92%|██████████████████████████████████████████████████████████████████████████████████████████████████████████████████████████████████████████████████████████████▏             | 138/150 [06:00<01:02,  5.19s/it]"
     ]
    },
    {
     "name": "stdout",
     "output_type": "stream",
     "text": [
      "0.30424361767690034\n"
     ]
    },
    {
     "name": "stderr",
     "output_type": "stream",
     "text": [
      " 93%|███████████████████████████████████████████████████████████████████████████████████████████████████████████████████████████████████████████████████████████████▍            | 139/150 [06:06<00:58,  5.29s/it]"
     ]
    },
    {
     "name": "stdout",
     "output_type": "stream",
     "text": [
      "0.3390012833314499\n"
     ]
    },
    {
     "name": "stderr",
     "output_type": "stream",
     "text": [
      " 93%|████████████████████████████████████████████████████████████████████████████████████████████████████████████████████████████████████████████████████████████████▌           | 140/150 [06:11<00:53,  5.37s/it]"
     ]
    },
    {
     "name": "stdout",
     "output_type": "stream",
     "text": [
      "0.37772976464674546\n"
     ]
    },
    {
     "name": "stderr",
     "output_type": "stream",
     "text": [
      " 94%|█████████████████████████████████████████████████████████████████████████████████████████████████████████████████████████████████████████████████████████████████▋          | 141/150 [06:17<00:49,  5.47s/it]"
     ]
    },
    {
     "name": "stdout",
     "output_type": "stream",
     "text": [
      "0.42088269902088976\n"
     ]
    },
    {
     "name": "stderr",
     "output_type": "stream",
     "text": [
      " 95%|██████████████████████████████████████████████████████████████████████████████████████████████████████████████████████████████████████████████████████████████████▊         | 142/150 [06:23<00:44,  5.56s/it]"
     ]
    },
    {
     "name": "stdout",
     "output_type": "stream",
     "text": [
      "0.4689655486926553\n"
     ]
    },
    {
     "name": "stderr",
     "output_type": "stream",
     "text": [
      " 95%|███████████████████████████████████████████████████████████████████████████████████████████████████████████████████████████████████████████████████████████████████▉        | 143/150 [06:29<00:39,  5.66s/it]"
     ]
    },
    {
     "name": "stdout",
     "output_type": "stream",
     "text": [
      "0.5225415213602959\n"
     ]
    },
    {
     "name": "stderr",
     "output_type": "stream",
     "text": [
      " 96%|█████████████████████████████████████████████████████████████████████████████████████████████████████████████████████████████████████████████████████████████████████       | 144/150 [06:35<00:34,  5.76s/it]"
     ]
    },
    {
     "name": "stdout",
     "output_type": "stream",
     "text": [
      "0.582238167188866\n"
     ]
    },
    {
     "name": "stderr",
     "output_type": "stream",
     "text": [
      " 97%|██████████████████████████████████████████████████████████████████████████████████████████████████████████████████████████████████████████████████████████████████████▎     | 145/150 [06:41<00:29,  5.86s/it]"
     ]
    },
    {
     "name": "stdout",
     "output_type": "stream",
     "text": [
      "0.6487547294786289\n"
     ]
    },
    {
     "name": "stderr",
     "output_type": "stream",
     "text": [
      " 97%|███████████████████████████████████████████████████████████████████████████████████████████████████████████████████████████████████████████████████████████████████████▍    | 146/150 [06:47<00:23,  5.97s/it]"
     ]
    },
    {
     "name": "stdout",
     "output_type": "stream",
     "text": [
      "0.722870335094958\n"
     ]
    },
    {
     "name": "stderr",
     "output_type": "stream",
     "text": [
      " 98%|████████████████████████████████████████████████████████████████████████████████████████████████████████████████████████████████████████████████████████████████████████▌   | 147/150 [06:54<00:18,  6.10s/it]"
     ]
    },
    {
     "name": "stdout",
     "output_type": "stream",
     "text": [
      "0.8054531205964939\n"
     ]
    },
    {
     "name": "stderr",
     "output_type": "stream",
     "text": [
      " 99%|█████████████████████████████████████████████████████████████████████████████████████████████████████████████████████████████████████████████████████████████████████████▋  | 148/150 [07:00<00:12,  6.26s/it]"
     ]
    },
    {
     "name": "stdout",
     "output_type": "stream",
     "text": [
      "0.8974704009584349\n"
     ]
    },
    {
     "name": "stderr",
     "output_type": "stream",
     "text": [
      " 99%|██████████████████████████████████████████████████████████████████████████████████████████████████████████████████████████████████████████████████████████████████████████▊ | 149/150 [07:07<00:06,  6.53s/it]"
     ]
    },
    {
     "name": "stdout",
     "output_type": "stream",
     "text": [
      "1.0\n"
     ]
    },
    {
     "name": "stderr",
     "output_type": "stream",
     "text": [
      "100%|████████████████████████████████████████████████████████████████████████████████████████████████████████████████████████████████████████████████████████████████████████████| 150/150 [07:17<00:00,  2.92s/it]\n"
     ]
    }
   ],
   "source": [
    "eobEccs = 10**np.linspace(-7, 0., 150)\n",
    "method = \"ResidualAmplitude\"\n",
    "measuredEccsTrue = []\n",
    "eEOBTrue = []\n",
    "measuredEccsFalse = []\n",
    "eEOBFalse = []\n",
    "for EOBecc in tqdm(eobEccs):\n",
    "    print(EOBecc)\n",
    "    dataDict = getDataDict(0.01, EOBecc)\n",
    "    tref_in = dataDict[\"t\"] - get_peak_via_quadratic_fit(dataDict[\"t\"], np.abs(dataDict[\"hlm\"][(2, 2)]))[0]\n",
    "    for case in [True, False]:\n",
    "        try:\n",
    "            tref, ecc, meanAno, eccMethod = measure_eccentricity(tref_in=tref_in,\n",
    "                                                        dataDict=dataDict,\n",
    "                                                        method=method,\n",
    "                                                        return_ecc_method=True,\n",
    "                                                        extra_kwargs={\"treat_mid_points_between_peaks_as_troughs\": case})\n",
    "            if case:\n",
    "                measuredEccsTrue.append(ecc[0])\n",
    "                eEOBTrue.append(EOBecc)\n",
    "            else:\n",
    "                measuredEccsFalse.append(ecc[0])\n",
    "                eEOBFalse.append(EOBecc)\n",
    "        except Exception:\n",
    "            print(f\"failed for {EOBecc} for {method}.\")"
   ]
  },
  {
   "cell_type": "code",
   "execution_count": 83,
   "id": "a67286f1-846f-442a-88d9-68619c1172ab",
   "metadata": {},
   "outputs": [
    {
     "data": {
      "text/plain": [
       "<matplotlib.legend.Legend at 0x7f8f55813bb0>"
      ]
     },
     "execution_count": 83,
     "metadata": {},
     "output_type": "execute_result"
    },
    {
     "data": {
      "image/png": "[encoded data removed]",
      "text/plain": [
       "<Figure size 244.8x216 with 1 Axes>"
      ]
     },
     "metadata": {
      "needs_background": "light"
     },
     "output_type": "display_data"
    }
   ],
   "source": [
    "fig, ax = plt.subplots(figsize=(figWidthsOneColDict[journal], 3))\n",
    "if len(measuredEccsTrue) >= 1:\n",
    "    ax.plot(eEOBTrue, measuredEccsTrue, label=f\"True\", ls=\"-\")\n",
    "if len(measuredEccsFalse) >= 1:\n",
    "    ax.plot(eEOBFalse, measuredEccsFalse, label=f\"False\", c=colorsDict[method], ls=\"--\")\n",
    "ax.set_xscale(\"log\")\n",
    "ax.set_yscale(\"log\")\n",
    "ax.set_xlabel(\"$e_{\\mathrm{EOB}}$\")\n",
    "ax.set_ylabel(\"Measured Eccentricity $e$\")\n",
    "ax.legend()\n",
    "ax.set_ylim(top=1.0)\n",
    "ax.set_xlim(left=1e-7, right=1.0)\n",
    "# set major ticks\n",
    "locmaj = mpl.ticker.LogLocator(base=10, numticks=20)\n",
    "ax.xaxis.set_major_locator(locmaj)\n",
    "# set minor ticks\n",
    "locmin = mpl.ticker.LogLocator(base=10.0, subs=np.arange(0.1, 1.0, 0.1),\n",
    "                                numticks=20)\n",
    "ax.xaxis.set_minor_locator(locmin)\n",
    "ax.xaxis.set_minor_formatter(mpl.ticker.NullFormatter())\n",
    "ax.grid(which=\"major\")\n",
    "ax.legend()"
   ]
  },
  {
   "cell_type": "code",
   "execution_count": 85,
   "id": "51f40fe6-79cf-4ed4-b2a3-f7463d2d3c8d",
   "metadata": {},
   "outputs": [],
   "source": [
    "fig.subplots_adjust(left=0.16, right=0.96, top=0.98)\n",
    "fig.savefig(\"../../../public_html/EccDefinition/test_eob_vs_measured_ecc_resamp_compare.pdf\")"
   ]
  },
  {
   "cell_type": "markdown",
   "id": "b2a8a375-921d-4e03-81fd-d931e4235350",
   "metadata": {},
   "source": [
    "### Test for high ecc"
   ]
  },
  {
   "cell_type": "code",
   "execution_count": 23,
   "id": "12caa772-1ad2-455f-942f-62efd2489728",
   "metadata": {},
   "outputs": [
    {
     "name": "stderr",
     "output_type": "stream",
     "text": [
      "/home1/md.shaikh/Eccentricity/paper/plot_scripts/../../measureEccentricity/eccDefinition.py:425: UserWarning: Ecc(t) is non monotonic.\n",
      "  warnings.warn(\"Ecc(t) is non monotonic.\")\n",
      "/home1/md.shaikh/Eccentricity/paper/plot_scripts/../../measureEccentricity/eccDefinition.py:370: UserWarning: Phase shift closer to pi than 2 pi detected.\n",
      "  warnings.warn(\"Phase shift closer to pi than 2 pi detected.\")\n",
      "/home1/md.shaikh/Eccentricity/paper/plot_scripts/../../measureEccentricity/eccDefinition.py:382: UserWarning: At least a pair of peaks are too far. Maximum orbital phase diff is 10.790380395400291. Times of occurances are [-36212.12625994]\n",
      "  warnings.warn(f\"At least a pair of {extrema_type} are too far.\"\n",
      "/home1/md.shaikh/Eccentricity/paper/plot_scripts/../../measureEccentricity/eccDefinition.py:382: UserWarning: At least a pair of peaks are too far. Maximum orbital phase diff is 11.206740051356917. Times of occurances are [-33835.63411971]\n",
      "  warnings.warn(f\"At least a pair of {extrema_type} are too far.\"\n",
      "/home1/md.shaikh/Eccentricity/paper/plot_scripts/../../measureEccentricity/eccDefinition.py:364: UserWarning: At least a pair of troughs are too close. Minimum orbital phase diff is 1.027253048313252. Times of occurances are [-40560.85193621]\n",
      "  warnings.warn(f\"At least a pair of {extrema_type} are too close.\"\n",
      "/home1/md.shaikh/Eccentricity/paper/plot_scripts/../../measureEccentricity/eccDefinition.py:382: UserWarning: At least a pair of troughs are too far. Maximum orbital phase diff is 10.630656707698705. Times of occurances are [-36383.36551541]\n",
      "  warnings.warn(f\"At least a pair of {extrema_type} are too far.\"\n",
      "/home1/md.shaikh/Eccentricity/paper/plot_scripts/../../measureEccentricity/eccDefinition.py:382: UserWarning: At least a pair of peaks are too far. Maximum orbital phase diff is 12.040352400304215. Times of occurances are [-31321.68911623]\n",
      "  warnings.warn(f\"At least a pair of {extrema_type} are too far.\"\n",
      "/home1/md.shaikh/Eccentricity/paper/plot_scripts/../../measureEccentricity/eccDefinition.py:364: UserWarning: At least a pair of troughs are too close. Minimum orbital phase diff is 0.9515758707356632. Times of occurances are [-44492.56823033 -37733.64501793]\n",
      "  warnings.warn(f\"At least a pair of {extrema_type} are too close.\"\n",
      "/home1/md.shaikh/Eccentricity/paper/plot_scripts/../../measureEccentricity/eccDefinition.py:382: UserWarning: At least a pair of troughs are too far. Maximum orbital phase diff is 11.08063954694623. Times of occurances are [-40844.45479213 -33748.47762077]\n",
      "  warnings.warn(f\"At least a pair of {extrema_type} are too far.\"\n",
      "/home1/md.shaikh/Eccentricity/paper/plot_scripts/../../measureEccentricity/eccDefinition.py:309: RuntimeWarning: invalid value encountered in sqrt\n",
      "  self.ecc_ref = ((np.sqrt(self.omega22_peak_at_tref_out)\n",
      "/home1/md.shaikh/Eccentricity/paper/plot_scripts/../../measureEccentricity/eccDefinition.py:311: RuntimeWarning: invalid value encountered in sqrt\n",
      "  / (np.sqrt(self.omega22_peak_at_tref_out)\n",
      "/home1/md.shaikh/Eccentricity/paper/plot_scripts/../../measureEccentricity/eccDefinition.py:382: UserWarning: At least a pair of peaks are too far. Maximum orbital phase diff is 10.609990090547882. Times of occurances are [-28655.11160545]\n",
      "  warnings.warn(f\"At least a pair of {extrema_type} are too far.\"\n",
      "/home1/md.shaikh/Eccentricity/paper/plot_scripts/../../measureEccentricity/eccDefinition.py:364: UserWarning: At least a pair of troughs are too close. Minimum orbital phase diff is 0.866125746392088. Times of occurances are [-49800.29085456 -41023.00922908 -34670.53343778]\n",
      "  warnings.warn(f\"At least a pair of {extrema_type} are too close.\"\n",
      "/home1/md.shaikh/Eccentricity/paper/plot_scripts/../../measureEccentricity/eccDefinition.py:382: UserWarning: At least a pair of troughs are too far. Maximum orbital phase diff is 10.212768654680417. Times of occurances are [-44964.55787861 -37592.98952903 -30931.21716363]\n",
      "  warnings.warn(f\"At least a pair of {extrema_type} are too far.\"\n",
      "/home1/md.shaikh/Eccentricity/paper/plot_scripts/../../measureEccentricity/eccDefinition.py:382: UserWarning: At least a pair of peaks are too far. Maximum orbital phase diff is 10.99169353211434. Times of occurances are [-30262.03193328]\n",
      "  warnings.warn(f\"At least a pair of {extrema_type} are too far.\"\n",
      "/home1/md.shaikh/Eccentricity/paper/plot_scripts/../../measureEccentricity/eccDefinition.py:364: UserWarning: At least a pair of troughs are too close. Minimum orbital phase diff is 0.7657613360891347. Times of occurances are [-57761.66964403 -45552.38564815 -37473.00398476]\n",
      "  warnings.warn(f\"At least a pair of {extrema_type} are too close.\"\n",
      "/home1/md.shaikh/Eccentricity/paper/plot_scripts/../../measureEccentricity/eccDefinition.py:382: UserWarning: At least a pair of troughs are too far. Maximum orbital phase diff is 10.511407612340065. Times of occurances are [-50816.37541903 -41105.25606018 -32960.44627534]\n",
      "  warnings.warn(f\"At least a pair of {extrema_type} are too far.\"\n",
      "/home1/md.shaikh/Eccentricity/paper/plot_scripts/../../measureEccentricity/eccDefinition.py:382: UserWarning: At least a pair of peaks are too far. Maximum orbital phase diff is 11.553899189892746. Times of occurances are [-27339.4399363]\n",
      "  warnings.warn(f\"At least a pair of {extrema_type} are too far.\"\n",
      "/home1/md.shaikh/Eccentricity/paper/plot_scripts/../../measureEccentricity/eccDefinition.py:364: UserWarning: At least a pair of troughs are too close. Minimum orbital phase diff is 0.6418881574161333. Times of occurances are [-71168.35062367 -52043.512458   -41166.5829352  -33884.23475124]\n",
      "  warnings.warn(f\"At least a pair of {extrema_type} are too close.\"\n",
      "/home1/md.shaikh/Eccentricity/paper/plot_scripts/../../measureEccentricity/eccDefinition.py:382: UserWarning: At least a pair of troughs are too far. Maximum orbital phase diff is 10.804721479341282. Times of occurances are [-59651.01857885 -45881.37302    -37167.53684562 -29792.00315535]\n",
      "  warnings.warn(f\"At least a pair of {extrema_type} are too far.\"\n",
      "/home1/md.shaikh/Eccentricity/paper/plot_scripts/../../measureEccentricity/eccDefinition.py:415: UserWarning: time array t_for_ecc_test is too long. Length is 1246823\n",
      "  warnings.warn(\"time array t_for_ecc_test is too long.\"\n"
     ]
    },
    {
     "name": "stdout",
     "output_type": "stream",
     "text": [
      "failed for 0.5416666666666666 for FrequencyFits.\n",
      "failed for 0.625 for FrequencyFits.\n",
      "failed for 0.6875 for FrequencyFits.\n",
      "failed for 0.75 for FrequencyFits.\n",
      "failed for 0.7708333333333333 for FrequencyFits.\n",
      "failed for 0.8333333333333333 for FrequencyFits.\n",
      "failed for 0.8958333333333333 for FrequencyFits.\n",
      "failed for 0.9166666666666666 for FrequencyFits.\n",
      "failed for 0.9583333333333333 for FrequencyFits.\n",
      "failed for 0.9791666666666666 for FrequencyFits.\n",
      "failed for 1.0 for FrequencyFits.\n"
     ]
    },
    {
     "data": {
      "image/png": "[encoded data removed]",
      "text/plain": [
       "<Figure size 244.8x216 with 1 Axes>"
      ]
     },
     "metadata": {
      "needs_background": "light"
     },
     "output_type": "display_data"
    }
   ],
   "source": [
    "fig, ax = plt.subplots(figsize=(figWidthsOneColDict[journal], 3))\n",
    "eobEccs = np.linspace(0.5, 1., 25)\n",
    "for method in [\"Amplitude\", \"ResidualAmplitude\", \"FrequencyFits\"]:\n",
    "    measuredEccs = []\n",
    "    eEOB = []\n",
    "    for EOBecc in eobEccs:\n",
    "        dataDict = getDataDict(0.01, EOBecc)\n",
    "        tref_in = dataDict[\"t\"] - get_peak_via_quadratic_fit(dataDict[\"t\"], np.abs(dataDict[\"hlm\"][(2, 2)]))[0]\n",
    "        try:\n",
    "            tref, ecc, meanAno, eccMethod = measure_eccentricity(tref_in=tref_in,\n",
    "                                                        dataDict=dataDict,\n",
    "                                                        method=method,\n",
    "                                                        return_ecc_method=True,\n",
    "                                                        extra_kwargs={\"treat_mid_points_between_peaks_as_troughs\": True})\n",
    "            measuredEccs.append(ecc[0])\n",
    "            eEOB.append(EOBecc)\n",
    "        except Exception:\n",
    "            print(f\"failed for {EOBecc} for {method}.\")\n",
    "    if len(measuredEccs) >= 1:\n",
    "        ax.plot(eEOB, measuredEccs, marker=\".\", label=f\"{method}\", c=colorsDict[method], ls=lstyles[method])"
   ]
  },
  {
   "cell_type": "code",
   "execution_count": 24,
   "id": "e37681b0-166c-4dcd-9855-5e0a3f014eb4",
   "metadata": {},
   "outputs": [
    {
     "data": {
      "image/png": "[encoded data removed]",
      "text/plain": [
       "<Figure size 244.8x216 with 1 Axes>"
      ]
     },
     "execution_count": 24,
     "metadata": {},
     "output_type": "execute_result"
    }
   ],
   "source": [
    "ax.set_xlabel(\"$e_{\\mathrm{EOB}}$\")\n",
    "ax.set_ylabel(\"Measured Eccentricity $e$\")\n",
    "ax.legend()\n",
    "ax.set_ylim(0.3, 1.0)\n",
    "ax.set_xlim(0.5, 1.0)\n",
    "ax.grid()\n",
    "fig"
   ]
  },
  {
   "cell_type": "code",
   "execution_count": 18,
   "id": "e66865bf-4581-4e39-a2c1-5a705d8cffa9",
   "metadata": {},
   "outputs": [
    {
     "data": {
      "image/png": "[encoded data removed]",
      "text/plain": [
       "<Figure size 244.8x216 with 1 Axes>"
      ]
     },
     "execution_count": 18,
     "metadata": {},
     "output_type": "execute_result"
    }
   ],
   "source": [
    "ax.set_xlabel(\"$e_{\\mathrm{EOB}}$\")\n",
    "ax.set_ylabel(\"Measured Eccentricity $e$\")\n",
    "ax.legend()\n",
    "ax.set_ylim(0.3, 1.0)\n",
    "ax.set_xlim(0.5, 1.0)\n",
    "ax.grid()\n",
    "fig"
   ]
  },
  {
   "cell_type": "code",
   "execution_count": 19,
   "id": "bd7e1b47-2fd8-4753-a60c-3c71d993884c",
   "metadata": {},
   "outputs": [],
   "source": [
    "fig.subplots_adjust(right=0.96, top=0.98)\n",
    "fig.savefig(\"../../../public_html/EccDefinition/high_ecc_test.pdf\")"
   ]
  },
  {
   "cell_type": "code",
   "execution_count": 66,
   "id": "9586ca0e-7dc2-422f-9e7c-26d935d704e6",
   "metadata": {},
   "outputs": [],
   "source": [
    "# fig.subplots_adjust(left=0.15, bottom=0.13, right=0.98, top=0.91, hspace=0.12)\n",
    "# fig.savefig(\"../figs/ecc_and_zero_ecc.pdf\")"
   ]
  },
  {
   "cell_type": "code",
   "execution_count": 67,
   "id": "61f0c105-1002-443e-8387-81787e7462f2",
   "metadata": {},
   "outputs": [
    {
     "data": {
      "text/plain": [
       "(<Figure size 432x288 with 1 Axes>,\n",
       " <matplotlib.axes._subplots.AxesSubplot at 0x7f5191199e50>)"
      ]
     },
     "execution_count": 67,
     "metadata": {},
     "output_type": "execute_result"
    },
    {
     "data": {
      "image/png": "[encoded data removed]",
      "text/plain": [
       "<Figure size 432x288 with 1 Axes>"
      ]
     },
     "metadata": {
      "needs_background": "light"
     },
     "output_type": "display_data"
    }
   ],
   "source": [
    "eccMethod.plot_residual_amp22()"
   ]
  },
  {
   "cell_type": "code",
   "execution_count": 62,
   "id": "6474374d-04fc-459c-a8d0-5399a1699b55",
   "metadata": {},
   "outputs": [
    {
     "data": {
      "text/plain": [
       "[<matplotlib.lines.Line2D at 0x7f5191659ca0>]"
      ]
     },
     "execution_count": 62,
     "metadata": {},
     "output_type": "execute_result"
    },
    {
     "data": {
      "image/png": "[encoded data removed]",
      "text/plain": [
       "<Figure size 432x288 with 1 Axes>"
      ]
     },
     "metadata": {
      "needs_background": "light"
     },
     "output_type": "display_data"
    }
   ],
   "source": [
    "plt.plot(eccMethod.t, eccMethod.amp22)\n",
    "plt.plot(eccMethod.t, eccMethod.amp22_zeroecc_interp)"
   ]
  },
  {
   "cell_type": "code",
   "execution_count": 41,
   "id": "4f9f26d9-4de4-4ccd-9d7e-d1d66b6a4fa4",
   "metadata": {},
   "outputs": [
    {
     "name": "stderr",
     "output_type": "stream",
     "text": [
      "/home1/md.shaikh/Eccentricity/paper/plot_scripts/../../measureEccentricity/eccDefinition.py:425: UserWarning: Ecc(t) is non monotonic.\n",
      "  warnings.warn(\"Ecc(t) is non monotonic.\")\n"
     ]
    }
   ],
   "source": [
    "ecc_in = 1e-7\n",
    "dataDict = getDataDict(0.01, ecc_in)\n",
    "tref_in = dataDict[\"t\"] - get_peak_via_quadratic_fit(dataDict[\"t\"], np.abs(dataDict[\"hlm\"][(2, 2)]))[0]\n",
    "tref, ecc, meanAno, eccMethod = measure_eccentricity(tref_in=tref_in,\n",
    "                                                     dataDict=dataDict,\n",
    "                                                     method=\"ResidualAmplitude\",\n",
    "                                                     return_ecc_method=True,\n",
    "                                                    extra_kwargs={'extrema_finding_kwargs': {\"width\": 25},\n",
    "                                                                 \"treat_mid_points_between_peaks_as_troughs\": True})"
   ]
  },
  {
   "cell_type": "code",
   "execution_count": 42,
   "id": "25d9bc09-3b5e-40d1-bda5-7d7d5b36975e",
   "metadata": {},
   "outputs": [],
   "source": [
    "# !pip install ipympl\n",
    "# %matplotlib widget"
   ]
  },
  {
   "cell_type": "code",
   "execution_count": 46,
   "id": "bc39ba12-a80e-47d9-a52a-155d390d560b",
   "metadata": {},
   "outputs": [
    {
     "data": {
      "text/plain": [
       "(-20000.0, -10000.0)"
      ]
     },
     "execution_count": 46,
     "metadata": {},
     "output_type": "execute_result"
    },
    {
     "data": {
      "image/png": "[encoded data removed]",
      "text/plain": [
       "<Figure size 244.8x432 with 2 Axes>"
      ]
     },
     "metadata": {
      "needs_background": "light"
     },
     "output_type": "display_data"
    }
   ],
   "source": [
    "fig, ax = plt.subplots(nrows=2, figsize=(figWidthsOneColDict[journal], 6), sharex=True)\n",
    "eccMethod.plot_extrema_in_omega22(fig, ax[0])\n",
    "# ax[0].set_ylim(0.0, 0.07)\n",
    "# ax[0].set_xlim(right=-40000)\n",
    "\n",
    "eccMethod.plot_residual_amp22(fig, ax[1])\n",
    "ax[1].set_ylim(-1e-6, 1e-6)\n",
    "ax[1].set_xlim(-20000, -10000)\n",
    "# ax[1].set_ylim(-0.0331, -0.0330)"
   ]
  },
  {
   "cell_type": "code",
   "execution_count": 23,
   "id": "26e99395-33c4-430d-a7a9-393e09c69902",
   "metadata": {},
   "outputs": [],
   "source": [
    "# fig.subplots_adjust(left=0.2, bottom=0.07, top=0.98, right=0.95, hspace=0.1)\n",
    "# fig.savefig(\"../../../public_html/EccDefinition/debug_high_ecc_amp.pdf\")"
   ]
  },
  {
   "cell_type": "code",
   "execution_count": 24,
   "id": "ba8e22d1-5eed-4d07-88ad-5841615d23d0",
   "metadata": {},
   "outputs": [
    {
     "data": {
      "text/plain": [
       "{'extrema_finding_kwargs': {'width': 25,\n",
       "  'height': None,\n",
       "  'threshold': None,\n",
       "  'distance': None,\n",
       "  'prominence': None,\n",
       "  'wlen': None,\n",
       "  'rel_height': 0.5,\n",
       "  'plateau_size': None},\n",
       " 'treat_mid_points_between_peaks_as_troughs': True,\n",
       " 'num_orbits_to_exclude_before_merger': 1,\n",
       " 'debug': True,\n",
       " 'omega22_averaging_method': 'average_between_extrema'}"
      ]
     },
     "execution_count": 24,
     "metadata": {},
     "output_type": "execute_result"
    }
   ],
   "source": [
    "eccMethod.extra_kwargs"
   ]
  },
  {
   "cell_type": "code",
   "execution_count": null,
   "id": "ac8ea3c9-ee48-420a-8300-6c2b2a5b363f",
   "metadata": {},
   "outputs": [],
   "source": []
  }
 ],
 "metadata": {
  "kernelspec": {
   "display_name": "SEOBNRv4E",
   "language": "python",
   "name": "seob"
  },
  "language_info": {
   "codemirror_mode": {
    "name": "ipython",
    "version": 3
   },
   "file_extension": ".py",
   "mimetype": "text/x-python",
   "name": "python",
   "nbconvert_exporter": "python",
   "pygments_lexer": "ipython3",
   "version": "3.8.12"
  }
 },
 "nbformat": 4,
 "nbformat_minor": 5
}
